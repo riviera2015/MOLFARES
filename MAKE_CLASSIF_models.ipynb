{
  "nbformat": 4,
  "nbformat_minor": 0,
  "metadata": {
    "colab": {
      "name": "MAKE_CLASSIF_models.ipynb",
      "provenance": [],
      "collapsed_sections": [],
      "authorship_tag": "ABX9TyPIuuakMnsBfO0X8hAZ8JXG",
      "include_colab_link": true
    },
    "kernelspec": {
      "name": "python3",
      "display_name": "Python 3"
    }
  },
  "cells": [
    {
      "cell_type": "markdown",
      "metadata": {
        "id": "view-in-github",
        "colab_type": "text"
      },
      "source": [
        "<a href=\"https://colab.research.google.com/github/riviera2015/MOLFARES/blob/master/MAKE_CLASSIF_models.ipynb\" target=\"_parent\"><img src=\"https://colab.research.google.com/assets/colab-badge.svg\" alt=\"Open In Colab\"/></a>"
      ]
    },
    {
      "cell_type": "code",
      "metadata": {
        "id": "NPL4L0qdQF_s"
      },
      "source": [
        "# Загрузка библиотек\n",
        "from pandas import read_csv\n",
        "from pandas.plotting import scatter_matrix\n",
        "from matplotlib import pyplot\n",
        "from sklearn.model_selection import train_test_split\n",
        "from sklearn.model_selection import cross_val_score\n",
        "from sklearn.model_selection import StratifiedKFold\n",
        "from sklearn.metrics import classification_report\n",
        "from sklearn.metrics import confusion_matrix\n",
        "from sklearn.metrics import accuracy_score\n",
        "from sklearn.linear_model import LogisticRegression\n",
        "from sklearn.tree import DecisionTreeClassifier\n",
        "from sklearn.neighbors import KNeighborsClassifier\n",
        "from sklearn.discriminant_analysis import LinearDiscriminantAnalysis\n",
        "from sklearn.naive_bayes import GaussianNB\n",
        "from sklearn.svm import SVC\n",
        "from xgboost import XGBClassifier"
      ],
      "execution_count": 1,
      "outputs": []
    },
    {
      "cell_type": "code",
      "metadata": {
        "id": "BpD_TpKPQSC4"
      },
      "source": [
        "# Загрузка датасета\n",
        "url1 = \"https://kaggle.com/input/hotel-booking-demand/hotel_bookings.csv\"\n",
        "url = \"https://raw.githubusercontent.com/jbrownlee/Datasets/master/iris.csv\"\n",
        "names = ['sepal-length', 'sepal-width', 'petal-length', 'petal-width', 'class']\n",
        "dataset = read_csv(url, names=names)\n",
        "\n",
        "# Разделение датасета на обучающую и контрольную выборки\n",
        "array = dataset.values\n",
        "\n",
        "# Выбор первых 4-х столбцов \n",
        "X = array[:,0:4]\n",
        "\n",
        "# Выбор 5-го столбца \n",
        "y = array[:,4]\n"
      ],
      "execution_count": null,
      "outputs": []
    },
    {
      "cell_type": "code",
      "metadata": {
        "id": "7ZlTcxmPQHWS",
        "outputId": "61955bb5-7405-4d28-b2f4-03ba326b00b4",
        "colab": {
          "base_uri": "https://localhost:8080/",
          "height": 51
        }
      },
      "source": [
        "# Задать начальное значение для ГПСЧ\n",
        "#np.random.seed(0)\n",
        "from sklearn.datasets import make_classification\n",
        "import numpy as np\n",
        "np.random.seed(10)\n",
        "\n",
        "# Количество признаков\n",
        "number_of_features = 100\n",
        "X, y = make_classification(n_samples=1255,\n",
        "                           n_features = number_of_features,\n",
        "                                      n_informative = 3,#добавил\n",
        "                                       n_redundant = 0,\n",
        "                                       n_classes = 3,\n",
        "                                       weights = [.5, .5],\n",
        "                                       random_state = 0)\n",
        "X_train, X_test, y_train, y_test = train_test_split(X, y, test_size=0.27)\n",
        "print(y)\n",
        "len(y_test)"
      ],
      "execution_count": 7,
      "outputs": [
        {
          "output_type": "stream",
          "text": [
            "[0 0 2 ... 0 0 1]\n"
          ],
          "name": "stdout"
        },
        {
          "output_type": "execute_result",
          "data": {
            "text/plain": [
              "339"
            ]
          },
          "metadata": {
            "tags": []
          },
          "execution_count": 7
        }
      ]
    },
    {
      "cell_type": "code",
      "metadata": {
        "id": "oF00V83LQHmN",
        "outputId": "e430f016-a6e5-43a1-ef57-e599e3856e31",
        "colab": {
          "base_uri": "https://localhost:8080/",
          "height": 658
        }
      },
      "source": [
        "# Разделение X и y на обучающую и контрольную выборки \n",
        "#X_train, X_validation, Y_train, Y_validation = train_test_split(X, y, test_size=0.20, random_state=1)\n",
        "\n",
        "# Загружаем алгоритмы моделей\n",
        "models = []\n",
        "models.append(('LR', LogisticRegression(solver='liblinear', multi_class='ovr')))\n",
        "models.append(('LDA', LinearDiscriminantAnalysis()))\n",
        "models.append(('KNN', KNeighborsClassifier()))\n",
        "models.append(('CART', DecisionTreeClassifier()))\n",
        "models.append(('NB', GaussianNB()))\n",
        "models.append(('SVM', SVC(gamma='auto')))\n",
        "models.append(('XGB', XGBClassifier(n_estimators=100, max_depth=10)))\n",
        "# оцениваем модель на каждой итерации\n",
        "results = []\n",
        "names = []\n",
        "\n",
        "for name, model in models:\n",
        "\tkfold = StratifiedKFold(n_splits=10, random_state=1, shuffle=True)\n",
        "\tcv_results = cross_val_score(model, X_train, y_train, cv=kfold, scoring='accuracy')\n",
        "\tresults.append(cv_results)\n",
        "\tnames.append(name)\n",
        "\tprint('%s: %f (%f)' % (name, cv_results.mean(), cv_results.std()))\n",
        "\n",
        "# Сравниванием алгоритмы\n",
        "pyplot.boxplot(results, labels=names)\n",
        "pyplot.title('Algorithm Comparison')\n",
        "pyplot.show()"
      ],
      "execution_count": 8,
      "outputs": [
        {
          "output_type": "stream",
          "text": [
            "/usr/local/lib/python3.6/dist-packages/sklearn/model_selection/_split.py:667: UserWarning: The least populated class in y has only 7 members, which is less than n_splits=10.\n",
            "  % (min_groups, self.n_splits)), UserWarning)\n"
          ],
          "name": "stderr"
        },
        {
          "output_type": "stream",
          "text": [
            "LR: 0.812076 (0.050575)\n"
          ],
          "name": "stdout"
        },
        {
          "output_type": "stream",
          "text": [
            "/usr/local/lib/python3.6/dist-packages/sklearn/model_selection/_split.py:667: UserWarning: The least populated class in y has only 7 members, which is less than n_splits=10.\n",
            "  % (min_groups, self.n_splits)), UserWarning)\n"
          ],
          "name": "stderr"
        },
        {
          "output_type": "stream",
          "text": [
            "LDA: 0.817547 (0.043134)\n"
          ],
          "name": "stdout"
        },
        {
          "output_type": "stream",
          "text": [
            "/usr/local/lib/python3.6/dist-packages/sklearn/model_selection/_split.py:667: UserWarning: The least populated class in y has only 7 members, which is less than n_splits=10.\n",
            "  % (min_groups, self.n_splits)), UserWarning)\n"
          ],
          "name": "stderr"
        },
        {
          "output_type": "stream",
          "text": [
            "KNN: 0.695413 (0.038632)\n"
          ],
          "name": "stdout"
        },
        {
          "output_type": "stream",
          "text": [
            "/usr/local/lib/python3.6/dist-packages/sklearn/model_selection/_split.py:667: UserWarning: The least populated class in y has only 7 members, which is less than n_splits=10.\n",
            "  % (min_groups, self.n_splits)), UserWarning)\n"
          ],
          "name": "stderr"
        },
        {
          "output_type": "stream",
          "text": [
            "CART: 0.808875 (0.035999)\n",
            "NB: 0.799988 (0.054658)\n"
          ],
          "name": "stdout"
        },
        {
          "output_type": "stream",
          "text": [
            "/usr/local/lib/python3.6/dist-packages/sklearn/model_selection/_split.py:667: UserWarning: The least populated class in y has only 7 members, which is less than n_splits=10.\n",
            "  % (min_groups, self.n_splits)), UserWarning)\n",
            "/usr/local/lib/python3.6/dist-packages/sklearn/model_selection/_split.py:667: UserWarning: The least populated class in y has only 7 members, which is less than n_splits=10.\n",
            "  % (min_groups, self.n_splits)), UserWarning)\n"
          ],
          "name": "stderr"
        },
        {
          "output_type": "stream",
          "text": [
            "SVM: 0.832788 (0.045982)\n"
          ],
          "name": "stdout"
        },
        {
          "output_type": "stream",
          "text": [
            "/usr/local/lib/python3.6/dist-packages/sklearn/model_selection/_split.py:667: UserWarning: The least populated class in y has only 7 members, which is less than n_splits=10.\n",
            "  % (min_groups, self.n_splits)), UserWarning)\n"
          ],
          "name": "stderr"
        },
        {
          "output_type": "stream",
          "text": [
            "XGB: 0.880841 (0.045562)\n"
          ],
          "name": "stdout"
        },
        {
          "output_type": "display_data",
          "data": {
            "image/png": "[encoded data removed]",
            "text/plain": [
              "<Figure size 432x288 with 1 Axes>"
            ]
          },
          "metadata": {
            "tags": [],
            "needs_background": "light"
          }
        }
      ]
    },
    {
      "cell_type": "code",
      "metadata": {
        "id": "B7Vhn1jRQgoW",
        "outputId": "12da404a-e4ad-4abb-8816-520c38173ebf",
        "colab": {
          "base_uri": "https://localhost:8080/",
          "height": 221
        }
      },
      "source": [
        "# ПРОГНОЗ\n",
        "# Загрузка библиотек\n",
        "from pandas import read_csv\n",
        "from sklearn.model_selection import train_test_split\n",
        "from sklearn.metrics import classification_report\n",
        "from sklearn.metrics import confusion_matrix\n",
        "from sklearn.metrics import accuracy_score\n",
        "\n",
        "# Загрузка датасета\n",
        "#url = \"https://raw.githubusercontent.com/jbrownlee/Datasets/master/iris.csv\"\n",
        "#names = ['sepal-length', 'sepal-width', 'petal-length', 'petal-width', 'class']\n",
        "#dataset = read_csv(url, names=names)\n",
        "\n",
        "# Разделение датасета на обучающую и контрольную выборки\n",
        "#array = dataset.values\n",
        "\n",
        "# Выбор первых 4-х столбцов \n",
        "#X = array[:,0:4]\n",
        "\n",
        "# Выбор 5-го столбца \n",
        "#y = array[:,4]\n",
        "\n",
        "# Разделение X и y на обучающую и контрольную выборки \n",
        "#X_train, X_validation, Y_train, Y_validation = train_test_split(X, y, test_size=0.20, random_state=1)\n",
        "\n",
        "# Создаем прогноз на контрольной выборке\n",
        "model = SVC(gamma='auto')\n",
        "model.fit(X_train, y_train)\n",
        "predictions = model.predict(X_test)\n",
        "\n",
        "# Оцениваем прогноз\n",
        "print(accuracy_score(y_test, predictions))\n",
        "print(confusion_matrix(y_test, predictions))\n",
        "print(classification_report(y_test, predictions))"
      ],
      "execution_count": null,
      "outputs": [
        {
          "output_type": "stream",
          "text": [
            "0.8938053097345132\n",
            "[[158  21]\n",
            " [ 15 145]]\n",
            "              precision    recall  f1-score   support\n",
            "\n",
            "           0       0.91      0.88      0.90       179\n",
            "           1       0.87      0.91      0.89       160\n",
            "\n",
            "    accuracy                           0.89       339\n",
            "   macro avg       0.89      0.89      0.89       339\n",
            "weighted avg       0.89      0.89      0.89       339\n",
            "\n"
          ],
          "name": "stdout"
        }
      ]
    },
    {
      "cell_type": "code",
      "metadata": {
        "id": "zxOB3y4yQzF-",
        "outputId": "6a33ff78-d77e-408f-8f61-c1fb3c0d5d6e",
        "colab": {
          "base_uri": "https://localhost:8080/",
          "height": 34
        }
      },
      "source": [
        "pre=72\n",
        "rec=68\n",
        "f1= 2*pre*rec/(pre+rec)\n",
        "print(f1)"
      ],
      "execution_count": null,
      "outputs": [
        {
          "output_type": "stream",
          "text": [
            "69.94285714285714\n"
          ],
          "name": "stdout"
        }
      ]
    },
    {
      "cell_type": "code",
      "metadata": {
        "id": "GvWVLX5AU5We"
      },
      "source": [
        "# Supervised transformation based on random forests\n",
        "from sklearn.ensemble import RandomForestClassifier\n",
        "# calculate area under curve\n",
        "from sklearn.metrics import roc_curve, roc_auc_score, auc\n",
        "\n",
        "rf = RandomForestClassifier(max_depth=3, n_estimators=10)\n",
        "cls_rf=rf.fit(X_train, y_train)\n",
        "\n",
        "y_pred_rf = rf.predict_proba(X_test)[:, 1]\n",
        "fpr_rf, tpr_rf, thresholds_rf = roc_curve(y_test, y_pred_rf)\n",
        "auc_rf = auc(fpr_rf, tpr_rf)\n"
      ],
      "execution_count": null,
      "outputs": []
    },
    {
      "cell_type": "code",
      "metadata": {
        "id": "w4rZ7Z_QW6B2",
        "outputId": "0cab3254-dce9-4f41-c95b-91d2c208d1e8",
        "colab": {
          "base_uri": "https://localhost:8080/",
          "height": 34
        }
      },
      "source": [
        "print(auc_rf)"
      ],
      "execution_count": null,
      "outputs": [
        {
          "output_type": "stream",
          "text": [
            "0.9220146648044693\n"
          ],
          "name": "stdout"
        }
      ]
    },
    {
      "cell_type": "code",
      "metadata": {
        "id": "iU420pMcrATd"
      },
      "source": [
        ""
      ],
      "execution_count": null,
      "outputs": []
    },
    {
      "cell_type": "code",
      "metadata": {
        "id": "mtb69F-ik30S"
      },
      "source": [
        "def training(model,X_train, y_train):\n",
        "    return model.fit(X_train, y_train)\n",
        "\n",
        "def plot_feature_importance(importance,names,model_type):\n",
        "    feature_importance = np.array(importance)\n",
        "    feature_names = np.array(names)\n",
        "\n",
        "    #Create a DataFrame using a Dictionary\n",
        "    data={'feature_names':feature_names,'feature_importance':feature_importance}\n",
        "    fi_df = pd.DataFrame(data)\n",
        "\n",
        "    #Sort the DataFrame in order decreasing feature importance\n",
        "    fi_df.sort_values(by=['feature_importance'], ascending=False,inplace=True)\n",
        "    #Define size of bar plot\n",
        "    plt.figure(figsize=(10,8))\n",
        "    #Plot Searborn bar chart\n",
        "    sns.barplot(x=fi_df['feature_importance'], y=fi_df['feature_names'])\n",
        "    #Add chart labels\n",
        "    plt.title(model_type + 'FEATURE IMPORTANCE')\n",
        "    plt.xlabel('FEATURE IMPORTANCE')\n",
        "    plt.ylabel('FEATURE NAMES')\n",
        "def evaluation_stats(model,X_train, X_test, y_train, y_test,algo,is_feature=True):\n",
        "    print('Train Accuracy')\n",
        "    if algo=='NN':\n",
        "        print(confusion_matrix(y_train,model.predict_classes(X_train)))\n",
        "        y_pred = model.predict_classes(X_test)\n",
        "    else:\n",
        "        print(confusion_matrix(y_train,model.predict(X_train)))\n",
        "        y_pred = model.predict(X_test)\n",
        "    print('Validation Accuracy')\n",
        "    \n",
        "    print(confusion_matrix(y_test,y_pred))\n",
        "    print('Classification_report')\n",
        "    print(classification_report(y_test,y_pred))\n",
        "    if is_feature:\n",
        "        plot_feature_importance(rf_model.feature_importances_,x.columns,algo)\n",
        "    "
      ],
      "execution_count": null,
      "outputs": []
    },
    {
      "cell_type": "code",
      "metadata": {
        "id": "lIwTWGMZmWbe",
        "outputId": "6a50874f-1cf5-472e-d71e-6da9c991a60e",
        "colab": {
          "base_uri": "https://localhost:8080/",
          "height": 289
        }
      },
      "source": [
        "evaluation_stats(rf,X_train, X_test, y_train, y_test,'RANDOM FOREST')"
      ],
      "execution_count": null,
      "outputs": [
        {
          "output_type": "stream",
          "text": [
            "Train Accuracy\n",
            "[[410  38]\n",
            " [ 43 425]]\n",
            "Validation Accuracy\n",
            "[[157  22]\n",
            " [ 17 143]]\n",
            "Classification_report\n",
            "              precision    recall  f1-score   support\n",
            "\n",
            "           0       0.90      0.88      0.89       179\n",
            "           1       0.87      0.89      0.88       160\n",
            "\n",
            "    accuracy                           0.88       339\n",
            "   macro avg       0.88      0.89      0.88       339\n",
            "weighted avg       0.89      0.88      0.89       339\n",
            "\n"
          ],
          "name": "stdout"
        }
      ]
    },
    {
      "cell_type": "code",
      "metadata": {
        "id": "j-To16wzYE0T",
        "outputId": "49ad2bb1-7549-44f2-829a-4bde2052042d",
        "colab": {
          "base_uri": "https://localhost:8080/",
          "height": 573
        }
      },
      "source": [
        "import matplotlib.pyplot as plt\n",
        "plt.figure(1)\n",
        "plt.plot([0, 1], [0, 1], 'k--')\n",
        "#plt.plot(fpr_keras, tpr_keras, label='Keras (area = {:.3f})'.format(auc_keras))\n",
        "plt.plot(fpr_rf, tpr_rf, label='RF (area = {:.3f})'.format(auc_rf))\n",
        "plt.xlabel('False positive rate')\n",
        "plt.ylabel('True positive rate')\n",
        "plt.title('ROC curve')\n",
        "plt.legend(loc='best')\n",
        "plt.show()\n",
        "# Zoom in view of the upper left corner.\n",
        "plt.figure(2)\n",
        "plt.xlim(0, 0.2)\n",
        "plt.ylim(0.8, 1)\n",
        "plt.plot([0, 1], [0, 1], 'k--')\n",
        "#plt.plot(fpr_keras, tpr_keras, label='Benign (area = {:.3f})'.format(auc_keras))\n",
        "plt.plot(fpr_rf, tpr_rf, label=' (area = {:.3f})'.format(auc_rf))\n",
        "plt.xlabel('False positive rate')\n",
        "plt.ylabel('True positive rate')\n",
        "plt.title('ROC curve (zoomed in at top left)')\n",
        "plt.legend(loc='best')\n",
        "plt.show()"
      ],
      "execution_count": null,
      "outputs": [
        {
          "output_type": "display_data",
          "data": {
            "image/png": "[encoded data removed]",
            "text/plain": [
              "<Figure size 432x288 with 1 Axes>"
            ]
          },
          "metadata": {
            "tags": [],
            "needs_background": "light"
          }
        },
        {
          "output_type": "display_data",
          "data": {
            "image/png": "[encoded data removed]",
            "text/plain": [
              "<Figure size 432x288 with 1 Axes>"
            ]
          },
          "metadata": {
            "tags": [],
            "needs_background": "light"
          }
        }
      ]
    },
    {
      "cell_type": "code",
      "metadata": {
        "id": "gheAHhZhWsKC",
        "outputId": "2a6c27be-fc8c-454e-dce0-20f422378fa3",
        "colab": {
          "base_uri": "https://localhost:8080/",
          "height": 675
        }
      },
      "source": [
        "from sklearn.metrics import plot_confusion_matrix\n",
        "np.set_printoptions(precision=2)\n",
        "class_names = ([\"0\",\"1\"])\n",
        "# Plot non-normalized confusion matrix\n",
        "titles_options = [(\"Confusion matrix, without normalization\", None),\n",
        "                  (\"Normalized confusion matrix\", 'true')]\n",
        "for title, normalize in titles_options:\n",
        "    disp = plot_confusion_matrix(cls_rf, X_test, y_test,\n",
        "                                 display_labels=class_names,\n",
        "                                 cmap=plt.cm.Blues,\n",
        "                                 normalize=normalize)\n",
        "    disp.ax_.set_title(title)\n",
        "\n",
        "    print(title)\n",
        "    print(disp.confusion_matrix)"
      ],
      "execution_count": null,
      "outputs": [
        {
          "output_type": "stream",
          "text": [
            "Confusion matrix, without normalization\n",
            "[[157  22]\n",
            " [ 17 143]]\n",
            "Normalized confusion matrix\n",
            "[[0.88 0.12]\n",
            " [0.11 0.89]]\n"
          ],
          "name": "stdout"
        },
        {
          "output_type": "display_data",
          "data": {
            "image/png": "[encoded data removed]",
            "text/plain": [
              "<Figure size 432x288 with 2 Axes>"
            ]
          },
          "metadata": {
            "tags": [],
            "needs_background": "light"
          }
        },
        {
          "output_type": "display_data",
          "data": {
            "image/png": "[encoded data removed]",
            "text/plain": [
              "<Figure size 432x288 with 2 Axes>"
            ]
          },
          "metadata": {
            "tags": [],
            "needs_background": "light"
          }
        }
      ]
    },
    {
      "cell_type": "code",
      "metadata": {
        "id": "qZnS2scbn06u"
      },
      "source": [
        "from keras.models import Sequential\n",
        "from keras.layers import Dense"
      ],
      "execution_count": null,
      "outputs": []
    },
    {
      "cell_type": "code",
      "metadata": {
        "id": "MPKMJFBRn3Oz",
        "outputId": "48e671bc-fe90-4659-eca4-396b3fe173d7",
        "colab": {
          "base_uri": "https://localhost:8080/",
          "height": 697
        }
      },
      "source": [
        "model = Sequential()\n",
        "model.add(Dense(12, input_dim=20, activation='relu'))\n",
        "model.add(Dense(8, activation='relu'))\n",
        "model.add(Dense(1, activation='sigmoid'))\n",
        "model.compile(loss='binary_crossentropy', optimizer='adam', metrics=['accuracy'])\n",
        "history= model.fit(X_train, y_train, epochs=20, batch_size=10)"
      ],
      "execution_count": null,
      "outputs": [
        {
          "output_type": "stream",
          "text": [
            "Epoch 1/20\n",
            "92/92 [==============================] - 0s 1ms/step - loss: 0.6891 - accuracy: 0.5164\n",
            "Epoch 2/20\n",
            "92/92 [==============================] - 0s 1ms/step - loss: 0.6320 - accuracy: 0.6998\n",
            "Epoch 3/20\n",
            "92/92 [==============================] - 0s 1ms/step - loss: 0.5377 - accuracy: 0.7926\n",
            "Epoch 4/20\n",
            "92/92 [==============================] - 0s 1ms/step - loss: 0.4129 - accuracy: 0.8592\n",
            "Epoch 5/20\n",
            "92/92 [==============================] - 0s 1ms/step - loss: 0.3250 - accuracy: 0.8897\n",
            "Epoch 6/20\n",
            "92/92 [==============================] - 0s 1ms/step - loss: 0.2761 - accuracy: 0.9072\n",
            "Epoch 7/20\n",
            "92/92 [==============================] - 0s 1ms/step - loss: 0.2481 - accuracy: 0.9148\n",
            "Epoch 8/20\n",
            "92/92 [==============================] - 0s 1ms/step - loss: 0.2306 - accuracy: 0.9192\n",
            "Epoch 9/20\n",
            "92/92 [==============================] - 0s 1ms/step - loss: 0.2172 - accuracy: 0.9258\n",
            "Epoch 10/20\n",
            "92/92 [==============================] - 0s 1ms/step - loss: 0.2080 - accuracy: 0.9290\n",
            "Epoch 11/20\n",
            "92/92 [==============================] - 0s 1ms/step - loss: 0.1995 - accuracy: 0.9279\n",
            "Epoch 12/20\n",
            "92/92 [==============================] - 0s 1ms/step - loss: 0.1926 - accuracy: 0.9323\n",
            "Epoch 13/20\n",
            "92/92 [==============================] - 0s 1ms/step - loss: 0.1868 - accuracy: 0.9345\n",
            "Epoch 14/20\n",
            "92/92 [==============================] - 0s 1ms/step - loss: 0.1821 - accuracy: 0.9367\n",
            "Epoch 15/20\n",
            "92/92 [==============================] - 0s 1ms/step - loss: 0.1767 - accuracy: 0.9378\n",
            "Epoch 16/20\n",
            "92/92 [==============================] - 0s 1ms/step - loss: 0.1731 - accuracy: 0.9345\n",
            "Epoch 17/20\n",
            "92/92 [==============================] - 0s 1ms/step - loss: 0.1685 - accuracy: 0.9400\n",
            "Epoch 18/20\n",
            "92/92 [==============================] - 0s 1ms/step - loss: 0.1658 - accuracy: 0.9432\n",
            "Epoch 19/20\n",
            "92/92 [==============================] - 0s 1ms/step - loss: 0.1626 - accuracy: 0.9454\n",
            "Epoch 20/20\n",
            "92/92 [==============================] - 0s 1ms/step - loss: 0.1596 - accuracy: 0.9465\n"
          ],
          "name": "stdout"
        }
      ]
    },
    {
      "cell_type": "code",
      "metadata": {
        "id": "nai_bgSmoaQC",
        "outputId": "cbed61ea-4555-47ff-fba2-557d3caeba89",
        "colab": {
          "base_uri": "https://localhost:8080/",
          "height": 360
        }
      },
      "source": [
        "evaluation_stats(model,X_train, X_test, y_train, y_test,'NN',is_feature=False)"
      ],
      "execution_count": null,
      "outputs": [
        {
          "output_type": "stream",
          "text": [
            "Train Accuracy\n",
            "WARNING:tensorflow:From <ipython-input-49-d800c36e7094>:25: Sequential.predict_classes (from tensorflow.python.keras.engine.sequential) is deprecated and will be removed after 2021-01-01.\n",
            "Instructions for updating:\n",
            "Please use instead:* `np.argmax(model.predict(x), axis=-1)`,   if your model does multi-class classification   (e.g. if it uses a `softmax` last-layer activation).* `(model.predict(x) > 0.5).astype(\"int32\")`,   if your model does binary classification   (e.g. if it uses a `sigmoid` last-layer activation).\n",
            "[[430  18]\n",
            " [ 26 442]]\n",
            "Validation Accuracy\n",
            "[[160  19]\n",
            " [ 15 145]]\n",
            "Classification_report\n",
            "              precision    recall  f1-score   support\n",
            "\n",
            "           0       0.91      0.89      0.90       179\n",
            "           1       0.88      0.91      0.90       160\n",
            "\n",
            "    accuracy                           0.90       339\n",
            "   macro avg       0.90      0.90      0.90       339\n",
            "weighted avg       0.90      0.90      0.90       339\n",
            "\n"
          ],
          "name": "stdout"
        }
      ]
    },
    {
      "cell_type": "code",
      "metadata": {
        "id": "QoEe-8aY-jfn",
        "outputId": "e57f273b-59ec-4bba-fee2-61fdc29dd4b6",
        "colab": {
          "base_uri": "https://localhost:8080/",
          "height": 34
        }
      },
      "source": [
        "employee_numbers = [2, 9, 18, 28]\n",
        "employee_names = [\"Дима\", \"Марина\", \"Андрей\", \"Никита\"]\n",
        "\n",
        "zipped_values = zip(employee_names, employee_numbers)\n",
        "zipped_list = list(zipped_values)\n",
        "\n",
        "print(zipped_list)"
      ],
      "execution_count": null,
      "outputs": [
        {
          "output_type": "stream",
          "text": [
            "[('Дима', 2), ('Марина', 9), ('Андрей', 18), ('Никита', 28)]\n"
          ],
          "name": "stdout"
        }
      ]
    },
    {
      "cell_type": "code",
      "metadata": {
        "id": "zc9VprMvBK-T",
        "outputId": "df1c3c3a-ca0e-459e-e480-b0a9c50c497e",
        "colab": {
          "base_uri": "https://localhost:8080/",
          "height": 51
        }
      },
      "source": [
        "employees_zipped = [('Дима', 2), ('Марина', 9), ('Андрей', 18), ('Никита', 28)]\n",
        "employee_names, employee_numbers = zip(*employees_zipped)\n",
        "\n",
        "print(employee_names)\n",
        "print(employee_numbers)"
      ],
      "execution_count": null,
      "outputs": [
        {
          "output_type": "stream",
          "text": [
            "('Дима', 'Марина', 'Андрей', 'Никита')\n",
            "(2, 9, 18, 28)\n"
          ],
          "name": "stdout"
        }
      ]
    }
  ]
}