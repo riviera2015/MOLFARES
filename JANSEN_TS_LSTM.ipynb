{
  "nbformat": 4,
  "nbformat_minor": 0,
  "metadata": {
    "anaconda-cloud": {},
    "kernelspec": {
      "display_name": "Python 3",
      "language": "python",
      "name": "python3"
    },
    "language_info": {
      "codemirror_mode": {
        "name": "ipython",
        "version": 3
      },
      "file_extension": ".py",
      "mimetype": "text/x-python",
      "name": "python",
      "nbconvert_exporter": "python",
      "pygments_lexer": "ipython3",
      "version": "3.7.3"
    },
    "toc": {
      "base_numbering": 1,
      "nav_menu": {},
      "number_sections": true,
      "sideBar": true,
      "skip_h1_title": true,
      "title_cell": "Table of Contents",
      "title_sidebar": "Contents",
      "toc_cell": false,
      "toc_position": {
        "height": "calc(100% - 180px)",
        "left": "10px",
        "top": "150px",
        "width": "318.55px"
      },
      "toc_section_display": true,
      "toc_window_display": true
    },
    "colab": {
      "name": "JANSEN_TS_LSTM.ipynb",
      "provenance": [],
      "collapsed_sections": [],
      "include_colab_link": true
    }
  },
  "cells": [
    {
      "cell_type": "markdown",
      "metadata": {
        "id": "view-in-github",
        "colab_type": "text"
      },
      "source": [
        "<a href=\"https://colab.research.google.com/github/riviera2015/MOLFARES/blob/master/JANSEN_TS_LSTM.ipynb\" target=\"_parent\"><img src=\"https://colab.research.google.com/assets/colab-badge.svg\" alt=\"Open In Colab\"/></a>"
      ]
    },
    {
      "cell_type": "markdown",
      "metadata": {
        "pycharm": {},
        "id": "_Go_LIZFB0RR"
      },
      "source": [
        "# Recurrent Neural Networks"
      ]
    },
    {
      "cell_type": "markdown",
      "metadata": {
        "pycharm": {},
        "id": "lVxxtGYuB0RT"
      },
      "source": [
        "## Univariate Time Series Regression"
      ]
    },
    {
      "cell_type": "markdown",
      "metadata": {
        "pycharm": {},
        "id": "19z_ybj4B0RV"
      },
      "source": [
        "This notebook demonstrates how to forecast the S&P 500 index using a Recurrent Neural Network."
      ]
    },
    {
      "cell_type": "markdown",
      "metadata": {
        "id": "VKms2HR0B0RW"
      },
      "source": [
        "## Run inside docker container for GPU acceleration"
      ]
    },
    {
      "cell_type": "markdown",
      "metadata": {
        "id": "7iDt1CuNB0RX"
      },
      "source": [
        "See [tensorflow guide](https://www.tensorflow.org/install/docker) and more detailed [instructions](https://blog.sicara.com/tensorflow-gpu-opencv-jupyter-docker-10705b6cd1d)"
      ]
    },
    {
      "cell_type": "markdown",
      "metadata": {
        "id": "A8q58dxkB0RY"
      },
      "source": [
        "`docker run -it -p 8889:8888 -v /path/to/machine-learning-for-trading/18_recurrent_neural_nets:/rnn --name tensorflow tensorflow/tensorflow:latest-gpu-py3 bash`"
      ]
    },
    {
      "cell_type": "markdown",
      "metadata": {
        "id": "t9KWpyoyB0RZ"
      },
      "source": [
        "Inside docker container: \n",
        "`jupyter notebook --ip 0.0.0.0 --no-browser --allow-root`"
      ]
    },
    {
      "cell_type": "code",
      "metadata": {
        "id": "kI3QURaVOaCU",
        "outputId": "4956269f-0b2d-4845-d758-62cc77d0494e",
        "colab": {
          "base_uri": "https://localhost:8080/"
        }
      },
      "source": [
        "!pip install google"
      ],
      "execution_count": 1,
      "outputs": [
        {
          "output_type": "stream",
          "text": [
            "Requirement already satisfied: google in /usr/local/lib/python3.6/dist-packages (2.0.3)\n",
            "Requirement already satisfied: beautifulsoup4 in /usr/local/lib/python3.6/dist-packages (from google) (4.6.3)\n"
          ],
          "name": "stdout"
        }
      ]
    },
    {
      "cell_type": "markdown",
      "metadata": {
        "pycharm": {},
        "id": "LGHM4sc3B0Ra"
      },
      "source": [
        "## Imports & Settings"
      ]
    },
    {
      "cell_type": "code",
      "metadata": {
        "ExecuteTime": {
          "end_time": "2020-03-23T21:31:37.660085Z",
          "start_time": "2020-03-23T21:31:36.313362Z"
        },
        "pycharm": {},
        "id": "Ek4blZdaB0Rb"
      },
      "source": [
        "%matplotlib inline\n",
        "import numpy as np\n",
        "import pandas as pd\n",
        "import matplotlib.pyplot as plt\n",
        "import seaborn as sns\n",
        "from scipy.stats import spearmanr\n",
        "import pandas_datareader.data as web\n",
        "from datetime import datetime, date\n",
        "from sklearn.metrics import mean_squared_error, roc_auc_score\n",
        "from sklearn.preprocessing import MinMaxScaler\n",
        "from tensorflow.keras.callbacks import ModelCheckpoint, EarlyStopping\n",
        "from tensorflow.keras.models import Sequential\n",
        "from tensorflow.keras.layers import Dense, LSTM\n",
        "from tensorflow import keras"
      ],
      "execution_count": 33,
      "outputs": []
    },
    {
      "cell_type": "code",
      "metadata": {
        "ExecuteTime": {
          "end_time": "2020-03-23T21:31:37.663309Z",
          "start_time": "2020-03-23T21:31:37.661156Z"
        },
        "pycharm": {},
        "id": "Mm6trXhlB0Ri"
      },
      "source": [
        "sns.set_style('whitegrid')\n",
        "np.random.seed(42)"
      ],
      "execution_count": 34,
      "outputs": []
    },
    {
      "cell_type": "markdown",
      "metadata": {
        "pycharm": {},
        "id": "gI5pRbGyB0Ro"
      },
      "source": [
        "## Get Data"
      ]
    },
    {
      "cell_type": "markdown",
      "metadata": {
        "pycharm": {},
        "id": "F1peUJkNB0Rq"
      },
      "source": [
        "We obtain data for 2010-2018 from the Federal Reserve Bank’s Data Service [FRED](https://fred.stlouisfed.org/) using the [pandas_datareader](https://pandas-datareader.readthedocs.io/) library in introduced in [Chapter 2 on Market and Fundamental Data](../02_market_and_fundamental_data)."
      ]
    },
    {
      "cell_type": "code",
      "metadata": {
        "ExecuteTime": {
          "end_time": "2020-03-23T21:31:38.558334Z",
          "start_time": "2020-03-23T21:31:37.664577Z"
        },
        "pycharm": {},
        "id": "oMWSEOKcB0Rr",
        "outputId": "ccffd679-874c-4fa9-a6e7-6642b7def3f1",
        "colab": {
          "base_uri": "https://localhost:8080/",
          "height": 293
        }
      },
      "source": [
        "sp500 = web.DataReader('SP500', 'fred', start='2019', end='2021').dropna()\n",
        "sp500.plot(title='S&P 500', legend=False);"
      ],
      "execution_count": 37,
      "outputs": [
        {
          "output_type": "display_data",
          "data": {
            "image/png": "[encoded data removed]",
            "text/plain": [
              "<Figure size 432x288 with 1 Axes>"
            ]
          },
          "metadata": {
            "tags": []
          }
        }
      ]
    },
    {
      "cell_type": "markdown",
      "metadata": {
        "pycharm": {},
        "id": "j2vWWn_TB0Rw"
      },
      "source": [
        "## Preprocessing"
      ]
    },
    {
      "cell_type": "code",
      "metadata": {
        "ExecuteTime": {
          "end_time": "2020-03-23T21:31:38.561176Z",
          "start_time": "2020-03-23T21:31:38.559413Z"
        },
        "id": "2O4_pN-yB0Rx"
      },
      "source": [
        "scaler = MinMaxScaler()"
      ],
      "execution_count": 38,
      "outputs": []
    },
    {
      "cell_type": "code",
      "metadata": {
        "ExecuteTime": {
          "end_time": "2020-03-23T21:31:38.578073Z",
          "start_time": "2020-03-23T21:31:38.562113Z"
        },
        "pycharm": {},
        "id": "aCrSbYKIB0R2",
        "outputId": "0ccac4f0-12a1-477c-9937-695b52196d0d",
        "colab": {
          "base_uri": "https://localhost:8080/"
        }
      },
      "source": [
        "sp500_scaled = pd.Series(scaler.fit_transform(sp500).squeeze(), \n",
        "                         index=sp500.index)\n",
        "sp500_scaled.describe()"
      ],
      "execution_count": 39,
      "outputs": [
        {
          "output_type": "execute_result",
          "data": {
            "text/plain": [
              "count    462.000000\n",
              "mean       0.578503\n",
              "std        0.184366\n",
              "min        0.000000\n",
              "25%        0.459885\n",
              "50%        0.556445\n",
              "75%        0.732353\n",
              "max        1.000000\n",
              "dtype: float64"
            ]
          },
          "metadata": {
            "tags": []
          },
          "execution_count": 39
        }
      ]
    },
    {
      "cell_type": "markdown",
      "metadata": {
        "pycharm": {},
        "id": "cNNGWNsBB0R8"
      },
      "source": [
        "## Generating recurrent sequences from our time series\n",
        "\n",
        "Our time series is a sequence of numbers indexed by time:\n",
        "\n",
        "$$x_{0},x_{1},x_{2},...,x_{T}$$\n",
        "\n",
        "where $\\{x_t\\}$ is the numerical value in period $t$ and  $T$ is the total length of the series. \n",
        "\n",
        "To apply a RNN for regression of classification, we use a sliding window to construct a rolling set of input/output pairs for our model to learn from as animated below.\n",
        "\n",
        "<img src=\"images/timeseries_windowing.gif\" width=600 height=600/>"
      ]
    },
    {
      "cell_type": "markdown",
      "metadata": {
        "pycharm": {},
        "id": "NQmiSr4AB0R9"
      },
      "source": [
        "We will generate sequences of 63 trading days, approximately three months, and use a single LSTM layer with 20 hidden units to predict the index value one timestep ahead. \n",
        "The input to every LSTM layer must have three dimensions, namely:\n",
        "- **Samples**: One sequence is one sample. A batch contains one or more samples.\n",
        "- **Time Steps**: One time step is one point of observation in the sample.\n",
        "- **Features**: One feature is one observation at a time step.\n",
        "\n",
        "Our S&P 500 sample has 2,264 observations or time steps. We will create overlapping sequences using a window of 63 observations each.\n",
        "For a simpler window of size T = 5, we obtain input-output pairs as shown in the following table:"
      ]
    },
    {
      "cell_type": "markdown",
      "metadata": {
        "pycharm": {},
        "id": "Wg8NoCbsB0R-"
      },
      "source": [
        "$$\\begin{array}{c|c}\n",
        "\\text{Input} & \\text{Output}\\\\\n",
        "\\hline  {\\langle x_1,x_2,x_3,x_4,x_5\\rangle} & { x_6} \\\\\n",
        "\\ {\\langle x_{2},x_{3},x_{4},x_{5},x_{6} \\rangle } & {x_{7} } \\\\\n",
        "  {\\vdots} & {\\vdots}\\\\\n",
        " { \\langle x_{T-5},x_{T-4},x_{T-3},x_{T-2},x_{T-1} \\rangle } &  {x_{T}}\n",
        "\\end{array}$$"
      ]
    },
    {
      "cell_type": "markdown",
      "metadata": {
        "pycharm": {},
        "id": "QXcPulHcB0R_"
      },
      "source": [
        "Generally speaking, for window size S, the relationship takes the form \n",
        "\n",
        "$$x_t = f( x_{t-1}, x_{t-2}, ..., x_{t-S}) \\quad\\forall t=S, S+1, ..., T$$\n",
        "\n",
        "Each of the $T-S$ lagged input sequence or vector is of length S with a corresponding scalar output."
      ]
    },
    {
      "cell_type": "markdown",
      "metadata": {
        "pycharm": {},
        "id": "A-B06xhdB0SA"
      },
      "source": [
        "We can use the function create_univariate_rnn_data() to stack sequences selected using a rolling windows:"
      ]
    },
    {
      "cell_type": "code",
      "metadata": {
        "ExecuteTime": {
          "end_time": "2020-03-23T21:31:38.582642Z",
          "start_time": "2020-03-23T21:31:38.579101Z"
        },
        "pycharm": {},
        "id": "h-RM78bwB0SA"
      },
      "source": [
        "def create_univariate_rnn_data(data, window_size):\n",
        "    n = len(data)\n",
        "    y = data[window_size:]\n",
        "    data = data.values.reshape(-1, 1) # make 2D\n",
        "    X = np.hstack(tuple([data[i: n-j, :] for i, j in enumerate(range(window_size, 0, -1))]))\n",
        "    return pd.DataFrame(X, index=y.index), y"
      ],
      "execution_count": 40,
      "outputs": []
    },
    {
      "cell_type": "markdown",
      "metadata": {
        "pycharm": {},
        "id": "ZSvR9fjEB0SE"
      },
      "source": [
        "We apply this function to the rescaled stock index for a window_size=63 to obtain a two-dimensional dataset of shape number of samples x number of timesteps:"
      ]
    },
    {
      "cell_type": "code",
      "metadata": {
        "ExecuteTime": {
          "end_time": "2020-03-23T21:31:38.597836Z",
          "start_time": "2020-03-23T21:31:38.583618Z"
        },
        "pycharm": {},
        "id": "P8kuZEpLB0SF"
      },
      "source": [
        "window_size = 63"
      ],
      "execution_count": 41,
      "outputs": []
    },
    {
      "cell_type": "code",
      "metadata": {
        "ExecuteTime": {
          "end_time": "2020-03-23T21:31:38.658121Z",
          "start_time": "2020-03-23T21:31:38.655074Z"
        },
        "pycharm": {},
        "id": "qz7NddtHB0SK"
      },
      "source": [
        "X, y = create_univariate_rnn_data(sp500_scaled, window_size=window_size)"
      ],
      "execution_count": 42,
      "outputs": []
    },
    {
      "cell_type": "code",
      "metadata": {
        "ExecuteTime": {
          "end_time": "2020-03-23T21:31:38.677256Z",
          "start_time": "2020-03-23T21:31:38.659458Z"
        },
        "pycharm": {},
        "id": "dOlTKrz2B0SQ",
        "outputId": "72ee26a8-13af-467a-99f9-59acea8e9201",
        "colab": {
          "base_uri": "https://localhost:8080/",
          "height": 340
        }
      },
      "source": [
        "X.head()"
      ],
      "execution_count": 43,
      "outputs": [
        {
          "output_type": "execute_result",
          "data": {
            "text/html": [
              "<div>\n",
              "<style scoped>\n",
              "    .dataframe tbody tr th:only-of-type {\n",
              "        vertical-align: middle;\n",
              "    }\n",
              "\n",
              "    .dataframe tbody tr th {\n",
              "        vertical-align: top;\n",
              "    }\n",
              "\n",
              "    .dataframe thead th {\n",
              "        text-align: right;\n",
              "    }\n",
              "</style>\n",
              "<table border=\"1\" class=\"dataframe\">\n",
              "  <thead>\n",
              "    <tr style=\"text-align: right;\">\n",
              "      <th></th>\n",
              "      <th>0</th>\n",
              "      <th>1</th>\n",
              "      <th>2</th>\n",
              "      <th>3</th>\n",
              "      <th>4</th>\n",
              "      <th>5</th>\n",
              "      <th>6</th>\n",
              "      <th>7</th>\n",
              "      <th>8</th>\n",
              "      <th>9</th>\n",
              "      <th>10</th>\n",
              "      <th>11</th>\n",
              "      <th>12</th>\n",
              "      <th>13</th>\n",
              "      <th>14</th>\n",
              "      <th>15</th>\n",
              "      <th>16</th>\n",
              "      <th>17</th>\n",
              "      <th>18</th>\n",
              "      <th>19</th>\n",
              "      <th>20</th>\n",
              "      <th>21</th>\n",
              "      <th>22</th>\n",
              "      <th>23</th>\n",
              "      <th>24</th>\n",
              "      <th>25</th>\n",
              "      <th>26</th>\n",
              "      <th>27</th>\n",
              "      <th>28</th>\n",
              "      <th>29</th>\n",
              "      <th>30</th>\n",
              "      <th>31</th>\n",
              "      <th>32</th>\n",
              "      <th>33</th>\n",
              "      <th>34</th>\n",
              "      <th>35</th>\n",
              "      <th>36</th>\n",
              "      <th>37</th>\n",
              "      <th>38</th>\n",
              "      <th>39</th>\n",
              "      <th>40</th>\n",
              "      <th>41</th>\n",
              "      <th>42</th>\n",
              "      <th>43</th>\n",
              "      <th>44</th>\n",
              "      <th>45</th>\n",
              "      <th>46</th>\n",
              "      <th>47</th>\n",
              "      <th>48</th>\n",
              "      <th>49</th>\n",
              "      <th>50</th>\n",
              "      <th>51</th>\n",
              "      <th>52</th>\n",
              "      <th>53</th>\n",
              "      <th>54</th>\n",
              "      <th>55</th>\n",
              "      <th>56</th>\n",
              "      <th>57</th>\n",
              "      <th>58</th>\n",
              "      <th>59</th>\n",
              "      <th>60</th>\n",
              "      <th>61</th>\n",
              "      <th>62</th>\n",
              "    </tr>\n",
              "    <tr>\n",
              "      <th>DATE</th>\n",
              "      <th></th>\n",
              "      <th></th>\n",
              "      <th></th>\n",
              "      <th></th>\n",
              "      <th></th>\n",
              "      <th></th>\n",
              "      <th></th>\n",
              "      <th></th>\n",
              "      <th></th>\n",
              "      <th></th>\n",
              "      <th></th>\n",
              "      <th></th>\n",
              "      <th></th>\n",
              "      <th></th>\n",
              "      <th></th>\n",
              "      <th></th>\n",
              "      <th></th>\n",
              "      <th></th>\n",
              "      <th></th>\n",
              "      <th></th>\n",
              "      <th></th>\n",
              "      <th></th>\n",
              "      <th></th>\n",
              "      <th></th>\n",
              "      <th></th>\n",
              "      <th></th>\n",
              "      <th></th>\n",
              "      <th></th>\n",
              "      <th></th>\n",
              "      <th></th>\n",
              "      <th></th>\n",
              "      <th></th>\n",
              "      <th></th>\n",
              "      <th></th>\n",
              "      <th></th>\n",
              "      <th></th>\n",
              "      <th></th>\n",
              "      <th></th>\n",
              "      <th></th>\n",
              "      <th></th>\n",
              "      <th></th>\n",
              "      <th></th>\n",
              "      <th></th>\n",
              "      <th></th>\n",
              "      <th></th>\n",
              "      <th></th>\n",
              "      <th></th>\n",
              "      <th></th>\n",
              "      <th></th>\n",
              "      <th></th>\n",
              "      <th></th>\n",
              "      <th></th>\n",
              "      <th></th>\n",
              "      <th></th>\n",
              "      <th></th>\n",
              "      <th></th>\n",
              "      <th></th>\n",
              "      <th></th>\n",
              "      <th></th>\n",
              "      <th></th>\n",
              "      <th></th>\n",
              "      <th></th>\n",
              "      <th></th>\n",
              "    </tr>\n",
              "  </thead>\n",
              "  <tbody>\n",
              "    <tr>\n",
              "      <th>2019-04-03</th>\n",
              "      <td>0.202934</td>\n",
              "      <td>0.156680</td>\n",
              "      <td>0.219243</td>\n",
              "      <td>0.232455</td>\n",
              "      <td>0.250856</td>\n",
              "      <td>0.258709</td>\n",
              "      <td>0.267403</td>\n",
              "      <td>0.267120</td>\n",
              "      <td>0.256960</td>\n",
              "      <td>0.277571</td>\n",
              "      <td>0.281888</td>\n",
              "      <td>0.296671</td>\n",
              "      <td>0.322538</td>\n",
              "      <td>0.294393</td>\n",
              "      <td>0.298711</td>\n",
              "      <td>0.301413</td>\n",
              "      <td>0.318109</td>\n",
              "      <td>0.302544</td>\n",
              "      <td>0.299678</td>\n",
              "      <td>0.330234</td>\n",
              "      <td>0.347392</td>\n",
              "      <td>0.349201</td>\n",
              "      <td>0.362852</td>\n",
              "      <td>0.372402</td>\n",
              "      <td>0.367869</td>\n",
              "      <td>0.348843</td>\n",
              "      <td>0.350205</td>\n",
              "      <td>0.351635</td>\n",
              "      <td>0.377635</td>\n",
              "      <td>0.383813</td>\n",
              "      <td>0.378379</td>\n",
              "      <td>0.400613</td>\n",
              "      <td>0.403710</td>\n",
              "      <td>0.407387</td>\n",
              "      <td>0.400077</td>\n",
              "      <td>0.413320</td>\n",
              "      <td>0.415880</td>\n",
              "      <td>0.414235</td>\n",
              "      <td>0.413104</td>\n",
              "      <td>0.407231</td>\n",
              "      <td>0.421522</td>\n",
              "      <td>0.413424</td>\n",
              "      <td>0.411072</td>\n",
              "      <td>0.397524</td>\n",
              "      <td>0.380761</td>\n",
              "      <td>0.376399</td>\n",
              "      <td>0.406345</td>\n",
              "      <td>0.412464</td>\n",
              "      <td>0.426904</td>\n",
              "      <td>0.425088</td>\n",
              "      <td>0.435509</td>\n",
              "      <td>0.443295</td>\n",
              "      <td>0.443019</td>\n",
              "      <td>0.436811</td>\n",
              "      <td>0.459626</td>\n",
              "      <td>0.419304</td>\n",
              "      <td>0.417555</td>\n",
              "      <td>0.432517</td>\n",
              "      <td>0.422773</td>\n",
              "      <td>0.430269</td>\n",
              "      <td>0.444382</td>\n",
              "      <td>0.468789</td>\n",
              "      <td>0.468826</td>\n",
              "    </tr>\n",
              "    <tr>\n",
              "      <th>2019-04-04</th>\n",
              "      <td>0.156680</td>\n",
              "      <td>0.219243</td>\n",
              "      <td>0.232455</td>\n",
              "      <td>0.250856</td>\n",
              "      <td>0.258709</td>\n",
              "      <td>0.267403</td>\n",
              "      <td>0.267120</td>\n",
              "      <td>0.256960</td>\n",
              "      <td>0.277571</td>\n",
              "      <td>0.281888</td>\n",
              "      <td>0.296671</td>\n",
              "      <td>0.322538</td>\n",
              "      <td>0.294393</td>\n",
              "      <td>0.298711</td>\n",
              "      <td>0.301413</td>\n",
              "      <td>0.318109</td>\n",
              "      <td>0.302544</td>\n",
              "      <td>0.299678</td>\n",
              "      <td>0.330234</td>\n",
              "      <td>0.347392</td>\n",
              "      <td>0.349201</td>\n",
              "      <td>0.362852</td>\n",
              "      <td>0.372402</td>\n",
              "      <td>0.367869</td>\n",
              "      <td>0.348843</td>\n",
              "      <td>0.350205</td>\n",
              "      <td>0.351635</td>\n",
              "      <td>0.377635</td>\n",
              "      <td>0.383813</td>\n",
              "      <td>0.378379</td>\n",
              "      <td>0.400613</td>\n",
              "      <td>0.403710</td>\n",
              "      <td>0.407387</td>\n",
              "      <td>0.400077</td>\n",
              "      <td>0.413320</td>\n",
              "      <td>0.415880</td>\n",
              "      <td>0.414235</td>\n",
              "      <td>0.413104</td>\n",
              "      <td>0.407231</td>\n",
              "      <td>0.421522</td>\n",
              "      <td>0.413424</td>\n",
              "      <td>0.411072</td>\n",
              "      <td>0.397524</td>\n",
              "      <td>0.380761</td>\n",
              "      <td>0.376399</td>\n",
              "      <td>0.406345</td>\n",
              "      <td>0.412464</td>\n",
              "      <td>0.426904</td>\n",
              "      <td>0.425088</td>\n",
              "      <td>0.435509</td>\n",
              "      <td>0.443295</td>\n",
              "      <td>0.443019</td>\n",
              "      <td>0.436811</td>\n",
              "      <td>0.459626</td>\n",
              "      <td>0.419304</td>\n",
              "      <td>0.417555</td>\n",
              "      <td>0.432517</td>\n",
              "      <td>0.422773</td>\n",
              "      <td>0.430269</td>\n",
              "      <td>0.444382</td>\n",
              "      <td>0.468789</td>\n",
              "      <td>0.468826</td>\n",
              "      <td>0.473412</td>\n",
              "    </tr>\n",
              "    <tr>\n",
              "      <th>2019-04-05</th>\n",
              "      <td>0.219243</td>\n",
              "      <td>0.232455</td>\n",
              "      <td>0.250856</td>\n",
              "      <td>0.258709</td>\n",
              "      <td>0.267403</td>\n",
              "      <td>0.267120</td>\n",
              "      <td>0.256960</td>\n",
              "      <td>0.277571</td>\n",
              "      <td>0.281888</td>\n",
              "      <td>0.296671</td>\n",
              "      <td>0.322538</td>\n",
              "      <td>0.294393</td>\n",
              "      <td>0.298711</td>\n",
              "      <td>0.301413</td>\n",
              "      <td>0.318109</td>\n",
              "      <td>0.302544</td>\n",
              "      <td>0.299678</td>\n",
              "      <td>0.330234</td>\n",
              "      <td>0.347392</td>\n",
              "      <td>0.349201</td>\n",
              "      <td>0.362852</td>\n",
              "      <td>0.372402</td>\n",
              "      <td>0.367869</td>\n",
              "      <td>0.348843</td>\n",
              "      <td>0.350205</td>\n",
              "      <td>0.351635</td>\n",
              "      <td>0.377635</td>\n",
              "      <td>0.383813</td>\n",
              "      <td>0.378379</td>\n",
              "      <td>0.400613</td>\n",
              "      <td>0.403710</td>\n",
              "      <td>0.407387</td>\n",
              "      <td>0.400077</td>\n",
              "      <td>0.413320</td>\n",
              "      <td>0.415880</td>\n",
              "      <td>0.414235</td>\n",
              "      <td>0.413104</td>\n",
              "      <td>0.407231</td>\n",
              "      <td>0.421522</td>\n",
              "      <td>0.413424</td>\n",
              "      <td>0.411072</td>\n",
              "      <td>0.397524</td>\n",
              "      <td>0.380761</td>\n",
              "      <td>0.376399</td>\n",
              "      <td>0.406345</td>\n",
              "      <td>0.412464</td>\n",
              "      <td>0.426904</td>\n",
              "      <td>0.425088</td>\n",
              "      <td>0.435509</td>\n",
              "      <td>0.443295</td>\n",
              "      <td>0.443019</td>\n",
              "      <td>0.436811</td>\n",
              "      <td>0.459626</td>\n",
              "      <td>0.419304</td>\n",
              "      <td>0.417555</td>\n",
              "      <td>0.432517</td>\n",
              "      <td>0.422773</td>\n",
              "      <td>0.430269</td>\n",
              "      <td>0.444382</td>\n",
              "      <td>0.468789</td>\n",
              "      <td>0.468826</td>\n",
              "      <td>0.473412</td>\n",
              "      <td>0.477870</td>\n",
              "    </tr>\n",
              "    <tr>\n",
              "      <th>2019-04-08</th>\n",
              "      <td>0.232455</td>\n",
              "      <td>0.250856</td>\n",
              "      <td>0.258709</td>\n",
              "      <td>0.267403</td>\n",
              "      <td>0.267120</td>\n",
              "      <td>0.256960</td>\n",
              "      <td>0.277571</td>\n",
              "      <td>0.281888</td>\n",
              "      <td>0.296671</td>\n",
              "      <td>0.322538</td>\n",
              "      <td>0.294393</td>\n",
              "      <td>0.298711</td>\n",
              "      <td>0.301413</td>\n",
              "      <td>0.318109</td>\n",
              "      <td>0.302544</td>\n",
              "      <td>0.299678</td>\n",
              "      <td>0.330234</td>\n",
              "      <td>0.347392</td>\n",
              "      <td>0.349201</td>\n",
              "      <td>0.362852</td>\n",
              "      <td>0.372402</td>\n",
              "      <td>0.367869</td>\n",
              "      <td>0.348843</td>\n",
              "      <td>0.350205</td>\n",
              "      <td>0.351635</td>\n",
              "      <td>0.377635</td>\n",
              "      <td>0.383813</td>\n",
              "      <td>0.378379</td>\n",
              "      <td>0.400613</td>\n",
              "      <td>0.403710</td>\n",
              "      <td>0.407387</td>\n",
              "      <td>0.400077</td>\n",
              "      <td>0.413320</td>\n",
              "      <td>0.415880</td>\n",
              "      <td>0.414235</td>\n",
              "      <td>0.413104</td>\n",
              "      <td>0.407231</td>\n",
              "      <td>0.421522</td>\n",
              "      <td>0.413424</td>\n",
              "      <td>0.411072</td>\n",
              "      <td>0.397524</td>\n",
              "      <td>0.380761</td>\n",
              "      <td>0.376399</td>\n",
              "      <td>0.406345</td>\n",
              "      <td>0.412464</td>\n",
              "      <td>0.426904</td>\n",
              "      <td>0.425088</td>\n",
              "      <td>0.435509</td>\n",
              "      <td>0.443295</td>\n",
              "      <td>0.443019</td>\n",
              "      <td>0.436811</td>\n",
              "      <td>0.459626</td>\n",
              "      <td>0.419304</td>\n",
              "      <td>0.417555</td>\n",
              "      <td>0.432517</td>\n",
              "      <td>0.422773</td>\n",
              "      <td>0.430269</td>\n",
              "      <td>0.444382</td>\n",
              "      <td>0.468789</td>\n",
              "      <td>0.468826</td>\n",
              "      <td>0.473412</td>\n",
              "      <td>0.477870</td>\n",
              "      <td>0.487807</td>\n",
              "    </tr>\n",
              "    <tr>\n",
              "      <th>2019-04-09</th>\n",
              "      <td>0.250856</td>\n",
              "      <td>0.258709</td>\n",
              "      <td>0.267403</td>\n",
              "      <td>0.267120</td>\n",
              "      <td>0.256960</td>\n",
              "      <td>0.277571</td>\n",
              "      <td>0.281888</td>\n",
              "      <td>0.296671</td>\n",
              "      <td>0.322538</td>\n",
              "      <td>0.294393</td>\n",
              "      <td>0.298711</td>\n",
              "      <td>0.301413</td>\n",
              "      <td>0.318109</td>\n",
              "      <td>0.302544</td>\n",
              "      <td>0.299678</td>\n",
              "      <td>0.330234</td>\n",
              "      <td>0.347392</td>\n",
              "      <td>0.349201</td>\n",
              "      <td>0.362852</td>\n",
              "      <td>0.372402</td>\n",
              "      <td>0.367869</td>\n",
              "      <td>0.348843</td>\n",
              "      <td>0.350205</td>\n",
              "      <td>0.351635</td>\n",
              "      <td>0.377635</td>\n",
              "      <td>0.383813</td>\n",
              "      <td>0.378379</td>\n",
              "      <td>0.400613</td>\n",
              "      <td>0.403710</td>\n",
              "      <td>0.407387</td>\n",
              "      <td>0.400077</td>\n",
              "      <td>0.413320</td>\n",
              "      <td>0.415880</td>\n",
              "      <td>0.414235</td>\n",
              "      <td>0.413104</td>\n",
              "      <td>0.407231</td>\n",
              "      <td>0.421522</td>\n",
              "      <td>0.413424</td>\n",
              "      <td>0.411072</td>\n",
              "      <td>0.397524</td>\n",
              "      <td>0.380761</td>\n",
              "      <td>0.376399</td>\n",
              "      <td>0.406345</td>\n",
              "      <td>0.412464</td>\n",
              "      <td>0.426904</td>\n",
              "      <td>0.425088</td>\n",
              "      <td>0.435509</td>\n",
              "      <td>0.443295</td>\n",
              "      <td>0.443019</td>\n",
              "      <td>0.436811</td>\n",
              "      <td>0.459626</td>\n",
              "      <td>0.419304</td>\n",
              "      <td>0.417555</td>\n",
              "      <td>0.432517</td>\n",
              "      <td>0.422773</td>\n",
              "      <td>0.430269</td>\n",
              "      <td>0.444382</td>\n",
              "      <td>0.468789</td>\n",
              "      <td>0.468826</td>\n",
              "      <td>0.473412</td>\n",
              "      <td>0.477870</td>\n",
              "      <td>0.487807</td>\n",
              "      <td>0.490063</td>\n",
              "    </tr>\n",
              "  </tbody>\n",
              "</table>\n",
              "</div>"
            ],
            "text/plain": [
              "                  0         1         2   ...        60        61        62\n",
              "DATE                                      ...                              \n",
              "2019-04-03  0.202934  0.156680  0.219243  ...  0.444382  0.468789  0.468826\n",
              "2019-04-04  0.156680  0.219243  0.232455  ...  0.468789  0.468826  0.473412\n",
              "2019-04-05  0.219243  0.232455  0.250856  ...  0.468826  0.473412  0.477870\n",
              "2019-04-08  0.232455  0.250856  0.258709  ...  0.473412  0.477870  0.487807\n",
              "2019-04-09  0.250856  0.258709  0.267403  ...  0.477870  0.487807  0.490063\n",
              "\n",
              "[5 rows x 63 columns]"
            ]
          },
          "metadata": {
            "tags": []
          },
          "execution_count": 43
        }
      ]
    },
    {
      "cell_type": "code",
      "metadata": {
        "ExecuteTime": {
          "end_time": "2020-03-23T21:31:38.684313Z",
          "start_time": "2020-03-23T21:31:38.678031Z"
        },
        "pycharm": {},
        "id": "lzmAW98iB0SW",
        "outputId": "5ae2a2ad-9ac4-4071-acdc-03fa60340054",
        "colab": {
          "base_uri": "https://localhost:8080/"
        }
      },
      "source": [
        "y.tail()"
      ],
      "execution_count": 13,
      "outputs": [
        {
          "output_type": "execute_result",
          "data": {
            "text/plain": [
              "DATE\n",
              "2020-10-23    0.953478\n",
              "2020-10-26    0.927519\n",
              "2020-10-27    0.923372\n",
              "2020-10-28    0.875158\n",
              "2020-10-29    0.890906\n",
              "dtype: float64"
            ]
          },
          "metadata": {
            "tags": []
          },
          "execution_count": 13
        }
      ]
    },
    {
      "cell_type": "code",
      "metadata": {
        "ExecuteTime": {
          "end_time": "2020-03-23T21:31:38.692914Z",
          "start_time": "2020-03-23T21:31:38.685384Z"
        },
        "pycharm": {},
        "id": "DZYD1p7CB0Sa",
        "outputId": "8c8cc25f-750c-4f78-9556-92f1373bb784",
        "colab": {
          "base_uri": "https://localhost:8080/"
        }
      },
      "source": [
        "X.shape"
      ],
      "execution_count": 12,
      "outputs": [
        {
          "output_type": "execute_result",
          "data": {
            "text/plain": [
              "(2454, 63)"
            ]
          },
          "metadata": {
            "tags": []
          },
          "execution_count": 12
        }
      ]
    },
    {
      "cell_type": "markdown",
      "metadata": {
        "pycharm": {},
        "id": "IJdVFZqZB0Sf"
      },
      "source": [
        "## Train-test split\n",
        "\n",
        "To respect the time series nature of the data, we set aside the data at the end of the sample as hold-out or test set. More specifically, we'll use the data for 2018."
      ]
    },
    {
      "cell_type": "code",
      "metadata": {
        "ExecuteTime": {
          "end_time": "2020-03-23T21:31:38.852059Z",
          "start_time": "2020-03-23T21:31:38.693646Z"
        },
        "pycharm": {},
        "id": "xH_xwJL4B0Sg",
        "outputId": "dab361af-cca3-4e7c-88de-4f2a0e251338",
        "colab": {
          "base_uri": "https://localhost:8080/",
          "height": 277
        }
      },
      "source": [
        "sp500_scaled.plot(lw=2);"
      ],
      "execution_count": 44,
      "outputs": [
        {
          "output_type": "display_data",
          "data": {
            "image/png": "[encoded data removed]",
            "text/plain": [
              "<Figure size 432x288 with 1 Axes>"
            ]
          },
          "metadata": {
            "tags": []
          }
        }
      ]
    },
    {
      "cell_type": "code",
      "metadata": {
        "ExecuteTime": {
          "end_time": "2020-03-23T21:31:38.856911Z",
          "start_time": "2020-03-23T21:31:38.852926Z"
        },
        "pycharm": {},
        "id": "8HQxgKIMB0Sk"
      },
      "source": [
        "X_train = X[:'2019'].values.reshape(-1, window_size, 1)\n",
        "y_train = y[:'2019']\n",
        "\n",
        "# keep the last year for testing\n",
        "X_test = X['2020'].values.reshape(-1, window_size, 1)\n",
        "y_test = y['2020']"
      ],
      "execution_count": 45,
      "outputs": []
    },
    {
      "cell_type": "code",
      "metadata": {
        "ExecuteTime": {
          "end_time": "2020-03-23T21:31:38.868266Z",
          "start_time": "2020-03-23T21:31:38.857791Z"
        },
        "pycharm": {},
        "id": "yd6VYUCmB0Sp"
      },
      "source": [
        "n_obs, window_size, n_features = X_train.shape"
      ],
      "execution_count": 46,
      "outputs": []
    },
    {
      "cell_type": "code",
      "metadata": {
        "ExecuteTime": {
          "end_time": "2020-03-23T21:31:38.876762Z",
          "start_time": "2020-03-23T21:31:38.869149Z"
        },
        "pycharm": {},
        "id": "7DD2l4CVB0Sv",
        "outputId": "485511ee-1eaa-46bd-b56a-83c2a07bee6c",
        "colab": {
          "base_uri": "https://localhost:8080/"
        }
      },
      "source": [
        "y_train.shape"
      ],
      "execution_count": 47,
      "outputs": [
        {
          "output_type": "execute_result",
          "data": {
            "text/plain": [
              "(189,)"
            ]
          },
          "metadata": {
            "tags": []
          },
          "execution_count": 47
        }
      ]
    },
    {
      "cell_type": "markdown",
      "metadata": {
        "pycharm": {},
        "id": "9HJ6D70rB0S4"
      },
      "source": [
        "## Keras LSTM Layer"
      ]
    },
    {
      "cell_type": "markdown",
      "metadata": {
        "pycharm": {},
        "id": "4S2OEhrfB0S5"
      },
      "source": [
        "Keras has several built-in RNN layers with various configuration options described in detail in the [documentation](https://keras.io/layers/recurrent/)."
      ]
    },
    {
      "cell_type": "markdown",
      "metadata": {
        "ExecuteTime": {
          "end_time": "2020-03-23T18:41:32.906454Z",
          "start_time": "2020-03-23T18:41:32.655189Z"
        },
        "pycharm": {},
        "id": "nQmOyQn1B0S6"
      },
      "source": [
        "```\n",
        "LSTM(units,\n",
        "     activation='tanh',\n",
        "     recurrent_activation='hard_sigmoid',\n",
        "     use_bias=True,\n",
        "     kernel_initializer='glorot_uniform',\n",
        "     recurrent_initializer='orthogonal',\n",
        "     bias_initializer='zeros',\n",
        "     unit_forget_bias=True,\n",
        "     kernel_regularizer=None,\n",
        "     recurrent_regularizer=None,\n",
        "     bias_regularizer=None,\n",
        "     activity_regularizer=None,\n",
        "     kernel_constraint=None,\n",
        "     recurrent_constraint=None,\n",
        "     bias_constraint=None,\n",
        "     dropout=0.0,\n",
        "     recurrent_dropout=0.0,\n",
        "     implementation=1,\n",
        "     return_sequences=False,\n",
        "     return_state=False,\n",
        "     go_backwards=False,\n",
        "     stateful=False,\n",
        "     unroll=False)\n",
        " ```"
      ]
    },
    {
      "cell_type": "markdown",
      "metadata": {
        "pycharm": {},
        "id": "Hvl095UZB0S7"
      },
      "source": [
        "##  Define the Model Architecture\n",
        "\n",
        "Having created input/output pairs out of our time series and cut this into training/testing sets, we can now begin setting up our RNN.  We use Keras to quickly build a two hidden layer RNN of the following specifications\n",
        "\n",
        "- layer 1 uses an LSTM module with 20 hidden units (note here the input_shape = (window_size,1))\n",
        "- layer 2 uses a fully connected module with one unit\n",
        "- the 'mean_squared_error' loss should be used (remember: we are performing regression here)\n",
        "\n",
        "This can be constructed using just a few lines - see e.g., the [general Keras documentation](https://keras.io/getting-started/sequential-model-guide/) and the [LTSM documentation in particular](https://keras.io/layers/recurrent/) for examples of how to quickly use Keras to build neural network models.  Make sure you are initializing your optimizer given the [keras-recommended approach for RNNs](https://keras.io/optimizers/) "
      ]
    },
    {
      "cell_type": "code",
      "metadata": {
        "ExecuteTime": {
          "end_time": "2020-03-23T21:31:39.546916Z",
          "start_time": "2020-03-23T21:31:38.878081Z"
        },
        "pycharm": {},
        "id": "p-YFqDMHB0S8"
      },
      "source": [
        "rnn = Sequential([\n",
        "    LSTM(units=10, \n",
        "         input_shape=(window_size, n_features), name='LSTM'),\n",
        "    Dense(1, name='Output')\n",
        "])"
      ],
      "execution_count": 48,
      "outputs": []
    },
    {
      "cell_type": "markdown",
      "metadata": {
        "pycharm": {},
        "id": "5Qqz4nowB0S_"
      },
      "source": [
        "The summary shows that the model has 1,781 parameters:"
      ]
    },
    {
      "cell_type": "code",
      "metadata": {
        "ExecuteTime": {
          "end_time": "2020-03-23T21:31:39.551714Z",
          "start_time": "2020-03-23T21:31:39.547845Z"
        },
        "pycharm": {},
        "scrolled": true,
        "id": "b8_22zUKB0TA",
        "outputId": "29df3640-904f-4395-f6e3-7623092e2d5f",
        "colab": {
          "base_uri": "https://localhost:8080/"
        }
      },
      "source": [
        "rnn.summary()"
      ],
      "execution_count": 19,
      "outputs": [
        {
          "output_type": "stream",
          "text": [
            "Model: \"sequential\"\n",
            "_________________________________________________________________\n",
            "Layer (type)                 Output Shape              Param #   \n",
            "=================================================================\n",
            "LSTM (LSTM)                  (None, 10)                480       \n",
            "_________________________________________________________________\n",
            "Output (Dense)               (None, 1)                 11        \n",
            "=================================================================\n",
            "Total params: 491\n",
            "Trainable params: 491\n",
            "Non-trainable params: 0\n",
            "_________________________________________________________________\n"
          ],
          "name": "stdout"
        }
      ]
    },
    {
      "cell_type": "markdown",
      "metadata": {
        "pycharm": {},
        "id": "Riaml-brB0TE"
      },
      "source": [
        "## Train the Model"
      ]
    },
    {
      "cell_type": "markdown",
      "metadata": {
        "pycharm": {},
        "id": "xWUdNRsbB0TF"
      },
      "source": [
        "We train the model using the RMSProp optimizer recommended for RNN with default settings and compile the model with mean squared error for this regression problem:"
      ]
    },
    {
      "cell_type": "code",
      "metadata": {
        "ExecuteTime": {
          "end_time": "2020-03-23T21:31:39.564646Z",
          "start_time": "2020-03-23T21:31:39.552918Z"
        },
        "pycharm": {},
        "id": "hc-d0SnFB0TG"
      },
      "source": [
        "optimizer = keras.optimizers.RMSprop(lr=0.001,\n",
        "                                     rho=0.9,\n",
        "                                     epsilon=1e-08,\n",
        "                                     decay=0.0)"
      ],
      "execution_count": 49,
      "outputs": []
    },
    {
      "cell_type": "code",
      "metadata": {
        "ExecuteTime": {
          "end_time": "2020-03-23T21:31:39.582120Z",
          "start_time": "2020-03-23T21:31:39.566136Z"
        },
        "pycharm": {},
        "id": "32V7GUxxB0TJ"
      },
      "source": [
        "rnn.compile(loss='mean_squared_error', \n",
        "            optimizer=optimizer)"
      ],
      "execution_count": 50,
      "outputs": []
    },
    {
      "cell_type": "markdown",
      "metadata": {
        "pycharm": {},
        "id": "z-Sass3cB0TM"
      },
      "source": [
        "We define an EarlyStopping callback and train the model for up to 100 episodes. "
      ]
    },
    {
      "cell_type": "code",
      "metadata": {
        "ExecuteTime": {
          "end_time": "2020-03-23T21:31:39.585168Z",
          "start_time": "2020-03-23T21:31:39.583251Z"
        },
        "pycharm": {},
        "id": "eOCfmrNnB0TN"
      },
      "source": [
        "early_stopping = EarlyStopping(monitor='val_loss', \n",
        "                              patience=50,\n",
        "                              restore_best_weights=True)"
      ],
      "execution_count": 51,
      "outputs": []
    },
    {
      "cell_type": "code",
      "metadata": {
        "ExecuteTime": {
          "end_time": "2020-03-23T21:32:25.614676Z",
          "start_time": "2020-03-23T21:31:39.586085Z"
        },
        "pycharm": {},
        "scrolled": false,
        "id": "rnDUt1QNB0TS"
      },
      "source": [
        "lstm_training = rnn.fit(X_train,\n",
        "                        y_train,\n",
        "                        epochs=500,\n",
        "                        batch_size=20,\n",
        "                        shuffle=True,\n",
        "                        validation_data=(X_test, y_test),\n",
        "                        callbacks=[early_stopping],\n",
        "                        verbose=0)"
      ],
      "execution_count": 52,
      "outputs": []
    },
    {
      "cell_type": "markdown",
      "metadata": {
        "pycharm": {},
        "id": "FaKMtCDjB0TW"
      },
      "source": [
        "Training stops after 51 epochs; the `early_stopping` callback restores the weights for the best model (after 41 epochs)"
      ]
    },
    {
      "cell_type": "markdown",
      "metadata": {
        "pycharm": {},
        "id": "H_KH0X87B0TW"
      },
      "source": [
        "## Evaluate model performance"
      ]
    },
    {
      "cell_type": "markdown",
      "metadata": {
        "pycharm": {},
        "id": "kbDj0PN1B0TX"
      },
      "source": [
        "The following charts illustrate the out-of-sample forecast performance that generally track the index development in 2018 well with a test RMSE of 0.015 on the rescaled price series. The test IC is 95.85%. "
      ]
    },
    {
      "cell_type": "markdown",
      "metadata": {
        "pycharm": {},
        "id": "hOE4KeA1B0TY"
      },
      "source": [
        "The loss history shows how the model’s validation error converges to an error level that illustrates the noise inherent in predicting stock prices:"
      ]
    },
    {
      "cell_type": "code",
      "metadata": {
        "ExecuteTime": {
          "end_time": "2020-03-23T21:32:26.365881Z",
          "start_time": "2020-03-23T21:32:25.615549Z"
        },
        "pycharm": {},
        "id": "3sTe0oxsB0TY",
        "outputId": "e0854758-1780-48c6-d0fb-e01401012f48",
        "colab": {
          "base_uri": "https://localhost:8080/",
          "height": 297
        }
      },
      "source": [
        "fig, ax = plt.subplots(figsize=(12, 4))\n",
        "loss_history = pd.DataFrame(lstm_training.history).pow(.5)\n",
        "loss_history.index += 1\n",
        "best_rmse = loss_history.val_loss.min()\n",
        "best_epoch = loss_history.val_loss.idxmin()\n",
        "loss_history.columns=['Training RMSE', 'Validation RMSE']\n",
        "title = f'Best Validation RMSE: {best_rmse:.4%}'\n",
        "loss_history.rolling(5).mean().plot(logy=True, lw=2, title=title, ax=ax)\n",
        "ax.axvline(best_epoch, ls='--', lw=1, c='k')\n",
        "fig.tight_layout()\n",
        "fig.savefig('rnn_sp500_error', dpi=300);"
      ],
      "execution_count": 53,
      "outputs": [
        {
          "output_type": "display_data",
          "data": {
            "image/png": "[encoded data removed]",
            "text/plain": [
              "<Figure size 864x288 with 1 Axes>"
            ]
          },
          "metadata": {
            "tags": []
          }
        }
      ]
    },
    {
      "cell_type": "code",
      "metadata": {
        "ExecuteTime": {
          "end_time": "2020-03-23T21:32:26.552487Z",
          "start_time": "2020-03-23T21:32:26.367496Z"
        },
        "pycharm": {},
        "id": "mUNCz8c-B0Tc",
        "outputId": "575ad2bd-b38d-46dd-f53f-3a3464b2a6c9",
        "colab": {
          "base_uri": "https://localhost:8080/"
        }
      },
      "source": [
        "train_rmse_scaled = np.sqrt(rnn.evaluate(X_train, y_train, verbose=0))\n",
        "test_rmse_scaled = np.sqrt(rnn.evaluate(X_test, y_test, verbose=0))\n",
        "print(f'Train RMSE: {train_rmse_scaled:.4f} | Test RMSE: {test_rmse_scaled:.4f}')"
      ],
      "execution_count": 54,
      "outputs": [
        {
          "output_type": "stream",
          "text": [
            "Train RMSE: 0.0197 | Test RMSE: 0.0514\n"
          ],
          "name": "stdout"
        }
      ]
    },
    {
      "cell_type": "code",
      "metadata": {
        "ExecuteTime": {
          "end_time": "2020-03-23T21:32:26.865170Z",
          "start_time": "2020-03-23T21:32:26.553462Z"
        },
        "id": "3Gf84adXB0Tg"
      },
      "source": [
        "train_predict_scaled = rnn.predict(X_train)\n",
        "test_predict_scaled = rnn.predict(X_test)"
      ],
      "execution_count": 55,
      "outputs": []
    },
    {
      "cell_type": "code",
      "metadata": {
        "ExecuteTime": {
          "end_time": "2020-03-23T21:32:26.870639Z",
          "start_time": "2020-03-23T21:32:26.866096Z"
        },
        "id": "aVewYmXuB0Tn",
        "outputId": "e523fdcf-8609-4763-944d-fcf861aaf051",
        "colab": {
          "base_uri": "https://localhost:8080/"
        }
      },
      "source": [
        "train_ic = spearmanr(y_train, train_predict_scaled)[0]\n",
        "test_ic = spearmanr(y_test, test_predict_scaled)[0]\n",
        "print(f'Train IC: {train_ic:.4f} | Test IC: {test_ic:.4f}')"
      ],
      "execution_count": 56,
      "outputs": [
        {
          "output_type": "stream",
          "text": [
            "Train IC: 0.9553 | Test IC: 0.9715\n"
          ],
          "name": "stdout"
        }
      ]
    },
    {
      "cell_type": "markdown",
      "metadata": {
        "id": "DMaguJbBB0Tr"
      },
      "source": [
        "### Rescale predictions"
      ]
    },
    {
      "cell_type": "code",
      "metadata": {
        "ExecuteTime": {
          "end_time": "2020-03-23T21:32:26.885696Z",
          "start_time": "2020-03-23T21:32:26.871537Z"
        },
        "id": "WGMJzjChB0Ts"
      },
      "source": [
        "train_predict = pd.Series(scaler.inverse_transform(train_predict_scaled).squeeze(), index=y_train.index)\n",
        "test_predict = (pd.Series(scaler.inverse_transform(test_predict_scaled)\n",
        "                          .squeeze(), \n",
        "                          index=y_test.index))"
      ],
      "execution_count": 57,
      "outputs": []
    },
    {
      "cell_type": "code",
      "metadata": {
        "ExecuteTime": {
          "end_time": "2020-03-23T21:32:26.894674Z",
          "start_time": "2020-03-23T21:32:26.886531Z"
        },
        "id": "4HVLbffEB0Tx"
      },
      "source": [
        "y_train_rescaled = scaler.inverse_transform(y_train.to_frame()).squeeze()\n",
        "y_test_rescaled = scaler.inverse_transform(y_test.to_frame()).squeeze()"
      ],
      "execution_count": 58,
      "outputs": []
    },
    {
      "cell_type": "code",
      "metadata": {
        "ExecuteTime": {
          "end_time": "2020-03-23T21:32:26.903770Z",
          "start_time": "2020-03-23T21:32:26.895626Z"
        },
        "id": "Z5L9-nSzB0T1",
        "outputId": "95240672-2692-4054-97e1-200df1377725",
        "colab": {
          "base_uri": "https://localhost:8080/",
          "height": 35
        }
      },
      "source": [
        "train_rmse = np.sqrt(mean_squared_error(train_predict, y_train_rescaled))\n",
        "test_rmse = np.sqrt(mean_squared_error(test_predict, y_test_rescaled))\n",
        "f'Train RMSE: {train_rmse:.2f} | Test RMSE: {test_rmse:.2f}'"
      ],
      "execution_count": 59,
      "outputs": [
        {
          "output_type": "execute_result",
          "data": {
            "application/vnd.google.colaboratory.intrinsic+json": {
              "type": "string"
            },
            "text/plain": [
              "'Train RMSE: 26.41 | Test RMSE: 69.00'"
            ]
          },
          "metadata": {
            "tags": []
          },
          "execution_count": 59
        }
      ]
    },
    {
      "cell_type": "code",
      "metadata": {
        "ExecuteTime": {
          "end_time": "2020-03-23T21:32:26.919713Z",
          "start_time": "2020-03-23T21:32:26.904650Z"
        },
        "id": "zrgWLsYQB0T4"
      },
      "source": [
        "sp500['Train Predictions'] = train_predict\n",
        "sp500['Test Predictions'] = test_predict\n",
        "sp500 = sp500.join(train_predict.to_frame('predictions').assign(data='Train')\n",
        "                        .append(test_predict.to_frame('predictions').assign(data='Test')))"
      ],
      "execution_count": 60,
      "outputs": []
    },
    {
      "cell_type": "markdown",
      "metadata": {
        "id": "XWhDtvZmB0T8"
      },
      "source": [
        "### Plot Results"
      ]
    },
    {
      "cell_type": "code",
      "metadata": {
        "ExecuteTime": {
          "end_time": "2020-03-23T21:32:28.462495Z",
          "start_time": "2020-03-23T21:32:26.920824Z"
        },
        "pycharm": {},
        "scrolled": true,
        "id": "Pot61laFB0T8",
        "outputId": "13584c3e-3ca4-43db-f18e-2e7c0dab5f3b",
        "colab": {
          "base_uri": "https://localhost:8080/",
          "height": 601
        }
      },
      "source": [
        "fig=plt.figure(figsize=(14,7))\n",
        "ax1 = plt.subplot(221)\n",
        "ax2 = plt.subplot(222)\n",
        "ax3 = plt.subplot(223)\n",
        "ax4 = plt.subplot(224, sharex = ax2, sharey=ax2)\n",
        "\n",
        "sp500.loc['2015':, 'SP500'].plot(lw=4, ax=ax1, c='k')\n",
        "sp500.loc['2015':, ['Test Predictions', 'Train Predictions']].plot(lw=1, ax=ax1, ls='--')\n",
        "ax1.set_title('In- and Out-of-sample Predictions')\n",
        "\n",
        "sns.scatterplot(x='SP500', y='predictions', data=sp500, hue='data', ax=ax3)\n",
        "ax3.text(x=.02, y=.95, s=f'Test IC ={test_ic:.2%}', transform=ax3.transAxes)\n",
        "ax3.text(x=.02, y=.87, s=f'Train IC={train_ic:.2%}', transform=ax3.transAxes)\n",
        "ax3.set_title('Correlation')\n",
        "ax3.legend(loc='lower right')\n",
        "\n",
        "sns.distplot(train_predict.squeeze()- y_train_rescaled, ax=ax2)\n",
        "ax2.set_title('Train Error')\n",
        "ax2.text(x=.03, y=.92, s=f'Train RMSE ={train_rmse:.4f}', transform=ax2.transAxes)\n",
        "sns.distplot(test_predict.squeeze()-y_test_rescaled, ax=ax4)\n",
        "ax4.set_title('Test Error')\n",
        "ax4.text(x=.03, y=.92, s=f'Test RMSE ={test_rmse:.4f}', transform=ax4.transAxes)\n",
        "\n",
        "fig.tight_layout()\n",
        "fig.savefig('rnn_sp500_regression', dpi=300);"
      ],
      "execution_count": 61,
      "outputs": [
        {
          "output_type": "stream",
          "text": [
            "/usr/local/lib/python3.6/dist-packages/seaborn/distributions.py:2551: FutureWarning: `distplot` is a deprecated function and will be removed in a future version. Please adapt your code to use either `displot` (a figure-level function with similar flexibility) or `histplot` (an axes-level function for histograms).\n",
            "  warnings.warn(msg, FutureWarning)\n",
            "/usr/local/lib/python3.6/dist-packages/seaborn/distributions.py:2551: FutureWarning: `distplot` is a deprecated function and will be removed in a future version. Please adapt your code to use either `displot` (a figure-level function with similar flexibility) or `histplot` (an axes-level function for histograms).\n",
            "  warnings.warn(msg, FutureWarning)\n"
          ],
          "name": "stderr"
        },
        {
          "output_type": "display_data",
          "data": {
            "image/png": "[encoded data removed]",
            "text/plain": [
              "<Figure size 1008x504 with 4 Axes>"
            ]
          },
          "metadata": {
            "tags": []
          }
        }
      ]
    }
  ]
}