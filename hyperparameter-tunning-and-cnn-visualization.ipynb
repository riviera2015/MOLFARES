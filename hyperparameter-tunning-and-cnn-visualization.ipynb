{
 "cells": [
  {
   "cell_type": "markdown",
   "metadata": {
    "_uuid": "75ba011a5cda52db2d167e75b84056b644ec8d51"
   },
   "source": [
    "##### **Installing Libraries**"
   ]
  },
  {
   "cell_type": "code",
   "execution_count": 1,
   "metadata": {
    "_uuid": "0088907b62b25efcb3729c03beba9dda7f5ff6a4"
   },
   "outputs": [],
   "source": [
    "#!pip install talos # hyperparameter tuning\n",
    "#!pip install --upgrade pip"
   ]
  },
  {
   "cell_type": "markdown",
   "metadata": {
    "_uuid": "d476e1d5219d18bec51481f83fd0b98c99bc6cb2"
   },
   "source": [
    "First of All I am going to Import **libraries** that will be usefull for this project"
   ]
  },
  {
   "cell_type": "code",
   "execution_count": 2,
   "metadata": {
    "_cell_guid": "b1076dfc-b9ad-4769-8c92-a6c4dae69d19",
    "_uuid": "8f2839f25d086af736a60e9eeb907d3b93b6e0e5"
   },
   "outputs": [
    {
     "name": "stderr",
     "output_type": "stream",
     "text": [
      "Using TensorFlow backend.\n"
     ]
    },
    {
     "name": "stdout",
     "output_type": "stream",
     "text": [
      "diabetic-retinopathy-detection\n",
      "prepossessed-arrays-of-binary-data\n",
      "\n"
     ]
    }
   ],
   "source": [
    "import numpy as np # linear algebra\n",
    "import pandas as pd # data processing, CSV file I/O (e.g. pd.read_csv)\n",
    "import matplotlib.pyplot as plt # showing and rendering figures\n",
    "# io related\n",
    "import seaborn as sns # for Visualizing my data\n",
    "from keras.utils import to_categorical # Using keras to_categorical because I need to convert by labels \n",
    "# into categorical form\n",
    "import os # for taking input to my dataframe\n",
    "import cv2 # for resizing my iamges\n",
    "from subprocess import check_output\n",
    "print(check_output([\"ls\", \"../input\"]).decode(\"utf8\"))\n",
    "# not needed in Kaggle, but required in Jupyter\n",
    "%matplotlib inline \n",
    "\n"
   ]
  },
  {
   "cell_type": "code",
   "execution_count": 3,
   "metadata": {
    "_uuid": "c669aa79a36ce3e03064c1b67b6ab0ae97f88307"
   },
   "outputs": [],
   "source": []
  },
  {
   "cell_type": "code",
   "execution_count": 3,
   "metadata": {
    "_uuid": "c52014240e6f425e79109cfb4575941eba5704a2",
    "scrolled": true
   },
   "outputs": [
    {
     "name": "stdout",
     "output_type": "stream",
     "text": [
      "      image  level\n",
      "0   10_left      0\n",
      "1  10_right      0\n",
      "2   13_left      0\n",
      "3  13_right      0\n",
      "4   15_left      1\n"
     ]
    },
    {
     "data": {
      "text/html": [
       "<div>\n",
       "<style scoped>\n",
       "    .dataframe tbody tr th:only-of-type {\n",
       "        vertical-align: middle;\n",
       "    }\n",
       "\n",
       "    .dataframe tbody tr th {\n",
       "        vertical-align: top;\n",
       "    }\n",
       "\n",
       "    .dataframe thead th {\n",
       "        text-align: right;\n",
       "    }\n",
       "</style>\n",
       "<table border=\"1\" class=\"dataframe\">\n",
       "  <thead>\n",
       "    <tr style=\"text-align: right;\">\n",
       "      <th></th>\n",
       "      <th>eye_side</th>\n",
       "      <th>patient_id</th>\n",
       "      <th>path</th>\n",
       "      <th>exists</th>\n",
       "      <th>level</th>\n",
       "      <th>level_cat</th>\n",
       "    </tr>\n",
       "  </thead>\n",
       "  <tbody>\n",
       "    <tr>\n",
       "      <th>0</th>\n",
       "      <td>left</td>\n",
       "      <td>10</td>\n",
       "      <td>../input/diabetic-retinopathy-detection/10_lef...</td>\n",
       "      <td>True</td>\n",
       "      <td>0</td>\n",
       "      <td>[1.0, 0.0, 0.0, 0.0, 0.0]</td>\n",
       "    </tr>\n",
       "    <tr>\n",
       "      <th>1</th>\n",
       "      <td>right</td>\n",
       "      <td>10</td>\n",
       "      <td>../input/diabetic-retinopathy-detection/10_rig...</td>\n",
       "      <td>True</td>\n",
       "      <td>0</td>\n",
       "      <td>[1.0, 0.0, 0.0, 0.0, 0.0]</td>\n",
       "    </tr>\n",
       "    <tr>\n",
       "      <th>2</th>\n",
       "      <td>left</td>\n",
       "      <td>13</td>\n",
       "      <td>../input/diabetic-retinopathy-detection/13_lef...</td>\n",
       "      <td>True</td>\n",
       "      <td>0</td>\n",
       "      <td>[1.0, 0.0, 0.0, 0.0, 0.0]</td>\n",
       "    </tr>\n",
       "    <tr>\n",
       "      <th>3</th>\n",
       "      <td>right</td>\n",
       "      <td>13</td>\n",
       "      <td>../input/diabetic-retinopathy-detection/13_rig...</td>\n",
       "      <td>True</td>\n",
       "      <td>0</td>\n",
       "      <td>[1.0, 0.0, 0.0, 0.0, 0.0]</td>\n",
       "    </tr>\n",
       "    <tr>\n",
       "      <th>4</th>\n",
       "      <td>left</td>\n",
       "      <td>15</td>\n",
       "      <td>../input/diabetic-retinopathy-detection/15_lef...</td>\n",
       "      <td>True</td>\n",
       "      <td>1</td>\n",
       "      <td>[0.0, 1.0, 0.0, 0.0, 0.0]</td>\n",
       "    </tr>\n",
       "  </tbody>\n",
       "</table>\n",
       "</div>"
      ],
      "text/plain": [
       "  eye_side            ...                              level_cat\n",
       "0     left            ...              [1.0, 0.0, 0.0, 0.0, 0.0]\n",
       "1    right            ...              [1.0, 0.0, 0.0, 0.0, 0.0]\n",
       "2     left            ...              [1.0, 0.0, 0.0, 0.0, 0.0]\n",
       "3    right            ...              [1.0, 0.0, 0.0, 0.0, 0.0]\n",
       "4     left            ...              [0.0, 1.0, 0.0, 0.0, 0.0]\n",
       "\n",
       "[5 rows x 6 columns]"
      ]
     },
     "execution_count": 3,
     "metadata": {},
     "output_type": "execute_result"
    }
   ],
   "source": [
    "# Here I am building my dataframe (taking patient id  from image coloum and seperating side of image \n",
    "# left or right specefying path of image and at last converting my labels into categorical labels)\n",
    "temp_df=pd.read_csv('../input/diabetic-retinopathy-detection/trainLabels.csv') # uploading csv to my pandas dataframe\n",
    "print(temp_df.head()) # displaying first 5 objects in dataframe\n",
    "image=temp_df['image'].str.split('_',n=1,expand=True) #splitting Side and Patient ID \n",
    "df = pd.DataFrame()# creating new dataframe object\n",
    "df['eye_side']=image[1] #taking side of Image\n",
    "df['patient_id']=image[0]#taking patient id of an Image\n",
    "\n",
    "df['path']='../input/diabetic-retinopathy-detection/'#Giving paths of the images \n",
    "df['path']=df['path'].str.cat(temp_df['image']+'.jpeg')#adding Image path and format \n",
    "df['exists'] = df['path'].map(os.path.exists)\n",
    "df=df[df['exists']]\n",
    "df['level']=temp_df['level']# taking levels of Image\n",
    "df['level_cat'] = df['level'].map(lambda x: to_categorical(x, 1+df['level'].max()))#converting my \n",
    "# labels to categorical_labels\n",
    "df.head()"
   ]
  },
  {
   "cell_type": "markdown",
   "metadata": {
    "_uuid": "3a19b4836926d19a2dcf33a87901c66aadbb354f"
   },
   "source": [
    "**Visualization**\n"
   ]
  },
  {
   "cell_type": "code",
   "execution_count": 4,
   "metadata": {
    "_uuid": "4c8e1274a77cb213cc1be4e7b0b24e29476edb51"
   },
   "outputs": [
    {
     "data": {
      "image/png": "[encoded data removed]",
      "text/plain": [
       "<Figure size 432x288 with 1 Axes>"
      ]
     },
     "metadata": {},
     "output_type": "display_data"
    }
   ],
   "source": [
    "im = plt.imread(df.path.values[2]) # reading Image from its path\n",
    "\n",
    "plt.imshow(im)# show the image\n",
    "plt.show()"
   ]
  },
  {
   "cell_type": "code",
   "execution_count": 5,
   "metadata": {
    "_uuid": "c02989e6c1b1cd24484588928dbd580146a5fba1"
   },
   "outputs": [],
   "source": []
  },
  {
   "cell_type": "code",
   "execution_count": 5,
   "metadata": {
    "_uuid": "624db2a543159b9a9ccfe2a02036fc755927bb8d",
    "scrolled": true
   },
   "outputs": [
    {
     "name": "stdout",
     "output_type": "stream",
     "text": [
      "[0 0 0 0 1]\n"
     ]
    }
   ],
   "source": [
    "sizes = df['level'].values #taking values from series because I only want to visualize levels nt index\n",
    "print(sizes[0:5])#printing first 5 values\n"
   ]
  },
  {
   "cell_type": "code",
   "execution_count": 6,
   "metadata": {
    "_uuid": "5c1d2931363854e96d6e0623a7e750f8f640d31d"
   },
   "outputs": [
    {
     "name": "stderr",
     "output_type": "stream",
     "text": [
      "/opt/conda/lib/python3.6/site-packages/scipy/stats/stats.py:1713: FutureWarning: Using a non-tuple sequence for multidimensional indexing is deprecated; use `arr[tuple(seq)]` instead of `arr[seq]`. In the future this will be interpreted as an array index, `arr[np.array(seq)]`, which will result either in an error or a different result.\n",
      "  return np.add.reduce(sorted[indexer] * weights, axis=axis) / sumval\n"
     ]
    },
    {
     "data": {
      "image/png": "[encoded data removed]",
      "text/plain": [
       "<Figure size 432x288 with 1 Axes>"
      ]
     },
     "metadata": {},
     "output_type": "display_data"
    }
   ],
   "source": [
    "sns.distplot(sizes, kde=False); # Visualizing levels in dataset"
   ]
  },
  {
   "cell_type": "code",
   "execution_count": 7,
   "metadata": {
    "_uuid": "50cee6f84bec0ab61acc2d715a9c94911b92fb12"
   },
   "outputs": [
    {
     "data": {
      "text/plain": [
       "0    739\n",
       "2    148\n",
       "1     59\n",
       "3     28\n",
       "4     26\n",
       "dtype: int64"
      ]
     },
     "execution_count": 7,
     "metadata": {},
     "output_type": "execute_result"
    }
   ],
   "source": [
    "pd.value_counts(sizes) # viewing the values of levels"
   ]
  },
  {
   "cell_type": "code",
   "execution_count": 8,
   "metadata": {
    "_uuid": "4996d2adaaa90dd3718f2847fd42e4842d3f97e0"
   },
   "outputs": [],
   "source": [
    "import PIL\n",
    "from PIL import Image\n",
    "baseheight = 128\n",
    "img = Image.open('../input/diabetic-retinopathy-detection/1192_right.jpeg')\n",
    "\n",
    "wsize = 128\n",
    "img = img.resize((wsize, baseheight), PIL.Image.ANTIALIAS)\n",
    "img.save('resized_image.jpg')# i need this for storing my previous image also "
   ]
  },
  {
   "cell_type": "code",
   "execution_count": 9,
   "metadata": {
    "_uuid": "b6dcb91e1199e15a8e18bcacca658b2e97bf4212"
   },
   "outputs": [
    {
     "data": {
      "image/png": "[encoded data removed]",
      "text/plain": [
       "<Figure size 432x288 with 1 Axes>"
      ]
     },
     "metadata": {},
     "output_type": "display_data"
    },
    {
     "data": {
      "image/png": "[encoded data removed]",
      "text/plain": [
       "<Figure size 432x288 with 1 Axes>"
      ]
     },
     "metadata": {},
     "output_type": "display_data"
    }
   ],
   "source": [
    "im = plt.imread('resized_image.jpg') # reading Image from its path\n",
    "\n",
    "plt.imshow(im)# show the image\n",
    "plt.title(\"Resized Image\")\n",
    "plt.show()\n",
    "\n",
    "im = plt.imread('../input/diabetic-retinopathy-detection/1192_right.jpeg') # reading Image from its path\n",
    "\n",
    "plt.imshow(im)# show the image\n",
    "plt.title(\"Orignal Image\")\n",
    "plt.show()"
   ]
  },
  {
   "cell_type": "code",
   "execution_count": 10,
   "metadata": {
    "_uuid": "44b0d93a24fe74e7ab50ae44f80e8a2f056d3992"
   },
   "outputs": [
    {
     "name": "stdout",
     "output_type": "stream",
     "text": [
      "261\n"
     ]
    }
   ],
   "source": [
    "#total Examples of LEVEL [1,2,3,4] So that we are able to make balanced dataset\n",
    "sum_E=0\n",
    "for i in range (1,5):\n",
    "    L1_df=pd.DataFrame()# creating new dataframe object\n",
    "    L1_df =df [df.level==i]\n",
    "    x=len(L1_df)\n",
    "    sum_E=x+sum_E\n",
    "print(sum_E)"
   ]
  },
  {
   "cell_type": "markdown",
   "metadata": {
    "_uuid": "cba3a39a844b5f27d29027dec691c8c11f917c89"
   },
   "source": [
    "So we will take **261** **examples from eye having** **level 0 and 261 examples from  level[1,2,3,4]**"
   ]
  },
  {
   "cell_type": "markdown",
   "metadata": {
    "_uuid": "11514d19f2b3599735161d6b30ed18bf8eff341a"
   },
   "source": [
    "**almost 70% of 0 DR and 30% of 1DR **"
   ]
  },
  {
   "cell_type": "markdown",
   "metadata": {
    "_uuid": "77bdc41a532371c4bebfc63c9fe4fd795c7eac40"
   },
   "source": [
    "**Making of Binary dataframe**"
   ]
  },
  {
   "cell_type": "markdown",
   "metadata": {
    "_uuid": "5c47c7853ae9e05f4159d2b2957c9ce165582b5c"
   },
   "source": [
    "\n",
    "B_df=pd.DataFrame()\n",
    "#making secondary dataset having small number of sample \n",
    "#taking examples where level=0\n",
    "\n",
    "L0_df=df[df.level==0 ]\n",
    "\n",
    "\n",
    "\n",
    "\n",
    "\n",
    "L1_df=pd.DataFrame()# creating new dataframe object\n",
    "L1_df=df[df.level==1 ]\n",
    "L1_df=L1_df.drop('level_cat',axis=1)\n",
    "\n",
    "\n",
    "\n",
    "L2_df=pd.DataFrame()# creating new dataframe object\n",
    "L2_df=df[df.level==2 ]\n",
    "\n",
    "\n",
    "\n",
    "\n",
    "L3_df=pd.DataFrame()# creating new dataframe object\n",
    "L3_df=df[df.level==3] \n",
    "L3_df=L3_df.drop('level_cat',axis=1)\n",
    "\n",
    "\n",
    "\n",
    "L4_df=pd.DataFrame()# creating new dataframe object\n",
    "L4_df=df[df.level==4 ]\n",
    "L4_df=L4_df.drop('level_cat',axis=1)\n",
    "\n",
    "\n",
    "#Combining Examples of level [1,2,3,4]\n",
    "frames = [ L1_df, L2_df,L3_df,L4_df]\n",
    "L1_df = pd.concat(frames)\n",
    "L1_df=L1_df.replace(({'level' : { 2 : 1, 3 : 1, 4 : 1 }}))\n",
    "\n",
    "\n",
    "frames = [ L0_df,L1_df]\n",
    "B_df = pd.concat(frames,sort=True)\n",
    "B_df=B_df.drop('level_cat',axis=1)\n",
    "B_df['level_cat'] = B_df['level'].map(lambda x: to_categorical(x, 1+B_df['level'].max()))#converting my \n",
    "# labels to categorical_labels\n",
    "#Adding New Categorical Lables according to Binary Dataset\n",
    "\n",
    "print(\"Total Numbe of examples in Binary DataFrame = \" + str(len(B_df)))  # Total Examples"
   ]
  },
  {
   "cell_type": "markdown",
   "metadata": {
    "_uuid": "ba2eae7059c2be1bf37c590df0221a2647ff9dfa"
   },
   "source": [
    "sizes =B_df['level'].values\n",
    "sns.distplot(sizes, kde=False); # Visualizing levels in dataset"
   ]
  },
  {
   "cell_type": "markdown",
   "metadata": {
    "_uuid": "66c8b5da4ba34056586e6932581a63b610f033f2"
   },
   "source": [
    "**Saving My Binary dataset and binary sizes (90,128,264) of images which are on same indexs **"
   ]
  },
  {
   "cell_type": "markdown",
   "metadata": {
    "_uuid": "ca5ca3be501ce8b263cf526603cfa1e991adfe3c"
   },
   "source": [
    "**Saving Binary Dataset**"
   ]
  },
  {
   "cell_type": "markdown",
   "metadata": {
    "_uuid": "95c7f688589815e10bc96ea3a6e648f60b3636a3"
   },
   "source": [
    "len(B_df)"
   ]
  },
  {
   "cell_type": "markdown",
   "metadata": {
    "_uuid": "d9d38cbbf6905f7260966d2f25ed01ebb6546009"
   },
   "source": [
    "B_df.to_csv(\"Binary Dataframe\")\n"
   ]
  },
  {
   "cell_type": "markdown",
   "metadata": {
    "_uuid": "4b8d54b2382a2bc2b23313eab24bef46f047db68"
   },
   "source": [
    "**Resizing image array to (90,90)**"
   ]
  },
  {
   "cell_type": "markdown",
   "metadata": {
    "_uuid": "e9a361fcfb2863d3b7f6fed4f6c824f8c9ad5fae"
   },
   "source": [
    "#resizing my training examples to (90,90)\n",
    "#train examples\n",
    "from PIL import Image\n",
    "from skimage.transform import resize \n",
    "\n",
    "image_list=[]\n",
    "\n",
    "for i in range (len(B_df)):\n",
    "    image=plt.imread(B_df['path'].iloc[i])\n",
    "    image = resize(image, (90, 90))\n",
    "    image_list.append(image)\n",
    "    "
   ]
  },
  {
   "cell_type": "markdown",
   "metadata": {
    "_uuid": "ee63a3855cee90c1a2fac4f497962c3647299911"
   },
   "source": [
    "**Resizing image array to (128,128)**"
   ]
  },
  {
   "cell_type": "markdown",
   "metadata": {
    "_uuid": "33bdec73450c06d1567ed66a9ade1fc69e748cb5"
   },
   "source": [
    "#resizing my training examples to (128,128)\n",
    "#train examples\n",
    "from PIL import Image\n",
    "from skimage.transform import resize \n",
    "\n",
    "image_list_128=[]\n",
    "for i in B_df['path']:\n",
    "    image=plt.imread(i)\n",
    "    image = resize(image, (128, 128))\n",
    "    image_list_128.append(image)"
   ]
  },
  {
   "cell_type": "markdown",
   "metadata": {
    "_uuid": "d135dd0e9b79058f3afc56e748dac9eefebd33ae"
   },
   "source": [
    "**Resizing image array to (264,264)**"
   ]
  },
  {
   "cell_type": "markdown",
   "metadata": {
    "_uuid": "aa6d541e843acef6ac322ad56b991c3e6f4a8a23"
   },
   "source": [
    "#resizing my training examples to (264,264)\n",
    "#train examples\n",
    "from PIL import Image\n",
    "from skimage.transform import resize \n",
    "\n",
    "image_list_264=[]\n",
    "for i in B_df['path']:\n",
    "    image=plt.imread(i)\n",
    "    image = resize(image, (264, 264))\n",
    "    image_list_264.append(image)"
   ]
  },
  {
   "cell_type": "markdown",
   "metadata": {
    "_uuid": "babb44a1b6465f8184fcf329792f8bb41860e252"
   },
   "source": [
    "**Only resizing took my 3:00 hours in Kaggle** So I am storing my preprocess data"
   ]
  },
  {
   "cell_type": "markdown",
   "metadata": {
    "_uuid": "ec120e018055d10fe791f59114714abe269c7f4b"
   },
   "source": [
    "**Saving Numpy array to files**"
   ]
  },
  {
   "cell_type": "markdown",
   "metadata": {
    "_uuid": "c0abcc5ea1916e3a4084adadd7dcca349ad836b1"
   },
   "source": [
    "img_list=np.asarray(image_list)\n",
    "img_list=img_list.reshape(1000,90*90*3)\n",
    "print(img_list.shape)\n",
    "type(img_list)\n",
    "np.savez_compressed('1000_Binary_images_data_90', a=img_list)\n",
    "\n",
    "img_list_128=np.asarray(image_list_128)\n",
    "img_list_128=img_list_128.reshape(1000,128*128*3)\n",
    "print(img_list_128.shape)\n",
    "type(img_list_128)\n",
    "np.savez_compressed('1000_Binary_images_data_128', a=img_list_128)\n",
    "\n",
    "img_list_264=np.asarray(image_list_264)\n",
    "img_list_264=img_list_264.reshape(1000,264*264*3)\n",
    "print(img_list_264.shape)\n",
    "type(img_list_264)\n",
    "np.savez_compressed('1000_Binary_images_data_264', a=img_list_264)"
   ]
  },
  {
   "cell_type": "markdown",
   "metadata": {
    "_uuid": "960b877a59081a2445f343cc84473f152a58276c"
   },
   "source": [
    "**loading my saving Binary data**"
   ]
  },
  {
   "cell_type": "code",
   "execution_count": 11,
   "metadata": {
    "_uuid": "ab834012666408e5568e484721784baad278b651",
    "scrolled": true
   },
   "outputs": [
    {
     "data": {
      "text/html": [
       "<div>\n",
       "<style scoped>\n",
       "    .dataframe tbody tr th:only-of-type {\n",
       "        vertical-align: middle;\n",
       "    }\n",
       "\n",
       "    .dataframe tbody tr th {\n",
       "        vertical-align: top;\n",
       "    }\n",
       "\n",
       "    .dataframe thead th {\n",
       "        text-align: right;\n",
       "    }\n",
       "</style>\n",
       "<table border=\"1\" class=\"dataframe\">\n",
       "  <thead>\n",
       "    <tr style=\"text-align: right;\">\n",
       "      <th></th>\n",
       "      <th>exists</th>\n",
       "      <th>eye_side</th>\n",
       "      <th>level</th>\n",
       "      <th>path</th>\n",
       "      <th>patient_id</th>\n",
       "      <th>level_cat</th>\n",
       "    </tr>\n",
       "  </thead>\n",
       "  <tbody>\n",
       "    <tr>\n",
       "      <th>0</th>\n",
       "      <td>True</td>\n",
       "      <td>left</td>\n",
       "      <td>0</td>\n",
       "      <td>../input/diabetic-retinopathy-detection/10_lef...</td>\n",
       "      <td>10</td>\n",
       "      <td>[1. 0.]</td>\n",
       "    </tr>\n",
       "    <tr>\n",
       "      <th>1</th>\n",
       "      <td>True</td>\n",
       "      <td>right</td>\n",
       "      <td>0</td>\n",
       "      <td>../input/diabetic-retinopathy-detection/10_rig...</td>\n",
       "      <td>10</td>\n",
       "      <td>[1. 0.]</td>\n",
       "    </tr>\n",
       "    <tr>\n",
       "      <th>2</th>\n",
       "      <td>True</td>\n",
       "      <td>left</td>\n",
       "      <td>0</td>\n",
       "      <td>../input/diabetic-retinopathy-detection/13_lef...</td>\n",
       "      <td>13</td>\n",
       "      <td>[1. 0.]</td>\n",
       "    </tr>\n",
       "    <tr>\n",
       "      <th>3</th>\n",
       "      <td>True</td>\n",
       "      <td>right</td>\n",
       "      <td>0</td>\n",
       "      <td>../input/diabetic-retinopathy-detection/13_rig...</td>\n",
       "      <td>13</td>\n",
       "      <td>[1. 0.]</td>\n",
       "    </tr>\n",
       "    <tr>\n",
       "      <th>4</th>\n",
       "      <td>True</td>\n",
       "      <td>left</td>\n",
       "      <td>0</td>\n",
       "      <td>../input/diabetic-retinopathy-detection/17_lef...</td>\n",
       "      <td>17</td>\n",
       "      <td>[1. 0.]</td>\n",
       "    </tr>\n",
       "    <tr>\n",
       "      <th>5</th>\n",
       "      <td>True</td>\n",
       "      <td>left</td>\n",
       "      <td>0</td>\n",
       "      <td>../input/diabetic-retinopathy-detection/19_lef...</td>\n",
       "      <td>19</td>\n",
       "      <td>[1. 0.]</td>\n",
       "    </tr>\n",
       "    <tr>\n",
       "      <th>6</th>\n",
       "      <td>True</td>\n",
       "      <td>right</td>\n",
       "      <td>0</td>\n",
       "      <td>../input/diabetic-retinopathy-detection/19_rig...</td>\n",
       "      <td>19</td>\n",
       "      <td>[1. 0.]</td>\n",
       "    </tr>\n",
       "    <tr>\n",
       "      <th>7</th>\n",
       "      <td>True</td>\n",
       "      <td>left</td>\n",
       "      <td>0</td>\n",
       "      <td>../input/diabetic-retinopathy-detection/20_lef...</td>\n",
       "      <td>20</td>\n",
       "      <td>[1. 0.]</td>\n",
       "    </tr>\n",
       "    <tr>\n",
       "      <th>8</th>\n",
       "      <td>True</td>\n",
       "      <td>right</td>\n",
       "      <td>0</td>\n",
       "      <td>../input/diabetic-retinopathy-detection/20_rig...</td>\n",
       "      <td>20</td>\n",
       "      <td>[1. 0.]</td>\n",
       "    </tr>\n",
       "    <tr>\n",
       "      <th>9</th>\n",
       "      <td>True</td>\n",
       "      <td>left</td>\n",
       "      <td>0</td>\n",
       "      <td>../input/diabetic-retinopathy-detection/21_lef...</td>\n",
       "      <td>21</td>\n",
       "      <td>[1. 0.]</td>\n",
       "    </tr>\n",
       "  </tbody>\n",
       "</table>\n",
       "</div>"
      ],
      "text/plain": [
       "   exists eye_side    ...     patient_id level_cat\n",
       "0    True     left    ...             10   [1. 0.]\n",
       "1    True    right    ...             10   [1. 0.]\n",
       "2    True     left    ...             13   [1. 0.]\n",
       "3    True    right    ...             13   [1. 0.]\n",
       "4    True     left    ...             17   [1. 0.]\n",
       "5    True     left    ...             19   [1. 0.]\n",
       "6    True    right    ...             19   [1. 0.]\n",
       "7    True     left    ...             20   [1. 0.]\n",
       "8    True    right    ...             20   [1. 0.]\n",
       "9    True     left    ...             21   [1. 0.]\n",
       "\n",
       "[10 rows x 6 columns]"
      ]
     },
     "execution_count": 11,
     "metadata": {},
     "output_type": "execute_result"
    }
   ],
   "source": [
    "B_df=pd.read_csv('../input/prepossessed-arrays-of-binary-data/1000_Binary Dataframe')\n",
    "B_df=B_df.drop('Unnamed: 0',axis=1)\n",
    "B_df.head(10)"
   ]
  },
  {
   "cell_type": "code",
   "execution_count": 12,
   "metadata": {
    "_uuid": "c4780a38f50a2fde101dfb4dcdb3787c74e578c1"
   },
   "outputs": [
    {
     "name": "stderr",
     "output_type": "stream",
     "text": [
      "/opt/conda/lib/python3.6/site-packages/scipy/stats/stats.py:1713: FutureWarning: Using a non-tuple sequence for multidimensional indexing is deprecated; use `arr[tuple(seq)]` instead of `arr[seq]`. In the future this will be interpreted as an array index, `arr[np.array(seq)]`, which will result either in an error or a different result.\n",
      "  return np.add.reduce(sorted[indexer] * weights, axis=axis) / sumval\n"
     ]
    },
    {
     "data": {
      "image/png": "[encoded data removed]",
      "text/plain": [
       "<Figure size 432x288 with 1 Axes>"
      ]
     },
     "metadata": {},
     "output_type": "display_data"
    }
   ],
   "source": [
    "sizes =B_df['level'].values\n",
    "sns.distplot(sizes, kde=False); # Visualizing levels in dataset"
   ]
  },
  {
   "cell_type": "markdown",
   "metadata": {
    "_uuid": "a6da57f88204abf9fa7635edb1c43b3e0919449f"
   },
   "source": [
    "**loading My numpy array which I saved**"
   ]
  },
  {
   "cell_type": "code",
   "execution_count": 13,
   "metadata": {
    "_uuid": "3c831d9a6bd26e2daf869fe63f331140a05a1c04"
   },
   "outputs": [
    {
     "name": "stdout",
     "output_type": "stream",
     "text": [
      "(1000, 24300)\n",
      "(1000, 49152)\n",
      "(1000, 209088)\n",
      "(1000,)\n"
     ]
    }
   ],
   "source": [
    "Binary_90 = np.load('../input/prepossessed-arrays-of-binary-data/1000_Binary_images_data_90.npz')\n",
    "X_90=Binary_90['a']\n",
    "Binary_128 = np.load('../input/prepossessed-arrays-of-binary-data/1000_Binary_images_data_128.npz')\n",
    "X_128=Binary_128['a']\n",
    "Binary_264 = np.load('../input/prepossessed-arrays-of-binary-data/1000_Binary_images_data_264.npz')\n",
    "X_264=Binary_264['a']\n",
    "y=B_df['level'].values\n",
    "\n",
    "\n",
    "print(X_90.shape)\n",
    "print(X_128.shape)\n",
    "print(X_264.shape)\n",
    "print(y.shape)"
   ]
  },
  {
   "cell_type": "code",
   "execution_count": 14,
   "metadata": {
    "_uuid": "7315b6c277900108ec972a851987109ac5b62840"
   },
   "outputs": [
    {
     "name": "stdout",
     "output_type": "stream",
     "text": [
      "Shape before reshaping X_90(1000, 24300)\n",
      "Shape after reshaping X_90(1000, 90, 90, 3)\n",
      "\n",
      "\n",
      "\n",
      "Shape before reshaping X_128(1000, 49152)\n",
      "Shape after reshaping X_128(1000, 128, 128, 3)\n",
      "\n",
      "\n",
      "\n",
      "Shape before reshaping X_264(1000, 209088)\n",
      "Shape after reshaping X_264(1000, 264, 264, 3)\n"
     ]
    }
   ],
   "source": [
    "# we need to resize our X because we load array in 2 diminsional and we need it in 4 diminsional\n",
    "print(\"Shape before reshaping X_90\" +str(X_90.shape))\n",
    "X_90=X_90.reshape(1000,90,90,3)\n",
    "print(\"Shape after reshaping X_90\" +str(X_90.shape))\n",
    "print(\"\\n\\n\")\n",
    "\n",
    "print(\"Shape before reshaping X_128\" +str(X_128.shape))\n",
    "X_128=X_128.reshape(1000,128,128,3)\n",
    "print(\"Shape after reshaping X_128\" +str(X_128.shape))\n",
    "print(\"\\n\\n\")\n",
    "\n",
    "print(\"Shape before reshaping X_264\" +str(X_264.shape))\n",
    "X_264=X_264.reshape(1000,264,264,3)\n",
    "print(\"Shape after reshaping X_264\" +str(X_264.shape))\n"
   ]
  },
  {
   "cell_type": "markdown",
   "metadata": {
    "_uuid": "bc7d08ede0dc563bd221e6004aa8898bae6d5c9e"
   },
   "source": [
    "**Confirming that image path on 1st index of data frame is same as the image at 1st index of the Np Arrays**"
   ]
  },
  {
   "cell_type": "code",
   "execution_count": 15,
   "metadata": {
    "_uuid": "3b87ec5b0bdfed8e7371c648f3a792adc7b2023f"
   },
   "outputs": [
    {
     "data": {
      "image/png": "[encoded data removed]",
      "text/plain": [
       "<Figure size 432x288 with 1 Axes>"
      ]
     },
     "metadata": {},
     "output_type": "display_data"
    }
   ],
   "source": [
    "im = plt.imread(B_df['path'][1]) # reading Image from its path\n",
    "\n",
    "plt.imshow(im)# show the image\n",
    "plt.title(\"Orignal Image\")\n",
    "plt.show()"
   ]
  },
  {
   "cell_type": "code",
   "execution_count": 16,
   "metadata": {
    "_uuid": "9632d11c1430af93ff6f7b2e63d45ea2b266264e"
   },
   "outputs": [
    {
     "data": {
      "image/png": "[encoded data removed]",
      "text/plain": [
       "<Figure size 432x288 with 1 Axes>"
      ]
     },
     "metadata": {},
     "output_type": "display_data"
    },
    {
     "data": {
      "image/png": "[encoded data removed]",
      "text/plain": [
       "<Figure size 432x288 with 1 Axes>"
      ]
     },
     "metadata": {},
     "output_type": "display_data"
    },
    {
     "data": {
      "image/png": "[encoded data removed]",
      "text/plain": [
       "<Figure size 432x288 with 1 Axes>"
      ]
     },
     "metadata": {},
     "output_type": "display_data"
    }
   ],
   "source": [
    "plt.title(\"90*90*3 Image\")\n",
    "plt.imshow(X_90[1])\n",
    "plt.show()\n",
    "\n",
    "plt.title(\"128*128*3 Image\")\n",
    "plt.imshow(X_128[1])\n",
    "plt.show()\n",
    "\n",
    "plt.title(\"264*264*3 Image\")\n",
    "plt.imshow(X_264[1])\n",
    "plt.show()"
   ]
  },
  {
   "cell_type": "markdown",
   "metadata": {
    "_uuid": "e769cdf35a7cddeeefd8ce29ea71e7e9a6bea9f8"
   },
   "source": [
    "**Its seem to be same now thats good for us**"
   ]
  },
  {
   "cell_type": "markdown",
   "metadata": {
    "_uuid": "a3605da2dd2e8140f7b14fa5b12bdeb488280052"
   },
   "source": [
    "**Now I have my X and Y. Now its time for spliting and training**"
   ]
  },
  {
   "cell_type": "code",
   "execution_count": 17,
   "metadata": {
    "_uuid": "9947540f03908f2340b1de637fd306f15c52d455"
   },
   "outputs": [
    {
     "data": {
      "text/plain": [
       "(1000,)"
      ]
     },
     "execution_count": 17,
     "metadata": {},
     "output_type": "execute_result"
    }
   ],
   "source": [
    "y.shape"
   ]
  },
  {
   "cell_type": "code",
   "execution_count": 18,
   "metadata": {
    "_uuid": "e08529b5824b56a61fd1cc99c985c12345906258"
   },
   "outputs": [],
   "source": [
    "from sklearn.model_selection import train_test_split\n",
    "X_train, X_test, y_train, y_test = train_test_split(\n",
    "    X_128,y, test_size=0.10, random_state=42)\n",
    "y_train = to_categorical(y_train, num_classes=2)\n",
    "y_test_Categorical=to_categorical(y_test)\n",
    "y_categorical =to_categorical(y)"
   ]
  },
  {
   "cell_type": "markdown",
   "metadata": {
    "_uuid": "295eb6aff84b1018e66376d105ead5990e55d7cf"
   },
   "source": [
    "**CNN MODEL **"
   ]
  },
  {
   "cell_type": "code",
   "execution_count": 19,
   "metadata": {
    "_uuid": "f448c61a56313d50de76aa71a032b79169397f44"
   },
   "outputs": [],
   "source": [
    "from keras.models import Sequential,Model\n",
    "from keras.layers import Conv2D,MaxPooling2D,Dense,Flatten,Dropout,Activation\n",
    "from keras import losses\n",
    "from keras.optimizers import Adam, Adagrad\n",
    "from keras.callbacks import EarlyStopping\n",
    "from keras import regularizers\n",
    "from sklearn.model_selection import GridSearchCV\n",
    "import keras\n",
    "#import talos as ta"
   ]
  },
  {
   "cell_type": "markdown",
   "metadata": {
    "_uuid": "1b611e55d174313671d5eb5c3e1653f157218459"
   },
   "source": [
    "**Talos Model For HyperParameter Optimization**"
   ]
  },
  {
   "cell_type": "markdown",
   "metadata": {
    "_uuid": "afcdca406413d88630c9fde82e80ebdc83fb1707"
   },
   "source": [
    "**Talos for hyperparameter tuning**"
   ]
  },
  {
   "cell_type": "code",
   "execution_count": 20,
   "metadata": {
    "_uuid": "36badd189ef2fb415aeffb4803ed766fa4d492a9"
   },
   "outputs": [],
   "source": [
    "\n",
    "def Talos_Model(X_train, y_train, X_test, y_test, params):\n",
    "    #parameters defined\n",
    "    lr = params['lr']\n",
    "    epochs=params['epochs']\n",
    "    dropout_rate=params['dropout']\n",
    "    optimizer=params['optimizer']\n",
    "    loss=params['loss']\n",
    "    last_activation=params['last_activation']\n",
    "    activation=params['activation']\n",
    "    clipnorm=params['clipnorm']\n",
    "    decay=params['decay']\n",
    "    momentum=params['momentum']\n",
    "    l1=params['l1']\n",
    "    l2=params['l2']\n",
    "    No_of_CONV_and_Maxpool_layers=params['No_of_CONV_and_Maxpool_layers']\n",
    "    No_of_Dense_Layers =params['No_of_Dense_Layers']\n",
    "    No_of_Units_in_dense_layers=params['No_of_Units_in_dense_layers']\n",
    "    Kernal_Size=params['Kernal_Size']\n",
    "    Conv2d_filters=params['Conv2d_filters']\n",
    "    pool_size_p=params['pool_size']\n",
    "    padding_p=params['padding']\n",
    "    \n",
    "    #model sequential\n",
    "    model=Sequential()\n",
    "    \n",
    "    for i in range(0,No_of_CONV_and_Maxpool_layers):\n",
    "        model.add(Conv2D(Conv2d_filters, Kernal_Size ,padding=padding_p))\n",
    "        model.add(Activation(activation))\n",
    "        model.add(MaxPooling2D(pool_size=pool_size_p,strides=(2,2)))\n",
    "    \n",
    "    \n",
    "    model.add(Flatten())\n",
    "    \n",
    "    for i in range (0,No_of_Dense_Layers):\n",
    "        model.add(Dense(units=No_of_Units_in_dense_layers,activation=activation, kernel_regularizer=regularizers.l2(l2),\n",
    "                  activity_regularizer=regularizers.l1(l1)))\n",
    "    \n",
    "    \n",
    "    model.add(Dense(units=20,activation=activation))\n",
    "    \n",
    "    model.add(Dense(units=2,activation=activation))\n",
    "    if optimizer==\"Adam\":\n",
    "        opt=keras.optimizers.Adam(lr=lr, decay=decay, beta_1=0.9, beta_2=0.999)\n",
    "    if optimizer==\"Adagrad\":\n",
    "        opt=keras.optimizers.Adagrad(lr=lr, epsilon=None, decay=decay)\n",
    "    if optimizer==\"sgd\":\n",
    "        opt=keras.optimizers.SGD(lr=lr, momentum=momentum, decay=decay, nesterov=False)\n",
    "    \n",
    "    model.compile(loss=loss,optimizer=opt,\n",
    "                 metrics=['accuracy'])\n",
    "    \n",
    "    out = model.fit(X_train, y_train, epochs=params['epochs'])\n",
    "\n",
    "    return out,model"
   ]
  },
  {
   "cell_type": "markdown",
   "metadata": {
    "_uuid": "d4632d3c06aeb8f495084281364cffc0228ca1e8"
   },
   "source": [
    "**Hyperparameter Tuning  by using Talos**\n",
    "\n",
    "[https://github.com/autonomio/talos/blob/master/examples/Hyperparameter%20Optimization%20with%20Keras%20for%20the%20Iris%20Prediction.ipynb](http://)"
   ]
  },
  {
   "cell_type": "code",
   "execution_count": 21,
   "metadata": {
    "_uuid": "358358559fd08bf1270875e1ca43915894f4d072"
   },
   "outputs": [],
   "source": [
    "\n",
    "\n",
    "params = {'lr': (0.1, 0.01,1 ),\n",
    "     'epochs': [10,5,15],\n",
    "     'dropout': (0, 0.40, 0.8),\n",
    "     'optimizer': [\"Adam\",\"Adagrad\",\"sgd\"],\n",
    "     'loss': [\"binary_crossentropy\",\"mean_squared_error\",\"mean_absolute_error\"],\n",
    "     'last_activation': [\"softmax\",\"sigmoid\"],\n",
    "     'activation' :[\"relu\",\"selu\",\"linear\"],\n",
    "     'clipnorm':(0.0,0.5,1),\n",
    "     'decay':(1e-6,1e-4,1e-2),\n",
    "     'momentum':(0.9,0.5,0.2),\n",
    "     'l1': (0.01,0.001,0.0001),\n",
    "     'l2': (0.01,0.001,0.0001),\n",
    "     'No_of_CONV_and_Maxpool_layers':[2,3],\n",
    "     'No_of_Dense_Layers': [2,3,4],\n",
    "     'No_of_Units_in_dense_layers':[128,64,32,256],\n",
    "     'Kernal_Size':[(2,2),(4,4),(6,6)],\n",
    "     'Conv2d_filters':[60,40,80,120],\n",
    "     'pool_size':[(2,2),(4,4)],\n",
    "     'padding':[\"valid\",\"same\"]\n",
    "    }\n"
   ]
  },
  {
   "cell_type": "markdown",
   "metadata": {
    "_uuid": "4a53dff46155af7fee746f669a6290c28822c766"
   },
   "source": [
    "Talos take 1500 different scans which is so much expansive even my kaggle kernal die because of talos scans "
   ]
  },
  {
   "cell_type": "markdown",
   "metadata": {
    "_uuid": "9aab1180dd5b98cd5bcc0c319d483305363a9ac7"
   },
   "source": [
    "**You can convert below cell from markdown to code and check talos scans**"
   ]
  },
  {
   "cell_type": "markdown",
   "metadata": {
    "_uuid": "255495748dd201773313531d2786cde58f6cafef"
   },
   "source": [
    "h = ta.Scan(X_train, y_train, params=params,\n",
    "            model=Talos_Model,\n",
    "            dataset_name='DR',\n",
    "            experiment_no='1',\n",
    "            grid_downsample=.01)"
   ]
  },
  {
   "cell_type": "markdown",
   "metadata": {
    "_uuid": "8cff4198a9b3a0e12126b41f96b2ccd4acdd0cca"
   },
   "source": [
    "**Reporting of talos library**"
   ]
  },
  {
   "cell_type": "markdown",
   "metadata": {
    "_uuid": "306898dced4467b8d74b0e450c29a0dcf6a37a13"
   },
   "source": [
    "accessing the results data frame\n",
    "h.data.head()\n",
    "\n",
    "accessing epoch entropy values for each round\n",
    "h.peak_epochs_df\n",
    "\n",
    "access the summary details\n",
    "h.details"
   ]
  },
  {
   "cell_type": "markdown",
   "metadata": {
    "_uuid": "b52ee79b2832ca502ffa038247b9e918e6129d13"
   },
   "source": [
    "r = ta.Reporting(h)\n",
    "\n",
    "r.best_params()\n",
    "\n"
   ]
  },
  {
   "cell_type": "markdown",
   "metadata": {
    "_uuid": "99270f00dfbe4315b472e374f6c49988bf9f6b71"
   },
   "source": [
    "**Randomized Search For Hyperparameter tuning**"
   ]
  },
  {
   "cell_type": "markdown",
   "metadata": {
    "_uuid": "304d6da3a83c0c5d9504906b54833293dc9f10f5"
   },
   "source": [
    "**Model**"
   ]
  },
  {
   "cell_type": "code",
   "execution_count": 22,
   "metadata": {
    "_uuid": "172cc2216ae33cc288cd8dfb6cb12ab1d762b68b"
   },
   "outputs": [],
   "source": [
    "\n",
    "def Randomized_Model(lr=0.01,dropout=0.5,optimizer=\"adam\",loss='mean_squared_error',\n",
    "                    last_activation=\"softmax\",activation=\"relu\",clipnorm=0.1,\n",
    "                    decay=1e-2,momentum=0.5,l1=0.01,l2=0.001,No_of_CONV_and_Maxpool_layers=3,\n",
    "                    No_of_Dense_Layers=3,No_of_Units_in_dense_layers=24,Conv2d_filters=60):\n",
    "       \n",
    "    \n",
    "    \n",
    "    #model sequential\n",
    "    model=Sequential()\n",
    "    \n",
    "    for i in range(0,No_of_CONV_and_Maxpool_layers):\n",
    "        model.add(Conv2D(Conv2d_filters, (2,2) ,padding=\"same\"))\n",
    "        model.add(Activation(activation))\n",
    "        model.add(MaxPooling2D(pool_size=(2,2),strides=(2,2)))\n",
    "    \n",
    "    \n",
    "    model.add(Flatten())\n",
    "    \n",
    "    for i in range (0,No_of_Dense_Layers):\n",
    "        model.add(Dense(units=No_of_Units_in_dense_layers,activation=activation, kernel_regularizer=regularizers.l2(l2),\n",
    "                  activity_regularizer=regularizers.l1(l1)))\n",
    "    \n",
    "    model.add(Dropout(dropout))\n",
    "    model.add(Dense(units=20,activation=activation))\n",
    "    \n",
    "    model.add(Dense(units=2,activation=activation))\n",
    "    if optimizer==\"Adam\":\n",
    "        opt=keras.optimizers.Adam(lr=lr, decay=decay, beta_1=0.9, beta_2=0.999)\n",
    "    if optimizer==\"Adagrad\":\n",
    "        opt=keras.optimizers.Adagrad(lr=lr, epsilon=None, decay=decay)\n",
    "    if optimizer==\"sgd\":\n",
    "        opt=keras.optimizers.SGD(lr=lr, momentum=momentum, decay=decay, nesterov=False)\n",
    "    \n",
    "    model.compile(loss=loss,optimizer=opt,\n",
    "                 metrics=['accuracy'])\n",
    "    \n",
    "    \n",
    "\n",
    "    return model"
   ]
  },
  {
   "cell_type": "markdown",
   "metadata": {
    "_uuid": "fdfc5be86a0e060f0cf09a5aef262d0afd6f6a70"
   },
   "source": [
    "**Parameters of Randomized Search**"
   ]
  },
  {
   "cell_type": "code",
   "execution_count": 23,
   "metadata": {
    "_uuid": "d9f91b57dc9936c42dcdde953dac7031999acd81"
   },
   "outputs": [],
   "source": [
    "\n",
    "\n",
    "params = {'lr': (0.1, 0.01,1,0.001 ),\n",
    "     'epochs': [10,5,15,30],\n",
    "     'dropout': (0, 0.40, 0.8),\n",
    "     'optimizer': [\"Adam\",\"Adagrad\",\"sgd\"],\n",
    "     'loss': [\"binary_crossentropy\",\"mean_squared_error\",\"mean_absolute_error\"],\n",
    "     'last_activation': [\"softmax\",\"sigmoid\"],\n",
    "     'activation' :[\"relu\",\"selu\",\"linear\"],\n",
    "     'clipnorm':(0.0,0.5,1),\n",
    "     'decay':(1e-6,1e-4,1e-2),\n",
    "     'momentum':(0.9,0.5,0.2),\n",
    "     'l1': (0.01,0.001,0.0001),\n",
    "     'l2': (0.01,0.001,0.0001),\n",
    "     'No_of_CONV_and_Maxpool_layers':[2,3],\n",
    "     'No_of_Dense_Layers': [2,3,4,5],\n",
    "     'No_of_Units_in_dense_layers':[128,64,32,256],\n",
    "     \n",
    "     'Conv2d_filters':[60,40,80,120,220]\n",
    "     \n",
    "     \n",
    "    }\n"
   ]
  },
  {
   "cell_type": "code",
   "execution_count": 24,
   "metadata": {
    "_kg_hide-output": true,
    "_uuid": "1733ab33fa158b7094409b9a2baf67fda6f42fa1"
   },
   "outputs": [],
   "source": [
    "from keras.wrappers.scikit_learn import KerasClassifier\n",
    "from sklearn.model_selection import RandomizedSearchCV, KFold\n",
    "from sklearn.metrics import make_scorer\n",
    "# model class to use in the scikit random search CV \n",
    "model = KerasClassifier(build_fn=Randomized_Model, epochs=10, batch_size=20, verbose=1)\n",
    "grid = RandomizedSearchCV(estimator=model, cv=KFold(3), param_distributions=params, \n",
    "                          verbose=20,  n_iter=10, n_jobs=1)\n"
   ]
  },
  {
   "cell_type": "code",
   "execution_count": 25,
   "metadata": {
    "_kg_hide-output": true,
    "_uuid": "48f586502c8b81b5ace354be9aac4210e8ab83c2"
   },
   "outputs": [
    {
     "name": "stdout",
     "output_type": "stream",
     "text": [
      "Fitting 3 folds for each of 10 candidates, totalling 30 fits\n",
      "[CV] optimizer=Adagrad, momentum=0.9, lr=0.01, loss=mean_absolute_error, last_activation=softmax, l2=0.001, l1=0.001, epochs=15, dropout=0.8, decay=0.01, clipnorm=1, activation=relu, No_of_Units_in_dense_layers=64, No_of_Dense_Layers=2, No_of_CONV_and_Maxpool_layers=2, Conv2d_filters=60 \n"
     ]
    },
    {
     "name": "stderr",
     "output_type": "stream",
     "text": [
      "[Parallel(n_jobs=1)]: Using backend SequentialBackend with 1 concurrent workers.\n"
     ]
    },
    {
     "name": "stdout",
     "output_type": "stream",
     "text": [
      "Epoch 1/15\n",
      "600/600 [==============================] - 3s 5ms/step - loss: 0.7850 - acc: 0.7250\n",
      "Epoch 2/15\n",
      "600/600 [==============================] - 0s 633us/step - loss: 0.5199 - acc: 0.7267\n",
      "Epoch 3/15\n",
      "600/600 [==============================] - 0s 640us/step - loss: 0.4655 - acc: 0.7267\n",
      "Epoch 4/15\n",
      "600/600 [==============================] - 0s 641us/step - loss: 0.4387 - acc: 0.7267\n",
      "Epoch 5/15\n",
      "600/600 [==============================] - 0s 637us/step - loss: 0.4067 - acc: 0.7267\n",
      "Epoch 6/15\n",
      "600/600 [==============================] - 0s 638us/step - loss: 0.4049 - acc: 0.7267\n",
      "Epoch 7/15\n",
      "600/600 [==============================] - 0s 650us/step - loss: 0.3848 - acc: 0.7267\n",
      "Epoch 8/15\n",
      "600/600 [==============================] - 0s 636us/step - loss: 0.3771 - acc: 0.7267\n",
      "Epoch 9/15\n",
      "600/600 [==============================] - 0s 639us/step - loss: 0.3738 - acc: 0.7267\n",
      "Epoch 10/15\n",
      "600/600 [==============================] - 0s 637us/step - loss: 0.3717 - acc: 0.7267\n",
      "Epoch 11/15\n",
      "600/600 [==============================] - 0s 632us/step - loss: 0.3610 - acc: 0.7267\n",
      "Epoch 12/15\n",
      "600/600 [==============================] - 0s 638us/step - loss: 0.3604 - acc: 0.7267\n",
      "Epoch 13/15\n",
      "600/600 [==============================] - 0s 636us/step - loss: 0.3572 - acc: 0.7267\n",
      "Epoch 14/15\n",
      "600/600 [==============================] - 0s 636us/step - loss: 0.3528 - acc: 0.7267\n",
      "Epoch 15/15\n",
      "600/600 [==============================] - 0s 630us/step - loss: 0.3509 - acc: 0.7267\n",
      "300/300 [==============================] - 0s 510us/step\n",
      "600/600 [==============================] - 0s 312us/step\n",
      "[CV]  optimizer=Adagrad, momentum=0.9, lr=0.01, loss=mean_absolute_error, last_activation=softmax, l2=0.001, l1=0.001, epochs=15, dropout=0.8, decay=0.01, clipnorm=1, activation=relu, No_of_Units_in_dense_layers=64, No_of_Dense_Layers=2, No_of_CONV_and_Maxpool_layers=2, Conv2d_filters=60, score=0.7566666642824809, total=   9.0s\n",
      "[CV] optimizer=Adagrad, momentum=0.9, lr=0.01, loss=mean_absolute_error, last_activation=softmax, l2=0.001, l1=0.001, epochs=15, dropout=0.8, decay=0.01, clipnorm=1, activation=relu, No_of_Units_in_dense_layers=64, No_of_Dense_Layers=2, No_of_CONV_and_Maxpool_layers=2, Conv2d_filters=60 \n"
     ]
    },
    {
     "name": "stderr",
     "output_type": "stream",
     "text": [
      "[Parallel(n_jobs=1)]: Done   1 out of   1 | elapsed:    9.2s remaining:    0.0s\n"
     ]
    },
    {
     "name": "stdout",
     "output_type": "stream",
     "text": [
      "Epoch 1/15\n",
      "600/600 [==============================] - 1s 2ms/step - loss: 0.8271 - acc: 0.7133\n",
      "Epoch 2/15\n",
      "600/600 [==============================] - 0s 643us/step - loss: 0.4944 - acc: 0.7333\n",
      "Epoch 3/15\n",
      "600/600 [==============================] - 0s 642us/step - loss: 0.4308 - acc: 0.7333\n",
      "Epoch 4/15\n",
      "600/600 [==============================] - 0s 639us/step - loss: 0.3988 - acc: 0.7333\n",
      "Epoch 5/15\n",
      "600/600 [==============================] - 0s 638us/step - loss: 0.3957 - acc: 0.7333\n",
      "Epoch 6/15\n",
      "600/600 [==============================] - 0s 644us/step - loss: 0.3774 - acc: 0.7333\n",
      "Epoch 7/15\n",
      "600/600 [==============================] - 0s 637us/step - loss: 0.3667 - acc: 0.7333\n",
      "Epoch 8/15\n",
      "600/600 [==============================] - 0s 638us/step - loss: 0.3713 - acc: 0.7333\n",
      "Epoch 9/15\n",
      "600/600 [==============================] - 0s 640us/step - loss: 0.3611 - acc: 0.7333\n",
      "Epoch 10/15\n",
      "600/600 [==============================] - 0s 642us/step - loss: 0.3522 - acc: 0.7333\n",
      "Epoch 11/15\n",
      "600/600 [==============================] - 0s 651us/step - loss: 0.3486 - acc: 0.7333\n",
      "Epoch 12/15\n",
      "600/600 [==============================] - 0s 638us/step - loss: 0.3475 - acc: 0.7333\n",
      "Epoch 13/15\n",
      "600/600 [==============================] - 0s 642us/step - loss: 0.3449 - acc: 0.7333\n",
      "Epoch 14/15\n",
      "600/600 [==============================] - 0s 641us/step - loss: 0.3439 - acc: 0.7333\n",
      "Epoch 15/15\n",
      "600/600 [==============================] - 0s 639us/step - loss: 0.3385 - acc: 0.7333\n",
      "300/300 [==============================] - 0s 584us/step\n",
      "600/600 [==============================] - 0s 322us/step\n",
      "[CV]  optimizer=Adagrad, momentum=0.9, lr=0.01, loss=mean_absolute_error, last_activation=softmax, l2=0.001, l1=0.001, epochs=15, dropout=0.8, decay=0.01, clipnorm=1, activation=relu, No_of_Units_in_dense_layers=64, No_of_Dense_Layers=2, No_of_CONV_and_Maxpool_layers=2, Conv2d_filters=60, score=0.7433333357175191, total=   7.4s\n",
      "[CV] optimizer=Adagrad, momentum=0.9, lr=0.01, loss=mean_absolute_error, last_activation=softmax, l2=0.001, l1=0.001, epochs=15, dropout=0.8, decay=0.01, clipnorm=1, activation=relu, No_of_Units_in_dense_layers=64, No_of_Dense_Layers=2, No_of_CONV_and_Maxpool_layers=2, Conv2d_filters=60 \n"
     ]
    },
    {
     "name": "stderr",
     "output_type": "stream",
     "text": [
      "[Parallel(n_jobs=1)]: Done   2 out of   2 | elapsed:   16.9s remaining:    0.0s\n"
     ]
    },
    {
     "name": "stdout",
     "output_type": "stream",
     "text": [
      "Epoch 1/15\n",
      "600/600 [==============================] - 1s 2ms/step - loss: 0.8967 - acc: 0.7400\n",
      "Epoch 2/15\n",
      "600/600 [==============================] - 0s 638us/step - loss: 0.4832 - acc: 0.7500\n",
      "Epoch 3/15\n",
      "600/600 [==============================] - 0s 639us/step - loss: 0.4286 - acc: 0.7500\n",
      "Epoch 4/15\n",
      "600/600 [==============================] - 0s 661us/step - loss: 0.3967 - acc: 0.7500\n",
      "Epoch 5/15\n",
      "600/600 [==============================] - 0s 666us/step - loss: 0.3880 - acc: 0.7500\n",
      "Epoch 6/15\n",
      "600/600 [==============================] - 0s 663us/step - loss: 0.3723 - acc: 0.7500\n",
      "Epoch 7/15\n",
      "600/600 [==============================] - 0s 660us/step - loss: 0.3633 - acc: 0.7500\n",
      "Epoch 8/15\n",
      "600/600 [==============================] - 0s 667us/step - loss: 0.3521 - acc: 0.7500\n",
      "Epoch 9/15\n",
      "600/600 [==============================] - 0s 669us/step - loss: 0.3459 - acc: 0.7500\n",
      "Epoch 10/15\n",
      "600/600 [==============================] - 0s 663us/step - loss: 0.3503 - acc: 0.7500\n",
      "Epoch 11/15\n",
      "600/600 [==============================] - 0s 664us/step - loss: 0.3455 - acc: 0.7500\n",
      "Epoch 12/15\n",
      "600/600 [==============================] - 0s 665us/step - loss: 0.3348 - acc: 0.7500\n",
      "Epoch 13/15\n",
      "600/600 [==============================] - 0s 664us/step - loss: 0.3371 - acc: 0.7500\n",
      "Epoch 14/15\n",
      "600/600 [==============================] - 0s 667us/step - loss: 0.3331 - acc: 0.7500\n",
      "Epoch 15/15\n",
      "600/600 [==============================] - 0s 665us/step - loss: 0.3325 - acc: 0.7500\n",
      "300/300 [==============================] - 0s 693us/step\n",
      "600/600 [==============================] - 0s 343us/step\n",
      "[CV]  optimizer=Adagrad, momentum=0.9, lr=0.01, loss=mean_absolute_error, last_activation=softmax, l2=0.001, l1=0.001, epochs=15, dropout=0.8, decay=0.01, clipnorm=1, activation=relu, No_of_Units_in_dense_layers=64, No_of_Dense_Layers=2, No_of_CONV_and_Maxpool_layers=2, Conv2d_filters=60, score=0.7099999944368999, total=   7.7s\n",
      "[CV] optimizer=Adam, momentum=0.2, lr=1, loss=mean_squared_error, last_activation=sigmoid, l2=0.0001, l1=0.0001, epochs=30, dropout=0.4, decay=0.01, clipnorm=1, activation=relu, No_of_Units_in_dense_layers=32, No_of_Dense_Layers=3, No_of_CONV_and_Maxpool_layers=2, Conv2d_filters=80 \n"
     ]
    },
    {
     "name": "stderr",
     "output_type": "stream",
     "text": [
      "[Parallel(n_jobs=1)]: Done   3 out of   3 | elapsed:   24.8s remaining:    0.0s\n"
     ]
    },
    {
     "name": "stdout",
     "output_type": "stream",
     "text": [
      "Epoch 1/30\n",
      "600/600 [==============================] - 2s 3ms/step - loss: 826782679658106496.0000 - acc: 0.7217\n",
      "Epoch 2/30\n",
      "600/600 [==============================] - 1s 847us/step - loss: 2561.2575 - acc: 0.7267\n",
      "Epoch 3/30\n",
      "600/600 [==============================] - 1s 885us/step - loss: 2411.4412 - acc: 0.7267\n",
      "Epoch 4/30\n",
      "600/600 [==============================] - 1s 845us/step - loss: 2365.6994 - acc: 0.7267\n",
      "Epoch 5/30\n",
      "600/600 [==============================] - 1s 858us/step - loss: 2335.7634 - acc: 0.7267\n",
      "Epoch 6/30\n",
      "600/600 [==============================] - 0s 817us/step - loss: 2312.5829 - acc: 0.7267\n",
      "Epoch 7/30\n",
      "600/600 [==============================] - 0s 810us/step - loss: 2294.5662 - acc: 0.7267\n",
      "Epoch 8/30\n",
      "600/600 [==============================] - 0s 807us/step - loss: 2278.7650 - acc: 0.7267\n",
      "Epoch 9/30\n",
      "600/600 [==============================] - 0s 810us/step - loss: 2265.6854 - acc: 0.7267\n",
      "Epoch 10/30\n",
      "600/600 [==============================] - 0s 811us/step - loss: 2254.7389 - acc: 0.7267\n",
      "Epoch 11/30\n",
      "600/600 [==============================] - 0s 812us/step - loss: 2245.1046 - acc: 0.7267\n",
      "Epoch 12/30\n",
      "600/600 [==============================] - 0s 808us/step - loss: 2236.5275 - acc: 0.7267\n",
      "Epoch 13/30\n",
      "600/600 [==============================] - 0s 809us/step - loss: 2229.1625 - acc: 0.7267\n",
      "Epoch 14/30\n",
      "600/600 [==============================] - 0s 826us/step - loss: 2222.2972 - acc: 0.7267\n",
      "Epoch 15/30\n",
      "600/600 [==============================] - 0s 818us/step - loss: 2216.3043 - acc: 0.7267\n",
      "Epoch 16/30\n",
      "600/600 [==============================] - 0s 813us/step - loss: 2210.7890 - acc: 0.7267\n",
      "Epoch 17/30\n",
      "600/600 [==============================] - 0s 812us/step - loss: 2205.6548 - acc: 0.7267\n",
      "Epoch 18/30\n",
      "600/600 [==============================] - 0s 812us/step - loss: 2201.1283 - acc: 0.7267\n",
      "Epoch 19/30\n",
      "600/600 [==============================] - 0s 808us/step - loss: 2196.7440 - acc: 0.7267\n",
      "Epoch 20/30\n",
      "600/600 [==============================] - 0s 811us/step - loss: 2192.8709 - acc: 0.7267\n",
      "Epoch 21/30\n",
      "600/600 [==============================] - 0s 806us/step - loss: 2189.1469 - acc: 0.7267\n",
      "Epoch 22/30\n",
      "600/600 [==============================] - 0s 812us/step - loss: 2185.4666 - acc: 0.7267\n",
      "Epoch 23/30\n",
      "600/600 [==============================] - 0s 812us/step - loss: 2182.1702 - acc: 0.7267\n",
      "Epoch 24/30\n",
      "600/600 [==============================] - 0s 809us/step - loss: 2179.0037 - acc: 0.7267\n",
      "Epoch 25/30\n",
      "600/600 [==============================] - 0s 808us/step - loss: 2176.1363 - acc: 0.7267\n",
      "Epoch 26/30\n",
      "600/600 [==============================] - 0s 824us/step - loss: 2173.4517 - acc: 0.7267\n",
      "Epoch 27/30\n",
      "600/600 [==============================] - 0s 811us/step - loss: 2170.9605 - acc: 0.7267\n",
      "Epoch 28/30\n",
      "600/600 [==============================] - 0s 814us/step - loss: 2168.3036 - acc: 0.7267\n",
      "Epoch 29/30\n",
      "600/600 [==============================] - 0s 808us/step - loss: 2166.0273 - acc: 0.7267\n",
      "Epoch 30/30\n",
      "600/600 [==============================] - 0s 810us/step - loss: 2164.0173 - acc: 0.7267\n",
      "300/300 [==============================] - 0s 808us/step\n",
      "600/600 [==============================] - 0s 373us/step\n",
      "[CV]  optimizer=Adam, momentum=0.2, lr=1, loss=mean_squared_error, last_activation=sigmoid, l2=0.0001, l1=0.0001, epochs=30, dropout=0.4, decay=0.01, clipnorm=1, activation=relu, No_of_Units_in_dense_layers=32, No_of_Dense_Layers=3, No_of_CONV_and_Maxpool_layers=2, Conv2d_filters=80, score=0.7566666642824809, total=  17.2s\n",
      "[CV] optimizer=Adam, momentum=0.2, lr=1, loss=mean_squared_error, last_activation=sigmoid, l2=0.0001, l1=0.0001, epochs=30, dropout=0.4, decay=0.01, clipnorm=1, activation=relu, No_of_Units_in_dense_layers=32, No_of_Dense_Layers=3, No_of_CONV_and_Maxpool_layers=2, Conv2d_filters=80 \n"
     ]
    },
    {
     "name": "stderr",
     "output_type": "stream",
     "text": [
      "[Parallel(n_jobs=1)]: Done   4 out of   4 | elapsed:   42.2s remaining:    0.0s\n"
     ]
    },
    {
     "name": "stdout",
     "output_type": "stream",
     "text": [
      "Epoch 1/30\n",
      "600/600 [==============================] - 1s 2ms/step - loss: 3381899268693533696.0000 - acc: 0.7167\n",
      "Epoch 2/30\n",
      "600/600 [==============================] - 0s 813us/step - loss: 2480.7031 - acc: 0.7333\n",
      "Epoch 3/30\n",
      "600/600 [==============================] - 0s 812us/step - loss: 2535.1841 - acc: 0.7333\n",
      "Epoch 4/30\n",
      "600/600 [==============================] - 0s 810us/step - loss: 2527.4060 - acc: 0.7333\n",
      "Epoch 5/30\n",
      "600/600 [==============================] - 0s 817us/step - loss: 2520.7608 - acc: 0.7333\n",
      "Epoch 6/30\n",
      "600/600 [==============================] - 0s 818us/step - loss: 2516.1162 - acc: 0.7333\n",
      "Epoch 7/30\n",
      "600/600 [==============================] - 0s 820us/step - loss: 2512.6714 - acc: 0.7333\n",
      "Epoch 8/30\n",
      "600/600 [==============================] - 0s 814us/step - loss: 2509.9799 - acc: 0.7333\n",
      "Epoch 9/30\n",
      "600/600 [==============================] - 0s 813us/step - loss: 2507.7961 - acc: 0.7333\n",
      "Epoch 10/30\n",
      "600/600 [==============================] - 0s 806us/step - loss: 2505.9739 - acc: 0.7333\n",
      "Epoch 11/30\n",
      "600/600 [==============================] - 0s 812us/step - loss: 2504.4207 - acc: 0.7333\n",
      "Epoch 12/30\n",
      "600/600 [==============================] - 0s 809us/step - loss: 2503.0746 - acc: 0.7333\n",
      "Epoch 13/30\n",
      "600/600 [==============================] - 0s 809us/step - loss: 2501.8923 - acc: 0.7333\n",
      "Epoch 14/30\n",
      "600/600 [==============================] - 0s 806us/step - loss: 2500.8422 - acc: 0.7333\n",
      "Epoch 15/30\n",
      "600/600 [==============================] - 0s 810us/step - loss: 2502.9182 - acc: 0.7333\n",
      "Epoch 16/30\n",
      "600/600 [==============================] - 0s 808us/step - loss: 2501.1931 - acc: 0.7333\n",
      "Epoch 17/30\n",
      "600/600 [==============================] - 0s 810us/step - loss: 2500.8089 - acc: 0.7333\n",
      "Epoch 18/30\n",
      "600/600 [==============================] - 0s 815us/step - loss: 2500.1084 - acc: 0.7333\n",
      "Epoch 19/30\n",
      "600/600 [==============================] - 0s 808us/step - loss: 2499.4495 - acc: 0.7333\n",
      "Epoch 20/30\n",
      "600/600 [==============================] - 0s 816us/step - loss: 2498.8409 - acc: 0.7333\n",
      "Epoch 21/30\n",
      "600/600 [==============================] - 0s 809us/step - loss: 2498.2767 - acc: 0.7333\n",
      "Epoch 22/30\n",
      "600/600 [==============================] - 0s 816us/step - loss: 2497.7517 - acc: 0.7333\n",
      "Epoch 23/30\n",
      "600/600 [==============================] - 0s 811us/step - loss: 2497.2613 - acc: 0.7333\n",
      "Epoch 24/30\n",
      "600/600 [==============================] - 0s 808us/step - loss: 2496.8017 - acc: 0.7333\n",
      "Epoch 25/30\n",
      "600/600 [==============================] - 0s 808us/step - loss: 2496.3700 - acc: 0.7333\n",
      "Epoch 26/30\n",
      "600/600 [==============================] - 0s 822us/step - loss: 2495.9632 - acc: 0.7333\n",
      "Epoch 27/30\n",
      "600/600 [==============================] - 0s 811us/step - loss: 2495.5788 - acc: 0.7333\n",
      "Epoch 28/30\n",
      "600/600 [==============================] - 0s 809us/step - loss: 2495.2150 - acc: 0.7333\n",
      "Epoch 29/30\n",
      "600/600 [==============================] - 0s 808us/step - loss: 2494.8699 - acc: 0.7333\n",
      "Epoch 30/30\n",
      "600/600 [==============================] - 0s 806us/step - loss: 2494.5417 - acc: 0.7333\n",
      "300/300 [==============================] - 0s 906us/step\n",
      "600/600 [==============================] - 0s 374us/step\n",
      "[CV]  optimizer=Adam, momentum=0.2, lr=1, loss=mean_squared_error, last_activation=sigmoid, l2=0.0001, l1=0.0001, epochs=30, dropout=0.4, decay=0.01, clipnorm=1, activation=relu, No_of_Units_in_dense_layers=32, No_of_Dense_Layers=3, No_of_CONV_and_Maxpool_layers=2, Conv2d_filters=80, score=0.7433333357175191, total=  16.8s\n",
      "[CV] optimizer=Adam, momentum=0.2, lr=1, loss=mean_squared_error, last_activation=sigmoid, l2=0.0001, l1=0.0001, epochs=30, dropout=0.4, decay=0.01, clipnorm=1, activation=relu, No_of_Units_in_dense_layers=32, No_of_Dense_Layers=3, No_of_CONV_and_Maxpool_layers=2, Conv2d_filters=80 \n"
     ]
    },
    {
     "name": "stderr",
     "output_type": "stream",
     "text": [
      "[Parallel(n_jobs=1)]: Done   5 out of   5 | elapsed:   59.3s remaining:    0.0s\n"
     ]
    },
    {
     "name": "stdout",
     "output_type": "stream",
     "text": [
      "Epoch 1/30\n",
      "600/600 [==============================] - 1s 2ms/step - loss: 760439437476692224.0000 - acc: 0.7383\n",
      "Epoch 2/30\n",
      "600/600 [==============================] - 0s 813us/step - loss: 343878.2865 - acc: 0.7500\n",
      "Epoch 3/30\n",
      "600/600 [==============================] - 0s 814us/step - loss: 320029.3250 - acc: 0.7500\n",
      "Epoch 4/30\n",
      "600/600 [==============================] - 0s 823us/step - loss: 305987.2896 - acc: 0.7500\n",
      "Epoch 5/30\n",
      "600/600 [==============================] - 0s 817us/step - loss: 292557.3302 - acc: 0.7500\n",
      "Epoch 6/30\n",
      "600/600 [==============================] - 0s 808us/step - loss: 279302.7333 - acc: 0.7500\n",
      "Epoch 7/30\n",
      "600/600 [==============================] - 0s 814us/step - loss: 267434.7411 - acc: 0.7500\n",
      "Epoch 8/30\n",
      "600/600 [==============================] - 0s 821us/step - loss: 263550.6875 - acc: 0.7500\n",
      "Epoch 9/30\n",
      "600/600 [==============================] - 0s 818us/step - loss: 261682.0818 - acc: 0.7500\n",
      "Epoch 10/30\n",
      "600/600 [==============================] - 0s 812us/step - loss: 260334.4292 - acc: 0.7500\n",
      "Epoch 11/30\n",
      "600/600 [==============================] - 0s 810us/step - loss: 259077.3672 - acc: 0.7500\n",
      "Epoch 12/30\n",
      "600/600 [==============================] - 0s 817us/step - loss: 258157.3995 - acc: 0.7500\n",
      "Epoch 13/30\n",
      "600/600 [==============================] - 0s 818us/step - loss: 258127.8391 - acc: 0.7500\n",
      "Epoch 14/30\n",
      "600/600 [==============================] - 0s 813us/step - loss: 256189.7505 - acc: 0.7500\n",
      "Epoch 15/30\n",
      "600/600 [==============================] - 0s 813us/step - loss: 255342.4479 - acc: 0.7500\n",
      "Epoch 16/30\n",
      "600/600 [==============================] - 0s 809us/step - loss: 255310.5490 - acc: 0.7500\n",
      "Epoch 17/30\n",
      "600/600 [==============================] - 0s 811us/step - loss: 254053.5198 - acc: 0.7500\n",
      "Epoch 18/30\n",
      "600/600 [==============================] - 0s 809us/step - loss: 253323.8130 - acc: 0.7500\n",
      "Epoch 19/30\n",
      "600/600 [==============================] - 0s 813us/step - loss: 252965.5724 - acc: 0.7500\n",
      "Epoch 20/30\n",
      "600/600 [==============================] - 0s 811us/step - loss: 252748.9490 - acc: 0.7500\n",
      "Epoch 21/30\n",
      "600/600 [==============================] - 0s 814us/step - loss: 252225.0734 - acc: 0.7500\n",
      "Epoch 22/30\n",
      "600/600 [==============================] - 0s 815us/step - loss: 251659.8974 - acc: 0.7500\n",
      "Epoch 23/30\n",
      "600/600 [==============================] - 0s 816us/step - loss: 251562.7437 - acc: 0.7500\n",
      "Epoch 24/30\n",
      "600/600 [==============================] - 0s 813us/step - loss: 251297.3188 - acc: 0.7500\n",
      "Epoch 25/30\n",
      "600/600 [==============================] - 0s 812us/step - loss: 249933.8224 - acc: 0.7500\n",
      "Epoch 26/30\n",
      "600/600 [==============================] - 0s 810us/step - loss: 249596.4385 - acc: 0.7500\n",
      "Epoch 27/30\n",
      "600/600 [==============================] - 0s 818us/step - loss: 249329.4307 - acc: 0.7500\n",
      "Epoch 28/30\n",
      "600/600 [==============================] - 0s 820us/step - loss: 249163.5719 - acc: 0.7500\n",
      "Epoch 29/30\n",
      "600/600 [==============================] - 0s 816us/step - loss: 248893.0766 - acc: 0.7500\n",
      "Epoch 30/30\n",
      "600/600 [==============================] - 0s 820us/step - loss: 248472.6917 - acc: 0.7500\n",
      "300/300 [==============================] - 0s 1ms/step\n",
      "600/600 [==============================] - 0s 374us/step\n",
      "[CV]  optimizer=Adam, momentum=0.2, lr=1, loss=mean_squared_error, last_activation=sigmoid, l2=0.0001, l1=0.0001, epochs=30, dropout=0.4, decay=0.01, clipnorm=1, activation=relu, No_of_Units_in_dense_layers=32, No_of_Dense_Layers=3, No_of_CONV_and_Maxpool_layers=2, Conv2d_filters=80, score=0.7099999944368999, total=  16.8s\n",
      "[CV] optimizer=sgd, momentum=0.5, lr=0.01, loss=binary_crossentropy, last_activation=softmax, l2=0.001, l1=0.0001, epochs=30, dropout=0.8, decay=0.0001, clipnorm=1, activation=selu, No_of_Units_in_dense_layers=64, No_of_Dense_Layers=3, No_of_CONV_and_Maxpool_layers=3, Conv2d_filters=60 \n"
     ]
    },
    {
     "name": "stderr",
     "output_type": "stream",
     "text": [
      "[Parallel(n_jobs=1)]: Done   6 out of   6 | elapsed:  1.3min remaining:    0.0s\n"
     ]
    },
    {
     "name": "stdout",
     "output_type": "stream",
     "text": [
      "Epoch 1/30\n",
      "600/600 [==============================] - 2s 3ms/step - loss: 8.7464 - acc: 0.0242\n",
      "Epoch 2/30\n",
      "600/600 [==============================] - 1s 1ms/step - loss: 6.2371 - acc: 0.0158\n",
      "Epoch 3/30\n",
      "600/600 [==============================] - 1s 998us/step - loss: 157.4676 - acc: 0.0167\n",
      "Epoch 4/30\n",
      "600/600 [==============================] - 1s 1ms/step - loss: 15.8339 - acc: 0.0108\n",
      "Epoch 5/30\n",
      "600/600 [==============================] - 1s 995us/step - loss: 16.4891 - acc: 0.0158\n",
      "Epoch 6/30\n",
      "600/600 [==============================] - 1s 1ms/step - loss: 16.3127 - acc: 0.0150\n",
      "Epoch 7/30\n",
      "600/600 [==============================] - 1s 1ms/step - loss: 17.4222 - acc: 0.0067\n",
      "Epoch 8/30\n",
      "600/600 [==============================] - 1s 997us/step - loss: 17.3304 - acc: 0.0092\n",
      "Epoch 9/30\n",
      "600/600 [==============================] - 1s 997us/step - loss: 17.1232 - acc: 8.3333e-04\n",
      "Epoch 10/30\n",
      "600/600 [==============================] - 1s 996us/step - loss: 16.4779 - acc: 0.0042\n",
      "Epoch 11/30\n",
      "600/600 [==============================] - 1s 1ms/step - loss: 15.3254 - acc: 0.0042\n",
      "Epoch 12/30\n",
      "600/600 [==============================] - 1s 1ms/step - loss: 13.5068 - acc: 0.0033\n",
      "Epoch 13/30\n",
      "600/600 [==============================] - 1s 999us/step - loss: 13.3736 - acc: 0.0017\n",
      "Epoch 14/30\n",
      "600/600 [==============================] - 1s 1ms/step - loss: 13.1978 - acc: 8.3333e-04\n",
      "Epoch 15/30\n",
      "600/600 [==============================] - 1s 1ms/step - loss: 13.0196 - acc: 8.3333e-04\n",
      "Epoch 16/30\n",
      "600/600 [==============================] - 1s 998us/step - loss: 12.9030 - acc: 0.0025\n",
      "Epoch 17/30\n",
      "600/600 [==============================] - 1s 1ms/step - loss: 12.6305 - acc: 0.0017\n",
      "Epoch 18/30\n",
      "600/600 [==============================] - 1s 998us/step - loss: 12.4297 - acc: 8.3333e-04\n",
      "Epoch 19/30\n",
      "600/600 [==============================] - 1s 1ms/step - loss: 12.4615 - acc: 0.0000e+00\n",
      "Epoch 20/30\n",
      "600/600 [==============================] - 1s 1ms/step - loss: 12.5767 - acc: 8.3333e-04\n",
      "Epoch 21/30\n",
      "600/600 [==============================] - 1s 998us/step - loss: 12.3472 - acc: 0.0000e+00\n",
      "Epoch 22/30\n",
      "600/600 [==============================] - 1s 1000us/step - loss: 12.1858 - acc: 8.3333e-04\n",
      "Epoch 23/30\n",
      "600/600 [==============================] - 1s 998us/step - loss: 11.9870 - acc: 0.0025\n",
      "Epoch 24/30\n",
      "600/600 [==============================] - 1s 999us/step - loss: 11.6165 - acc: 0.0017\n",
      "Epoch 25/30\n",
      "600/600 [==============================] - 1s 1ms/step - loss: 12.7207 - acc: 0.0033\n",
      "Epoch 26/30\n",
      "600/600 [==============================] - 1s 996us/step - loss: 14.1868 - acc: 0.0042\n",
      "Epoch 27/30\n",
      "600/600 [==============================] - 1s 999us/step - loss: 14.5041 - acc: 0.0050\n",
      "Epoch 28/30\n",
      "600/600 [==============================] - 1s 999us/step - loss: 13.8517 - acc: 0.0000e+00\n",
      "Epoch 29/30\n",
      "600/600 [==============================] - 1s 1ms/step - loss: 14.4262 - acc: 0.0042\n",
      "Epoch 30/30\n",
      "600/600 [==============================] - 1s 998us/step - loss: 14.9709 - acc: 0.0033\n",
      "300/300 [==============================] - 0s 1ms/step\n",
      "600/600 [==============================] - 0s 438us/step\n",
      "[CV]  optimizer=sgd, momentum=0.5, lr=0.01, loss=binary_crossentropy, last_activation=softmax, l2=0.001, l1=0.0001, epochs=30, dropout=0.8, decay=0.0001, clipnorm=1, activation=selu, No_of_Units_in_dense_layers=64, No_of_Dense_Layers=3, No_of_CONV_and_Maxpool_layers=3, Conv2d_filters=60, score=0.0, total=  20.4s\n",
      "[CV] optimizer=sgd, momentum=0.5, lr=0.01, loss=binary_crossentropy, last_activation=softmax, l2=0.001, l1=0.0001, epochs=30, dropout=0.8, decay=0.0001, clipnorm=1, activation=selu, No_of_Units_in_dense_layers=64, No_of_Dense_Layers=3, No_of_CONV_and_Maxpool_layers=3, Conv2d_filters=60 \n"
     ]
    },
    {
     "name": "stderr",
     "output_type": "stream",
     "text": [
      "[Parallel(n_jobs=1)]: Done   7 out of   7 | elapsed:  1.6min remaining:    0.0s\n"
     ]
    },
    {
     "name": "stdout",
     "output_type": "stream",
     "text": [
      "Epoch 1/30\n",
      "600/600 [==============================] - 2s 3ms/step - loss: 7.5810 - acc: 0.0358\n",
      "Epoch 2/30\n",
      "600/600 [==============================] - 1s 1ms/step - loss: 10.1878 - acc: 0.0258\n",
      "Epoch 3/30\n",
      "600/600 [==============================] - 1s 1ms/step - loss: 14475083988840.9121 - acc: 0.0117\n",
      "Epoch 4/30\n",
      "600/600 [==============================] - 1s 1ms/step - loss: nan - acc: 0.0000e+00\n",
      "Epoch 5/30\n",
      "600/600 [==============================] - 1s 1ms/step - loss: nan - acc: 0.0000e+00\n",
      "Epoch 6/30\n",
      "600/600 [==============================] - 1s 1ms/step - loss: nan - acc: 0.0000e+00\n",
      "Epoch 7/30\n",
      "600/600 [==============================] - 1s 1ms/step - loss: nan - acc: 0.0000e+00\n",
      "Epoch 8/30\n",
      "600/600 [==============================] - 1s 1ms/step - loss: nan - acc: 0.0000e+00\n",
      "Epoch 9/30\n",
      "600/600 [==============================] - 1s 1ms/step - loss: nan - acc: 0.0000e+00\n",
      "Epoch 10/30\n",
      "600/600 [==============================] - 1s 1ms/step - loss: nan - acc: 0.0000e+00\n",
      "Epoch 11/30\n",
      "600/600 [==============================] - 1s 1ms/step - loss: nan - acc: 0.0000e+00\n",
      "Epoch 12/30\n",
      "600/600 [==============================] - 1s 1ms/step - loss: nan - acc: 0.0000e+00\n",
      "Epoch 13/30\n",
      "600/600 [==============================] - 1s 1ms/step - loss: nan - acc: 0.0000e+00\n",
      "Epoch 14/30\n",
      "600/600 [==============================] - 1s 1ms/step - loss: nan - acc: 0.0000e+00\n",
      "Epoch 15/30\n",
      "600/600 [==============================] - 1s 1ms/step - loss: nan - acc: 0.0000e+00\n",
      "Epoch 16/30\n",
      "600/600 [==============================] - 1s 1ms/step - loss: nan - acc: 0.0000e+00\n",
      "Epoch 17/30\n",
      "600/600 [==============================] - 1s 1ms/step - loss: nan - acc: 0.0000e+00\n",
      "Epoch 18/30\n",
      "600/600 [==============================] - 1s 1ms/step - loss: nan - acc: 0.0000e+00\n",
      "Epoch 19/30\n",
      "600/600 [==============================] - 1s 995us/step - loss: nan - acc: 0.0000e+00\n",
      "Epoch 20/30\n",
      "600/600 [==============================] - 1s 979us/step - loss: nan - acc: 0.0000e+00\n",
      "Epoch 21/30\n",
      "600/600 [==============================] - 1s 1ms/step - loss: nan - acc: 0.0000e+00\n",
      "Epoch 22/30\n",
      "600/600 [==============================] - 1s 982us/step - loss: nan - acc: 0.0000e+00\n",
      "Epoch 23/30\n",
      "600/600 [==============================] - 1s 983us/step - loss: nan - acc: 0.0000e+00\n",
      "Epoch 24/30\n",
      "600/600 [==============================] - 1s 979us/step - loss: nan - acc: 0.0000e+00\n",
      "Epoch 25/30\n",
      "600/600 [==============================] - 1s 980us/step - loss: nan - acc: 0.0000e+00\n",
      "Epoch 26/30\n",
      "600/600 [==============================] - 1s 979us/step - loss: nan - acc: 0.0000e+00\n",
      "Epoch 27/30\n",
      "600/600 [==============================] - 1s 980us/step - loss: nan - acc: 0.0000e+00\n",
      "Epoch 28/30\n",
      "600/600 [==============================] - 1s 982us/step - loss: nan - acc: 0.0000e+00\n",
      "Epoch 29/30\n",
      "600/600 [==============================] - 1s 983us/step - loss: nan - acc: 0.0000e+00\n",
      "Epoch 30/30\n",
      "600/600 [==============================] - 1s 980us/step - loss: nan - acc: 0.0000e+00\n",
      "300/300 [==============================] - 0s 1ms/step\n",
      "600/600 [==============================] - 0s 430us/step\n",
      "[CV]  optimizer=sgd, momentum=0.5, lr=0.01, loss=binary_crossentropy, last_activation=softmax, l2=0.001, l1=0.0001, epochs=30, dropout=0.8, decay=0.0001, clipnorm=1, activation=selu, No_of_Units_in_dense_layers=64, No_of_Dense_Layers=3, No_of_CONV_and_Maxpool_layers=3, Conv2d_filters=60, score=0.0, total=  20.4s\n",
      "[CV] optimizer=sgd, momentum=0.5, lr=0.01, loss=binary_crossentropy, last_activation=softmax, l2=0.001, l1=0.0001, epochs=30, dropout=0.8, decay=0.0001, clipnorm=1, activation=selu, No_of_Units_in_dense_layers=64, No_of_Dense_Layers=3, No_of_CONV_and_Maxpool_layers=3, Conv2d_filters=60 \n"
     ]
    },
    {
     "name": "stderr",
     "output_type": "stream",
     "text": [
      "[Parallel(n_jobs=1)]: Done   8 out of   8 | elapsed:  2.0min remaining:    0.0s\n"
     ]
    },
    {
     "name": "stdout",
     "output_type": "stream",
     "text": [
      "Epoch 1/30\n",
      "600/600 [==============================] - 2s 3ms/step - loss: 8.4008 - acc: 0.0292\n",
      "Epoch 2/30\n",
      "600/600 [==============================] - 1s 998us/step - loss: 9.5172 - acc: 0.0067\n",
      "Epoch 3/30\n",
      "600/600 [==============================] - 1s 1ms/step - loss: 6.0764 - acc: 0.0142\n",
      "Epoch 4/30\n",
      "600/600 [==============================] - 1s 994us/step - loss: 6.1349 - acc: 0.0058\n",
      "Epoch 5/30\n",
      "600/600 [==============================] - 1s 995us/step - loss: 5.8796 - acc: 0.0100\n",
      "Epoch 6/30\n",
      "600/600 [==============================] - 1s 1ms/step - loss: 6.0054 - acc: 0.0083\n",
      "Epoch 7/30\n",
      "600/600 [==============================] - 1s 992us/step - loss: 5.5163 - acc: 0.0117\n",
      "Epoch 8/30\n",
      "600/600 [==============================] - 1s 991us/step - loss: 5.4479 - acc: 0.0058\n",
      "Epoch 9/30\n",
      "600/600 [==============================] - 1s 991us/step - loss: 6.2427 - acc: 0.0050\n",
      "Epoch 10/30\n",
      "600/600 [==============================] - 1s 1ms/step - loss: 7.4329 - acc: 0.0067\n",
      "Epoch 11/30\n",
      "600/600 [==============================] - 1s 998us/step - loss: 9.6198 - acc: 0.0075\n",
      "Epoch 12/30\n",
      "600/600 [==============================] - 1s 997us/step - loss: 7.9027 - acc: 0.0042\n",
      "Epoch 13/30\n",
      "600/600 [==============================] - 1s 995us/step - loss: 320.1930 - acc: 0.0017\n",
      "Epoch 14/30\n",
      "600/600 [==============================] - 1s 994us/step - loss: 12.7861 - acc: 8.3333e-04\n",
      "Epoch 15/30\n",
      "600/600 [==============================] - 1s 990us/step - loss: 12.5309 - acc: 8.3333e-04\n",
      "Epoch 16/30\n",
      "600/600 [==============================] - 1s 997us/step - loss: 12.3366 - acc: 8.3333e-04\n",
      "Epoch 17/30\n",
      "600/600 [==============================] - 1s 993us/step - loss: 12.1916 - acc: 8.3333e-04\n",
      "Epoch 18/30\n",
      "600/600 [==============================] - 1s 997us/step - loss: 11.9780 - acc: 8.3333e-04\n",
      "Epoch 19/30\n",
      "600/600 [==============================] - 1s 997us/step - loss: 11.7755 - acc: 0.0033\n",
      "Epoch 20/30\n",
      "600/600 [==============================] - 1s 991us/step - loss: 11.6893 - acc: 8.3333e-04\n",
      "Epoch 21/30\n",
      "600/600 [==============================] - 1s 996us/step - loss: 11.7367 - acc: 8.3333e-04\n",
      "Epoch 22/30\n",
      "600/600 [==============================] - 1s 997us/step - loss: 11.6239 - acc: 8.3333e-04\n",
      "Epoch 23/30\n",
      "600/600 [==============================] - 1s 992us/step - loss: 11.5562 - acc: 0.0000e+00\n",
      "Epoch 24/30\n",
      "600/600 [==============================] - 1s 990us/step - loss: 11.5314 - acc: 0.0025\n",
      "Epoch 25/30\n",
      "600/600 [==============================] - 1s 990us/step - loss: 11.4607 - acc: 0.0033\n",
      "Epoch 26/30\n",
      "600/600 [==============================] - 1s 991us/step - loss: 11.5000 - acc: 0.0017\n",
      "Epoch 27/30\n",
      "600/600 [==============================] - 1s 992us/step - loss: 11.4301 - acc: 0.0000e+00\n",
      "Epoch 28/30\n",
      "600/600 [==============================] - 1s 990us/step - loss: 11.3500 - acc: 8.3333e-04\n",
      "Epoch 29/30\n",
      "600/600 [==============================] - 1s 1ms/step - loss: 11.3062 - acc: 8.3333e-04\n",
      "Epoch 30/30\n",
      "600/600 [==============================] - 1s 996us/step - loss: 11.2814 - acc: 8.3333e-04\n",
      "300/300 [==============================] - 0s 2ms/step\n",
      "600/600 [==============================] - 0s 435us/step\n",
      "[CV]  optimizer=sgd, momentum=0.5, lr=0.01, loss=binary_crossentropy, last_activation=softmax, l2=0.001, l1=0.0001, epochs=30, dropout=0.8, decay=0.0001, clipnorm=1, activation=selu, No_of_Units_in_dense_layers=64, No_of_Dense_Layers=3, No_of_CONV_and_Maxpool_layers=3, Conv2d_filters=60, score=0.0, total=  20.5s\n",
      "[CV] optimizer=Adagrad, momentum=0.5, lr=1, loss=mean_squared_error, last_activation=sigmoid, l2=0.01, l1=0.001, epochs=10, dropout=0.8, decay=0.01, clipnorm=0.0, activation=selu, No_of_Units_in_dense_layers=256, No_of_Dense_Layers=3, No_of_CONV_and_Maxpool_layers=2, Conv2d_filters=60 \n"
     ]
    },
    {
     "name": "stderr",
     "output_type": "stream",
     "text": [
      "[Parallel(n_jobs=1)]: Done   9 out of   9 | elapsed:  2.3min remaining:    0.0s\n"
     ]
    },
    {
     "name": "stdout",
     "output_type": "stream",
     "text": [
      "Epoch 1/10\n",
      "600/600 [==============================] - 4s 6ms/step - loss: 43218145408696935564443648.0000 - acc: 0.3600\n",
      "Epoch 2/10\n",
      "600/600 [==============================] - 1s 1ms/step - loss: 42530120537966206907318272.0000 - acc: 0.3383\n",
      "Epoch 3/10\n",
      "600/600 [==============================] - 1s 1ms/step - loss: 40908260355467037825302528.0000 - acc: 0.3683\n",
      "Epoch 4/10\n",
      "600/600 [==============================] - 1s 1ms/step - loss: 37986857720687059387023360.0000 - acc: 0.3533\n",
      "Epoch 5/10\n",
      "600/600 [==============================] - 1s 1ms/step - loss: 37754558103151139360866304.0000 - acc: 0.3783\n",
      "Epoch 6/10\n",
      "600/600 [==============================] - 1s 1ms/step - loss: 37156487143888227546431488.0000 - acc: 0.3500\n",
      "Epoch 7/10\n",
      "600/600 [==============================] - 1s 1ms/step - loss: 37767991483354213922111488.0000 - acc: 0.3483\n",
      "Epoch 8/10\n",
      "600/600 [==============================] - 1s 1ms/step - loss: 37401384273536386464743424.0000 - acc: 0.3733\n",
      "Epoch 9/10\n",
      "600/600 [==============================] - 1s 1ms/step - loss: 37665503832846555280310272.0000 - acc: 0.3683\n",
      "Epoch 10/10\n",
      "600/600 [==============================] - 1s 1ms/step - loss: 37107007595982186560356352.0000 - acc: 0.3567\n",
      "300/300 [==============================] - 0s 2ms/step\n",
      "600/600 [==============================] - 0s 407us/step\n",
      "[CV]  optimizer=Adagrad, momentum=0.5, lr=1, loss=mean_squared_error, last_activation=sigmoid, l2=0.01, l1=0.001, epochs=10, dropout=0.8, decay=0.01, clipnorm=0.0, activation=selu, No_of_Units_in_dense_layers=256, No_of_Dense_Layers=3, No_of_CONV_and_Maxpool_layers=2, Conv2d_filters=60, score=0.2433333362142245, total=  10.9s\n",
      "[CV] optimizer=Adagrad, momentum=0.5, lr=1, loss=mean_squared_error, last_activation=sigmoid, l2=0.01, l1=0.001, epochs=10, dropout=0.8, decay=0.01, clipnorm=0.0, activation=selu, No_of_Units_in_dense_layers=256, No_of_Dense_Layers=3, No_of_CONV_and_Maxpool_layers=2, Conv2d_filters=60 \n"
     ]
    },
    {
     "name": "stderr",
     "output_type": "stream",
     "text": [
      "[Parallel(n_jobs=1)]: Done  10 out of  10 | elapsed:  2.5min remaining:    0.0s\n"
     ]
    },
    {
     "name": "stdout",
     "output_type": "stream",
     "text": [
      "Epoch 1/10\n",
      "600/600 [==============================] - 4s 7ms/step - loss: 1008112730963418747502592.0000 - acc: 0.6750\n",
      "Epoch 2/10\n",
      "600/600 [==============================] - 1s 1ms/step - loss: 371212943878983312736256.0000 - acc: 0.7083\n",
      "Epoch 3/10\n",
      "600/600 [==============================] - 1s 1ms/step - loss: 269132376744047329411072.0000 - acc: 0.7183\n",
      "Epoch 4/10\n",
      "600/600 [==============================] - 1s 1ms/step - loss: 214820864556041968287744.0000 - acc: 0.7117\n",
      "Epoch 5/10\n",
      "600/600 [==============================] - 1s 1ms/step - loss: 177915303458981780914176.0000 - acc: 0.7117\n",
      "Epoch 6/10\n",
      "600/600 [==============================] - 1s 1ms/step - loss: 148769876565205211676672.0000 - acc: 0.7100\n",
      "Epoch 7/10\n",
      "600/600 [==============================] - 1s 1ms/step - loss: 137850971326239482052608.0000 - acc: 0.7083\n",
      "Epoch 8/10\n",
      "600/600 [==============================] - 1s 1ms/step - loss: 130742662462503613628416.0000 - acc: 0.7217\n",
      "Epoch 9/10\n",
      "600/600 [==============================] - 1s 1ms/step - loss: 125829791613716344602624.0000 - acc: 0.7117\n",
      "Epoch 10/10\n",
      "600/600 [==============================] - 1s 1ms/step - loss: 116200475614849534001152.0000 - acc: 0.7067\n",
      "300/300 [==============================] - 1s 2ms/step\n",
      "600/600 [==============================] - 0s 446us/step\n",
      "[CV]  optimizer=Adagrad, momentum=0.5, lr=1, loss=mean_squared_error, last_activation=sigmoid, l2=0.01, l1=0.001, epochs=10, dropout=0.8, decay=0.01, clipnorm=0.0, activation=selu, No_of_Units_in_dense_layers=256, No_of_Dense_Layers=3, No_of_CONV_and_Maxpool_layers=2, Conv2d_filters=60, score=0.7433333357175191, total=  11.7s\n",
      "[CV] optimizer=Adagrad, momentum=0.5, lr=1, loss=mean_squared_error, last_activation=sigmoid, l2=0.01, l1=0.001, epochs=10, dropout=0.8, decay=0.01, clipnorm=0.0, activation=selu, No_of_Units_in_dense_layers=256, No_of_Dense_Layers=3, No_of_CONV_and_Maxpool_layers=2, Conv2d_filters=60 \n"
     ]
    },
    {
     "name": "stderr",
     "output_type": "stream",
     "text": [
      "[Parallel(n_jobs=1)]: Done  11 out of  11 | elapsed:  2.7min remaining:    0.0s\n"
     ]
    },
    {
     "name": "stdout",
     "output_type": "stream",
     "text": [
      "Epoch 1/10\n",
      "600/600 [==============================] - 4s 6ms/step - loss: 32097774492333395754876928.0000 - acc: 0.3217\n",
      "Epoch 2/10\n",
      "600/600 [==============================] - 1s 1ms/step - loss: 26354415117519996571353088.0000 - acc: 0.3750\n",
      "Epoch 3/10\n",
      "600/600 [==============================] - 1s 1ms/step - loss: 24292141764134058932043776.0000 - acc: 0.3683\n",
      "Epoch 4/10\n",
      "600/600 [==============================] - 1s 1ms/step - loss: 21907577908692637861281792.0000 - acc: 0.3583\n",
      "Epoch 5/10\n",
      "600/600 [==============================] - 1s 1ms/step - loss: 21768576638457975102504960.0000 - acc: 0.4017\n",
      "Epoch 6/10\n",
      "600/600 [==============================] - 1s 1ms/step - loss: 22849358403369690904657920.0000 - acc: 0.3733\n",
      "Epoch 7/10\n",
      "600/600 [==============================] - 1s 1ms/step - loss: 22355143746947911207878656.0000 - acc: 0.3717\n",
      "Epoch 8/10\n",
      "600/600 [==============================] - 1s 1ms/step - loss: 21519639191473707812913152.0000 - acc: 0.3867\n",
      "Epoch 9/10\n",
      "600/600 [==============================] - 1s 1ms/step - loss: 19910944680804248736235520.0000 - acc: 0.3850\n",
      "Epoch 10/10\n",
      "600/600 [==============================] - 1s 1ms/step - loss: 20567442204725402910326784.0000 - acc: 0.4233\n",
      "300/300 [==============================] - 1s 2ms/step\n",
      "600/600 [==============================] - 0s 431us/step\n",
      "[CV]  optimizer=Adagrad, momentum=0.5, lr=1, loss=mean_squared_error, last_activation=sigmoid, l2=0.01, l1=0.001, epochs=10, dropout=0.8, decay=0.01, clipnorm=0.0, activation=selu, No_of_Units_in_dense_layers=256, No_of_Dense_Layers=3, No_of_CONV_and_Maxpool_layers=2, Conv2d_filters=60, score=0.37333333790302276, total=  11.5s\n",
      "[CV] optimizer=Adagrad, momentum=0.9, lr=1, loss=mean_squared_error, last_activation=sigmoid, l2=0.001, l1=0.01, epochs=5, dropout=0.8, decay=0.01, clipnorm=0.0, activation=relu, No_of_Units_in_dense_layers=128, No_of_Dense_Layers=2, No_of_CONV_and_Maxpool_layers=3, Conv2d_filters=220 \n"
     ]
    },
    {
     "name": "stderr",
     "output_type": "stream",
     "text": [
      "[Parallel(n_jobs=1)]: Done  12 out of  12 | elapsed:  2.9min remaining:    0.0s\n"
     ]
    },
    {
     "name": "stdout",
     "output_type": "stream",
     "text": [
      "Epoch 1/5\n",
      "600/600 [==============================] - 4s 6ms/step - loss: 15894813090824769536.0000 - acc: 0.7083\n",
      "Epoch 2/5\n",
      "600/600 [==============================] - 1s 2ms/step - loss: 1785.7392 - acc: 0.7267\n",
      "Epoch 3/5\n",
      "600/600 [==============================] - 1s 2ms/step - loss: 1783.8808 - acc: 0.7267\n",
      "Epoch 4/5\n",
      "600/600 [==============================] - 1s 2ms/step - loss: 1783.6314 - acc: 0.7267\n",
      "Epoch 5/5\n",
      "600/600 [==============================] - 1s 2ms/step - loss: 1783.5542 - acc: 0.7267\n",
      "300/300 [==============================] - 1s 3ms/step\n",
      "600/600 [==============================] - 1s 855us/step\n",
      "[CV]  optimizer=Adagrad, momentum=0.9, lr=1, loss=mean_squared_error, last_activation=sigmoid, l2=0.001, l1=0.01, epochs=5, dropout=0.8, decay=0.01, clipnorm=0.0, activation=relu, No_of_Units_in_dense_layers=128, No_of_Dense_Layers=2, No_of_CONV_and_Maxpool_layers=3, Conv2d_filters=220, score=0.7566666642824809, total=  10.1s\n",
      "[CV] optimizer=Adagrad, momentum=0.9, lr=1, loss=mean_squared_error, last_activation=sigmoid, l2=0.001, l1=0.01, epochs=5, dropout=0.8, decay=0.01, clipnorm=0.0, activation=relu, No_of_Units_in_dense_layers=128, No_of_Dense_Layers=2, No_of_CONV_and_Maxpool_layers=3, Conv2d_filters=220 \n"
     ]
    },
    {
     "name": "stderr",
     "output_type": "stream",
     "text": [
      "[Parallel(n_jobs=1)]: Done  13 out of  13 | elapsed:  3.1min remaining:    0.0s\n"
     ]
    },
    {
     "name": "stdout",
     "output_type": "stream",
     "text": [
      "Epoch 1/5\n",
      "600/600 [==============================] - 4s 6ms/step - loss: 184656138246147342336.0000 - acc: 0.7150\n",
      "Epoch 2/5\n",
      "600/600 [==============================] - 1s 2ms/step - loss: 775491.4458 - acc: 0.7333\n",
      "Epoch 3/5\n",
      "600/600 [==============================] - 1s 2ms/step - loss: 556019.5500 - acc: 0.7333\n",
      "Epoch 4/5\n",
      "600/600 [==============================] - 1s 2ms/step - loss: 823373277050.4115 - acc: 0.7300\n",
      "Epoch 5/5\n",
      "600/600 [==============================] - 1s 2ms/step - loss: 616656.5479 - acc: 0.7333\n",
      "300/300 [==============================] - 1s 2ms/step\n",
      "600/600 [==============================] - 1s 848us/step\n",
      "[CV]  optimizer=Adagrad, momentum=0.9, lr=1, loss=mean_squared_error, last_activation=sigmoid, l2=0.001, l1=0.01, epochs=5, dropout=0.8, decay=0.01, clipnorm=0.0, activation=relu, No_of_Units_in_dense_layers=128, No_of_Dense_Layers=2, No_of_CONV_and_Maxpool_layers=3, Conv2d_filters=220, score=0.7433333357175191, total=  10.4s\n",
      "[CV] optimizer=Adagrad, momentum=0.9, lr=1, loss=mean_squared_error, last_activation=sigmoid, l2=0.001, l1=0.01, epochs=5, dropout=0.8, decay=0.01, clipnorm=0.0, activation=relu, No_of_Units_in_dense_layers=128, No_of_Dense_Layers=2, No_of_CONV_and_Maxpool_layers=3, Conv2d_filters=220 \n"
     ]
    },
    {
     "name": "stderr",
     "output_type": "stream",
     "text": [
      "[Parallel(n_jobs=1)]: Done  14 out of  14 | elapsed:  3.3min remaining:    0.0s\n"
     ]
    },
    {
     "name": "stdout",
     "output_type": "stream",
     "text": [
      "Epoch 1/5\n",
      "600/600 [==============================] - 4s 6ms/step - loss: 994954720801239424.0000 - acc: 0.7383\n",
      "Epoch 2/5\n",
      "600/600 [==============================] - 1s 2ms/step - loss: 1820.6158 - acc: 0.7500\n",
      "Epoch 3/5\n",
      "600/600 [==============================] - 1s 2ms/step - loss: 1791.6451 - acc: 0.7500\n",
      "Epoch 4/5\n",
      "600/600 [==============================] - 1s 2ms/step - loss: 1773.4355 - acc: 0.7500\n",
      "Epoch 5/5\n",
      "600/600 [==============================] - 1s 2ms/step - loss: 1760.2047 - acc: 0.7500\n",
      "300/300 [==============================] - 1s 3ms/step\n",
      "600/600 [==============================] - 0s 833us/step\n",
      "[CV]  optimizer=Adagrad, momentum=0.9, lr=1, loss=mean_squared_error, last_activation=sigmoid, l2=0.001, l1=0.01, epochs=5, dropout=0.8, decay=0.01, clipnorm=0.0, activation=relu, No_of_Units_in_dense_layers=128, No_of_Dense_Layers=2, No_of_CONV_and_Maxpool_layers=3, Conv2d_filters=220, score=0.7099999944368999, total=  10.1s\n",
      "[CV] optimizer=Adam, momentum=0.5, lr=1, loss=mean_absolute_error, last_activation=softmax, l2=0.01, l1=0.01, epochs=15, dropout=0.8, decay=1e-06, clipnorm=1, activation=linear, No_of_Units_in_dense_layers=256, No_of_Dense_Layers=2, No_of_CONV_and_Maxpool_layers=2, Conv2d_filters=80 \n"
     ]
    },
    {
     "name": "stderr",
     "output_type": "stream",
     "text": [
      "[Parallel(n_jobs=1)]: Done  15 out of  15 | elapsed:  3.4min remaining:    0.0s\n"
     ]
    },
    {
     "name": "stdout",
     "output_type": "stream",
     "text": [
      "Epoch 1/15\n",
      "600/600 [==============================] - 5s 8ms/step - loss: 4067123992303.5522 - acc: 0.5267\n",
      "Epoch 2/15\n",
      "600/600 [==============================] - 1s 1ms/step - loss: 183058771899.7333 - acc: 0.5200\n",
      "Epoch 3/15\n",
      "600/600 [==============================] - 1s 1ms/step - loss: 10959069499.7333 - acc: 0.4383\n",
      "Epoch 4/15\n",
      "600/600 [==============================] - 1s 1ms/step - loss: 1718416537.6000 - acc: 0.5050\n",
      "Epoch 5/15\n",
      "600/600 [==============================] - 1s 1ms/step - loss: 569402747.7333 - acc: 0.5217\n",
      "Epoch 6/15\n",
      "600/600 [==============================] - 1s 1ms/step - loss: 601407464.0000 - acc: 0.5433\n",
      "Epoch 7/15\n",
      "600/600 [==============================] - 1s 1ms/step - loss: 543106064.0000 - acc: 0.5167\n",
      "Epoch 8/15\n",
      "600/600 [==============================] - 1s 1ms/step - loss: 489062089.6000 - acc: 0.5000\n",
      "Epoch 9/15\n",
      "600/600 [==============================] - 1s 1ms/step - loss: 289930507.7333 - acc: 0.5017\n",
      "Epoch 10/15\n",
      "600/600 [==============================] - 1s 1ms/step - loss: 362012347.7333 - acc: 0.5183\n",
      "Epoch 11/15\n",
      "600/600 [==============================] - 1s 1ms/step - loss: 331133373.6000 - acc: 0.5100\n",
      "Epoch 12/15\n",
      "600/600 [==============================] - 1s 1ms/step - loss: 311222528.0000 - acc: 0.5050\n",
      "Epoch 13/15\n",
      "600/600 [==============================] - 1s 1ms/step - loss: 179617147.4667 - acc: 0.5033\n",
      "Epoch 14/15\n",
      "600/600 [==============================] - 1s 1ms/step - loss: 268193358.1333 - acc: 0.4600\n",
      "Epoch 15/15\n",
      "600/600 [==============================] - 1s 1ms/step - loss: 211676181.3333 - acc: 0.4983\n",
      "300/300 [==============================] - 1s 2ms/step\n",
      "600/600 [==============================] - 0s 364us/step\n",
      "[CV]  optimizer=Adam, momentum=0.5, lr=1, loss=mean_absolute_error, last_activation=softmax, l2=0.01, l1=0.01, epochs=15, dropout=0.8, decay=1e-06, clipnorm=1, activation=linear, No_of_Units_in_dense_layers=256, No_of_Dense_Layers=2, No_of_CONV_and_Maxpool_layers=2, Conv2d_filters=80, score=0.7, total=  15.8s\n",
      "[CV] optimizer=Adam, momentum=0.5, lr=1, loss=mean_absolute_error, last_activation=softmax, l2=0.01, l1=0.01, epochs=15, dropout=0.8, decay=1e-06, clipnorm=1, activation=linear, No_of_Units_in_dense_layers=256, No_of_Dense_Layers=2, No_of_CONV_and_Maxpool_layers=2, Conv2d_filters=80 \n"
     ]
    },
    {
     "name": "stderr",
     "output_type": "stream",
     "text": [
      "[Parallel(n_jobs=1)]: Done  16 out of  16 | elapsed:  3.7min remaining:    0.0s\n"
     ]
    },
    {
     "name": "stdout",
     "output_type": "stream",
     "text": [
      "Epoch 1/15\n",
      "600/600 [==============================] - 5s 8ms/step - loss: 11088673636352.5664 - acc: 0.4783\n",
      "Epoch 2/15\n",
      "600/600 [==============================] - 1s 1ms/step - loss: 1949142201139.2000 - acc: 0.4983\n",
      "Epoch 3/15\n",
      "600/600 [==============================] - 1s 1ms/step - loss: 67971498188.8000 - acc: 0.4867\n",
      "Epoch 4/15\n",
      "600/600 [==============================] - 1s 1ms/step - loss: 13276721058.1333 - acc: 0.5017\n",
      "Epoch 5/15\n",
      "600/600 [==============================] - 1s 1ms/step - loss: 5448505949.8667 - acc: 0.4867\n",
      "Epoch 6/15\n",
      "600/600 [==============================] - 1s 1ms/step - loss: 5856715340.8000 - acc: 0.4867\n",
      "Epoch 7/15\n",
      "600/600 [==============================] - 1s 1ms/step - loss: 6036143104.0000 - acc: 0.5167\n",
      "Epoch 8/15\n",
      "600/600 [==============================] - 1s 1ms/step - loss: 3113210193.0667 - acc: 0.5217\n",
      "Epoch 9/15\n",
      "600/600 [==============================] - 1s 1ms/step - loss: 1876242423.4667 - acc: 0.5000\n",
      "Epoch 10/15\n",
      "600/600 [==============================] - 1s 1ms/step - loss: 1202519780.2667 - acc: 0.5500\n",
      "Epoch 11/15\n",
      "600/600 [==============================] - 1s 1ms/step - loss: 1451061467.7333 - acc: 0.5083\n",
      "Epoch 12/15\n",
      "600/600 [==============================] - 1s 1ms/step - loss: 1441569561.6000 - acc: 0.5117\n",
      "Epoch 13/15\n",
      "600/600 [==============================] - 1s 1ms/step - loss: 918338702.9333 - acc: 0.5083\n",
      "Epoch 14/15\n",
      "600/600 [==============================] - 1s 1ms/step - loss: 1122016759.4667 - acc: 0.5117\n",
      "Epoch 15/15\n",
      "600/600 [==============================] - 1s 1ms/step - loss: 1120613737.6000 - acc: 0.5083\n",
      "300/300 [==============================] - 1s 2ms/step\n",
      "600/600 [==============================] - 0s 385us/step\n",
      "[CV]  optimizer=Adam, momentum=0.5, lr=1, loss=mean_absolute_error, last_activation=softmax, l2=0.01, l1=0.01, epochs=15, dropout=0.8, decay=1e-06, clipnorm=1, activation=linear, No_of_Units_in_dense_layers=256, No_of_Dense_Layers=2, No_of_CONV_and_Maxpool_layers=2, Conv2d_filters=80, score=0.2700000022848447, total=  15.7s\n",
      "[CV] optimizer=Adam, momentum=0.5, lr=1, loss=mean_absolute_error, last_activation=softmax, l2=0.01, l1=0.01, epochs=15, dropout=0.8, decay=1e-06, clipnorm=1, activation=linear, No_of_Units_in_dense_layers=256, No_of_Dense_Layers=2, No_of_CONV_and_Maxpool_layers=2, Conv2d_filters=80 \n"
     ]
    },
    {
     "name": "stderr",
     "output_type": "stream",
     "text": [
      "[Parallel(n_jobs=1)]: Done  17 out of  17 | elapsed:  4.0min remaining:    0.0s\n"
     ]
    },
    {
     "name": "stdout",
     "output_type": "stream",
     "text": [
      "Epoch 1/15\n",
      "600/600 [==============================] - 5s 9ms/step - loss: 3024212484642.6885 - acc: 0.4983\n",
      "Epoch 2/15\n",
      "600/600 [==============================] - 1s 1ms/step - loss: 136581816524.8000 - acc: 0.5517\n",
      "Epoch 3/15\n",
      "600/600 [==============================] - 1s 1ms/step - loss: 8477123652.2667 - acc: 0.4950\n",
      "Epoch 4/15\n",
      "600/600 [==============================] - 1s 1ms/step - loss: 1944578086.4000 - acc: 0.5267\n",
      "Epoch 5/15\n",
      "600/600 [==============================] - 1s 1ms/step - loss: 1251529623.4667 - acc: 0.5183\n",
      "Epoch 6/15\n",
      "600/600 [==============================] - 1s 1ms/step - loss: 663419534.9333 - acc: 0.5017\n",
      "Epoch 7/15\n",
      "600/600 [==============================] - 1s 1ms/step - loss: 517090605.8667 - acc: 0.5200\n",
      "Epoch 8/15\n",
      "600/600 [==============================] - 1s 1ms/step - loss: 431869242.6667 - acc: 0.5300\n",
      "Epoch 9/15\n",
      "600/600 [==============================] - 1s 1ms/step - loss: 302902069.8667 - acc: 0.5100\n",
      "Epoch 10/15\n",
      "600/600 [==============================] - 1s 1ms/step - loss: 266159112.0000 - acc: 0.5083\n",
      "Epoch 11/15\n",
      "600/600 [==============================] - 1s 1ms/step - loss: 347572059.2000 - acc: 0.4950\n",
      "Epoch 12/15\n",
      "600/600 [==============================] - 1s 1ms/step - loss: 218015929.8667 - acc: 0.5133\n",
      "Epoch 13/15\n",
      "600/600 [==============================] - 1s 1ms/step - loss: 290000717.3333 - acc: 0.5100\n",
      "Epoch 14/15\n",
      "600/600 [==============================] - 1s 1ms/step - loss: 319085062.9333 - acc: 0.4783\n",
      "Epoch 15/15\n",
      "600/600 [==============================] - 1s 1ms/step - loss: 232190786.1333 - acc: 0.5167\n",
      "300/300 [==============================] - 1s 3ms/step\n",
      "600/600 [==============================] - 0s 369us/step\n",
      "[CV]  optimizer=Adam, momentum=0.5, lr=1, loss=mean_absolute_error, last_activation=softmax, l2=0.01, l1=0.01, epochs=15, dropout=0.8, decay=1e-06, clipnorm=1, activation=linear, No_of_Units_in_dense_layers=256, No_of_Dense_Layers=2, No_of_CONV_and_Maxpool_layers=2, Conv2d_filters=80, score=0.7099999944368999, total=  15.7s\n",
      "[CV] optimizer=sgd, momentum=0.5, lr=0.001, loss=binary_crossentropy, last_activation=sigmoid, l2=0.001, l1=0.001, epochs=15, dropout=0, decay=1e-06, clipnorm=1, activation=linear, No_of_Units_in_dense_layers=256, No_of_Dense_Layers=3, No_of_CONV_and_Maxpool_layers=2, Conv2d_filters=40 \n"
     ]
    },
    {
     "name": "stderr",
     "output_type": "stream",
     "text": [
      "[Parallel(n_jobs=1)]: Done  18 out of  18 | elapsed:  4.2min remaining:    0.0s\n"
     ]
    },
    {
     "name": "stdout",
     "output_type": "stream",
     "text": [
      "Epoch 1/15\n",
      "600/600 [==============================] - 3s 5ms/step - loss: 6.6781 - acc: 0.3825\n",
      "Epoch 2/15\n",
      "600/600 [==============================] - 0s 587us/step - loss: 4.1720 - acc: 0.5125\n",
      "Epoch 3/15\n",
      "600/600 [==============================] - 0s 590us/step - loss: 2.3881 - acc: 0.6367\n",
      "Epoch 4/15\n",
      "600/600 [==============================] - 0s 597us/step - loss: 1.9265 - acc: 0.7233\n",
      "Epoch 5/15\n",
      "600/600 [==============================] - 0s 586us/step - loss: 1.8515 - acc: 0.7208\n",
      "Epoch 6/15\n",
      "600/600 [==============================] - 0s 599us/step - loss: 1.8183 - acc: 0.7250\n",
      "Epoch 7/15\n",
      "600/600 [==============================] - 0s 592us/step - loss: 1.7923 - acc: 0.7267\n",
      "Epoch 8/15\n",
      "600/600 [==============================] - 0s 589us/step - loss: 1.7737 - acc: 0.7267\n",
      "Epoch 9/15\n",
      "600/600 [==============================] - 0s 593us/step - loss: 1.7626 - acc: 0.7258\n",
      "Epoch 10/15\n",
      "600/600 [==============================] - 0s 589us/step - loss: 1.7559 - acc: 0.7275\n",
      "Epoch 11/15\n",
      "600/600 [==============================] - 0s 607us/step - loss: 1.7436 - acc: 0.7267\n",
      "Epoch 12/15\n",
      "600/600 [==============================] - 0s 620us/step - loss: 1.7377 - acc: 0.7267\n",
      "Epoch 13/15\n",
      "600/600 [==============================] - 0s 614us/step - loss: 1.7327 - acc: 0.7258\n",
      "Epoch 14/15\n",
      "600/600 [==============================] - 0s 623us/step - loss: 1.7237 - acc: 0.7267\n",
      "Epoch 15/15\n",
      "600/600 [==============================] - 0s 625us/step - loss: 1.7207 - acc: 0.7267\n",
      "300/300 [==============================] - 1s 3ms/step\n",
      "600/600 [==============================] - 0s 321us/step\n",
      "[CV]  optimizer=sgd, momentum=0.5, lr=0.001, loss=binary_crossentropy, last_activation=sigmoid, l2=0.001, l1=0.001, epochs=15, dropout=0, decay=1e-06, clipnorm=1, activation=linear, No_of_Units_in_dense_layers=256, No_of_Dense_Layers=3, No_of_CONV_and_Maxpool_layers=2, Conv2d_filters=40, score=0.7566666642824809, total=   9.8s\n",
      "[CV] optimizer=sgd, momentum=0.5, lr=0.001, loss=binary_crossentropy, last_activation=sigmoid, l2=0.001, l1=0.001, epochs=15, dropout=0, decay=1e-06, clipnorm=1, activation=linear, No_of_Units_in_dense_layers=256, No_of_Dense_Layers=3, No_of_CONV_and_Maxpool_layers=2, Conv2d_filters=40 \n"
     ]
    },
    {
     "name": "stderr",
     "output_type": "stream",
     "text": [
      "[Parallel(n_jobs=1)]: Done  19 out of  19 | elapsed:  4.4min remaining:    0.0s\n"
     ]
    },
    {
     "name": "stdout",
     "output_type": "stream",
     "text": [
      "Epoch 1/15\n",
      "600/600 [==============================] - 4s 6ms/step - loss: 10.5254 - acc: 0.1600\n",
      "Epoch 2/15\n",
      "600/600 [==============================] - 0s 653us/step - loss: 3.9017 - acc: 0.5392\n",
      "Epoch 3/15\n",
      "600/600 [==============================] - 0s 616us/step - loss: 1.9702 - acc: 0.6850\n",
      "Epoch 4/15\n",
      "600/600 [==============================] - 0s 616us/step - loss: 1.8754 - acc: 0.7117\n",
      "Epoch 5/15\n",
      "600/600 [==============================] - 0s 628us/step - loss: 1.8356 - acc: 0.7275\n",
      "Epoch 6/15\n",
      "600/600 [==============================] - 0s 617us/step - loss: 1.8004 - acc: 0.7325\n",
      "Epoch 7/15\n",
      "600/600 [==============================] - 0s 618us/step - loss: 1.7798 - acc: 0.7342\n",
      "Epoch 8/15\n",
      "600/600 [==============================] - 0s 622us/step - loss: 1.7658 - acc: 0.7333\n",
      "Epoch 9/15\n",
      "600/600 [==============================] - 0s 609us/step - loss: 1.7542 - acc: 0.7333\n",
      "Epoch 10/15\n",
      "600/600 [==============================] - 0s 589us/step - loss: 1.7470 - acc: 0.7333\n",
      "Epoch 11/15\n",
      "600/600 [==============================] - 0s 593us/step - loss: 1.7385 - acc: 0.7333\n",
      "Epoch 12/15\n",
      "600/600 [==============================] - 0s 589us/step - loss: 1.7271 - acc: 0.7333\n",
      "Epoch 13/15\n",
      "600/600 [==============================] - 0s 588us/step - loss: 1.7223 - acc: 0.7333\n",
      "Epoch 14/15\n",
      "600/600 [==============================] - 0s 589us/step - loss: 1.7162 - acc: 0.7333\n",
      "Epoch 15/15\n",
      "600/600 [==============================] - 0s 594us/step - loss: 1.7128 - acc: 0.7333\n",
      "300/300 [==============================] - 1s 3ms/step\n",
      "600/600 [==============================] - 0s 291us/step\n",
      "[CV]  optimizer=sgd, momentum=0.5, lr=0.001, loss=binary_crossentropy, last_activation=sigmoid, l2=0.001, l1=0.001, epochs=15, dropout=0, decay=1e-06, clipnorm=1, activation=linear, No_of_Units_in_dense_layers=256, No_of_Dense_Layers=3, No_of_CONV_and_Maxpool_layers=2, Conv2d_filters=40, score=0.7433333357175191, total=  10.3s\n",
      "[CV] optimizer=sgd, momentum=0.5, lr=0.001, loss=binary_crossentropy, last_activation=sigmoid, l2=0.001, l1=0.001, epochs=15, dropout=0, decay=1e-06, clipnorm=1, activation=linear, No_of_Units_in_dense_layers=256, No_of_Dense_Layers=3, No_of_CONV_and_Maxpool_layers=2, Conv2d_filters=40 \n",
      "Epoch 1/15\n",
      "600/600 [==============================] - 3s 6ms/step - loss: 11.9166 - acc: 0.2158\n",
      "Epoch 2/15\n",
      "600/600 [==============================] - 0s 591us/step - loss: 14.7710 - acc: 0.0367\n",
      "Epoch 3/15\n",
      "600/600 [==============================] - 0s 578us/step - loss: 12.2508 - acc: 0.0933\n",
      "Epoch 4/15\n",
      "600/600 [==============================] - 0s 578us/step - loss: 8.0974 - acc: 0.1617\n",
      "Epoch 5/15\n",
      "600/600 [==============================] - 0s 585us/step - loss: 8.2247 - acc: 0.2267\n",
      "Epoch 6/15\n",
      "600/600 [==============================] - 0s 578us/step - loss: 12.3032 - acc: 0.1817\n",
      "Epoch 7/15\n",
      "600/600 [==============================] - 0s 582us/step - loss: 3.7982 - acc: 0.5167\n",
      "Epoch 8/15\n",
      "600/600 [==============================] - 0s 589us/step - loss: 2.1292 - acc: 0.6208\n",
      "Epoch 9/15\n",
      "600/600 [==============================] - 0s 577us/step - loss: 1.9330 - acc: 0.7008\n",
      "Epoch 10/15\n",
      "600/600 [==============================] - 0s 578us/step - loss: 1.8732 - acc: 0.7467\n",
      "Epoch 11/15\n",
      "600/600 [==============================] - 0s 586us/step - loss: 1.8488 - acc: 0.7500\n",
      "Epoch 12/15\n",
      "600/600 [==============================] - 0s 579us/step - loss: 1.8312 - acc: 0.7492\n",
      "Epoch 13/15\n",
      "600/600 [==============================] - 0s 588us/step - loss: 1.8045 - acc: 0.7500\n",
      "Epoch 14/15\n",
      "600/600 [==============================] - 0s 581us/step - loss: 1.7985 - acc: 0.7500\n",
      "Epoch 15/15\n",
      "600/600 [==============================] - 0s 592us/step - loss: 1.7790 - acc: 0.7500\n",
      "300/300 [==============================] - 1s 3ms/step\n",
      "600/600 [==============================] - 0s 290us/step\n",
      "[CV]  optimizer=sgd, momentum=0.5, lr=0.001, loss=binary_crossentropy, last_activation=sigmoid, l2=0.001, l1=0.001, epochs=15, dropout=0, decay=1e-06, clipnorm=1, activation=linear, No_of_Units_in_dense_layers=256, No_of_Dense_Layers=3, No_of_CONV_and_Maxpool_layers=2, Conv2d_filters=40, score=0.7099999944368999, total=   9.8s\n",
      "[CV] optimizer=sgd, momentum=0.5, lr=0.01, loss=mean_absolute_error, last_activation=softmax, l2=0.0001, l1=0.001, epochs=5, dropout=0.4, decay=0.01, clipnorm=1, activation=linear, No_of_Units_in_dense_layers=128, No_of_Dense_Layers=3, No_of_CONV_and_Maxpool_layers=2, Conv2d_filters=80 \n",
      "Epoch 1/5\n",
      "600/600 [==============================] - 4s 6ms/step - loss: 1.3088 - acc: 0.6683\n",
      "Epoch 2/5\n",
      "600/600 [==============================] - 0s 768us/step - loss: 0.4701 - acc: 0.7267\n",
      "Epoch 3/5\n",
      "600/600 [==============================] - 0s 773us/step - loss: 0.4244 - acc: 0.7267\n",
      "Epoch 4/5\n",
      "600/600 [==============================] - 0s 768us/step - loss: 0.4040 - acc: 0.7267\n",
      "Epoch 5/5\n",
      "600/600 [==============================] - 0s 777us/step - loss: 0.3928 - acc: 0.7267\n",
      "300/300 [==============================] - 1s 3ms/step\n",
      "600/600 [==============================] - 0s 357us/step\n",
      "[CV]  optimizer=sgd, momentum=0.5, lr=0.01, loss=mean_absolute_error, last_activation=softmax, l2=0.0001, l1=0.001, epochs=5, dropout=0.4, decay=0.01, clipnorm=1, activation=linear, No_of_Units_in_dense_layers=128, No_of_Dense_Layers=3, No_of_CONV_and_Maxpool_layers=2, Conv2d_filters=80, score=0.7566666642824809, total=   7.4s\n",
      "[CV] optimizer=sgd, momentum=0.5, lr=0.01, loss=mean_absolute_error, last_activation=softmax, l2=0.0001, l1=0.001, epochs=5, dropout=0.4, decay=0.01, clipnorm=1, activation=linear, No_of_Units_in_dense_layers=128, No_of_Dense_Layers=3, No_of_CONV_and_Maxpool_layers=2, Conv2d_filters=80 \n",
      "Epoch 1/5\n",
      "600/600 [==============================] - 4s 6ms/step - loss: 0.9270 - acc: 0.6833\n",
      "Epoch 2/5\n",
      "600/600 [==============================] - 0s 772us/step - loss: 0.4691 - acc: 0.7333\n",
      "Epoch 3/5\n",
      "600/600 [==============================] - 0s 775us/step - loss: 0.4203 - acc: 0.7333\n",
      "Epoch 4/5\n",
      "600/600 [==============================] - 0s 776us/step - loss: 0.4004 - acc: 0.7333\n",
      "Epoch 5/5\n",
      "600/600 [==============================] - 0s 772us/step - loss: 0.3878 - acc: 0.7333\n",
      "300/300 [==============================] - 1s 3ms/step\n",
      "600/600 [==============================] - 0s 376us/step\n",
      "[CV]  optimizer=sgd, momentum=0.5, lr=0.01, loss=mean_absolute_error, last_activation=softmax, l2=0.0001, l1=0.001, epochs=5, dropout=0.4, decay=0.01, clipnorm=1, activation=linear, No_of_Units_in_dense_layers=128, No_of_Dense_Layers=3, No_of_CONV_and_Maxpool_layers=2, Conv2d_filters=80, score=0.7433333357175191, total=   7.2s\n",
      "[CV] optimizer=sgd, momentum=0.5, lr=0.01, loss=mean_absolute_error, last_activation=softmax, l2=0.0001, l1=0.001, epochs=5, dropout=0.4, decay=0.01, clipnorm=1, activation=linear, No_of_Units_in_dense_layers=128, No_of_Dense_Layers=3, No_of_CONV_and_Maxpool_layers=2, Conv2d_filters=80 \n",
      "Epoch 1/5\n",
      "600/600 [==============================] - 4s 6ms/step - loss: 1.5606 - acc: 0.6933\n",
      "Epoch 2/5\n",
      "600/600 [==============================] - 0s 777us/step - loss: 0.4426 - acc: 0.7500\n",
      "Epoch 3/5\n",
      "600/600 [==============================] - 0s 777us/step - loss: 0.4034 - acc: 0.7500\n",
      "Epoch 4/5\n",
      "600/600 [==============================] - 0s 782us/step - loss: 0.3811 - acc: 0.7500\n",
      "Epoch 5/5\n",
      "600/600 [==============================] - 0s 784us/step - loss: 0.3728 - acc: 0.7500\n",
      "300/300 [==============================] - 1s 3ms/step\n",
      "600/600 [==============================] - 0s 378us/step\n",
      "[CV]  optimizer=sgd, momentum=0.5, lr=0.01, loss=mean_absolute_error, last_activation=softmax, l2=0.0001, l1=0.001, epochs=5, dropout=0.4, decay=0.01, clipnorm=1, activation=linear, No_of_Units_in_dense_layers=128, No_of_Dense_Layers=3, No_of_CONV_and_Maxpool_layers=2, Conv2d_filters=80, score=0.7099999944368999, total=   7.4s\n",
      "[CV] optimizer=sgd, momentum=0.2, lr=0.01, loss=mean_squared_error, last_activation=softmax, l2=0.0001, l1=0.0001, epochs=30, dropout=0, decay=1e-06, clipnorm=1, activation=relu, No_of_Units_in_dense_layers=256, No_of_Dense_Layers=4, No_of_CONV_and_Maxpool_layers=3, Conv2d_filters=120 \n",
      "Epoch 1/30\n",
      "600/600 [==============================] - 4s 7ms/step - loss: 0.4825 - acc: 0.6783\n",
      "Epoch 2/30\n",
      "600/600 [==============================] - 1s 1ms/step - loss: 0.3772 - acc: 0.7267\n",
      "Epoch 3/30\n",
      "600/600 [==============================] - 1s 1ms/step - loss: 0.3543 - acc: 0.7267\n",
      "Epoch 4/30\n",
      "600/600 [==============================] - 1s 1ms/step - loss: 0.3423 - acc: 0.7267\n",
      "Epoch 5/30\n",
      "600/600 [==============================] - 1s 1ms/step - loss: 0.3360 - acc: 0.7267\n",
      "Epoch 6/30\n",
      "600/600 [==============================] - 1s 1ms/step - loss: 0.3333 - acc: 0.7267\n",
      "Epoch 7/30\n",
      "600/600 [==============================] - 1s 1ms/step - loss: 0.3323 - acc: 0.7267\n",
      "Epoch 8/30\n",
      "600/600 [==============================] - 1s 1ms/step - loss: 0.3316 - acc: 0.7267\n",
      "Epoch 9/30\n",
      "600/600 [==============================] - 1s 1ms/step - loss: 0.3311 - acc: 0.7267\n",
      "Epoch 10/30\n",
      "600/600 [==============================] - 1s 1ms/step - loss: 0.3307 - acc: 0.7267\n",
      "Epoch 11/30\n",
      "600/600 [==============================] - 1s 1ms/step - loss: 0.3302 - acc: 0.7267\n",
      "Epoch 12/30\n",
      "600/600 [==============================] - 1s 1ms/step - loss: 0.3299 - acc: 0.7267\n",
      "Epoch 13/30\n",
      "600/600 [==============================] - 1s 1ms/step - loss: 0.3297 - acc: 0.7267\n",
      "Epoch 14/30\n",
      "600/600 [==============================] - 1s 1ms/step - loss: 0.3294 - acc: 0.7267\n",
      "Epoch 15/30\n",
      "600/600 [==============================] - 1s 1ms/step - loss: 0.3292 - acc: 0.7267\n",
      "Epoch 16/30\n",
      "600/600 [==============================] - 1s 1ms/step - loss: 0.3290 - acc: 0.7267\n",
      "Epoch 17/30\n",
      "600/600 [==============================] - 1s 1ms/step - loss: 0.3288 - acc: 0.7267\n",
      "Epoch 18/30\n",
      "600/600 [==============================] - 1s 1ms/step - loss: 0.3287 - acc: 0.7267\n",
      "Epoch 19/30\n",
      "600/600 [==============================] - 1s 1ms/step - loss: 0.3284 - acc: 0.7267\n",
      "Epoch 20/30\n",
      "600/600 [==============================] - 1s 1ms/step - loss: 0.3284 - acc: 0.7267\n",
      "Epoch 21/30\n",
      "600/600 [==============================] - 1s 1ms/step - loss: 0.3283 - acc: 0.7267\n",
      "Epoch 22/30\n",
      "600/600 [==============================] - 1s 1ms/step - loss: 0.3281 - acc: 0.7267\n",
      "Epoch 23/30\n",
      "600/600 [==============================] - 1s 1ms/step - loss: 0.3280 - acc: 0.7267\n",
      "Epoch 24/30\n",
      "600/600 [==============================] - 1s 1ms/step - loss: 0.3278 - acc: 0.7267\n",
      "Epoch 25/30\n",
      "600/600 [==============================] - 1s 1ms/step - loss: 0.3278 - acc: 0.7267\n",
      "Epoch 26/30\n",
      "600/600 [==============================] - 1s 1ms/step - loss: 0.3278 - acc: 0.7267\n",
      "Epoch 27/30\n",
      "600/600 [==============================] - 1s 1ms/step - loss: 0.3276 - acc: 0.7267\n",
      "Epoch 28/30\n",
      "600/600 [==============================] - 1s 1ms/step - loss: 0.3275 - acc: 0.7267\n",
      "Epoch 29/30\n",
      "600/600 [==============================] - 1s 1ms/step - loss: 0.3274 - acc: 0.7267\n",
      "Epoch 30/30\n",
      "600/600 [==============================] - 1s 1ms/step - loss: 0.3274 - acc: 0.7267\n",
      "300/300 [==============================] - 1s 4ms/step\n",
      "600/600 [==============================] - 0s 510us/step\n",
      "[CV]  optimizer=sgd, momentum=0.2, lr=0.01, loss=mean_squared_error, last_activation=softmax, l2=0.0001, l1=0.0001, epochs=30, dropout=0, decay=1e-06, clipnorm=1, activation=relu, No_of_Units_in_dense_layers=256, No_of_Dense_Layers=4, No_of_CONV_and_Maxpool_layers=3, Conv2d_filters=120, score=0.7566666642824809, total=  25.5s\n",
      "[CV] optimizer=sgd, momentum=0.2, lr=0.01, loss=mean_squared_error, last_activation=softmax, l2=0.0001, l1=0.0001, epochs=30, dropout=0, decay=1e-06, clipnorm=1, activation=relu, No_of_Units_in_dense_layers=256, No_of_Dense_Layers=4, No_of_CONV_and_Maxpool_layers=3, Conv2d_filters=120 \n",
      "Epoch 1/30\n",
      "600/600 [==============================] - 4s 7ms/step - loss: 0.6196 - acc: 0.2667\n",
      "Epoch 2/30\n",
      "600/600 [==============================] - 1s 1ms/step - loss: 0.5998 - acc: 0.2667\n",
      "Epoch 3/30\n",
      "600/600 [==============================] - 1s 1ms/step - loss: 0.5954 - acc: 0.2667\n",
      "Epoch 4/30\n",
      "600/600 [==============================] - 1s 1ms/step - loss: 0.5939 - acc: 0.2667\n",
      "Epoch 5/30\n",
      "600/600 [==============================] - 1s 1ms/step - loss: 0.5935 - acc: 0.2667\n",
      "Epoch 6/30\n",
      "600/600 [==============================] - 1s 1ms/step - loss: 0.5930 - acc: 0.2667\n",
      "Epoch 7/30\n",
      "600/600 [==============================] - 1s 1ms/step - loss: 0.5929 - acc: 0.2667\n",
      "Epoch 8/30\n",
      "600/600 [==============================] - 1s 1ms/step - loss: 0.5927 - acc: 0.2667\n",
      "Epoch 9/30\n",
      "600/600 [==============================] - 1s 1ms/step - loss: 0.5926 - acc: 0.2667\n",
      "Epoch 10/30\n",
      "600/600 [==============================] - 1s 1ms/step - loss: 0.5924 - acc: 0.2667\n",
      "Epoch 11/30\n",
      "600/600 [==============================] - 1s 1ms/step - loss: 0.5924 - acc: 0.2667\n",
      "Epoch 12/30\n",
      "600/600 [==============================] - 1s 1ms/step - loss: 0.5923 - acc: 0.2667\n",
      "Epoch 13/30\n",
      "600/600 [==============================] - 1s 1ms/step - loss: 0.5924 - acc: 0.2667\n",
      "Epoch 14/30\n",
      "600/600 [==============================] - 1s 1ms/step - loss: 0.5921 - acc: 0.2667\n",
      "Epoch 15/30\n",
      "600/600 [==============================] - 1s 1ms/step - loss: 0.5922 - acc: 0.2667\n",
      "Epoch 16/30\n",
      "600/600 [==============================] - 1s 1ms/step - loss: 0.5920 - acc: 0.2667\n",
      "Epoch 17/30\n",
      "600/600 [==============================] - 1s 1ms/step - loss: 0.5920 - acc: 0.2667\n",
      "Epoch 18/30\n",
      "600/600 [==============================] - 1s 1ms/step - loss: 0.5918 - acc: 0.2667\n",
      "Epoch 19/30\n",
      "600/600 [==============================] - 1s 1ms/step - loss: 0.5919 - acc: 0.2667\n",
      "Epoch 20/30\n",
      "600/600 [==============================] - 1s 1ms/step - loss: 0.5919 - acc: 0.2667\n",
      "Epoch 21/30\n",
      "600/600 [==============================] - 1s 1ms/step - loss: 0.5917 - acc: 0.2667\n",
      "Epoch 22/30\n",
      "600/600 [==============================] - 1s 1ms/step - loss: 0.5917 - acc: 0.2667\n",
      "Epoch 23/30\n",
      "600/600 [==============================] - 1s 1ms/step - loss: 0.5918 - acc: 0.2667\n",
      "Epoch 24/30\n",
      "600/600 [==============================] - 1s 1ms/step - loss: 0.5916 - acc: 0.2667\n",
      "Epoch 25/30\n",
      "600/600 [==============================] - 1s 1ms/step - loss: 0.5917 - acc: 0.2667\n",
      "Epoch 26/30\n",
      "600/600 [==============================] - 1s 1ms/step - loss: 0.5916 - acc: 0.2667\n",
      "Epoch 27/30\n",
      "600/600 [==============================] - 1s 1ms/step - loss: 0.5916 - acc: 0.2667\n",
      "Epoch 28/30\n",
      "600/600 [==============================] - 1s 1ms/step - loss: 0.5915 - acc: 0.2667\n",
      "Epoch 29/30\n",
      "600/600 [==============================] - 1s 1ms/step - loss: 0.5914 - acc: 0.2667\n",
      "Epoch 30/30\n",
      "600/600 [==============================] - 1s 1ms/step - loss: 0.5915 - acc: 0.2667\n",
      "300/300 [==============================] - 1s 4ms/step\n",
      "600/600 [==============================] - 0s 513us/step\n",
      "[CV]  optimizer=sgd, momentum=0.2, lr=0.01, loss=mean_squared_error, last_activation=softmax, l2=0.0001, l1=0.0001, epochs=30, dropout=0, decay=1e-06, clipnorm=1, activation=relu, No_of_Units_in_dense_layers=256, No_of_Dense_Layers=4, No_of_CONV_and_Maxpool_layers=3, Conv2d_filters=120, score=0.25666666850447656, total=  25.6s\n",
      "[CV] optimizer=sgd, momentum=0.2, lr=0.01, loss=mean_squared_error, last_activation=softmax, l2=0.0001, l1=0.0001, epochs=30, dropout=0, decay=1e-06, clipnorm=1, activation=relu, No_of_Units_in_dense_layers=256, No_of_Dense_Layers=4, No_of_CONV_and_Maxpool_layers=3, Conv2d_filters=120 \n",
      "Epoch 1/30\n",
      "600/600 [==============================] - 4s 7ms/step - loss: 0.4765 - acc: 0.7500\n",
      "Epoch 2/30\n",
      "600/600 [==============================] - 1s 1ms/step - loss: 0.3622 - acc: 0.7500\n",
      "Epoch 3/30\n",
      "600/600 [==============================] - 1s 1ms/step - loss: 0.3421 - acc: 0.7500\n",
      "Epoch 4/30\n",
      "600/600 [==============================] - 1s 1ms/step - loss: 0.3321 - acc: 0.7500\n",
      "Epoch 5/30\n",
      "600/600 [==============================] - 1s 1ms/step - loss: 0.3260 - acc: 0.7500\n",
      "Epoch 6/30\n",
      "600/600 [==============================] - 1s 1ms/step - loss: 0.3230 - acc: 0.7500\n",
      "Epoch 7/30\n",
      "600/600 [==============================] - 1s 1ms/step - loss: 0.3214 - acc: 0.7500\n",
      "Epoch 8/30\n",
      "600/600 [==============================] - 1s 1ms/step - loss: 0.3207 - acc: 0.7500\n",
      "Epoch 9/30\n",
      "600/600 [==============================] - 1s 1ms/step - loss: 0.3202 - acc: 0.7500\n",
      "Epoch 10/30\n",
      "600/600 [==============================] - 1s 1ms/step - loss: 0.3195 - acc: 0.7500\n",
      "Epoch 11/30\n",
      "600/600 [==============================] - 1s 1ms/step - loss: 0.3193 - acc: 0.7500\n",
      "Epoch 12/30\n",
      "600/600 [==============================] - 1s 1ms/step - loss: 0.3189 - acc: 0.7500\n",
      "Epoch 13/30\n",
      "600/600 [==============================] - 1s 1ms/step - loss: 0.3185 - acc: 0.7500\n",
      "Epoch 14/30\n",
      "600/600 [==============================] - 1s 1ms/step - loss: 0.3183 - acc: 0.7500\n",
      "Epoch 15/30\n",
      "600/600 [==============================] - 1s 1ms/step - loss: 0.3179 - acc: 0.7500\n",
      "Epoch 16/30\n",
      "600/600 [==============================] - 1s 1ms/step - loss: 0.3178 - acc: 0.7500\n",
      "Epoch 17/30\n",
      "600/600 [==============================] - 1s 1ms/step - loss: 0.3176 - acc: 0.7500\n",
      "Epoch 18/30\n",
      "600/600 [==============================] - 1s 1ms/step - loss: 0.3173 - acc: 0.7500\n",
      "Epoch 19/30\n",
      "600/600 [==============================] - 1s 1ms/step - loss: 0.3172 - acc: 0.7500\n",
      "Epoch 20/30\n",
      "600/600 [==============================] - 1s 1ms/step - loss: 0.3170 - acc: 0.7500\n",
      "Epoch 21/30\n",
      "600/600 [==============================] - 1s 1ms/step - loss: 0.3169 - acc: 0.7500\n",
      "Epoch 22/30\n",
      "600/600 [==============================] - 1s 1ms/step - loss: 0.3168 - acc: 0.7500\n",
      "Epoch 23/30\n",
      "600/600 [==============================] - 1s 1ms/step - loss: 0.3167 - acc: 0.7500\n",
      "Epoch 24/30\n",
      "600/600 [==============================] - 1s 1ms/step - loss: 0.3165 - acc: 0.7500\n",
      "Epoch 25/30\n",
      "600/600 [==============================] - 1s 1ms/step - loss: 0.3164 - acc: 0.7500\n",
      "Epoch 26/30\n",
      "600/600 [==============================] - 1s 1ms/step - loss: 0.3163 - acc: 0.7500\n",
      "Epoch 27/30\n",
      "600/600 [==============================] - 1s 1ms/step - loss: 0.3163 - acc: 0.7500\n",
      "Epoch 28/30\n",
      "600/600 [==============================] - 1s 1ms/step - loss: 0.3162 - acc: 0.7500\n",
      "Epoch 29/30\n",
      "600/600 [==============================] - 1s 1ms/step - loss: 0.3161 - acc: 0.7500\n",
      "Epoch 30/30\n",
      "600/600 [==============================] - 1s 1ms/step - loss: 0.3160 - acc: 0.7500\n",
      "300/300 [==============================] - 1s 4ms/step\n",
      "600/600 [==============================] - 0s 512us/step\n",
      "[CV]  optimizer=sgd, momentum=0.2, lr=0.01, loss=mean_squared_error, last_activation=softmax, l2=0.0001, l1=0.0001, epochs=30, dropout=0, decay=1e-06, clipnorm=1, activation=relu, No_of_Units_in_dense_layers=256, No_of_Dense_Layers=4, No_of_CONV_and_Maxpool_layers=3, Conv2d_filters=120, score=0.7099999944368999, total=  25.7s\n",
      "[CV] optimizer=Adam, momentum=0.2, lr=1, loss=mean_squared_error, last_activation=softmax, l2=0.001, l1=0.0001, epochs=30, dropout=0, decay=0.01, clipnorm=0.5, activation=relu, No_of_Units_in_dense_layers=256, No_of_Dense_Layers=5, No_of_CONV_and_Maxpool_layers=3, Conv2d_filters=80 \n",
      "Epoch 1/30\n",
      "600/600 [==============================] - 5s 8ms/step - loss: 49798320275967892701298294784.0000 - acc: 0.2750\n",
      "Epoch 2/30\n",
      "600/600 [==============================] - 1s 965us/step - loss: 60885963921286924785019781120.0000 - acc: 0.2733\n",
      "Epoch 3/30\n",
      "600/600 [==============================] - 1s 974us/step - loss: 60885933225904786132325892096.0000 - acc: 0.2733\n",
      "Epoch 4/30\n",
      "600/600 [==============================] - 1s 968us/step - loss: 60885907410301354654618877952.0000 - acc: 0.2733\n",
      "Epoch 5/30\n",
      "600/600 [==============================] - 1s 974us/step - loss: 60885889465308716231529857024.0000 - acc: 0.2733\n",
      "Epoch 6/30\n",
      "600/600 [==============================] - 1s 975us/step - loss: 60885869788781707206705807360.0000 - acc: 0.2733\n",
      "Epoch 7/30\n",
      "600/600 [==============================] - 1s 966us/step - loss: 60885854834621172255433949184.0000 - acc: 0.2733\n",
      "Epoch 8/30\n",
      "600/600 [==============================] - 1s 978us/step - loss: 60885842635174430706245828608.0000 - acc: 0.2733\n",
      "Epoch 9/30\n",
      "600/600 [==============================] - 1s 967us/step - loss: 60885831852437628740295458816.0000 - acc: 0.2733\n",
      "Epoch 10/30\n",
      "600/600 [==============================] - 1s 969us/step - loss: 60885822092880231982507753472.0000 - acc: 0.2733\n",
      "Epoch 11/30\n",
      "600/600 [==============================] - 1s 970us/step - loss: 60885812805559472956372942848.0000 - acc: 0.2733\n",
      "Epoch 12/30\n",
      "600/600 [==============================] - 1s 971us/step - loss: 60885803518238731522424176640.0000 - acc: 0.2733\n",
      "Epoch 13/30\n",
      "600/600 [==============================] - 1s 971us/step - loss: 60885795962452360690210439168.0000 - acc: 0.2733\n",
      "Epoch 14/30\n",
      "600/600 [==============================] - 1s 968us/step - loss: 60885783684299498192258465792.0000 - acc: 0.2733\n",
      "Epoch 15/30\n",
      "600/600 [==============================] - 1s 974us/step - loss: 60885776758161998193132306432.0000 - acc: 0.2733\n",
      "Epoch 16/30\n",
      "600/600 [==============================] - 1s 967us/step - loss: 60885769989436704907161763840.0000 - acc: 0.2733\n",
      "Epoch 17/30\n",
      "600/600 [==============================] - 1s 969us/step - loss: 60885763850360273658185777152.0000 - acc: 0.2733\n",
      "Epoch 18/30\n",
      "600/600 [==============================] - 1s 974us/step - loss: 60885757868696066714551451648.0000 - acc: 0.2733\n",
      "Epoch 19/30\n",
      "600/600 [==============================] - 1s 968us/step - loss: 60885752044444066484072742912.0000 - acc: 0.2733\n",
      "Epoch 20/30\n",
      "600/600 [==============================] - 1s 979us/step - loss: 60885743701596618105615810560.0000 - acc: 0.2733\n",
      "Epoch 21/30\n",
      "600/600 [==============================] - 1s 970us/step - loss: 60885736618046893801147990016.0000 - acc: 0.2733\n",
      "Epoch 22/30\n",
      "600/600 [==============================] - 1s 972us/step - loss: 60885733469802566023989166080.0000 - acc: 0.2733\n",
      "Epoch 23/30\n",
      "600/600 [==============================] - 1s 977us/step - loss: 60885728747436083154343952384.0000 - acc: 0.2733\n",
      "Epoch 24/30\n",
      "600/600 [==============================] - 1s 964us/step - loss: 60885724339894040099289038848.0000 - acc: 0.2733\n",
      "Epoch 25/30\n",
      "600/600 [==============================] - 1s 973us/step - loss: 60885720089764203757389742080.0000 - acc: 0.2733\n",
      "Epoch 26/30\n",
      "600/600 [==============================] - 1s 1ms/step - loss: 60885715682222151906241806336.0000 - acc: 0.2733\n",
      "Epoch 27/30\n",
      "600/600 [==============================] - 1s 1ms/step - loss: 60885711904328962092088426496.0000 - acc: 0.2733\n",
      "Epoch 28/30\n",
      "600/600 [==============================] - 1s 1ms/step - loss: 60885704348542591259874689024.0000 - acc: 0.2733\n",
      "Epoch 29/30\n",
      "600/600 [==============================] - 1s 1ms/step - loss: 60885699941000539408726753280.0000 - acc: 0.2733\n",
      "Epoch 30/30\n",
      "600/600 [==============================] - 1s 1ms/step - loss: 60885696320519565103822012416.0000 - acc: 0.2733\n",
      "300/300 [==============================] - 1s 5ms/step\n",
      "600/600 [==============================] - 0s 447us/step\n",
      "[CV]  optimizer=Adam, momentum=0.2, lr=1, loss=mean_squared_error, last_activation=softmax, l2=0.001, l1=0.0001, epochs=30, dropout=0, decay=0.01, clipnorm=0.5, activation=relu, No_of_Units_in_dense_layers=256, No_of_Dense_Layers=5, No_of_CONV_and_Maxpool_layers=3, Conv2d_filters=80, score=0.2433333362142245, total=  24.5s\n",
      "[CV] optimizer=Adam, momentum=0.2, lr=1, loss=mean_squared_error, last_activation=softmax, l2=0.001, l1=0.0001, epochs=30, dropout=0, decay=0.01, clipnorm=0.5, activation=relu, No_of_Units_in_dense_layers=256, No_of_Dense_Layers=5, No_of_CONV_and_Maxpool_layers=3, Conv2d_filters=80 \n",
      "Epoch 1/30\n",
      "600/600 [==============================] - 5s 8ms/step - loss: 25460728881180460.0000 - acc: 0.7167\n",
      "Epoch 2/30\n",
      "600/600 [==============================] - 1s 966us/step - loss: 2332481770.6667 - acc: 0.7333\n",
      "Epoch 3/30\n",
      "600/600 [==============================] - 1s 961us/step - loss: 355334638.1333 - acc: 0.7333\n",
      "Epoch 4/30\n",
      "600/600 [==============================] - 1s 965us/step - loss: 399028619.2000 - acc: 0.7333\n",
      "Epoch 5/30\n",
      "600/600 [==============================] - 1s 964us/step - loss: 123541808.0000 - acc: 0.7333\n",
      "Epoch 6/30\n",
      "600/600 [==============================] - 1s 963us/step - loss: 25271971.6000 - acc: 0.7333\n",
      "Epoch 7/30\n",
      "600/600 [==============================] - 1s 966us/step - loss: 23668020.9333 - acc: 0.7333\n",
      "Epoch 8/30\n",
      "600/600 [==============================] - 1s 968us/step - loss: 22701360.8000 - acc: 0.7333\n",
      "Epoch 9/30\n",
      "600/600 [==============================] - 1s 967us/step - loss: 21786816.2667 - acc: 0.7333\n",
      "Epoch 10/30\n",
      "600/600 [==============================] - 1s 963us/step - loss: 20929157.4000 - acc: 0.7333\n",
      "Epoch 11/30\n",
      "600/600 [==============================] - 1s 970us/step - loss: 20111644.6000 - acc: 0.7333\n",
      "Epoch 12/30\n",
      "600/600 [==============================] - 1s 962us/step - loss: 19326934.0667 - acc: 0.7333\n",
      "Epoch 13/30\n",
      "600/600 [==============================] - 1s 966us/step - loss: 18564814.7333 - acc: 0.7333\n",
      "Epoch 14/30\n",
      "600/600 [==============================] - 1s 998us/step - loss: 17821560.9333 - acc: 0.7333\n",
      "Epoch 15/30\n",
      "600/600 [==============================] - 1s 1000us/step - loss: 17101125.4000 - acc: 0.7333\n",
      "Epoch 16/30\n",
      "600/600 [==============================] - 1s 1ms/step - loss: 16399751.0667 - acc: 0.7333\n",
      "Epoch 17/30\n",
      "600/600 [==============================] - 1s 1ms/step - loss: 15715818.8333 - acc: 0.7333\n",
      "Epoch 18/30\n",
      "600/600 [==============================] - 1s 1ms/step - loss: 15051572.8333 - acc: 0.7333\n",
      "Epoch 19/30\n",
      "600/600 [==============================] - 1s 1ms/step - loss: 14409314.6667 - acc: 0.7333\n",
      "Epoch 20/30\n",
      "600/600 [==============================] - 1s 1ms/step - loss: 13794615.6000 - acc: 0.7333\n",
      "Epoch 21/30\n",
      "600/600 [==============================] - 1s 1ms/step - loss: 13385550.0667 - acc: 0.7333\n",
      "Epoch 22/30\n",
      "600/600 [==============================] - 1s 1ms/step - loss: 13070286.1333 - acc: 0.7333\n",
      "Epoch 23/30\n",
      "600/600 [==============================] - 1s 998us/step - loss: 12765220.3333 - acc: 0.7333\n",
      "Epoch 24/30\n",
      "600/600 [==============================] - 1s 1ms/step - loss: 12469194.5667 - acc: 0.7333\n",
      "Epoch 25/30\n",
      "600/600 [==============================] - 1s 1ms/step - loss: 12178835.2333 - acc: 0.7333\n",
      "Epoch 26/30\n",
      "600/600 [==============================] - 1s 1ms/step - loss: 11895553.7667 - acc: 0.7333\n",
      "Epoch 27/30\n",
      "600/600 [==============================] - 1s 1ms/step - loss: 11614856.1667 - acc: 0.7333\n",
      "Epoch 28/30\n",
      "600/600 [==============================] - 1s 1ms/step - loss: 11338771.5667 - acc: 0.7333\n",
      "Epoch 29/30\n",
      "600/600 [==============================] - 1s 1ms/step - loss: 11066270.3667 - acc: 0.7333\n",
      "Epoch 30/30\n",
      "600/600 [==============================] - 1s 1ms/step - loss: 10796806.1333 - acc: 0.7333\n",
      "300/300 [==============================] - 1s 5ms/step\n",
      "600/600 [==============================] - 0s 424us/step\n",
      "[CV]  optimizer=Adam, momentum=0.2, lr=1, loss=mean_squared_error, last_activation=softmax, l2=0.001, l1=0.0001, epochs=30, dropout=0, decay=0.01, clipnorm=0.5, activation=relu, No_of_Units_in_dense_layers=256, No_of_Dense_Layers=5, No_of_CONV_and_Maxpool_layers=3, Conv2d_filters=80, score=0.7433333357175191, total=  24.3s\n",
      "[CV] optimizer=Adam, momentum=0.2, lr=1, loss=mean_squared_error, last_activation=softmax, l2=0.001, l1=0.0001, epochs=30, dropout=0, decay=0.01, clipnorm=0.5, activation=relu, No_of_Units_in_dense_layers=256, No_of_Dense_Layers=5, No_of_CONV_and_Maxpool_layers=3, Conv2d_filters=80 \n",
      "Epoch 1/30\n",
      "600/600 [==============================] - 5s 8ms/step - loss: 33394548494429808092122185728.0000 - acc: 0.2500\n",
      "Epoch 2/30\n",
      "600/600 [==============================] - 1s 979us/step - loss: 40939231835558271906574499840.0000 - acc: 0.2500\n",
      "Epoch 3/30\n",
      "600/600 [==============================] - 1s 974us/step - loss: 40939193426977538116325212160.0000 - acc: 0.2500\n",
      "Epoch 4/30\n",
      "600/600 [==============================] - 1s 979us/step - loss: 40939159976881623653733629952.0000 - acc: 0.2500\n",
      "Epoch 5/30\n",
      "600/600 [==============================] - 1s 983us/step - loss: 40939133925159855718014124032.0000 - acc: 0.2500\n",
      "Epoch 6/30\n",
      "600/600 [==============================] - 1s 979us/step - loss: 40939109762384682689371308032.0000 - acc: 0.2500\n",
      "Epoch 7/30\n",
      "600/600 [==============================] - 1s 980us/step - loss: 40939089849739354798720811008.0000 - acc: 0.2500\n",
      "Epoch 8/30\n",
      "600/600 [==============================] - 1s 978us/step - loss: 40939073006632224940372262912.0000 - acc: 0.2500\n",
      "Epoch 9/30\n",
      "600/600 [==============================] - 1s 977us/step - loss: 40939057029292293577030762496.0000 - acc: 0.2500\n",
      "Epoch 10/30\n",
      "600/600 [==============================] - 1s 977us/step - loss: 40939040815834034551769792512.0000 - acc: 0.2500\n",
      "Epoch 11/30\n",
      "600/600 [==============================] - 1s 980us/step - loss: 40939027042265129114002259968.0000 - acc: 0.2500\n",
      "Epoch 12/30\n",
      "600/600 [==============================] - 1s 970us/step - loss: 40939014842818378768721117184.0000 - acc: 0.2500\n",
      "Epoch 13/30\n",
      "600/600 [==============================] - 1s 977us/step - loss: 40939002013722775182538440704.0000 - acc: 0.2500\n",
      "Epoch 14/30\n",
      "600/600 [==============================] - 1s 982us/step - loss: 40938990601337102383500492800.0000 - acc: 0.2500\n",
      "Epoch 15/30\n",
      "600/600 [==============================] - 1s 998us/step - loss: 40938980290836946945296039936.0000 - acc: 0.2500\n",
      "Epoch 16/30\n",
      "600/600 [==============================] - 1s 980us/step - loss: 40938971554458955395670999040.0000 - acc: 0.2500\n",
      "Epoch 17/30\n",
      "600/600 [==============================] - 1s 990us/step - loss: 40938961716195446485212463104.0000 - acc: 0.2500\n",
      "Epoch 18/30\n",
      "600/600 [==============================] - 1s 981us/step - loss: 40938953924290747991079256064.0000 - acc: 0.2500\n",
      "Epoch 19/30\n",
      "600/600 [==============================] - 1s 984us/step - loss: 40938944086027239080620720128.0000 - acc: 0.2500\n",
      "Epoch 20/30\n",
      "600/600 [==============================] - 1s 975us/step - loss: 40938935428355359683666509824.0000 - acc: 0.2500\n",
      "Epoch 21/30\n",
      "600/600 [==============================] - 1s 982us/step - loss: 40938925983622393944376082432.0000 - acc: 0.2500\n",
      "Epoch 22/30\n",
      "600/600 [==============================] - 1s 975us/step - loss: 40938920159370402509990395904.0000 - acc: 0.2500\n",
      "Epoch 23/30\n",
      "600/600 [==============================] - 1s 978us/step - loss: 40938912524877919525105827840.0000 - acc: 0.2500\n",
      "Epoch 24/30\n",
      "600/600 [==============================] - 1s 981us/step - loss: 40938906858038143599968780288.0000 - acc: 0.2500\n",
      "Epoch 25/30\n",
      "600/600 [==============================] - 1s 977us/step - loss: 40938898672602901934667464704.0000 - acc: 0.2500\n",
      "Epoch 26/30\n",
      "600/600 [==============================] - 1s 981us/step - loss: 40938895130828039782433554432.0000 - acc: 0.2500\n",
      "Epoch 27/30\n",
      "600/600 [==============================] - 1s 980us/step - loss: 40938886315743944876230705152.0000 - acc: 0.2500\n",
      "Epoch 28/30\n",
      "600/600 [==============================] - 1s 979us/step - loss: 40938881199846918835417382912.0000 - acc: 0.2500\n",
      "Epoch 29/30\n",
      "600/600 [==============================] - 1s 976us/step - loss: 40938875847831565132684591104.0000 - acc: 0.2500\n",
      "Epoch 30/30\n",
      "600/600 [==============================] - 1s 981us/step - loss: 40938869944873461545628073984.0000 - acc: 0.2500\n",
      "300/300 [==============================] - 1s 5ms/step\n",
      "600/600 [==============================] - 0s 432us/step\n",
      "[CV]  optimizer=Adam, momentum=0.2, lr=1, loss=mean_squared_error, last_activation=softmax, l2=0.001, l1=0.0001, epochs=30, dropout=0, decay=0.01, clipnorm=0.5, activation=relu, No_of_Units_in_dense_layers=256, No_of_Dense_Layers=5, No_of_CONV_and_Maxpool_layers=3, Conv2d_filters=80, score=0.2900000050663948, total=  24.5s\n"
     ]
    },
    {
     "name": "stderr",
     "output_type": "stream",
     "text": [
      "[Parallel(n_jobs=1)]: Done  30 out of  30 | elapsed:  7.6min finished\n"
     ]
    },
    {
     "name": "stdout",
     "output_type": "stream",
     "text": [
      "Epoch 1/15\n",
      "900/900 [==============================] - 4s 5ms/step - loss: 0.6998 - acc: 0.7267\n",
      "Epoch 2/15\n",
      "900/900 [==============================] - 1s 697us/step - loss: 0.5719 - acc: 0.7367\n",
      "Epoch 3/15\n",
      "900/900 [==============================] - 1s 694us/step - loss: 0.5529 - acc: 0.7367\n",
      "Epoch 4/15\n",
      "900/900 [==============================] - 1s 693us/step - loss: 0.5432 - acc: 0.7367\n",
      "Epoch 5/15\n",
      "900/900 [==============================] - 1s 693us/step - loss: 0.5372 - acc: 0.7367\n",
      "Epoch 6/15\n",
      "900/900 [==============================] - 1s 687us/step - loss: 0.5331 - acc: 0.7367\n",
      "Epoch 7/15\n",
      "900/900 [==============================] - 1s 691us/step - loss: 0.5301 - acc: 0.7367\n",
      "Epoch 8/15\n",
      "900/900 [==============================] - 1s 692us/step - loss: 0.5277 - acc: 0.7367\n",
      "Epoch 9/15\n",
      "900/900 [==============================] - 1s 689us/step - loss: 0.5259 - acc: 0.7367\n",
      "Epoch 10/15\n",
      "900/900 [==============================] - 1s 689us/step - loss: 0.5244 - acc: 0.7367\n",
      "Epoch 11/15\n",
      "900/900 [==============================] - 1s 686us/step - loss: 0.5231 - acc: 0.7367\n",
      "Epoch 12/15\n",
      "900/900 [==============================] - 1s 687us/step - loss: 0.5220 - acc: 0.7367\n",
      "Epoch 13/15\n",
      "900/900 [==============================] - 1s 688us/step - loss: 0.5211 - acc: 0.7367\n",
      "Epoch 14/15\n",
      "900/900 [==============================] - 1s 688us/step - loss: 0.5203 - acc: 0.7367\n",
      "Epoch 15/15\n",
      "900/900 [==============================] - 1s 687us/step - loss: 0.5196 - acc: 0.7367\n"
     ]
    }
   ],
   "source": [
    "grid_result = grid.fit(X_train, y_train)"
   ]
  },
  {
   "cell_type": "markdown",
   "metadata": {
    "_uuid": "3579cc3b86fa17ff2b42cf815ba374fe9f7bd77c"
   },
   "source": [
    "**Best Params of Randomized search**"
   ]
  },
  {
   "cell_type": "code",
   "execution_count": 26,
   "metadata": {
    "_uuid": "5395aa0cd00cdc8d31358558d27a403e2b5ec557"
   },
   "outputs": [
    {
     "data": {
      "text/plain": [
       "{'optimizer': 'Adagrad',\n",
       " 'momentum': 0.9,\n",
       " 'lr': 0.01,\n",
       " 'loss': 'mean_absolute_error',\n",
       " 'last_activation': 'softmax',\n",
       " 'l2': 0.001,\n",
       " 'l1': 0.001,\n",
       " 'epochs': 15,\n",
       " 'dropout': 0.8,\n",
       " 'decay': 0.01,\n",
       " 'clipnorm': 1,\n",
       " 'activation': 'relu',\n",
       " 'No_of_Units_in_dense_layers': 64,\n",
       " 'No_of_Dense_Layers': 2,\n",
       " 'No_of_CONV_and_Maxpool_layers': 2,\n",
       " 'Conv2d_filters': 60}"
      ]
     },
     "execution_count": 26,
     "metadata": {},
     "output_type": "execute_result"
    }
   ],
   "source": [
    "best_params=grid_result.best_params_\n",
    "best_params"
   ]
  },
  {
   "cell_type": "code",
   "execution_count": 27,
   "metadata": {
    "_uuid": "414baf56512334fab8c2fdd35534ba472175ce89"
   },
   "outputs": [
    {
     "name": "stdout",
     "output_type": "stream",
     "text": [
      "100/100 [==============================] - 1s 14ms/step\n",
      "Base Accuracy  0.76\n",
      "100/100 [==============================] - 0s 340us/step\n",
      "Best Accuracy  0.76\n",
      "Improvement of 0.00%.\n"
     ]
    }
   ],
   "source": [
    "\n",
    "from sklearn.metrics import accuracy_score\n",
    "\n",
    "y=grid_result.predict(X_test)\n",
    "random=accuracy_score(y, y_test)\n",
    "print(\"Base Accuracy \",random)\n",
    "\n",
    "best_random = grid_result.best_estimator_\n",
    "y1=best_random.predict(X_test)\n",
    "Best=accuracy_score(y1, y_test)\n",
    "print(\"Best Accuracy \" ,Best)\n",
    "\n",
    "\n",
    "print('Improvement of {:0.2f}%.'.format( 100 * (Best - random) / random))"
   ]
  },
  {
   "cell_type": "markdown",
   "metadata": {
    "_uuid": "db0d47e241f94bb58c8dfd4dcd1a5a46ea918e7f"
   },
   "source": []
  },
  {
   "cell_type": "code",
   "execution_count": 28,
   "metadata": {
    "_uuid": "b6da09f65eaf59710c2ec0201f7257b780856588"
   },
   "outputs": [],
   "source": [
    "def Best_param_Model(best_params):\n",
    "       \n",
    "    lr=best_params[\"lr\"]\n",
    "    dropout=best_params[\"dropout\"]\n",
    "    optimizer=best_params[\"optimizer\"]\n",
    "    loss=best_params[\"loss\"]\n",
    "    last_activation=best_params[\"last_activation\"]\n",
    "    activation=best_params[\"activation\"]\n",
    "    clipnorm=best_params[\"clipnorm\"]\n",
    "    decay=best_params[\"decay\"]\n",
    "    momentum=best_params[\"momentum\"]\n",
    "    l1=best_params[\"l1\"]\n",
    "    l2=best_params[\"l2\"]\n",
    "    No_of_CONV_and_Maxpool_layers=best_params[\"No_of_CONV_and_Maxpool_layers\"]\n",
    "    No_of_Dense_Layers=best_params[\"No_of_Dense_Layers\"]\n",
    "    No_of_Units_in_dense_layers=best_params[\"No_of_Units_in_dense_layers\"]\n",
    "    Conv2d_filters=best_params[\"Conv2d_filters\"]\n",
    "    \n",
    "    #model sequential\n",
    "    model=Sequential()\n",
    "    \n",
    "    for i in range(0,No_of_CONV_and_Maxpool_layers):\n",
    "        model.add(Conv2D(Conv2d_filters, (2,2) ,padding=\"same\"))\n",
    "        model.add(Activation(activation))\n",
    "        model.add(MaxPooling2D(pool_size=(2,2),strides=(2,2)))\n",
    "    \n",
    "    \n",
    "    model.add(Flatten())\n",
    "    \n",
    "    for i in range (0,No_of_Dense_Layers):\n",
    "        model.add(Dense(units=No_of_Units_in_dense_layers,activation=activation, kernel_regularizer=regularizers.l2(l2),\n",
    "                  activity_regularizer=regularizers.l1(l1)))\n",
    "    \n",
    "    \n",
    "    model.add(Dense(units=20,activation=activation))\n",
    "    \n",
    "    model.add(Dense(units=2,activation=activation))\n",
    "    if optimizer==\"Adam\":\n",
    "        opt=keras.optimizers.Adam(lr=lr, decay=decay, beta_1=0.9, beta_2=0.999)\n",
    "    if optimizer==\"Adagrad\":\n",
    "        opt=keras.optimizers.Adagrad(lr=lr, epsilon=None, decay=decay)\n",
    "    if optimizer==\"sgd\":\n",
    "        opt=keras.optimizers.SGD(lr=lr, momentum=momentum, decay=decay, nesterov=False)\n",
    "    \n",
    "    model.compile(loss=loss,optimizer=opt,\n",
    "                 metrics=['accuracy'])\n",
    "    \n",
    "    \n",
    "\n",
    "    return model"
   ]
  },
  {
   "cell_type": "code",
   "execution_count": 29,
   "metadata": {
    "_kg_hide-output": true,
    "_uuid": "d44860874f77e57d6097dfe2e8a508577fc1c8d0"
   },
   "outputs": [
    {
     "name": "stdout",
     "output_type": "stream",
     "text": [
      "Train on 900 samples, validate on 100 samples\n",
      "Epoch 1/100\n",
      "900/900 [==============================] - 5s 5ms/step - loss: 0.7863 - acc: 0.7311 - val_loss: 0.5776 - val_acc: 0.7600\n",
      "Epoch 2/100\n",
      "900/900 [==============================] - 1s 626us/step - loss: 0.5648 - acc: 0.7367 - val_loss: 0.5542 - val_acc: 0.7600\n",
      "Epoch 3/100\n",
      "900/900 [==============================] - 1s 625us/step - loss: 0.5486 - acc: 0.7367 - val_loss: 0.5434 - val_acc: 0.7600\n",
      "Epoch 4/100\n",
      "900/900 [==============================] - 1s 621us/step - loss: 0.5402 - acc: 0.7367 - val_loss: 0.5370 - val_acc: 0.7600\n",
      "Epoch 5/100\n",
      "900/900 [==============================] - 1s 628us/step - loss: 0.5349 - acc: 0.7367 - val_loss: 0.5327 - val_acc: 0.7600\n",
      "Epoch 6/100\n",
      "900/900 [==============================] - 1s 619us/step - loss: 0.5312 - acc: 0.7367 - val_loss: 0.5297 - val_acc: 0.7600\n",
      "Epoch 7/100\n",
      "900/900 [==============================] - 1s 627us/step - loss: 0.5285 - acc: 0.7367 - val_loss: 0.5273 - val_acc: 0.7600\n",
      "Epoch 8/100\n",
      "900/900 [==============================] - 1s 618us/step - loss: 0.5264 - acc: 0.7367 - val_loss: 0.5255 - val_acc: 0.7600\n",
      "Epoch 9/100\n",
      "900/900 [==============================] - 1s 627us/step - loss: 0.5248 - acc: 0.7367 - val_loss: 0.5240 - val_acc: 0.7600\n",
      "Epoch 10/100\n",
      "900/900 [==============================] - 1s 623us/step - loss: 0.5234 - acc: 0.7367 - val_loss: 0.5228 - val_acc: 0.7600\n",
      "Epoch 11/100\n",
      "900/900 [==============================] - 1s 627us/step - loss: 0.5223 - acc: 0.7367 - val_loss: 0.5217 - val_acc: 0.7600\n",
      "Epoch 12/100\n",
      "900/900 [==============================] - 1s 624us/step - loss: 0.5213 - acc: 0.7367 - val_loss: 0.5208 - val_acc: 0.7600\n",
      "Epoch 13/100\n",
      "900/900 [==============================] - 1s 621us/step - loss: 0.5205 - acc: 0.7367 - val_loss: 0.5200 - val_acc: 0.7600\n",
      "Epoch 14/100\n",
      "900/900 [==============================] - 1s 623us/step - loss: 0.5197 - acc: 0.7367 - val_loss: 0.5194 - val_acc: 0.7600\n",
      "Epoch 15/100\n",
      "900/900 [==============================] - 1s 620us/step - loss: 0.5191 - acc: 0.7367 - val_loss: 0.5188 - val_acc: 0.7600\n",
      "Epoch 16/100\n",
      "900/900 [==============================] - 1s 625us/step - loss: 0.5185 - acc: 0.7367 - val_loss: 0.5182 - val_acc: 0.7600\n",
      "Epoch 17/100\n",
      "900/900 [==============================] - 1s 683us/step - loss: 0.5180 - acc: 0.7367 - val_loss: 0.5177 - val_acc: 0.7600\n",
      "Epoch 18/100\n",
      "900/900 [==============================] - 1s 627us/step - loss: 0.5175 - acc: 0.7367 - val_loss: 0.5173 - val_acc: 0.7600\n",
      "Epoch 19/100\n",
      "900/900 [==============================] - 1s 623us/step - loss: 0.5171 - acc: 0.7367 - val_loss: 0.5169 - val_acc: 0.7600\n",
      "Epoch 20/100\n",
      "900/900 [==============================] - 1s 622us/step - loss: 0.5167 - acc: 0.7367 - val_loss: 0.5165 - val_acc: 0.7600\n",
      "Epoch 21/100\n",
      "900/900 [==============================] - 1s 627us/step - loss: 0.5164 - acc: 0.7367 - val_loss: 0.5162 - val_acc: 0.7600\n",
      "Epoch 22/100\n",
      "900/900 [==============================] - 1s 646us/step - loss: 0.5161 - acc: 0.7367 - val_loss: 0.5159 - val_acc: 0.7600\n",
      "Epoch 23/100\n",
      "900/900 [==============================] - 1s 632us/step - loss: 0.5158 - acc: 0.7367 - val_loss: 0.5156 - val_acc: 0.7600\n",
      "Epoch 24/100\n",
      "900/900 [==============================] - 1s 623us/step - loss: 0.5155 - acc: 0.7367 - val_loss: 0.5153 - val_acc: 0.7600\n",
      "Epoch 25/100\n",
      "900/900 [==============================] - 1s 629us/step - loss: 0.5152 - acc: 0.7367 - val_loss: 0.5151 - val_acc: 0.7600\n",
      "Epoch 26/100\n",
      "900/900 [==============================] - 1s 630us/step - loss: 0.5150 - acc: 0.7367 - val_loss: 0.5149 - val_acc: 0.7600\n",
      "Epoch 27/100\n",
      "900/900 [==============================] - 1s 636us/step - loss: 0.5148 - acc: 0.7367 - val_loss: 0.5146 - val_acc: 0.7600\n",
      "Epoch 28/100\n",
      "900/900 [==============================] - 1s 626us/step - loss: 0.5145 - acc: 0.7367 - val_loss: 0.5144 - val_acc: 0.7600\n",
      "Epoch 29/100\n",
      "900/900 [==============================] - 1s 625us/step - loss: 0.5143 - acc: 0.7367 - val_loss: 0.5142 - val_acc: 0.7600\n",
      "Epoch 30/100\n",
      "900/900 [==============================] - 1s 632us/step - loss: 0.5142 - acc: 0.7367 - val_loss: 0.5141 - val_acc: 0.7600\n",
      "Epoch 31/100\n",
      "900/900 [==============================] - 1s 623us/step - loss: 0.5140 - acc: 0.7367 - val_loss: 0.5139 - val_acc: 0.7600\n",
      "Epoch 32/100\n",
      "900/900 [==============================] - 1s 623us/step - loss: 0.5138 - acc: 0.7367 - val_loss: 0.5137 - val_acc: 0.7600\n",
      "Epoch 33/100\n",
      "900/900 [==============================] - 1s 626us/step - loss: 0.5136 - acc: 0.7367 - val_loss: 0.5136 - val_acc: 0.7600\n",
      "Epoch 34/100\n",
      "900/900 [==============================] - 1s 627us/step - loss: 0.5135 - acc: 0.7367 - val_loss: 0.5134 - val_acc: 0.7600\n",
      "Epoch 35/100\n",
      "900/900 [==============================] - 1s 627us/step - loss: 0.5133 - acc: 0.7367 - val_loss: 0.5133 - val_acc: 0.7600\n",
      "Epoch 36/100\n",
      "900/900 [==============================] - 1s 620us/step - loss: 0.5132 - acc: 0.7367 - val_loss: 0.5131 - val_acc: 0.7600\n",
      "Epoch 37/100\n",
      "900/900 [==============================] - 1s 632us/step - loss: 0.5131 - acc: 0.7367 - val_loss: 0.5130 - val_acc: 0.7600\n",
      "Epoch 38/100\n",
      "900/900 [==============================] - 1s 623us/step - loss: 0.5130 - acc: 0.7367 - val_loss: 0.5129 - val_acc: 0.7600\n",
      "Epoch 39/100\n",
      "900/900 [==============================] - 1s 631us/step - loss: 0.5128 - acc: 0.7367 - val_loss: 0.5128 - val_acc: 0.7600\n",
      "Epoch 40/100\n",
      "900/900 [==============================] - 1s 650us/step - loss: 0.5127 - acc: 0.7367 - val_loss: 0.5127 - val_acc: 0.7600\n",
      "Epoch 41/100\n",
      "900/900 [==============================] - 1s 637us/step - loss: 0.5126 - acc: 0.7367 - val_loss: 0.5125 - val_acc: 0.7600\n",
      "Epoch 42/100\n",
      "900/900 [==============================] - 1s 644us/step - loss: 0.5125 - acc: 0.7367 - val_loss: 0.5124 - val_acc: 0.7600\n",
      "Epoch 43/100\n",
      "900/900 [==============================] - 1s 641us/step - loss: 0.5124 - acc: 0.7367 - val_loss: 0.5123 - val_acc: 0.7600\n",
      "Epoch 44/100\n",
      "900/900 [==============================] - 1s 642us/step - loss: 0.5123 - acc: 0.7367 - val_loss: 0.5122 - val_acc: 0.7600\n",
      "Epoch 45/100\n",
      "900/900 [==============================] - 1s 639us/step - loss: 0.5122 - acc: 0.7367 - val_loss: 0.5122 - val_acc: 0.7600\n",
      "Epoch 46/100\n",
      "900/900 [==============================] - 1s 643us/step - loss: 0.5121 - acc: 0.7367 - val_loss: 0.5121 - val_acc: 0.7600\n",
      "Epoch 47/100\n",
      "900/900 [==============================] - 1s 642us/step - loss: 0.5120 - acc: 0.7367 - val_loss: 0.5120 - val_acc: 0.7600\n",
      "Epoch 48/100\n",
      "900/900 [==============================] - 1s 644us/step - loss: 0.5119 - acc: 0.7367 - val_loss: 0.5119 - val_acc: 0.7600\n",
      "Epoch 49/100\n",
      "900/900 [==============================] - 1s 656us/step - loss: 0.5119 - acc: 0.7367 - val_loss: 0.5118 - val_acc: 0.7600\n",
      "Epoch 50/100\n",
      "900/900 [==============================] - 1s 632us/step - loss: 0.5118 - acc: 0.7367 - val_loss: 0.5117 - val_acc: 0.7600\n",
      "Epoch 51/100\n",
      "900/900 [==============================] - 1s 642us/step - loss: 0.5117 - acc: 0.7367 - val_loss: 0.5117 - val_acc: 0.7600\n",
      "Epoch 52/100\n",
      "900/900 [==============================] - 1s 635us/step - loss: 0.5116 - acc: 0.7367 - val_loss: 0.5116 - val_acc: 0.7600\n",
      "Epoch 53/100\n",
      "900/900 [==============================] - 1s 642us/step - loss: 0.5116 - acc: 0.7367 - val_loss: 0.5115 - val_acc: 0.7600\n",
      "Epoch 54/100\n",
      "900/900 [==============================] - 1s 638us/step - loss: 0.5115 - acc: 0.7367 - val_loss: 0.5114 - val_acc: 0.7600\n",
      "Epoch 55/100\n",
      "900/900 [==============================] - 1s 641us/step - loss: 0.5114 - acc: 0.7367 - val_loss: 0.5114 - val_acc: 0.7600\n",
      "Epoch 56/100\n",
      "900/900 [==============================] - 1s 641us/step - loss: 0.5114 - acc: 0.7367 - val_loss: 0.5113 - val_acc: 0.7600\n",
      "Epoch 57/100\n",
      "900/900 [==============================] - 1s 622us/step - loss: 0.5113 - acc: 0.7367 - val_loss: 0.5113 - val_acc: 0.7600\n",
      "Epoch 58/100\n",
      "900/900 [==============================] - 1s 625us/step - loss: 0.5112 - acc: 0.7367 - val_loss: 0.5112 - val_acc: 0.7600\n",
      "Epoch 59/100\n",
      "900/900 [==============================] - 1s 619us/step - loss: 0.5112 - acc: 0.7367 - val_loss: 0.5111 - val_acc: 0.7600\n",
      "Epoch 60/100\n",
      "900/900 [==============================] - 1s 630us/step - loss: 0.5111 - acc: 0.7367 - val_loss: 0.5111 - val_acc: 0.7600\n",
      "Epoch 61/100\n",
      "900/900 [==============================] - 1s 624us/step - loss: 0.5110 - acc: 0.7367 - val_loss: 0.5110 - val_acc: 0.7600\n",
      "Epoch 62/100\n",
      "900/900 [==============================] - 1s 624us/step - loss: 0.5110 - acc: 0.7367 - val_loss: 0.5110 - val_acc: 0.7600\n",
      "Epoch 63/100\n",
      "900/900 [==============================] - 1s 624us/step - loss: 0.5109 - acc: 0.7367 - val_loss: 0.5109 - val_acc: 0.7600\n",
      "Epoch 64/100\n",
      "900/900 [==============================] - 1s 620us/step - loss: 0.5109 - acc: 0.7367 - val_loss: 0.5109 - val_acc: 0.7600\n",
      "Epoch 65/100\n",
      "900/900 [==============================] - 1s 625us/step - loss: 0.5108 - acc: 0.7367 - val_loss: 0.5108 - val_acc: 0.7600\n",
      "Epoch 66/100\n",
      "900/900 [==============================] - 1s 621us/step - loss: 0.5108 - acc: 0.7367 - val_loss: 0.5108 - val_acc: 0.7600\n",
      "Epoch 67/100\n",
      "900/900 [==============================] - 1s 623us/step - loss: 0.5107 - acc: 0.7367 - val_loss: 0.5107 - val_acc: 0.7600\n",
      "Epoch 68/100\n",
      "900/900 [==============================] - 1s 621us/step - loss: 0.5107 - acc: 0.7367 - val_loss: 0.5107 - val_acc: 0.7600\n",
      "Epoch 69/100\n",
      "900/900 [==============================] - 1s 621us/step - loss: 0.5106 - acc: 0.7367 - val_loss: 0.5106 - val_acc: 0.7600\n",
      "Epoch 70/100\n",
      "900/900 [==============================] - 1s 625us/step - loss: 0.5106 - acc: 0.7367 - val_loss: 0.5106 - val_acc: 0.7600\n",
      "Epoch 71/100\n",
      "900/900 [==============================] - 1s 619us/step - loss: 0.5105 - acc: 0.7367 - val_loss: 0.5105 - val_acc: 0.7600\n",
      "Epoch 72/100\n",
      "900/900 [==============================] - 1s 623us/step - loss: 0.5105 - acc: 0.7367 - val_loss: 0.5105 - val_acc: 0.7600\n",
      "Epoch 73/100\n",
      "900/900 [==============================] - 1s 624us/step - loss: 0.5105 - acc: 0.7367 - val_loss: 0.5104 - val_acc: 0.7600\n",
      "Epoch 74/100\n",
      "900/900 [==============================] - 1s 624us/step - loss: 0.5104 - acc: 0.7367 - val_loss: 0.5104 - val_acc: 0.7600\n",
      "Epoch 75/100\n",
      "900/900 [==============================] - 1s 633us/step - loss: 0.5104 - acc: 0.7367 - val_loss: 0.5104 - val_acc: 0.7600\n",
      "Epoch 76/100\n",
      "900/900 [==============================] - 1s 630us/step - loss: 0.5103 - acc: 0.7367 - val_loss: 0.5103 - val_acc: 0.7600\n",
      "Epoch 77/100\n",
      "900/900 [==============================] - 1s 644us/step - loss: 0.5103 - acc: 0.7367 - val_loss: 0.5103 - val_acc: 0.7600\n",
      "Epoch 78/100\n",
      "900/900 [==============================] - 1s 629us/step - loss: 0.5103 - acc: 0.7367 - val_loss: 0.5102 - val_acc: 0.7600\n",
      "Epoch 79/100\n",
      "900/900 [==============================] - 1s 625us/step - loss: 0.5102 - acc: 0.7367 - val_loss: 0.5102 - val_acc: 0.7600\n",
      "Epoch 80/100\n",
      "900/900 [==============================] - 1s 621us/step - loss: 0.5102 - acc: 0.7367 - val_loss: 0.5102 - val_acc: 0.7600\n",
      "Epoch 81/100\n",
      "900/900 [==============================] - 1s 619us/step - loss: 0.5101 - acc: 0.7367 - val_loss: 0.5101 - val_acc: 0.7600\n",
      "Epoch 82/100\n",
      "900/900 [==============================] - 1s 629us/step - loss: 0.5101 - acc: 0.7367 - val_loss: 0.5101 - val_acc: 0.7600\n",
      "Epoch 83/100\n",
      "900/900 [==============================] - 1s 628us/step - loss: 0.5101 - acc: 0.7367 - val_loss: 0.5101 - val_acc: 0.7600\n",
      "Epoch 84/100\n",
      "900/900 [==============================] - 1s 628us/step - loss: 0.5100 - acc: 0.7367 - val_loss: 0.5100 - val_acc: 0.7600\n",
      "Epoch 85/100\n",
      "900/900 [==============================] - 1s 620us/step - loss: 0.5100 - acc: 0.7367 - val_loss: 0.5100 - val_acc: 0.7600\n",
      "Epoch 86/100\n",
      "900/900 [==============================] - 1s 625us/step - loss: 0.5100 - acc: 0.7367 - val_loss: 0.5100 - val_acc: 0.7600\n",
      "Epoch 87/100\n",
      "900/900 [==============================] - 1s 622us/step - loss: 0.5099 - acc: 0.7367 - val_loss: 0.5099 - val_acc: 0.7600\n",
      "Epoch 88/100\n",
      "900/900 [==============================] - 1s 622us/step - loss: 0.5099 - acc: 0.7367 - val_loss: 0.5099 - val_acc: 0.7600\n",
      "Epoch 89/100\n",
      "900/900 [==============================] - 1s 622us/step - loss: 0.5099 - acc: 0.7367 - val_loss: 0.5099 - val_acc: 0.7600\n",
      "Epoch 90/100\n",
      "900/900 [==============================] - 1s 627us/step - loss: 0.5098 - acc: 0.7367 - val_loss: 0.5098 - val_acc: 0.7600\n",
      "Epoch 91/100\n",
      "900/900 [==============================] - 1s 621us/step - loss: 0.5098 - acc: 0.7367 - val_loss: 0.5098 - val_acc: 0.7600\n",
      "Epoch 92/100\n",
      "900/900 [==============================] - 1s 624us/step - loss: 0.5098 - acc: 0.7367 - val_loss: 0.5098 - val_acc: 0.7600\n",
      "Epoch 93/100\n",
      "900/900 [==============================] - 1s 628us/step - loss: 0.5098 - acc: 0.7367 - val_loss: 0.5097 - val_acc: 0.7600\n",
      "Epoch 94/100\n",
      "900/900 [==============================] - 1s 622us/step - loss: 0.5097 - acc: 0.7367 - val_loss: 0.5097 - val_acc: 0.7600\n",
      "Epoch 95/100\n",
      "900/900 [==============================] - 1s 625us/step - loss: 0.5097 - acc: 0.7367 - val_loss: 0.5097 - val_acc: 0.7600\n",
      "Epoch 96/100\n",
      "900/900 [==============================] - 1s 622us/step - loss: 0.5097 - acc: 0.7367 - val_loss: 0.5097 - val_acc: 0.7600\n",
      "Epoch 97/100\n",
      "900/900 [==============================] - 1s 625us/step - loss: 0.5096 - acc: 0.7367 - val_loss: 0.5096 - val_acc: 0.7600\n",
      "Epoch 98/100\n",
      "900/900 [==============================] - 1s 619us/step - loss: 0.5096 - acc: 0.7367 - val_loss: 0.5096 - val_acc: 0.7600\n",
      "Epoch 99/100\n",
      "900/900 [==============================] - 1s 625us/step - loss: 0.5096 - acc: 0.7367 - val_loss: 0.5096 - val_acc: 0.7600\n",
      "Epoch 100/100\n",
      "900/900 [==============================] - 1s 620us/step - loss: 0.5096 - acc: 0.7367 - val_loss: 0.5096 - val_acc: 0.7600\n"
     ]
    },
    {
     "data": {
      "image/png": "[encoded data removed]",
      "text/plain": [
       "<Figure size 432x288 with 1 Axes>"
      ]
     },
     "metadata": {},
     "output_type": "display_data"
    },
    {
     "data": {
      "image/png": "[encoded data removed]",
      "text/plain": [
       "<Figure size 432x288 with 1 Axes>"
      ]
     },
     "metadata": {},
     "output_type": "display_data"
    }
   ],
   "source": [
    "\n",
    "Binary_model=Best_param_Model(best_params)\n",
    "history =Binary_model.fit(X_train, y_train, epochs=100, validation_data=(X_test,y_test_Categorical))\n",
    "\n",
    "# Plot training & validation accuracy values\n",
    "plt.plot(history.history['acc'])\n",
    "plt.plot(history.history['val_acc'])\n",
    "\n",
    "\n",
    "plt.title('Model accuracy')\n",
    "plt.ylabel('Accuracy')\n",
    "plt.xlabel('Epoch')\n",
    "plt.legend(['Train', 'Test'], loc='upper left')\n",
    "plt.show()\n",
    "\n",
    "# Plot training & validation loss values\n",
    "plt.plot(history.history['loss'])\n",
    "plt.plot(history.history['val_loss'])\n",
    "\n",
    "plt.title('Model loss')\n",
    "plt.ylabel('Loss')\n",
    "plt.xlabel('Epoch')\n",
    "plt.legend(['Train', 'Test'], loc='upper left')\n",
    "plt.show()"
   ]
  },
  {
   "cell_type": "code",
   "execution_count": 30,
   "metadata": {
    "_uuid": "2455607daf304f9c4f31cf4000f1a8152ea2aea0"
   },
   "outputs": [
    {
     "name": "stdout",
     "output_type": "stream",
     "text": [
      "100/100 [==============================] - 0s 396us/step\n"
     ]
    },
    {
     "data": {
      "text/plain": [
       "[0.5095557570457458, 0.76]"
      ]
     },
     "execution_count": 30,
     "metadata": {},
     "output_type": "execute_result"
    }
   ],
   "source": [
    "Binary_model.evaluate(X_test,y_test_Categorical)"
   ]
  },
  {
   "cell_type": "markdown",
   "metadata": {
    "_uuid": "c4a94e221c52734002a8854909da7fdce98d2d40"
   },
   "source": [
    "**Visualizing my CNN model**"
   ]
  },
  {
   "cell_type": "code",
   "execution_count": 31,
   "metadata": {
    "_uuid": "fa21ffdc50acfb243ee5ede6945dad7959f49bbc"
   },
   "outputs": [],
   "source": [
    "y=B_df['level'].values\n",
    "from sklearn.model_selection import train_test_split\n",
    "X_train, X_test, y_train, y_test = train_test_split(\n",
    "    X_128,y, test_size=0.10, random_state=42)\n",
    "y_train = to_categorical(y_train, num_classes=2)\n",
    "y_test_Categorical=to_categorical(y_test)"
   ]
  },
  {
   "cell_type": "code",
   "execution_count": 32,
   "metadata": {
    "_kg_hide-output": true,
    "_uuid": "9701d9d546a13ec669d58b28e5466696131d8062",
    "scrolled": true
   },
   "outputs": [
    {
     "name": "stdout",
     "output_type": "stream",
     "text": [
      "Train on 900 samples, validate on 100 samples\n",
      "Epoch 1/10\n",
      "900/900 [==============================] - 5s 6ms/step - loss: 0.6007 - acc: 0.7289 - val_loss: 0.5478 - val_acc: 0.7600\n",
      "Epoch 2/10\n",
      "900/900 [==============================] - 1s 1ms/step - loss: 0.5887 - acc: 0.7367 - val_loss: 0.5540 - val_acc: 0.7600\n",
      "Epoch 3/10\n",
      "900/900 [==============================] - 1s 1ms/step - loss: 0.5859 - acc: 0.7367 - val_loss: 0.5651 - val_acc: 0.7600\n",
      "Epoch 4/10\n",
      "900/900 [==============================] - 1s 1ms/step - loss: 0.5846 - acc: 0.7367 - val_loss: 0.5504 - val_acc: 0.7600\n",
      "Epoch 5/10\n",
      "900/900 [==============================] - 1s 1ms/step - loss: 0.5825 - acc: 0.7367 - val_loss: 0.5721 - val_acc: 0.7600\n",
      "Epoch 6/10\n",
      "900/900 [==============================] - 1s 1ms/step - loss: 0.5791 - acc: 0.7367 - val_loss: 0.5439 - val_acc: 0.7600\n",
      "Epoch 7/10\n",
      "900/900 [==============================] - 1s 1ms/step - loss: 0.5838 - acc: 0.7367 - val_loss: 0.5850 - val_acc: 0.7600\n",
      "Epoch 8/10\n",
      "900/900 [==============================] - 1s 1ms/step - loss: 0.5884 - acc: 0.7367 - val_loss: 0.5438 - val_acc: 0.7600\n",
      "Epoch 9/10\n",
      "900/900 [==============================] - 1s 1ms/step - loss: 0.5814 - acc: 0.7367 - val_loss: 0.5372 - val_acc: 0.7600\n",
      "Epoch 10/10\n",
      "900/900 [==============================] - 1s 1ms/step - loss: 0.5752 - acc: 0.7367 - val_loss: 0.5392 - val_acc: 0.7600\n",
      "_________________________________________________________________\n",
      "Layer (type)                 Output Shape              Param #   \n",
      "=================================================================\n",
      "conv2d_77 (Conv2D)           (None, 124, 124, 16)      1216      \n",
      "_________________________________________________________________\n",
      "conv2d_78 (Conv2D)           (None, 120, 120, 32)      12832     \n",
      "_________________________________________________________________\n",
      "max_pooling2d_77 (MaxPooling (None, 40, 40, 32)        0         \n",
      "_________________________________________________________________\n",
      "conv2d_79 (Conv2D)           (None, 36, 36, 64)        51264     \n",
      "_________________________________________________________________\n",
      "max_pooling2d_78 (MaxPooling (None, 12, 12, 64)        0         \n",
      "_________________________________________________________________\n",
      "conv2d_80 (Conv2D)           (None, 10, 10, 128)       73856     \n",
      "_________________________________________________________________\n",
      "flatten_33 (Flatten)         (None, 12800)             0         \n",
      "_________________________________________________________________\n",
      "dropout_32 (Dropout)         (None, 12800)             0         \n",
      "_________________________________________________________________\n",
      "dense_159 (Dense)            (None, 64)                819264    \n",
      "_________________________________________________________________\n",
      "dropout_33 (Dropout)         (None, 64)                0         \n",
      "_________________________________________________________________\n",
      "dense_160 (Dense)            (None, 16)                1040      \n",
      "_________________________________________________________________\n",
      "dropout_34 (Dropout)         (None, 16)                0         \n",
      "_________________________________________________________________\n",
      "dense_161 (Dense)            (None, 2)                 34        \n",
      "=================================================================\n",
      "Total params: 959,506\n",
      "Trainable params: 959,506\n",
      "Non-trainable params: 0\n",
      "_________________________________________________________________\n"
     ]
    }
   ],
   "source": [
    "\n",
    "model = Sequential()\n",
    "model.add(Conv2D(16,kernel_size = (5,5),activation = 'relu', activity_regularizer=regularizers.l2(1e-8)))\n",
    "model.add(Conv2D(32,kernel_size = (5,5),activation = 'relu', activity_regularizer = regularizers.l2(1e-8)))\n",
    "model.add(MaxPooling2D(3,3))\n",
    "model.add(Conv2D(64,kernel_size = (5,5),activation = 'relu', activity_regularizer = regularizers.l2(1e-8)))\n",
    "model.add(MaxPooling2D(3,3))\n",
    "model.add(Conv2D(128,activation = 'relu',kernel_size = (3,3),activity_regularizer = regularizers.l2(1e-8)))\n",
    "model.add(Flatten())\n",
    "model.add(Dropout(0.4))\n",
    "model.add(Dense(64,activation = 'tanh',activity_regularizer = regularizers.l2(1e-8)))\n",
    "model.add(Dropout(0.2))\n",
    "model.add(Dense(16,activation = 'tanh',activity_regularizer = regularizers.l2(1e-8)))\n",
    "model.add(Dropout(0.2))\n",
    "model.add(Dense(2,activation = 'softmax'))\n",
    "model.compile(loss=keras.losses.binary_crossentropy, optimizer=\"adam\", metrics=[\"accuracy\"])\n",
    "model.fit(X_train,y_train, epochs = 10 ,batch_size = 16,validation_data=(X_test,y_test_Categorical))\n",
    "model.summary()\n"
   ]
  },
  {
   "cell_type": "markdown",
   "metadata": {
    "_uuid": "3803469addf95c901556379672e89b2ce527d364"
   },
   "source": [
    "Accuracy Measures\n",
    "[Helping Material](http://comprna.upf.edu/courses/Master_AGB/2_ClassificationAlgorithms/Lecture_Accuracy.pdf)"
   ]
  },
  {
   "cell_type": "code",
   "execution_count": 33,
   "metadata": {
    "_uuid": "458012a41631422880d372941458b0f633751dfc"
   },
   "outputs": [
    {
     "name": "stdout",
     "output_type": "stream",
     "text": [
      "true_negative:  76\n",
      "false_positive:  0\n",
      "false_negative:  24\n",
      "true_positive:  0\n",
      "\n",
      "\n",
      " Accuracy Measures\n",
      "\n",
      "\n",
      "Sensitivity:  0.0\n",
      "False_Positive_Rate:  0.0\n",
      "Specificity:  1.0\n",
      "False_Discovery_Rate:  nan\n",
      "Positive_Predictive_Value:  nan\n"
     ]
    },
    {
     "name": "stderr",
     "output_type": "stream",
     "text": [
      "/opt/conda/lib/python3.6/site-packages/ipykernel_launcher.py:24: RuntimeWarning: invalid value encountered in long_scalars\n",
      "/opt/conda/lib/python3.6/site-packages/ipykernel_launcher.py:27: RuntimeWarning: invalid value encountered in long_scalars\n"
     ]
    }
   ],
   "source": [
    "from sklearn.metrics import confusion_matrix\n",
    "prediction=model.predict(X_test)\n",
    "y_pred=[]\n",
    "for i in prediction:\n",
    "    y_pred.append(i.argmax())\n",
    "y_pred=np.asarray(y_pred)\n",
    "true_negative,false_positive,false_negative,true_positive=confusion_matrix(y_test, y_pred).ravel()\n",
    "\n",
    "print(\"true_negative: \",true_negative)\n",
    "print(\"false_positive: \",false_positive)\n",
    "print(\"false_negative: \",false_negative)\n",
    "print(\"true_positive: \",true_positive)\n",
    "print(\"\\n\\n Accuracy Measures\\n\\n\")\n",
    "Sensitivity=true_positive/(true_positive+false_negative)\n",
    "print(\"Sensitivity: \",Sensitivity)\n",
    "\n",
    "False_Positive_Rate=false_positive/(false_positive+true_negative)\n",
    "print(\"False_Positive_Rate: \",False_Positive_Rate)\n",
    "\n",
    "Specificity=true_negative/(false_positive + true_negative)\n",
    "print(\"Specificity: \",Specificity)\n",
    "\n",
    "#FDR à 0 means that very few of our predictions are wrong\n",
    "False_Discovery_Rate=false_positive/(false_positive+true_positive)\n",
    "print(\"False_Discovery_Rate: \",False_Discovery_Rate)\n",
    "\n",
    "Positive_Predictive_Value =true_positive/(true_positive+false_positive)\n",
    "print(\"Positive_Predictive_Value: \",Positive_Predictive_Value)\n",
    "\n"
   ]
  },
  {
   "cell_type": "markdown",
   "metadata": {
    "_uuid": "c02f3b61b1409acd5b9dd40a5cda0b6203e91a35"
   },
   "source": [
    "**Model is Giving 0% accuracy After all of this If someone know the solution please let me know**\n",
    "1. According to me less images will be the problem so that cnn is not getting enough images to train their weights well"
   ]
  },
  {
   "cell_type": "code",
   "execution_count": 34,
   "metadata": {
    "_uuid": "79b3e2128244f39f30951b1c8666005f38a1b32c"
   },
   "outputs": [],
   "source": [
    "a=np.expand_dims( X_train[10],axis=0)\n",
    "a.shape\n",
    "layer_outputs = [layer.output for layer in model.layers]\n",
    "activation_model = Model(inputs=model.input, outputs=layer_outputs)\n",
    "activations = activation_model.predict(a)\n"
   ]
  },
  {
   "cell_type": "code",
   "execution_count": 35,
   "metadata": {
    "_uuid": "5490b4618d2ae30cf8cd1caccc5e6920965177b9"
   },
   "outputs": [
    {
     "data": {
      "image/png": "[encoded data removed]",
      "text/plain": [
       "<Figure size 720x432 with 16 Axes>"
      ]
     },
     "metadata": {},
     "output_type": "display_data"
    }
   ],
   "source": [
    "def display_activation(activations, col_size, row_size, act_index): \n",
    "    activation = activations[act_index]\n",
    "    activation_index=0\n",
    "    fig, ax = plt.subplots(row_size, col_size, figsize=(row_size*2.5,col_size*1.5))\n",
    "    for row in range(0,row_size):\n",
    "        for col in range(0,col_size):\n",
    "            ax[row][col].imshow(activation[0, :, :, activation_index])\n",
    "            activation_index += 1\n",
    "display_activation(activations, 4, 4,1)"
   ]
  },
  {
   "cell_type": "markdown",
   "metadata": {
    "_uuid": "95fd6b70f17d00cae18897c418edf0aa34772940"
   },
   "source": [
    "please visualize 1 and 3 shape their will be a 6d array of filters but first 16 filter not present in the weights array"
   ]
  },
  {
   "cell_type": "markdown",
   "metadata": {
    "_uuid": "00efcf8725c192d03ef4bce4e6de81aa9907a8db"
   },
   "source": [
    "**Visualizing 15th filter of my first cov2d layer**"
   ]
  },
  {
   "cell_type": "code",
   "execution_count": 36,
   "metadata": {
    "_kg_hide-input": false,
    "_kg_hide-output": false,
    "_uuid": "beaf8921ae1e14443593369db699a718a3e1fb6a"
   },
   "outputs": [
    {
     "name": "stderr",
     "output_type": "stream",
     "text": [
      "Clipping input data to the valid range for imshow with RGB data ([0..1] for floats or [0..255] for integers).\n"
     ]
    },
    {
     "data": {
      "text/plain": [
       "<matplotlib.image.AxesImage at 0x7f9d626a94e0>"
      ]
     },
     "execution_count": 36,
     "metadata": {},
     "output_type": "execute_result"
    },
    {
     "data": {
      "image/png": "[encoded data removed]",
      "text/plain": [
       "<Figure size 432x288 with 1 Axes>"
      ]
     },
     "metadata": {},
     "output_type": "display_data"
    }
   ],
   "source": [
    "top_layer = model.layers[0]\n",
    "plt.imshow(top_layer.get_weights()[0][:, :, :,15 ])"
   ]
  },
  {
   "cell_type": "markdown",
   "metadata": {
    "_uuid": "d0f57d2b784f5c3fb18b13c76c1f8ff0e314f6df"
   },
   "source": [
    "**Achiving 76% accuracy till now on 1000 examples**"
   ]
  },
  {
   "cell_type": "code",
   "execution_count": 37,
   "metadata": {
    "_uuid": "f02b05fd7c2cbd9dea3401be6d638c8d02e11b9d"
   },
   "outputs": [],
   "source": []
  },
  {
   "cell_type": "code",
   "execution_count": 37,
   "metadata": {
    "_uuid": "ee961f2a64b0297754b7a29b6fc10f00aae3c532"
   },
   "outputs": [],
   "source": []
  },
  {
   "cell_type": "code",
   "execution_count": 37,
   "metadata": {
    "_uuid": "63e2c71231aecdff344100184c023500c46c2a75"
   },
   "outputs": [],
   "source": []
  },
  {
   "cell_type": "code",
   "execution_count": 37,
   "metadata": {
    "_uuid": "66be5c8384be88e9c0318b73697475c0c195fcfa"
   },
   "outputs": [],
   "source": []
  },
  {
   "cell_type": "code",
   "execution_count": 37,
   "metadata": {
    "_uuid": "fcf5040e64ac5be05d8f1ed7c1d9c1e793ed91f4"
   },
   "outputs": [],
   "source": []
  },
  {
   "cell_type": "code",
   "execution_count": 37,
   "metadata": {
    "_uuid": "46c08ee16c7feb872a50cf670229f431024c8a67"
   },
   "outputs": [],
   "source": []
  },
  {
   "cell_type": "code",
   "execution_count": 37,
   "metadata": {
    "_uuid": "a3d659bdabf20e7d628ccd20e6f5551c826c8f2c"
   },
   "outputs": [],
   "source": []
  },
  {
   "cell_type": "code",
   "execution_count": 37,
   "metadata": {
    "_uuid": "95641de3868bc92dec3bbaec5da24c8e9ea38c09"
   },
   "outputs": [],
   "source": []
  },
  {
   "cell_type": "code",
   "execution_count": 37,
   "metadata": {
    "_uuid": "bc6d1769767e0340475403d49ec3068e1b02e83a"
   },
   "outputs": [],
   "source": []
  },
  {
   "cell_type": "code",
   "execution_count": 37,
   "metadata": {
    "_uuid": "826df147bd60e45328cd5eb6e09b5e0e88de2f48"
   },
   "outputs": [],
   "source": []
  },
  {
   "cell_type": "code",
   "execution_count": 37,
   "metadata": {
    "_uuid": "f124a6d59166b3f6873a467350b8fe0348ae59d1"
   },
   "outputs": [],
   "source": []
  },
  {
   "cell_type": "code",
   "execution_count": 37,
   "metadata": {
    "_uuid": "07cc76663f534840e971eeb4b624cbdf027b16fd"
   },
   "outputs": [],
   "source": []
  },
  {
   "cell_type": "code",
   "execution_count": 37,
   "metadata": {
    "_uuid": "84351f1cac74cd2cee37250a7618485faaf8cddc"
   },
   "outputs": [],
   "source": []
  },
  {
   "cell_type": "code",
   "execution_count": 37,
   "metadata": {
    "_uuid": "1f94ed31bb943f75c51c5f928893807261fe27b1"
   },
   "outputs": [],
   "source": []
  },
  {
   "cell_type": "code",
   "execution_count": 37,
   "metadata": {
    "_uuid": "27709611d7631bc72afcd815e39d7c4c119ed068"
   },
   "outputs": [],
   "source": []
  },
  {
   "cell_type": "code",
   "execution_count": 37,
   "metadata": {
    "_uuid": "5fa9e93039e0030d72b281dcc86703bdd85fc98e"
   },
   "outputs": [],
   "source": []
  },
  {
   "cell_type": "code",
   "execution_count": 37,
   "metadata": {
    "_uuid": "bca6bc0b6347ebca6ddbb2dd6a7180a03d3af3b5"
   },
   "outputs": [],
   "source": []
  },
  {
   "cell_type": "code",
   "execution_count": 37,
   "metadata": {
    "_uuid": "ac5743b49a4ce23f65c36d4bbc89413ab7dcc3da"
   },
   "outputs": [],
   "source": []
  },
  {
   "cell_type": "code",
   "execution_count": 37,
   "metadata": {
    "_uuid": "4fdec00c80402bd9f80acd68ef8d7a3fea243ee6"
   },
   "outputs": [],
   "source": []
  },
  {
   "cell_type": "code",
   "execution_count": 37,
   "metadata": {
    "_uuid": "283f1c0c7a607dae900ca76c4a4be5a5eebb7ef8"
   },
   "outputs": [],
   "source": []
  },
  {
   "cell_type": "code",
   "execution_count": 37,
   "metadata": {
    "_uuid": "774e0212f020859222ddcf8190020a23b2ead60b"
   },
   "outputs": [],
   "source": []
  },
  {
   "cell_type": "code",
   "execution_count": 37,
   "metadata": {
    "_uuid": "2137bbe15c8116c1315c443e5ed77e99e4901c11"
   },
   "outputs": [],
   "source": []
  },
  {
   "cell_type": "code",
   "execution_count": 37,
   "metadata": {
    "_uuid": "bcaf6b844fe2dca4aebc559f786880365498bd8c"
   },
   "outputs": [],
   "source": []
  },
  {
   "cell_type": "code",
   "execution_count": 37,
   "metadata": {
    "_uuid": "91446c036a72435a98add4bda38afb8d2e5bd0a2"
   },
   "outputs": [],
   "source": []
  },
  {
   "cell_type": "code",
   "execution_count": 37,
   "metadata": {
    "_uuid": "233f927707ae6e39d5ac63903914f658fce693be"
   },
   "outputs": [],
   "source": []
  },
  {
   "cell_type": "code",
   "execution_count": 37,
   "metadata": {
    "_uuid": "9d0cc613c5b5fd2c2de90e5cb95ce15f0c9a6e9f"
   },
   "outputs": [],
   "source": []
  },
  {
   "cell_type": "code",
   "execution_count": 37,
   "metadata": {
    "_uuid": "f8c2bfcb0fd9a7f773328f45dd969da95f9ebd1a"
   },
   "outputs": [],
   "source": []
  },
  {
   "cell_type": "code",
   "execution_count": 37,
   "metadata": {
    "_uuid": "1a6f7eaaa33eed466408fb1c0cd48755fed5ab87"
   },
   "outputs": [],
   "source": []
  },
  {
   "cell_type": "code",
   "execution_count": 37,
   "metadata": {
    "_uuid": "b2ab13035ab58eaea7af50fd570144507b5113ea"
   },
   "outputs": [],
   "source": []
  },
  {
   "cell_type": "code",
   "execution_count": 37,
   "metadata": {
    "_uuid": "c8e7293cd9e13119a800ab9c9c3c77e6779715ee"
   },
   "outputs": [],
   "source": []
  },
  {
   "cell_type": "code",
   "execution_count": 37,
   "metadata": {
    "_uuid": "4d3771b82c9f93a82a01bf62b9d436cc02e322a8"
   },
   "outputs": [],
   "source": []
  },
  {
   "cell_type": "code",
   "execution_count": 37,
   "metadata": {
    "_uuid": "792fe17723e14576bfb6799f171a44e507629181"
   },
   "outputs": [],
   "source": []
  },
  {
   "cell_type": "code",
   "execution_count": 37,
   "metadata": {
    "_uuid": "692b855e9c5d595fc422d2a63b6ee283ae941eb7"
   },
   "outputs": [],
   "source": []
  },
  {
   "cell_type": "code",
   "execution_count": 37,
   "metadata": {
    "_uuid": "84c5185f7b6b88ea30346be08dc9df5bda230896"
   },
   "outputs": [],
   "source": []
  },
  {
   "cell_type": "code",
   "execution_count": 37,
   "metadata": {
    "_uuid": "ca3022b4aa4055814cfd15767dccb121bb7d730d"
   },
   "outputs": [],
   "source": []
  },
  {
   "cell_type": "code",
   "execution_count": 37,
   "metadata": {
    "_uuid": "bed497e9b6ea6c464a12cfa7979880f8211cf448"
   },
   "outputs": [],
   "source": []
  },
  {
   "cell_type": "code",
   "execution_count": 37,
   "metadata": {
    "_uuid": "32f2a537bc9ac4799323aa6d4e3068243275b679"
   },
   "outputs": [],
   "source": []
  },
  {
   "cell_type": "code",
   "execution_count": 37,
   "metadata": {
    "_uuid": "90a5ac1fd834d0fd3289192f6890a7569a84a335"
   },
   "outputs": [],
   "source": []
  },
  {
   "cell_type": "code",
   "execution_count": 37,
   "metadata": {
    "_uuid": "885a9d3eb1f6331828f18ff955bd9ebde22d8547"
   },
   "outputs": [],
   "source": []
  },
  {
   "cell_type": "code",
   "execution_count": 37,
   "metadata": {
    "_uuid": "20b98099d52f93ee830fedb3b4c38c8f58c4f034"
   },
   "outputs": [],
   "source": []
  },
  {
   "cell_type": "code",
   "execution_count": 37,
   "metadata": {
    "_uuid": "0aae4ff7dc1afc3c04c2d145ff74db4d1e2d1d8e"
   },
   "outputs": [],
   "source": []
  },
  {
   "cell_type": "code",
   "execution_count": 37,
   "metadata": {
    "_uuid": "2c01beb17b0155987f318bd43a04c400f6e13f1e"
   },
   "outputs": [],
   "source": []
  },
  {
   "cell_type": "code",
   "execution_count": 37,
   "metadata": {
    "_uuid": "4a7da8f1ba9f2d636eb48f582def85304d46dce2"
   },
   "outputs": [],
   "source": []
  },
  {
   "cell_type": "code",
   "execution_count": 37,
   "metadata": {
    "_uuid": "50d5323c3ef48c5d5a094d09ff7575dbf31e1958"
   },
   "outputs": [],
   "source": []
  },
  {
   "cell_type": "code",
   "execution_count": 37,
   "metadata": {
    "_uuid": "30b083d2f1122ba5e102846349410efb84bffbb1"
   },
   "outputs": [],
   "source": []
  },
  {
   "cell_type": "code",
   "execution_count": 37,
   "metadata": {
    "_uuid": "824cb0e6173ff82e4b49f07526f62162e8fa184d"
   },
   "outputs": [],
   "source": []
  },
  {
   "cell_type": "code",
   "execution_count": 37,
   "metadata": {
    "_uuid": "263ea4a86b204d9834746c9698674be07ad49410"
   },
   "outputs": [],
   "source": []
  },
  {
   "cell_type": "code",
   "execution_count": 37,
   "metadata": {
    "_uuid": "9ba46beb817981810d55e2309dc3135fb5eb6c57"
   },
   "outputs": [],
   "source": []
  },
  {
   "cell_type": "code",
   "execution_count": 37,
   "metadata": {
    "_uuid": "dcf0852e95fed4fc042884cd36d34cb8c91eb555"
   },
   "outputs": [],
   "source": []
  },
  {
   "cell_type": "code",
   "execution_count": 37,
   "metadata": {
    "_uuid": "209e709458625b96caadf43263acd7dda180e76b"
   },
   "outputs": [],
   "source": []
  },
  {
   "cell_type": "code",
   "execution_count": 37,
   "metadata": {
    "_uuid": "274833d17d7c56ad6d4b8d81b1b6118c4a2c9d0a"
   },
   "outputs": [],
   "source": []
  },
  {
   "cell_type": "code",
   "execution_count": 37,
   "metadata": {
    "_uuid": "3a325b8355f6441995253fcef2027faba22c4fab"
   },
   "outputs": [],
   "source": []
  },
  {
   "cell_type": "code",
   "execution_count": 37,
   "metadata": {
    "_uuid": "f3fef267a69895b1073f12387ddbbd417f918c24"
   },
   "outputs": [],
   "source": []
  },
  {
   "cell_type": "code",
   "execution_count": 37,
   "metadata": {
    "_uuid": "9a1bf97eaf4c8a3e2bae3eb84e5e054aed273e58"
   },
   "outputs": [],
   "source": []
  },
  {
   "cell_type": "code",
   "execution_count": 37,
   "metadata": {
    "_uuid": "554adf271ddb9fd7eef49be24b11dd453088c962"
   },
   "outputs": [],
   "source": []
  },
  {
   "cell_type": "code",
   "execution_count": 37,
   "metadata": {
    "_uuid": "5e60f147239ce70e146099640d8c752a74ae1b29"
   },
   "outputs": [],
   "source": []
  },
  {
   "cell_type": "code",
   "execution_count": 37,
   "metadata": {
    "_uuid": "28db9aed501eb3076917d58f34e40a1e6a7b6383"
   },
   "outputs": [],
   "source": []
  },
  {
   "cell_type": "code",
   "execution_count": 37,
   "metadata": {
    "_uuid": "826966cabe2b420345404774a19ce09f8d860564"
   },
   "outputs": [],
   "source": []
  },
  {
   "cell_type": "code",
   "execution_count": 37,
   "metadata": {
    "_uuid": "7284855ff1a5e6027f80f0d4ff28f909e940370c"
   },
   "outputs": [],
   "source": []
  },
  {
   "cell_type": "code",
   "execution_count": 37,
   "metadata": {
    "_uuid": "ce5d0ef576951a2b44a103ffcf0ae1e861cfa65d"
   },
   "outputs": [],
   "source": []
  },
  {
   "cell_type": "code",
   "execution_count": 37,
   "metadata": {
    "_uuid": "e213b129ce5b07a3573546097c9c8a2e057a5332"
   },
   "outputs": [],
   "source": []
  }
 ],
 "metadata": {
  "kernelspec": {
   "display_name": "Python 3",
   "language": "python",
   "name": "python3"
  },
  "language_info": {
   "codemirror_mode": {
    "name": "ipython",
    "version": 3
   },
   "file_extension": ".py",
   "mimetype": "text/x-python",
   "name": "python",
   "nbconvert_exporter": "python",
   "pygments_lexer": "ipython3",
   "version": "3.6.6"
  }
 },
 "nbformat": 4,
 "nbformat_minor": 1
}
