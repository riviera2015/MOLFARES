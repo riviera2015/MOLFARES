{
  "nbformat": 4,
  "nbformat_minor": 0,
  "metadata": {
    "kernelspec": {
      "display_name": "Python 3",
      "language": "python",
      "name": "python3"
    },
    "language_info": {
      "codemirror_mode": {
        "name": "ipython",
        "version": 3
      },
      "file_extension": ".py",
      "mimetype": "text/x-python",
      "name": "python",
      "nbconvert_exporter": "python",
      "pygments_lexer": "ipython3",
      "version": "3.7.3"
    },
    "colab": {
      "name": "ROC_AUC_SCORE_ACC-Keras.ipynb",
      "provenance": [],
      "collapsed_sections": [
        "1gcyN0YNl1xf",
        "K8tPTKpyl1x2",
        "PDGZ9twcl1x_",
        "xqi6aDAcl1yo",
        "AkzTHzL_l1yw",
        "pPpsKkGql1y6",
        "A3Y1ydnxl1zB"
      ],
      "include_colab_link": true
    }
  },
  "cells": [
    {
      "cell_type": "markdown",
      "metadata": {
        "id": "view-in-github",
        "colab_type": "text"
      },
      "source": [
        "<a href=\"https://colab.research.google.com/github/riviera2015/MOLFARES/blob/master/ROC_AUC_SCORE_ACC_Keras.ipynb\" target=\"_parent\"><img src=\"https://colab.research.google.com/assets/colab-badge.svg\" alt=\"Open In Colab\"/></a>"
      ]
    },
    {
      "cell_type": "markdown",
      "metadata": {
        "id": "hXAch1jml1xU"
      },
      "source": [
        "# Binary classification\n",
        "### Generate some train/test data"
      ]
    },
    {
      "cell_type": "code",
      "metadata": {
        "id": "G7QgoaXVl1xW"
      },
      "source": [
        "import numpy as np\n",
        "np.random.seed(10)\n",
        "\n",
        "import matplotlib.pyplot as plt\n",
        "import math\n",
        "from sklearn.datasets import make_classification\n",
        "from sklearn.ensemble import RandomForestClassifier\n",
        "from sklearn.model_selection import train_test_split\n",
        "from sklearn.metrics import roc_curve\n",
        "from sklearn.model_selection import cross_val_score"
      ],
      "execution_count": null,
      "outputs": []
    },
    {
      "cell_type": "code",
      "metadata": {
        "id": "-F1O9UEC9C0q"
      },
      "source": [
        "#!nvidia-smi\n"
      ],
      "execution_count": null,
      "outputs": []
    },
    {
      "cell_type": "markdown",
      "metadata": {
        "id": "Y5aUSJZ6Rgbd"
      },
      "source": [
        "DATA MODELING"
      ]
    },
    {
      "cell_type": "code",
      "metadata": {
        "id": "DzJtSyQBEQqI",
        "outputId": "f7ab4d7d-bf49-4a79-c02f-e5b76b63dbdd",
        "colab": {
          "base_uri": "https://localhost:8080/",
          "height": 51
        }
      },
      "source": [
        "# Задать начальное значение для ГПСЧ\n",
        "np.random.seed(0)\n",
        "\n",
        "# Количество признаков\n",
        "number_of_features = 100\n",
        "X, y = make_classification(n_samples=1255)\n",
        "                           # n_features = number_of_features,\n",
        "                                      # n_informative = 3,#добавил\n",
        "                                       #n_redundant = 0,\n",
        "                                       #n_classes = 2,\n",
        "                                       #weights = [.5, .5],\n",
        "                                       #random_state = 0)\n",
        "X_train, X_test, y_train, y_test = train_test_split(X, y, test_size=0.27)\n",
        "print(y)\n",
        "len(y_test)\n",
        "# 400=0.318\n",
        "# 377=0.3\n",
        "#352=0.28"
      ],
      "execution_count": null,
      "outputs": [
        {
          "output_type": "stream",
          "text": [
            "[1 0 1 ... 1 0 0]\n"
          ],
          "name": "stdout"
        },
        {
          "output_type": "execute_result",
          "data": {
            "text/plain": [
              "339"
            ]
          },
          "metadata": {
            "tags": []
          },
          "execution_count": 3
        }
      ]
    },
    {
      "cell_type": "code",
      "metadata": {
        "id": "fMSFfztmTiM_"
      },
      "source": [
        ""
      ],
      "execution_count": null,
      "outputs": []
    },
    {
      "cell_type": "markdown",
      "metadata": {
        "id": "fUPE2N1_T4Cq"
      },
      "source": [
        "EXperiments with logit"
      ]
    },
    {
      "cell_type": "code",
      "metadata": {
        "id": "qm_K1Hsn-kNy",
        "outputId": "3f27d7da-fb9f-4f3b-b3fc-628c7b6acbcd",
        "colab": {
          "base_uri": "https://localhost:8080/",
          "height": 34
        }
      },
      "source": [
        "# load libraries\n",
        "from sklearn.model_selection import cross_val_score\n",
        "from sklearn.linear_model import LogisticRegression\n",
        "# create logistic regression\n",
        "logit = LogisticRegression()\n",
        "\n",
        "# cross-validate model using accuracy\n",
        "cross_val_score(logit, X, y, scoring='accuracy')"
      ],
      "execution_count": null,
      "outputs": [
        {
          "output_type": "execute_result",
          "data": {
            "text/plain": [
              "array([0.91633466, 0.89243028, 0.94422311, 0.89641434, 0.89641434])"
            ]
          },
          "metadata": {
            "tags": []
          },
          "execution_count": 5
        }
      ]
    },
    {
      "cell_type": "code",
      "metadata": {
        "id": "3E21RYQCSBpA",
        "outputId": "8c68fb28-4057-4bb7-d3ee-18fcce961285",
        "colab": {
          "base_uri": "https://localhost:8080/",
          "height": 34
        }
      },
      "source": [
        "# cross-validate model using precision\n",
        "cross_val_score(logit, X, y, scoring='precision')"
      ],
      "execution_count": null,
      "outputs": [
        {
          "output_type": "execute_result",
          "data": {
            "text/plain": [
              "array([0.94117647, 0.8778626 , 0.95901639, 0.93103448, 0.92372881])"
            ]
          },
          "metadata": {
            "tags": []
          },
          "execution_count": 6
        }
      ]
    },
    {
      "cell_type": "code",
      "metadata": {
        "id": "7uzU6HzHSep4",
        "outputId": "1e0d20b8-bd9c-4d40-a99e-3af260026162",
        "colab": {
          "base_uri": "https://localhost:8080/",
          "height": 34
        }
      },
      "source": [
        "# cross-validate model using recall\n",
        "cross_val_score(logit, X, y, scoring='recall')"
      ],
      "execution_count": null,
      "outputs": [
        {
          "output_type": "execute_result",
          "data": {
            "text/plain": [
              "array([0.88888889, 0.91269841, 0.92857143, 0.85714286, 0.86507937])"
            ]
          },
          "metadata": {
            "tags": []
          },
          "execution_count": 7
        }
      ]
    },
    {
      "cell_type": "code",
      "metadata": {
        "id": "gtJWU8U5SnnS",
        "outputId": "c5482526-be9a-49c4-b37a-31df4acba579",
        "colab": {
          "base_uri": "https://localhost:8080/",
          "height": 231
        }
      },
      "source": [
        "# split into training and test sets\n",
        "features_train, features_test, target_train, target_test = train_test_split(X, y, test_size=0.27, random_state=1)\n",
        "\n",
        "# create classifier\n",
        "logit = LogisticRegression()\n",
        "\n",
        "# train model\n",
        "logit.fit(features_train, target_train)\n",
        "\n",
        "# get predicted probabilities\n",
        "target_probabilities = logit.predict_proba(features_test)[:,1]\n",
        "\n",
        "# create true and positive rates\n",
        "false_positive_rate, true_positive_rate, threshold = roc_curve(target_test, target_probabilities)\n",
        "\n",
        "# plot ROC curve\n",
        "plt.title(\"Reciever Operating Characteristic\")\n",
        "plt.plot(false_positive_rate, true_positive_rate)\n",
        "plt.plot([0, 1], ls=\"--\")\n",
        "plt.plot([0, 0], [1,0], c=\".7\"), plt.plot([1, 1], c=\".7\")\n",
        "plt.ylabel(\"True Positive Rate\")\n",
        "plt.xlabel(\"False Positive Rate\")\n",
        "plt.show()"
      ],
      "execution_count": null,
      "outputs": [
        {
          "output_type": "error",
          "ename": "NameError",
          "evalue": "ignored",
          "traceback": [
            "\u001b[0;31m---------------------------------------------------------------------------\u001b[0m",
            "\u001b[0;31mNameError\u001b[0m                                 Traceback (most recent call last)",
            "\u001b[0;32m<ipython-input-4-e09c10c4ca2b>\u001b[0m in \u001b[0;36m<module>\u001b[0;34m()\u001b[0m\n\u001b[1;32m      3\u001b[0m \u001b[0;34m\u001b[0m\u001b[0m\n\u001b[1;32m      4\u001b[0m \u001b[0;31m# create classifier\u001b[0m\u001b[0;34m\u001b[0m\u001b[0;34m\u001b[0m\u001b[0;34m\u001b[0m\u001b[0m\n\u001b[0;32m----> 5\u001b[0;31m \u001b[0mlogit\u001b[0m \u001b[0;34m=\u001b[0m \u001b[0mLogisticRegression\u001b[0m\u001b[0;34m(\u001b[0m\u001b[0;34m)\u001b[0m\u001b[0;34m\u001b[0m\u001b[0;34m\u001b[0m\u001b[0m\n\u001b[0m\u001b[1;32m      6\u001b[0m \u001b[0;34m\u001b[0m\u001b[0m\n\u001b[1;32m      7\u001b[0m \u001b[0;31m# train model\u001b[0m\u001b[0;34m\u001b[0m\u001b[0;34m\u001b[0m\u001b[0;34m\u001b[0m\u001b[0m\n",
            "\u001b[0;31mNameError\u001b[0m: name 'LogisticRegression' is not defined"
          ]
        }
      ]
    },
    {
      "cell_type": "code",
      "metadata": {
        "id": "rfBb-on6TMR_",
        "outputId": "21ee929f-1e70-4193-ba38-8566a20407e3",
        "colab": {
          "base_uri": "https://localhost:8080/",
          "height": 34
        }
      },
      "source": [
        "# get predicted probabilities\n",
        "logit.predict_proba(features_test)[0:1]"
      ],
      "execution_count": null,
      "outputs": [
        {
          "output_type": "execute_result",
          "data": {
            "text/plain": [
              "array([[0.92969122, 0.07030878]])"
            ]
          },
          "metadata": {
            "tags": []
          },
          "execution_count": 9
        }
      ]
    },
    {
      "cell_type": "code",
      "metadata": {
        "id": "4iDgbKriTVLg",
        "outputId": "890069ca-4c21-490a-b643-b63f08785bd3",
        "colab": {
          "base_uri": "https://localhost:8080/",
          "height": 34
        }
      },
      "source": [
        "logit.classes_"
      ],
      "execution_count": null,
      "outputs": [
        {
          "output_type": "execute_result",
          "data": {
            "text/plain": [
              "array([0, 1])"
            ]
          },
          "metadata": {
            "tags": []
          },
          "execution_count": 10
        }
      ]
    },
    {
      "cell_type": "code",
      "metadata": {
        "id": "b5GdTR0UUw3S",
        "outputId": "c2fee9ad-cebb-4e5b-8f8b-f97cef827f23",
        "colab": {
          "base_uri": "https://localhost:8080/",
          "height": 34
        }
      },
      "source": [
        "# calculate area under curve\n",
        "from sklearn.metrics import roc_curve, roc_auc_score\n",
        "roc_auc_score(target_test, target_probabilities)"
      ],
      "execution_count": null,
      "outputs": [
        {
          "output_type": "execute_result",
          "data": {
            "text/plain": [
              "0.9703445875391578"
            ]
          },
          "metadata": {
            "tags": []
          },
          "execution_count": 25
        }
      ]
    },
    {
      "cell_type": "markdown",
      "metadata": {
        "id": "30m-5WivECRM"
      },
      "source": [
        "вариант данных-2"
      ]
    },
    {
      "cell_type": "code",
      "metadata": {
        "id": "3H_TZf0E_AcN",
        "outputId": "a0f6a6a5-1a99-40c2-f8a6-423812054c80",
        "colab": {
          "base_uri": "https://localhost:8080/",
          "height": 34
        }
      },
      "source": [
        "from sklearn import datasets\n",
        "from collections import Counter\n",
        "\n",
        "X, y = datasets.make_classification(\n",
        "            n_samples     = 100000,  # number of data points\n",
        "            n_classes     = 2,      # number of classes\n",
        "            n_clusters_per_class=2, # The number of clusters per class \n",
        "            weights       = [0.99,0.01], # The proportions assigned to each class\n",
        "            n_features    = 12,     # number of total features \n",
        "            n_informative = 5,      # number of informative features \n",
        "            n_redundant   = 7,      # number of redundant features\n",
        "            class_sep=0.9,\n",
        "            random_state  = 0                       )\n",
        "print('Original dataset shape {}'.format(Counter(y)))\n"
      ],
      "execution_count": null,
      "outputs": [
        {
          "output_type": "stream",
          "text": [
            "Original dataset shape Counter({0: 98521, 1: 1479})\n"
          ],
          "name": "stdout"
        }
      ]
    },
    {
      "cell_type": "code",
      "metadata": {
        "id": "t9tGKiAoVGms"
      },
      "source": [
        ""
      ],
      "execution_count": null,
      "outputs": []
    },
    {
      "cell_type": "markdown",
      "metadata": {
        "id": "Ph-QpHTsXiYg"
      },
      "source": [
        "Early Stopping"
      ]
    },
    {
      "cell_type": "code",
      "metadata": {
        "id": "-No7hqHTblSs"
      },
      "source": [
        "# Set callback functions to early stop training and save the best model so far\n",
        "from keras.callbacks import ModelCheckpoint, EarlyStopping\n",
        "callbacks = [EarlyStopping(monitor='val_loss', patience=2),\n",
        "             ModelCheckpoint(filepath='best_model.h5', monitor='val_loss', save_best_only=True)]"
      ],
      "execution_count": null,
      "outputs": []
    },
    {
      "cell_type": "code",
      "metadata": {
        "id": "vmOhC83iW0ke"
      },
      "source": [
        "from keras.callbacks import EarlyStopping\n",
        "earlystop = EarlyStopping(monitor = 'val_loss',\n",
        "                          min_delta = 0,\n",
        "                          patience = 3,\n",
        "                          verbose = 1,\n",
        "                          restore_best_weights = True)\n"
      ],
      "execution_count": null,
      "outputs": []
    },
    {
      "cell_type": "markdown",
      "metadata": {
        "id": "1gcyN0YNl1xf"
      },
      "source": [
        "### Build and train a Keras classifier model as usual"
      ]
    },
    {
      "cell_type": "code",
      "metadata": {
        "id": "Uw2NbBPYl1xg"
      },
      "source": [
        "from keras.models import Sequential\n",
        "from keras.layers import Dense\n",
        "from IPython.display import SVG\n",
        "from keras.utils.vis_utils import model_to_dot\n",
        "from keras.utils import plot_model\n",
        "def build_model(optimizer=\"rmsprop\"):\n",
        "    model = Sequential()\n",
        "# Добавить полносвязный слой с активационной функцией ReLU\n",
        "    #model.add(Dense(units=16,\n",
        "       # activation=\"relu\",\n",
        "        #input_shape=(number_of_features,)))\n",
        "    model.add(Dense(20, input_dim=20, activation='relu'))\n",
        "    # Добавить полносвязный слой с активационной функцией ReLU\n",
        "    #model.add(Dense(units=16, activation=\"relu\"))\n",
        "\n",
        "    model.add(Dense(40, activation='relu'))\n",
        "    # Добавить полносвязный слой с сигмоидальной активационной функцией\n",
        "    #model.add(Dense(units=1, activation=\"sigmoid\"))\n",
        "    model.add(Dense(1, activation='sigmoid'))\n",
        "    # Скомпилировать нейронную сеть\n",
        "    model.compile(\n",
        "        loss=\"binary_crossentropy\", # Перекрестная энтропия\n",
        "        optimizer=optimizer,  # Оптимизатор\n",
        "        metrics=[\"accuracy\"]) # Точностный показатель результативности\n",
        "    return model"
      ],
      "execution_count": null,
      "outputs": []
    },
    {
      "cell_type": "code",
      "metadata": {
        "id": "-Tg8xeIMc2LS",
        "outputId": "ff650274-6f39-4c90-879f-92ebcc9c76e1",
        "colab": {
          "base_uri": "https://localhost:8080/",
          "height": 1000
        }
      },
      "source": [
        "from keras.wrappers.scikit_learn import KerasClassifier\n",
        "keras_model = build_model()\n",
        "#keras_model = KerasClassifier(build_fn=build_model, verbose=1)\n",
        "#вариант старый \n",
        "#keras_model.fit(X_train, y_train, epochs=5, batch_size=100, verbose=1)\n",
        "\n",
        "#CCCCCCCCCCCCCCCCCCC\n",
        "# Train neural network\n",
        "history = keras_model.fit(X_train, # Features\n",
        "                      y_train, # Target vector\n",
        "                      epochs=200, # Number of epochs\n",
        "                      callbacks=callbacks, # Early stopping\\\n",
        "                      batch_size=100, verbose=1, validation_split=0.3,\n",
        "                      #verbose=0, # Print description after each epoch\n",
        "                      #batch_size=100, # Number of observations per batch\n",
        "                      validation_data=(X_test, y_test)) # Data for evaluation"
      ],
      "execution_count": null,
      "outputs": [
        {
          "output_type": "stream",
          "text": [
            "Epoch 1/200\n",
            "7/7 [==============================] - 0s 25ms/step - loss: 0.7969 - accuracy: 0.4774 - val_loss: 0.7527 - val_accuracy: 0.4873\n",
            "Epoch 2/200\n",
            "7/7 [==============================] - 0s 5ms/step - loss: 0.7286 - accuracy: 0.5039 - val_loss: 0.7085 - val_accuracy: 0.5418\n",
            "Epoch 3/200\n",
            "7/7 [==============================] - 0s 5ms/step - loss: 0.6890 - accuracy: 0.5382 - val_loss: 0.6725 - val_accuracy: 0.6036\n",
            "Epoch 4/200\n",
            "7/7 [==============================] - 0s 5ms/step - loss: 0.6570 - accuracy: 0.5897 - val_loss: 0.6411 - val_accuracy: 0.6436\n",
            "Epoch 5/200\n",
            "7/7 [==============================] - 0s 5ms/step - loss: 0.6286 - accuracy: 0.6537 - val_loss: 0.6123 - val_accuracy: 0.7018\n",
            "Epoch 6/200\n",
            "7/7 [==============================] - 0s 5ms/step - loss: 0.6005 - accuracy: 0.7051 - val_loss: 0.5830 - val_accuracy: 0.7600\n",
            "Epoch 7/200\n",
            "7/7 [==============================] - 0s 5ms/step - loss: 0.5731 - accuracy: 0.7410 - val_loss: 0.5561 - val_accuracy: 0.7891\n",
            "Epoch 8/200\n",
            "7/7 [==============================] - 0s 5ms/step - loss: 0.5461 - accuracy: 0.7598 - val_loss: 0.5283 - val_accuracy: 0.7964\n",
            "Epoch 9/200\n",
            "7/7 [==============================] - 0s 6ms/step - loss: 0.5187 - accuracy: 0.7754 - val_loss: 0.5024 - val_accuracy: 0.8073\n",
            "Epoch 10/200\n",
            "7/7 [==============================] - 0s 6ms/step - loss: 0.4922 - accuracy: 0.7894 - val_loss: 0.4783 - val_accuracy: 0.8182\n",
            "Epoch 11/200\n",
            "7/7 [==============================] - 0s 5ms/step - loss: 0.4667 - accuracy: 0.8112 - val_loss: 0.4552 - val_accuracy: 0.8218\n",
            "Epoch 12/200\n",
            "7/7 [==============================] - 0s 5ms/step - loss: 0.4425 - accuracy: 0.8190 - val_loss: 0.4340 - val_accuracy: 0.8255\n",
            "Epoch 13/200\n",
            "7/7 [==============================] - 0s 5ms/step - loss: 0.4193 - accuracy: 0.8268 - val_loss: 0.4166 - val_accuracy: 0.8327\n",
            "Epoch 14/200\n",
            "7/7 [==============================] - 0s 5ms/step - loss: 0.3970 - accuracy: 0.8471 - val_loss: 0.4002 - val_accuracy: 0.8436\n",
            "Epoch 15/200\n",
            "7/7 [==============================] - 0s 6ms/step - loss: 0.3759 - accuracy: 0.8487 - val_loss: 0.3839 - val_accuracy: 0.8545\n",
            "Epoch 16/200\n",
            "7/7 [==============================] - 0s 6ms/step - loss: 0.3565 - accuracy: 0.8643 - val_loss: 0.3714 - val_accuracy: 0.8545\n",
            "Epoch 17/200\n",
            "7/7 [==============================] - 0s 6ms/step - loss: 0.3381 - accuracy: 0.8690 - val_loss: 0.3632 - val_accuracy: 0.8545\n",
            "Epoch 18/200\n",
            "7/7 [==============================] - 0s 5ms/step - loss: 0.3227 - accuracy: 0.8721 - val_loss: 0.3520 - val_accuracy: 0.8691\n",
            "Epoch 19/200\n",
            "7/7 [==============================] - 0s 5ms/step - loss: 0.3068 - accuracy: 0.8814 - val_loss: 0.3425 - val_accuracy: 0.8655\n",
            "Epoch 20/200\n",
            "7/7 [==============================] - 0s 5ms/step - loss: 0.2929 - accuracy: 0.8892 - val_loss: 0.3354 - val_accuracy: 0.8691\n",
            "Epoch 21/200\n",
            "7/7 [==============================] - 0s 6ms/step - loss: 0.2801 - accuracy: 0.8924 - val_loss: 0.3275 - val_accuracy: 0.8655\n",
            "Epoch 22/200\n",
            "7/7 [==============================] - 0s 5ms/step - loss: 0.2687 - accuracy: 0.8955 - val_loss: 0.3224 - val_accuracy: 0.8727\n",
            "Epoch 23/200\n",
            "7/7 [==============================] - 0s 5ms/step - loss: 0.2575 - accuracy: 0.8986 - val_loss: 0.3183 - val_accuracy: 0.8727\n",
            "Epoch 24/200\n",
            "7/7 [==============================] - 0s 5ms/step - loss: 0.2472 - accuracy: 0.8986 - val_loss: 0.3166 - val_accuracy: 0.8727\n",
            "Epoch 25/200\n",
            "7/7 [==============================] - 0s 6ms/step - loss: 0.2379 - accuracy: 0.9002 - val_loss: 0.3147 - val_accuracy: 0.8764\n",
            "Epoch 26/200\n",
            "7/7 [==============================] - 0s 5ms/step - loss: 0.2303 - accuracy: 0.9048 - val_loss: 0.3131 - val_accuracy: 0.8800\n",
            "Epoch 27/200\n",
            "7/7 [==============================] - 0s 5ms/step - loss: 0.2219 - accuracy: 0.9080 - val_loss: 0.3098 - val_accuracy: 0.8800\n",
            "Epoch 28/200\n",
            "7/7 [==============================] - 0s 4ms/step - loss: 0.2143 - accuracy: 0.9080 - val_loss: 0.3119 - val_accuracy: 0.8764\n",
            "Epoch 29/200\n",
            "7/7 [==============================] - 0s 4ms/step - loss: 0.2079 - accuracy: 0.9142 - val_loss: 0.3103 - val_accuracy: 0.8836\n"
          ],
          "name": "stdout"
        }
      ]
    },
    {
      "cell_type": "code",
      "metadata": {
        "id": "ZonV8FJbCyIk",
        "outputId": "df6e52f3-df44-4106-cde7-91b9204e6741",
        "colab": {
          "base_uri": "https://localhost:8080/",
          "height": 88
        }
      },
      "source": [
        "# Обернуть модель Keras, чтобы она могла \n",
        "# использоваться библиотекой scikit-learn\n",
        "from keras.wrappers.scikit_learn import KerasClassifier\n",
        "from sklearn.model_selection import GridSearchCV\n",
        "neural_network = KerasClassifier(build_fn=build_model, verbose=0)\n",
        "\n",
        "# Создать гиперпараметрическое пространство\n",
        "epochs = [5, 10]\n",
        "batches = [5, 10]\n",
        "optimizers = [\"rmsprop\", \"adam\"]\n",
        "features, target = X,y\n",
        "# Создать словарь вариантов гиперпараметров\n",
        "hyperparameters = dict(optimizer=optimizers, epochs=epochs, batch_size=batches)\n",
        "score_metric = 'accuracy'\n",
        "# Создать объект решеточного поиска\n",
        "grid = GridSearchCV(estimator=neural_network, \n",
        "                    param_grid=hyperparameters,\n",
        "                    scoring=score_metric,\n",
        "                    n_jobs=1,\n",
        "                    refit=True,\n",
        "                    return_train_score=True,\n",
        "                    cv=10)\n",
        "# Выполнить подгонку объекта решеточного поиска\n",
        "grid_result = grid.fit(features, target)"
      ],
      "execution_count": null,
      "outputs": [
        {
          "output_type": "stream",
          "text": [
            "WARNING:tensorflow:From /usr/local/lib/python3.6/dist-packages/tensorflow/python/keras/wrappers/scikit_learn.py:241: Sequential.predict_classes (from tensorflow.python.keras.engine.sequential) is deprecated and will be removed after 2021-01-01.\n",
            "Instructions for updating:\n",
            "Please use instead:* `np.argmax(model.predict(x), axis=-1)`,   if your model does multi-class classification   (e.g. if it uses a `softmax` last-layer activation).* `(model.predict(x) > 0.5).astype(\"int32\")`,   if your model does binary classification   (e.g. if it uses a `sigmoid` last-layer activation).\n"
          ],
          "name": "stdout"
        }
      ]
    },
    {
      "cell_type": "code",
      "metadata": {
        "id": "ceUpn-rpvn12",
        "outputId": "b859542d-2e26-43ef-faae-9a23ab1fea7e",
        "colab": {
          "base_uri": "https://localhost:8080/",
          "height": 51
        }
      },
      "source": [
        "print('Best parameters: %s' % grid_result.best_params_)\n",
        "print('CV Accuracy of best parameters: %.3f' % \n",
        "      grid_result.best_score_)"
      ],
      "execution_count": null,
      "outputs": [
        {
          "output_type": "stream",
          "text": [
            "Best parameters: {'batch_size': 5, 'epochs': 10, 'optimizer': 'rmsprop'}\n",
            "CV Accuracy of best parameters: 0.917\n"
          ],
          "name": "stdout"
        }
      ]
    },
    {
      "cell_type": "code",
      "metadata": {
        "id": "doSFcc_WWAMQ"
      },
      "source": [
        "def build_classifier(optimizer):\n",
        "    classifier = Sequential()\n",
        "    classifier.add(Dense(units = 6, kernel_initializer = 'uniform', \n",
        "        activation = 'relu', input_dim = 11))\n",
        "    classifier.add(Dense(units = 6, kernel_initializer = 'uniform', \n",
        "        activation = 'relu'))\n",
        "    classifier.add(Dense(units = 1, kernel_initializer = 'uniform', \n",
        "        activation = 'sigmoid'))\n",
        "    classifier.compile(optimizer = optimizer, loss = \n",
        "        'binary_crossentropy', metrics = ['accuracy'])\n",
        "    return classifier\n",
        "\n",
        "classifier = KerasClassifier(build_fn = build_classifier)\n",
        "parameters = {'batch_size': [25, 32],\n",
        "          'epochs': [100, 500],\n",
        "          'optimizer': ['adam', 'rmsprop']}\n",
        "grid_search = GridSearchCV(estimator = classifier,\n",
        "                       param_grid = parameters,\n",
        "                       scoring = 'accuracy',\n",
        "                       cv = 10)\n",
        "grid_search = grid_search.fit(X_train, y_train)"
      ],
      "execution_count": null,
      "outputs": []
    },
    {
      "cell_type": "markdown",
      "metadata": {
        "id": "HDqmlaR1xKCG"
      },
      "source": [
        "Trying a randomized search"
      ]
    },
    {
      "cell_type": "code",
      "metadata": {
        "id": "fX6ddga5xLmm",
        "outputId": "8d971d0f-2399-4626-bd11-86c6fbb6f450",
        "colab": {
          "base_uri": "https://localhost:8080/",
          "height": 207
        }
      },
      "source": [
        "from sklearn.model_selection import RandomizedSearchCV\n",
        "random_search = RandomizedSearchCV(estimator=neural_network, \n",
        "                    param_distributions=hyperparameters, n_iter=10, \n",
        "    scoring=score_metric, n_jobs=1, refit=True, cv=10, )\n",
        "random_search.fit(X, y)"
      ],
      "execution_count": null,
      "outputs": [
        {
          "output_type": "stream",
          "text": [
            "/usr/local/lib/python3.6/dist-packages/sklearn/model_selection/_search.py:281: UserWarning: The total space of parameters 8 is smaller than n_iter=10. Running 8 iterations. For exhaustive searches, use GridSearchCV.\n",
            "  % (grid_size, self.n_iter, grid_size), UserWarning)\n"
          ],
          "name": "stderr"
        },
        {
          "output_type": "execute_result",
          "data": {
            "text/plain": [
              "RandomizedSearchCV(cv=10, error_score=nan,\n",
              "                   estimator=<tensorflow.python.keras.wrappers.scikit_learn.KerasClassifier object at 0x7ff87ca4b2e8>,\n",
              "                   iid='deprecated', n_iter=10, n_jobs=1,\n",
              "                   param_distributions={'batch_size': [5, 10],\n",
              "                                        'epochs': [5, 10],\n",
              "                                        'optimizer': ['rmsprop', 'adam']},\n",
              "                   pre_dispatch='2*n_jobs', random_state=None, refit=True,\n",
              "                   return_train_score=False, scoring='accuracy', verbose=0)"
            ]
          },
          "metadata": {
            "tags": []
          },
          "execution_count": 17
        }
      ]
    },
    {
      "cell_type": "markdown",
      "metadata": {
        "id": "zhAq-g7DeG8t"
      },
      "source": [
        "построить лосс акьюраси"
      ]
    },
    {
      "cell_type": "code",
      "metadata": {
        "id": "XAr8yWTkvHVo",
        "outputId": "600f4e37-089f-4741-8ecd-75816a118b5e",
        "colab": {
          "base_uri": "https://localhost:8080/",
          "height": 295
        }
      },
      "source": [
        "loss = history.history['loss']\n",
        "val_loss = history.history['val_loss']\n",
        "epochs = range(1, len(loss) + 1)\n",
        "plt.plot(epochs, loss, 'y', label='Training loss')\n",
        "plt.plot(epochs, val_loss, 'r', label='Validation loss')\n",
        "plt.title('Training and validation loss')\n",
        "plt.xlabel('Epochs')\n",
        "plt.ylabel('Loss')\n",
        "plt.legend()\n",
        "plt.show()"
      ],
      "execution_count": null,
      "outputs": [
        {
          "output_type": "display_data",
          "data": {
            "image/png": "[encoded data removed]",
            "text/plain": [
              "<Figure size 432x288 with 1 Axes>"
            ]
          },
          "metadata": {
            "tags": [],
            "needs_background": "light"
          }
        }
      ]
    },
    {
      "cell_type": "code",
      "metadata": {
        "id": "3KjNtZfW0cNx",
        "outputId": "e1120fda-7af7-46ac-eaff-eaddc0816fd1",
        "colab": {
          "base_uri": "https://localhost:8080/",
          "height": 295
        }
      },
      "source": [
        "acc = history.history['accuracy']\n",
        "val_acc = history.history['val_accuracy']\n",
        "plt.plot(epochs, acc, 'y', label='Training acc')\n",
        "plt.plot(epochs, val_acc, 'r', label='Validation acc')\n",
        "plt.title('Training and validation accuracy')\n",
        "plt.xlabel('Epochs')\n",
        "plt.ylabel('Accuracy')\n",
        "plt.legend()\n",
        "plt.show()"
      ],
      "execution_count": null,
      "outputs": [
        {
          "output_type": "display_data",
          "data": {
            "image/png": "[encoded data removed]",
            "text/plain": [
              "<Figure size 432x288 with 1 Axes>"
            ]
          },
          "metadata": {
            "tags": [],
            "needs_background": "light"
          }
        }
      ]
    },
    {
      "cell_type": "markdown",
      "metadata": {
        "id": "z5Pm16pSV2JQ"
      },
      "source": [
        "Test_accuracy"
      ]
    },
    {
      "cell_type": "code",
      "metadata": {
        "id": "Z2C4vcJKzFDC",
        "outputId": "0223223f-c261-409e-c472-134c27d9f547",
        "colab": {
          "base_uri": "https://localhost:8080/",
          "height": 51
        }
      },
      "source": [
        "test_loss, test_acc = keras_model.evaluate(X_test, y_test)\n",
        "test_acc"
      ],
      "execution_count": null,
      "outputs": [
        {
          "output_type": "stream",
          "text": [
            "11/11 [==============================] - 0s 1ms/step - loss: 0.2777 - accuracy: 0.9027\n"
          ],
          "name": "stdout"
        },
        {
          "output_type": "execute_result",
          "data": {
            "text/plain": [
              "0.9026548862457275"
            ]
          },
          "metadata": {
            "tags": []
          },
          "execution_count": 33
        }
      ]
    },
    {
      "cell_type": "code",
      "metadata": {
        "id": "3QIm9Cyma-AX"
      },
      "source": [
        ""
      ],
      "execution_count": null,
      "outputs": []
    },
    {
      "cell_type": "code",
      "metadata": {
        "id": "RFhiFtsUaNe1"
      },
      "source": [
        "filepath = \"keras_model.h5\"\n",
        "\n",
        "checkpoint_param = {\n",
        "    \"filepath\": filepath,\n",
        "    \"monitor\": \"val_categorical_accuracy\",\n",
        "    \"verbose\": 1,\n",
        "    \"save_best_only\": True,\n",
        "    \"mode\": \"max\"\n",
        "}\n",
        "checkpoint = ModelCheckpoint(**checkpoint_param)\n",
        "\n",
        "lr_decay_params = {\n",
        "    \"monitor\": \"val_loss\",\n",
        "    \"factor\": 0.5,\n",
        "    \"patience\": 2,\n",
        "    \"min_lr\": 1e-5\n",
        "}\n",
        "#lr_decay = ReduceLROnPlateau(**lr_decay_params)\n",
        "\n",
        "#early_stopping = EarlyStopping(monitor=\"val_loss\", patience=4, verbose=1)"
      ],
      "execution_count": null,
      "outputs": []
    },
    {
      "cell_type": "markdown",
      "metadata": {
        "id": "K8tPTKpyl1x2"
      },
      "source": [
        "### Use trained Keras model to predict test inputs and generate ROC data\n",
        "* fpr: False positive rate\n",
        "* tpr: True positive rate\n",
        "\n",
        "False Positive Rate$$\n",
        "FPR=\\frac{FP}\n",
        "{N}=\\frac{FP}\n",
        "{FP+TN}\\\\\n",
        "$$\n",
        "Where FP is the number of false positives, TN is the number of true negatives and N=FP+TN is the total number of negatives.\n",
        "True Positive Rate$$\n",
        "TPR=\\frac{TP}\n",
        "{P}=\\frac{TP}\n",
        "{FN+TP}\\\\\n",
        "$$\n",
        "Where TP is the number of true positives, FN is the number of false negatives and P=FN+TP is the total number of positives.\n"
      ]
    },
    {
      "cell_type": "markdown",
      "metadata": {
        "id": "oLxK3Imw801c"
      },
      "source": [
        "PREDICTION"
      ]
    },
    {
      "cell_type": "code",
      "metadata": {
        "id": "ouSchJ1fl1x3"
      },
      "source": [
        "y_pred_keras = keras_model.predict(X_test).ravel()\n",
        "fpr_keras, tpr_keras, thresholds_keras = roc_curve(y_test, y_pred_keras)\n"
      ],
      "execution_count": null,
      "outputs": []
    },
    {
      "cell_type": "code",
      "metadata": {
        "id": "zZ9IY1tnbHNg",
        "outputId": "4ab7795c-2929-4d00-93ab-01baf46f1db6",
        "colab": {
          "base_uri": "https://localhost:8080/",
          "height": 85
        }
      },
      "source": [
        "from sklearn.metrics import accuracy_score\n",
        "from sklearn.metrics import precision_score, recall_score\n",
        "from sklearn.metrics import confusion_matrix, f1_score\n",
        "from sklearn.metrics import average_precision_score\n",
        "\n",
        "print(accuracy_score(y_pred_keras.round(), y_test))\n",
        "print(precision_score(y_pred_keras.round(), y_test))\n",
        "print(recall_score(y_pred_keras.round(), y_test))\n",
        "print(f1_score(y_pred_keras.round(), y_test))\n",
        "#print(thresholds_keras)"
      ],
      "execution_count": null,
      "outputs": [
        {
          "output_type": "stream",
          "text": [
            "0.9292035398230089\n",
            "0.9157303370786517\n",
            "0.9476744186046512\n",
            "0.9314285714285714\n"
          ],
          "name": "stdout"
        }
      ]
    },
    {
      "cell_type": "code",
      "metadata": {
        "id": "iFT7r6RqupoQ",
        "outputId": "fa3040cf-40c1-4b82-ea9c-bf6268804881",
        "colab": {
          "base_uri": "https://localhost:8080/",
          "height": 34
        }
      },
      "source": [
        "from sklearn.metrics import auc\n",
        "auc_keras = auc(fpr_keras, tpr_keras)\n",
        "print(auc_keras)"
      ],
      "execution_count": null,
      "outputs": [
        {
          "output_type": "stream",
          "text": [
            "0.9693279363528509\n"
          ],
          "name": "stdout"
        }
      ]
    },
    {
      "cell_type": "markdown",
      "metadata": {
        "id": "NlqcWz7FHrAT"
      },
      "source": [
        "RANDOM FOREST"
      ]
    },
    {
      "cell_type": "code",
      "metadata": {
        "id": "r5lJQEMgaCFC",
        "outputId": "079ddc08-462e-4ad7-a489-9b1b64a38680",
        "colab": {
          "base_uri": "https://localhost:8080/",
          "height": 85
        }
      },
      "source": [
        "from sklearn.ensemble import RandomForestClassifier\n",
        "# Supervised transformation based on random forests\n",
        "rf = RandomForestClassifier(max_depth=3, n_estimators=10)\n",
        "rf.fit(X_train, y_train)\n",
        "\n",
        "y_pred_rf = rf.predict_proba(X_test)[:, 1]\n",
        "fpr_rf, tpr_rf, thresholds_rf = roc_curve(y_test, y_pred_rf)\n",
        "auc_rf = auc(fpr_rf, tpr_rf)\n",
        "print(accuracy_score(y_pred_rf.round(), y_test))\n",
        "print(precision_score(y_pred_rf.round(), y_test))\n",
        "print(recall_score(y_pred_rf.round(), y_test))\n",
        "print(f1_score(y_pred_rf.round(), y_test))\n",
        "\n"
      ],
      "execution_count": null,
      "outputs": [
        {
          "output_type": "stream",
          "text": [
            "0.9351032448377581\n",
            "0.9213483146067416\n",
            "0.9534883720930233\n",
            "0.9371428571428573\n"
          ],
          "name": "stdout"
        }
      ]
    },
    {
      "cell_type": "code",
      "metadata": {
        "id": "SFmoHw-OvoqH"
      },
      "source": [
        ""
      ],
      "execution_count": null,
      "outputs": []
    },
    {
      "cell_type": "markdown",
      "metadata": {
        "id": "8_SW3YPAEjv2"
      },
      "source": [
        "Метрики точности"
      ]
    },
    {
      "cell_type": "code",
      "metadata": {
        "id": "UbSqZ1yX0DY6"
      },
      "source": [
        ""
      ],
      "execution_count": null,
      "outputs": []
    },
    {
      "cell_type": "markdown",
      "metadata": {
        "id": "WAli-83k5TRe"
      },
      "source": [
        "Classification Report"
      ]
    },
    {
      "cell_type": "code",
      "metadata": {
        "id": "qzvkKz_ZCGmt",
        "outputId": "119e2e55-20ef-4827-e8da-92615ccb75eb",
        "colab": {
          "base_uri": "https://localhost:8080/",
          "height": 170
        }
      },
      "source": [
        "from sklearn.metrics import classification_report\n",
        "print(classification_report(y_test, y_pred_keras.round()))"
      ],
      "execution_count": null,
      "outputs": [
        {
          "output_type": "stream",
          "text": [
            "              precision    recall  f1-score   support\n",
            "\n",
            "           0       0.91      0.94      0.93       161\n",
            "           1       0.95      0.92      0.93       178\n",
            "\n",
            "    accuracy                           0.93       339\n",
            "   macro avg       0.93      0.93      0.93       339\n",
            "weighted avg       0.93      0.93      0.93       339\n",
            "\n"
          ],
          "name": "stdout"
        }
      ]
    },
    {
      "cell_type": "code",
      "metadata": {
        "id": "gra3aLQkCzC3",
        "outputId": "1e0232d5-b299-43e1-f1bc-2ffa4fbf8998",
        "colab": {
          "base_uri": "https://localhost:8080/",
          "height": 295
        }
      },
      "source": [
        "from sklearn.metrics import roc_curve\n",
        "import matplotlib.pyplot as plt\n",
        "%matplotlib inline\n",
        "\n",
        "fpr, tpr, thresholds = roc_curve(y_test, y_pred_keras)# create plot\n",
        "plt.plot(fpr, tpr, label='ROC curve')\n",
        "plt.plot([0, 1], [0, 1], 'k--', label='Random guess')\n",
        "_ = plt.xlabel('False Positive Rate')\n",
        "_ = plt.ylabel('True Positive Rate')\n",
        "_ = plt.title('ROC Curve')\n",
        "_ = plt.xlim([-0.02, 1])\n",
        "_ = plt.ylim([0, 1.02])\n",
        "_ = plt.legend(loc=\"lower right\")\n"
      ],
      "execution_count": null,
      "outputs": [
        {
          "output_type": "display_data",
          "data": {
            "image/png": "[encoded data removed]",
            "text/plain": [
              "<Figure size 432x288 with 1 Axes>"
            ]
          },
          "metadata": {
            "tags": [],
            "needs_background": "light"
          }
        }
      ]
    },
    {
      "cell_type": "code",
      "metadata": {
        "id": "Q9KEL-HaDpiR",
        "outputId": "ca888e54-286a-4830-d098-a185d9c1ad1d",
        "colab": {
          "base_uri": "https://localhost:8080/",
          "height": 309
        }
      },
      "source": [
        "from sklearn.metrics import precision_recall_curve \n",
        "precision, recall, thresholds = precision_recall_curve(y_test, y_pred_keras)# create plot\n",
        "plt.plot(precision, recall, label='Precision-recall curve')\n",
        "_ = plt.xlabel('Precision')\n",
        "_ = plt.ylabel('Recall')\n",
        "_ = plt.title('Precision-recall curve')\n",
        "_ = plt.legend(loc=\"lower left\")\n"
      ],
      "execution_count": null,
      "outputs": [
        {
          "output_type": "display_data",
          "data": {
            "image/png": "[encoded data removed]",
            "text/plain": [
              "<Figure size 432x288 with 1 Axes>"
            ]
          },
          "metadata": {
            "tags": [],
            "needs_background": "light"
          }
        }
      ]
    },
    {
      "cell_type": "markdown",
      "metadata": {
        "id": "Fd6Sv_7nFJjL"
      },
      "source": [
        "Построение матрицы ошибок\n",
        "\n",
        "http://localhost:8888/notebooks/Desktop/ALL_FOR_METR/roc_auc_mc.ipynb"
      ]
    },
    {
      "cell_type": "code",
      "metadata": {
        "id": "Btb0HoiRATNj"
      },
      "source": [
        "def plot_confusion_matrix(cm, classes,\n",
        "                          normalize=False,\n",
        "                          title='Confusion matrix',\n",
        "                          cmap=plt.cm.YlOrRd):\n",
        "    \"\"\"\n",
        "        Plots the confusion matrix either numbers or proportions\n",
        "    \"\"\"\n",
        "    if normalize:\n",
        "        cm = cm.astype('float') / cm.sum(axis=1)[:, np.newaxis]\n",
        "        print(\"Normalized confusion matrix\")\n",
        "    else:\n",
        "        print('Confusion matrix, without normalization')\n",
        "\n",
        "    print(cm)\n",
        "    plt.style.use('bmh')\n",
        "    plt.figure(figsize=(7, 7))\n",
        "    plt.imshow(cm, interpolation='nearest', cmap=cmap)\n",
        "    plt.title(title, size=22)\n",
        "    plt.colorbar()\n",
        "    tick_marks = np.arange(len(classes))\n",
        "    plt.xticks(tick_marks, classes, rotation=45, size=20)\n",
        "    plt.yticks(tick_marks, classes, size=20)\n",
        "\n",
        "    fmt = '.2f' if normalize else 'd'\n",
        "    thresh = cm.max() / 2.\n",
        "    for i, j in itertools.product(range(cm.shape[0]), range(cm.shape[1])):\n",
        "        plt.text(j, i, format(cm[i, j], fmt),\n",
        "                 horizontalalignment=\"center\",\n",
        "                 color=\"white\" if cm[i, j] > thresh else \"black\",\n",
        "                 size=20)\n",
        "    plt.grid(None)\n",
        "    plt.ylabel('Истинный класс', size=22)\n",
        "    plt.xlabel('Прогнозируемый класс', size=22)\n",
        "    plt.tight_layout()"
      ],
      "execution_count": null,
      "outputs": []
    },
    {
      "cell_type": "code",
      "metadata": {
        "id": "qWq_0WWaklVC"
      },
      "source": [
        "import numpy as np\n",
        "def plot_Confusion_matrix(cm,\n",
        "                          target_names,\n",
        "                          title='Confusion matrix',\n",
        "                          cmap=None,\n",
        "                          color_bar=False,\n",
        "                          normalize=True):\n",
        "    \"\"\"\n",
        "    given a sklearn confusion matrix (cm), make a nice plot\n",
        "\n",
        "    Arguments\n",
        "    ---------\n",
        "    cm:           confusion matrix from sklearn.metrics.confusion_matrix\n",
        "\n",
        "    target_names: given classification classes such as [0, 1, 2]\n",
        "                  the class names, for example: ['high', 'medium', 'low']\n",
        "\n",
        "    title:        the text to display at the top of the matrix\n",
        "\n",
        "    cmap:         the gradient of the values displayed from matplotlib.pyplot.cm\n",
        "                  see http://matplotlib.org/examples/color/colormaps_reference.html\n",
        "                  plt.get_cmap('jet') or plt.cm.Blues\n",
        "\n",
        "    normalize:    If False, plot the raw numbers\n",
        "                  If True, plot the proportions\n",
        "\n",
        "    Usage\n",
        "    -----\n",
        "    plot_confusion_matrix(cm           = cm,                  # confusion matrix created by\n",
        "                                                              # sklearn.metrics.confusion_matrix\n",
        "                          normalize    = True,                # show proportions\n",
        "                          target_names = y_labels_vals,       # list of names of the classes\n",
        "                          title        = best_estimator_name) # title of graph\n",
        "\n",
        "    Citiation\n",
        "    ---------\n",
        "    http://scikit-learn.org/stable/auto_examples/model_selection/plot_confusion_matrix.html\n",
        "\n",
        "    \"\"\"\n",
        "    import matplotlib.pyplot as plt\n",
        "    import matplotlib \n",
        "    import numpy as np\n",
        "    import itertools\n",
        "\n",
        "    # https://matplotlib.org/examples/pylab_examples/fonts_demo.html\n",
        "    font = {'family' : 'sans-serif',\n",
        "        'weight' : 'medium',      \n",
        "        'size'   : 15}\n",
        "\n",
        "    matplotlib.rc('font', **font)\n",
        "    \n",
        "    \n",
        "    accuracy = np.trace(cm) / float(np.sum(cm))\n",
        "    misclass = 1 - accuracy\n",
        "\n",
        "    if cmap is None:\n",
        "        cmap = plt.get_cmap('Blues')\n",
        "\n",
        "    plt.figure(figsize=(8, 6))\n",
        "    plt.imshow(cm, interpolation='nearest', cmap=cmap,\n",
        "              )\n",
        "               \n",
        "#     plt.title(title)\n",
        "    if color_bar:\n",
        "        plt.colorbar()\n",
        "\n",
        "    if target_names is not None:\n",
        "        tick_marks = np.arange(len(target_names))\n",
        "        plt.xticks(tick_marks, target_names, rotation=45)\n",
        "#         plt.xticks(tick_marks, target_names)\n",
        "        plt.yticks(tick_marks, target_names)\n",
        "\n",
        "    if normalize:\n",
        "        cm = cm.astype('float') / cm.sum(axis=1)[:, np.newaxis]\n",
        "\n",
        "\n",
        "    thresh = cm.max() / 1.5 if normalize else cm.max() / 2\n",
        "    for i, j in itertools.product(range(cm.shape[0]), range(cm.shape[1])):\n",
        "        if normalize:\n",
        "            plt.text(j, i, \"{:0.2f}\".format(cm[i, j]*100),\n",
        "                     horizontalalignment=\"center\",\n",
        "                     color=\"white\" if cm[i, j] > thresh else \"black\")\n",
        "        else:\n",
        "            plt.text(j, i, \"{:,}\".format(cm[i, j]),\n",
        "                     horizontalalignment=\"center\",\n",
        "                     color=\"white\" if cm[i, j] > thresh else \"black\")\n",
        "\n",
        "#     plt.tight_layout()\n",
        "    plt.ylabel('True class')\n",
        "#     plt.xlabel('Predicted label\\naccuracy={:0.4f}; misclass={:0.4f}'.format(accuracy, misclass))\n",
        "    plt.xlabel('Predicted class')\n",
        "    plt.show()"
      ],
      "execution_count": null,
      "outputs": []
    },
    {
      "cell_type": "code",
      "metadata": {
        "id": "1kFcZh7YkvVf",
        "outputId": "bc9d5c02-bbbf-41f4-d446-a08ecc20a9c4",
        "colab": {
          "base_uri": "https://localhost:8080/",
          "height": 437
        }
      },
      "source": [
        "plot_Confusion_matrix(cm = np.array([[ 1098,  1934,   807],\n",
        "                                              [  604,  4392,  6233],\n",
        "                                              [  162,  2362, 31760]]), \n",
        "                      normalize    = True,\n",
        "                      target_names = ['high', 'medium', 'low'],\n",
        "                      color_bar = True,\n",
        "                      title        = \"Confusion Matrix\")"
      ],
      "execution_count": null,
      "outputs": [
        {
          "output_type": "display_data",
          "data": {
            "image/png": "[encoded data removed]",
            "text/plain": [
              "<Figure size 576x432 with 2 Axes>"
            ]
          },
          "metadata": {
            "tags": [],
            "needs_background": "light"
          }
        }
      ]
    },
    {
      "cell_type": "code",
      "metadata": {
        "id": "V-rI_0Uzlrlk",
        "outputId": "f68c89eb-b241-4f07-8b40-3a9d3f0cebaf",
        "colab": {
          "base_uri": "https://localhost:8080/",
          "height": 437
        }
      },
      "source": [
        "#Confusion_matrix kode\n",
        "from sklearn.metrics import confusion_matrix\n",
        "import itertools\n",
        "cm = confusion_matrix(y_test, y_pred_keras.round()) \n",
        "#\n",
        "plot_Confusion_matrix(cm, \n",
        "                      normalize    = True,\n",
        "                      target_names = ['medium', 'low'],\n",
        "                      color_bar = True,\n",
        "                      title        = \"Confusion Matrix\")\n",
        "#plot_confusion_matrix(cm, classes = [0, 1])\n",
        "#plot_confusion_matrix(cm, classes = [0, 1], normalize=True)"
      ],
      "execution_count": null,
      "outputs": [
        {
          "output_type": "display_data",
          "data": {
            "image/png": "[encoded data removed]",
            "text/plain": [
              "<Figure size 576x432 with 2 Axes>"
            ]
          },
          "metadata": {
            "tags": [],
            "needs_background": "light"
          }
        }
      ]
    },
    {
      "cell_type": "code",
      "metadata": {
        "id": "h4mLp2fW_mzW",
        "outputId": "d9943284-11d1-4977-fb4d-06f3622692e3",
        "colab": {
          "base_uri": "https://localhost:8080/",
          "height": 1000
        }
      },
      "source": [
        "from sklearn.metrics import confusion_matrix\n",
        "import itertools\n",
        "cm = confusion_matrix(y_test, y_pred_keras.round()) \n",
        "plot_confusion_matrix(cm, classes = [0, 1])\n",
        "plot_confusion_matrix(cm, classes = [0, 1], normalize=True)"
      ],
      "execution_count": null,
      "outputs": [
        {
          "output_type": "stream",
          "text": [
            "Confusion matrix, without normalization\n",
            "[[152   9]\n",
            " [ 15 163]]\n",
            "Normalized confusion matrix\n",
            "[[0.94409938 0.05590062]\n",
            " [0.08426966 0.91573034]]\n"
          ],
          "name": "stdout"
        },
        {
          "output_type": "display_data",
          "data": {
            "image/png": "[encoded data removed]",
            "text/plain": [
              "<Figure size 504x504 with 2 Axes>"
            ]
          },
          "metadata": {
            "tags": [],
            "needs_background": "light"
          }
        },
        {
          "output_type": "display_data",
          "data": {
            "image/png": "[encoded data removed]",
            "text/plain": [
              "<Figure size 504x504 with 2 Axes>"
            ]
          },
          "metadata": {
            "tags": [],
            "needs_background": "light"
          }
        }
      ]
    },
    {
      "cell_type": "markdown",
      "metadata": {
        "id": "qoZQXc4A_jrL"
      },
      "source": [
        "всякие построения см"
      ]
    },
    {
      "cell_type": "code",
      "metadata": {
        "id": "XjFyIiFl_Tvd"
      },
      "source": [
        "def plot_precision_recall(test_y, probs, title='Precision Recall Curve', threshold_selected=None):\n",
        "    \"\"\"Plots precision recall curve \n",
        "    \"\"\"\n",
        "    precision, recall, threshold = precision_recall_curve(test_y, probs)\n",
        "    plt.figure(figsize=(10, 10))\n",
        "    no_skill = len(test_y[test_y==1]) / len(test_y)\n",
        "    plt.plot([0,1], [no_skill,no_skill], linestyle='--', label='Random')\n",
        "\n",
        "    step_kwargs = ({'step': 'post'})\n",
        "    plt.step(recall, precision, color='b', alpha=0.2,\n",
        "             where='post')\n",
        "    plt.fill_between(recall, precision, alpha=0.2, color='b', **step_kwargs)\n",
        "\n",
        "    fscore = (2 * precision * recall) / (precision + recall)\n",
        "\n",
        "    ix = np.argmax(fscore)\n",
        "    print('Best Threshold=%f, F-Score=%.3f' % (threshold[ix], fscore[ix]))\n",
        "    plt.scatter(recall[ix], precision[ix], marker='o', color='red', label='Best')\n",
        "\n",
        "    plt.xlabel('Recall', size=24)\n",
        "    plt.ylabel('Precision', size=24)\n",
        "    plt.ylim([0.0, 1.05])\n",
        "    plt.xlim([0.0, 1.0])\n",
        "    plt.title(title, size=24)\n",
        "    plt.xticks(size=18)\n",
        "    plt.yticks(size=18)\n",
        "\n",
        "    if threshold_selected:\n",
        "        p = precision[np.where(threshold == threshold_selected)[0]]\n",
        "        r = recall[np.where(threshold == threshold_selected)[0]]\n",
        "        plt.scatter(r, p, marker='*', s=600, c='r')\n",
        "        plt.vlines(r, ymin=0, ymax=p, linestyles='--')\n",
        "        plt.hlines(p, xmin=0, xmax=r, linestyles='--')\n",
        "        plt.text(r - 0.1, p + 0.15,\n",
        "                 s='Threshold: '+round(threshold_selected, 2), size=20, fontdict={'weight': 1000})\n",
        "        plt.text(r - 0.2, p + 0.075,\n",
        "                 s='Precision: ' + round(100 * p[0], 2)+'Recall: ' + round(100 * r[0], 2), size=20,\n",
        "                 fontdict={'weight': 1000})\n",
        "\n",
        "    pr = pd.DataFrame({'precision': precision[:-1], 'recall': recall[:-1],\n",
        "                       'threshold': threshold})\n",
        "    return pr\n",
        "\n",
        "def plot_roc_curve(test_y, probs, title='ROC Curve', threshold_selected=None):\n",
        "    \"\"\"Plots ROC Curve\n",
        "    \"\"\"\n",
        "    ns_probs = [0 for _ in range(len(test_y))]\n",
        "\n",
        "    fpr, tpr, threshold = roc_curve(test_y, probs)\n",
        "    ns_fpr, ns_tpr, _ = roc_curve(test_y, ns_probs)\n",
        "\n",
        "    gmeans = np.sqrt(tpr * (1-fpr))\n",
        "    ix = np.argmax(gmeans)\n",
        "    print('Best Threshold=%f, G-Mean=%.3f' % (threshold[ix], gmeans[ix]))\n",
        "    plt.figure(figsize=(10, 10))\n",
        "    plt.plot(ns_fpr, ns_tpr, linestyle='--', label='Random')\n",
        "\n",
        "    step_kwargs = ({'step': 'post'})\n",
        "    plt.step(fpr, tpr, color='b', alpha=0.2,\n",
        "             where='post')\n",
        "    plt.fill_between(fpr, tpr, alpha=0.2, color='b', **step_kwargs)\n",
        "    plt.scatter(fpr[ix], tpr[ix], marker='o', color='red', label='Best')\n",
        "\n",
        "    plt.xlabel('False Positive Rate', size=24)\n",
        "    plt.ylabel('True Positive Rate', size=24)\n",
        "    plt.ylim([0.0, 1.05])\n",
        "    plt.xlim([0.0, 1.0])\n",
        "    plt.title(title, size=24)\n",
        "    plt.xticks(size=18)\n",
        "    plt.yticks(size=18)\n",
        "\n",
        "    if threshold_selected:\n",
        "        p = fpr[np.where(threshold == threshold_selected)[0]]\n",
        "        r = tpr[np.where(threshold == threshold_selected)[0]]\n",
        "        plt.scatter(r, p, marker='*', s=600, c='r')\n",
        "        plt.vlines(r, ymin=0, ymax=p, linestyles='--')\n",
        "        plt.hlines(p, xmin=0, xmax=r, linestyles='--')\n",
        "        plt.text(r - 0.1, p + 0.15,\n",
        "                 s='Threshold: '+round(threshold_selected, 2), size=20, fontdict={'weight': 1000})\n",
        "        plt.text(r - 0.2, p + 0.075,\n",
        "                 s='fpr: '+round(100 * p[0], 2) + 'Recall: '+round(100 * r[0], 2), size=20,\n",
        "                 fontdict={'weight': 1000})\n",
        "    pr = pd.DataFrame({'fpr': fpr[:-1], 'tpr': tpr[:-1],\n",
        "                       'threshold': threshold[:-1]})\n",
        "    return pr"
      ],
      "execution_count": null,
      "outputs": []
    },
    {
      "cell_type": "code",
      "metadata": {
        "id": "wa3G_DJyCeS4",
        "outputId": "d649ab50-c2bd-4d04-eb2b-c4925bfbbbc5",
        "colab": {
          "base_uri": "https://localhost:8080/",
          "height": 1000
        }
      },
      "source": [
        "import pandas as pd\n",
        "from sklearn.metrics import precision_recall_curve \n",
        "plot_roc_curve(y_test, y_pred_keras)\n",
        "plot_precision_recall(y_test, y_pred_keras)"
      ],
      "execution_count": null,
      "outputs": [
        {
          "output_type": "stream",
          "text": [
            "Best Threshold=0.544095, G-Mean=0.933\n",
            "Best Threshold=0.544095, F-Score=0.934\n"
          ],
          "name": "stdout"
        },
        {
          "output_type": "execute_result",
          "data": {
            "text/html": [
              "<div>\n",
              "<style scoped>\n",
              "    .dataframe tbody tr th:only-of-type {\n",
              "        vertical-align: middle;\n",
              "    }\n",
              "\n",
              "    .dataframe tbody tr th {\n",
              "        vertical-align: top;\n",
              "    }\n",
              "\n",
              "    .dataframe thead th {\n",
              "        text-align: right;\n",
              "    }\n",
              "</style>\n",
              "<table border=\"1\" class=\"dataframe\">\n",
              "  <thead>\n",
              "    <tr style=\"text-align: right;\">\n",
              "      <th></th>\n",
              "      <th>precision</th>\n",
              "      <th>recall</th>\n",
              "      <th>threshold</th>\n",
              "    </tr>\n",
              "  </thead>\n",
              "  <tbody>\n",
              "    <tr>\n",
              "      <th>0</th>\n",
              "      <td>0.552795</td>\n",
              "      <td>1.000000</td>\n",
              "      <td>0.001953</td>\n",
              "    </tr>\n",
              "    <tr>\n",
              "      <th>1</th>\n",
              "      <td>0.551402</td>\n",
              "      <td>0.994382</td>\n",
              "      <td>0.002278</td>\n",
              "    </tr>\n",
              "    <tr>\n",
              "      <th>2</th>\n",
              "      <td>0.553125</td>\n",
              "      <td>0.994382</td>\n",
              "      <td>0.002674</td>\n",
              "    </tr>\n",
              "    <tr>\n",
              "      <th>3</th>\n",
              "      <td>0.554859</td>\n",
              "      <td>0.994382</td>\n",
              "      <td>0.003005</td>\n",
              "    </tr>\n",
              "    <tr>\n",
              "      <th>4</th>\n",
              "      <td>0.556604</td>\n",
              "      <td>0.994382</td>\n",
              "      <td>0.003037</td>\n",
              "    </tr>\n",
              "    <tr>\n",
              "      <th>...</th>\n",
              "      <td>...</td>\n",
              "      <td>...</td>\n",
              "      <td>...</td>\n",
              "    </tr>\n",
              "    <tr>\n",
              "      <th>317</th>\n",
              "      <td>1.000000</td>\n",
              "      <td>0.028090</td>\n",
              "      <td>0.999604</td>\n",
              "    </tr>\n",
              "    <tr>\n",
              "      <th>318</th>\n",
              "      <td>1.000000</td>\n",
              "      <td>0.022472</td>\n",
              "      <td>0.999614</td>\n",
              "    </tr>\n",
              "    <tr>\n",
              "      <th>319</th>\n",
              "      <td>1.000000</td>\n",
              "      <td>0.016854</td>\n",
              "      <td>0.999692</td>\n",
              "    </tr>\n",
              "    <tr>\n",
              "      <th>320</th>\n",
              "      <td>1.000000</td>\n",
              "      <td>0.011236</td>\n",
              "      <td>0.999807</td>\n",
              "    </tr>\n",
              "    <tr>\n",
              "      <th>321</th>\n",
              "      <td>1.000000</td>\n",
              "      <td>0.005618</td>\n",
              "      <td>0.999880</td>\n",
              "    </tr>\n",
              "  </tbody>\n",
              "</table>\n",
              "<p>322 rows × 3 columns</p>\n",
              "</div>"
            ],
            "text/plain": [
              "     precision    recall  threshold\n",
              "0     0.552795  1.000000   0.001953\n",
              "1     0.551402  0.994382   0.002278\n",
              "2     0.553125  0.994382   0.002674\n",
              "3     0.554859  0.994382   0.003005\n",
              "4     0.556604  0.994382   0.003037\n",
              "..         ...       ...        ...\n",
              "317   1.000000  0.028090   0.999604\n",
              "318   1.000000  0.022472   0.999614\n",
              "319   1.000000  0.016854   0.999692\n",
              "320   1.000000  0.011236   0.999807\n",
              "321   1.000000  0.005618   0.999880\n",
              "\n",
              "[322 rows x 3 columns]"
            ]
          },
          "metadata": {
            "tags": []
          },
          "execution_count": 26
        },
        {
          "output_type": "display_data",
          "data": {
            "image/png": "[encoded data removed]",
            "text/plain": [
              "<Figure size 720x720 with 1 Axes>"
            ]
          },
          "metadata": {
            "tags": [],
            "needs_background": "light"
          }
        },
        {
          "output_type": "display_data",
          "data": {
            "image/png": "[encoded data removed]",
            "text/plain": [
              "<Figure size 720x720 with 1 Axes>"
            ]
          },
          "metadata": {
            "tags": [],
            "needs_background": "light"
          }
        }
      ]
    },
    {
      "cell_type": "markdown",
      "metadata": {
        "id": "-GMFYYTg3DR_"
      },
      "source": [
        "ONE OTHER CONFUSION MATRIX\n",
        "http://localhost:8888/notebooks/Desktop/Confusion_Matrix_Plot.ipynb"
      ]
    },
    {
      "cell_type": "code",
      "metadata": {
        "id": "nwQ4_Qn9_U7Z"
      },
      "source": [
        "import numpy as np\n",
        "\n",
        "def plot_confusion_matrix(cm,\n",
        "                          target_names,\n",
        "                          title='Confusion matrix',\n",
        "                          cmap=None,\n",
        "                          color_bar=False,\n",
        "                          normalize=True):\n",
        "    \"\"\"\n",
        "    given a sklearn confusion matrix (cm), make a nice plot\n",
        "\n",
        "    Arguments\n",
        "    ---------\n",
        "    cm:           confusion matrix from sklearn.metrics.confusion_matrix\n",
        "\n",
        "    target_names: given classification classes such as [0, 1, 2]\n",
        "                  the class names, for example: ['high', 'medium', 'low']\n",
        "\n",
        "    title:        the text to display at the top of the matrix\n",
        "\n",
        "    cmap:         the gradient of the values displayed from matplotlib.pyplot.cm\n",
        "                  see http://matplotlib.org/examples/color/colormaps_reference.html\n",
        "                  plt.get_cmap('jet') or plt.cm.Blues\n",
        "\n",
        "    normalize:    If False, plot the raw numbers\n",
        "                  If True, plot the proportions\n",
        "\n",
        "    Usage\n",
        "    -----\n",
        "    plot_confusion_matrix(cm           = cm,                  # confusion matrix created by\n",
        "                                                              # sklearn.metrics.confusion_matrix\n",
        "                          normalize    = True,                # show proportions\n",
        "                          target_names = y_labels_vals,       # list of names of the classes\n",
        "                          title        = best_estimator_name) # title of graph\n",
        "\n",
        "    Citiation\n",
        "    ---------\n",
        "    http://scikit-learn.org/stable/auto_examples/model_selection/plot_confusion_matrix.html\n",
        "\n",
        "    \"\"\"\n",
        "    import matplotlib.pyplot as plt\n",
        "    import matplotlib \n",
        "    import numpy as np\n",
        "    import itertools\n",
        "\n",
        "    # https://matplotlib.org/examples/pylab_examples/fonts_demo.html\n",
        "    font = {'family' : 'sans-serif',\n",
        "        'weight' : 'medium',      \n",
        "        'size'   : 15}\n",
        "\n",
        "    matplotlib.rc('font', **font)\n",
        "    \n",
        "    \n",
        "    accuracy = np.trace(cm) / float(np.sum(cm))\n",
        "    misclass = 1 - accuracy\n",
        "\n",
        "    if cmap is None:\n",
        "        cmap = plt.get_cmap('Blues')\n",
        "\n",
        "    plt.figure(figsize=(8, 6))\n",
        "    plt.imshow(cm, interpolation='nearest', cmap=cmap,\n",
        "              )\n",
        "               \n",
        "#     plt.title(title)\n",
        "    if color_bar:\n",
        "        plt.colorbar()\n",
        "\n",
        "    if target_names is not None:\n",
        "        tick_marks = np.arange(len(target_names))\n",
        "        plt.xticks(tick_marks, target_names, rotation=45)\n",
        "#         plt.xticks(tick_marks, target_names)\n",
        "        plt.yticks(tick_marks, target_names)\n",
        "\n",
        "    if normalize:\n",
        "        cm = cm.astype('float') / cm.sum(axis=1)[:, np.newaxis]\n",
        "\n",
        "\n",
        "    thresh = cm.max() / 1.5 if normalize else cm.max() / 2\n",
        "    for i, j in itertools.product(range(cm.shape[0]), range(cm.shape[1])):\n",
        "        if normalize:\n",
        "            plt.text(j, i, \"{:0.2f}\".format(cm[i, j]*100),\n",
        "                     horizontalalignment=\"center\",\n",
        "                     color=\"white\" if cm[i, j] > thresh else \"black\")\n",
        "        else:\n",
        "            plt.text(j, i, \"{:,}\".format(cm[i, j]),\n",
        "                     horizontalalignment=\"center\",\n",
        "                     color=\"white\" if cm[i, j] > thresh else \"black\")\n",
        "\n",
        "#     plt.tight_layout()\n",
        "    plt.ylabel('True class')\n",
        "#     plt.xlabel('Predicted label\\naccuracy={:0.4f}; misclass={:0.4f}'.format(accuracy, misclass))\n",
        "    plt.xlabel('Predicted class')\n",
        "    plt.show()"
      ],
      "execution_count": null,
      "outputs": []
    },
    {
      "cell_type": "code",
      "metadata": {
        "id": "cIA246G727Rm",
        "outputId": "0b495d3d-a10f-4b30-a549-39320b95db62",
        "colab": {
          "base_uri": "https://localhost:8080/",
          "height": 437
        }
      },
      "source": [
        "plot_confusion_matrix(cm = np.array([[ 1098,  1934,   807],\n",
        "                                              [  604,  4392,  6233],\n",
        "                                              [  162,  2362, 31760]]), \n",
        "                      normalize    = True,\n",
        "                      target_names = ['high', 'medium', 'low'],\n",
        "                      color_bar = True,\n",
        "                      title        = \"Confusion Matrix\")"
      ],
      "execution_count": null,
      "outputs": [
        {
          "output_type": "display_data",
          "data": {
            "image/png": "[encoded data removed]",
            "text/plain": [
              "<Figure size 576x432 with 2 Axes>"
            ]
          },
          "metadata": {
            "tags": [],
            "needs_background": "light"
          }
        }
      ]
    },
    {
      "cell_type": "code",
      "metadata": {
        "id": "Sc62M7DRhpjG"
      },
      "source": [
        "from sklearn.metrics import confusion_matrix\n",
        "confusion = confusion_matrix(y_true=expected,y_pred=predicted)\n",
        "conf_df=pd.DataFrame(confusion,index=range(10), columns = range(10))\n",
        "import seaborn as sns\n",
        "axes =sns.heatmap(conf_df, annot =true, ) "
      ],
      "execution_count": null,
      "outputs": []
    },
    {
      "cell_type": "markdown",
      "metadata": {
        "id": "nZK_fRlzbtn7"
      },
      "source": [
        "еще один вариант см"
      ]
    },
    {
      "cell_type": "code",
      "metadata": {
        "id": "QNU2Uv_GbeC_"
      },
      "source": [
        "# Function to plot confusion matrix    \n",
        "def plot_confusion_matrix(cm, classes,\n",
        "                          normalize=False,\n",
        "                          title='Confusion matrix',\n",
        "                          cmap=plt.cm.Blues):\n",
        "    \"\"\"\n",
        "    This function prints and plots the confusion matrix.\n",
        "    Normalization can be applied by setting `normalize=True`.\n",
        "    \"\"\"\n",
        "    plt.imshow(cm, interpolation='nearest', cmap=cmap)\n",
        "    plt.title(title)\n",
        "    plt.colorbar()\n",
        "    tick_marks = np.arange(len(classes))\n",
        "    plt.xticks(tick_marks, classes, rotation=45)\n",
        "    plt.yticks(tick_marks, classes)\n",
        "\n",
        "    if normalize:\n",
        "        cm = cm.astype('float') / cm.sum(axis=1)[:, np.newaxis]\n",
        "\n",
        "    thresh = cm.max() / 2.\n",
        "    for i, j in itertools.product(range(cm.shape[0]), range(cm.shape[1])):\n",
        "        plt.text(j, i, cm[i, j],\n",
        "                 horizontalalignment=\"center\",\n",
        "                 color=\"white\" if cm[i, j] > thresh else \"black\")\n",
        "\n",
        "    plt.tight_layout()\n",
        "    plt.ylabel('True label')\n",
        "    plt.xlabel('Predicted label')\n",
        "\n",
        "# Predict the values from the validation dataset\n",
        "Y_pred = model.predict(x_validate)\n",
        "# Convert predictions classes to one hot vectors \n",
        "Y_pred_classes = np.argmax(Y_pred,axis = 1) \n",
        "# Convert validation observations to one hot vectors\n",
        "Y_true = np.argmax(y_validate,axis = 1) \n",
        "# compute the confusion matrix\n",
        "confusion_mtx = confusion_matrix(Y_true, Y_pred_classes)\n",
        "\n",
        " \n",
        "\n",
        "# plot the confusion matrix\n",
        "plot_confusion_matrix(confusion_mtx, classes = range(7)) "
      ],
      "execution_count": null,
      "outputs": []
    },
    {
      "cell_type": "markdown",
      "metadata": {
        "id": "PDGZ9twcl1x_"
      },
      "source": [
        "### Calculate AUC (area under curve)"
      ]
    },
    {
      "cell_type": "code",
      "metadata": {
        "id": "Y66sYtivl1yA"
      },
      "source": [
        "from sklearn.metrics import auc\n",
        "auc_keras = auc(fpr_keras, tpr_keras)"
      ],
      "execution_count": null,
      "outputs": []
    },
    {
      "cell_type": "markdown",
      "metadata": {
        "id": "SgnmEdCml1yG"
      },
      "source": [
        "## Train another classifier to compare with Keras model"
      ]
    },
    {
      "cell_type": "code",
      "metadata": {
        "id": "JDFZUo5Hl1yH",
        "outputId": "93bfa969-8e03-4449-8410-131a5bce0893",
        "colab": {
          "base_uri": "https://localhost:8080/",
          "height": 231
        }
      },
      "source": [
        "# Supervised transformation based on random forests\n",
        "rf = RandomForestClassifier(max_depth=3, n_estimators=10)\n",
        "rf.fit(X_train, y_train)\n",
        "\n",
        "y_pred_rf = rf.predict_proba(X_test)[:, 1]\n",
        "fpr_rf, tpr_rf, thresholds_rf = roc_curve(y_test, y_pred_rf)\n",
        "auc_rf = auc(fpr_rf, tpr_rf)"
      ],
      "execution_count": null,
      "outputs": [
        {
          "output_type": "error",
          "ename": "NameError",
          "evalue": "ignored",
          "traceback": [
            "\u001b[0;31m---------------------------------------------------------------------------\u001b[0m",
            "\u001b[0;31mNameError\u001b[0m                                 Traceback (most recent call last)",
            "\u001b[0;32m<ipython-input-3-cf5710e4f111>\u001b[0m in \u001b[0;36m<module>\u001b[0;34m()\u001b[0m\n\u001b[1;32m      1\u001b[0m \u001b[0;31m# Supervised transformation based on random forests\u001b[0m\u001b[0;34m\u001b[0m\u001b[0;34m\u001b[0m\u001b[0;34m\u001b[0m\u001b[0m\n\u001b[0;32m----> 2\u001b[0;31m \u001b[0mrf\u001b[0m \u001b[0;34m=\u001b[0m \u001b[0mRandomForestClassifier\u001b[0m\u001b[0;34m(\u001b[0m\u001b[0mmax_depth\u001b[0m\u001b[0;34m=\u001b[0m\u001b[0;36m3\u001b[0m\u001b[0;34m,\u001b[0m \u001b[0mn_estimators\u001b[0m\u001b[0;34m=\u001b[0m\u001b[0;36m10\u001b[0m\u001b[0;34m)\u001b[0m\u001b[0;34m\u001b[0m\u001b[0;34m\u001b[0m\u001b[0m\n\u001b[0m\u001b[1;32m      3\u001b[0m \u001b[0mrf\u001b[0m\u001b[0;34m.\u001b[0m\u001b[0mfit\u001b[0m\u001b[0;34m(\u001b[0m\u001b[0mX_train\u001b[0m\u001b[0;34m,\u001b[0m \u001b[0my_train\u001b[0m\u001b[0;34m)\u001b[0m\u001b[0;34m\u001b[0m\u001b[0;34m\u001b[0m\u001b[0m\n\u001b[1;32m      4\u001b[0m \u001b[0;34m\u001b[0m\u001b[0m\n\u001b[1;32m      5\u001b[0m \u001b[0my_pred_rf\u001b[0m \u001b[0;34m=\u001b[0m \u001b[0mrf\u001b[0m\u001b[0;34m.\u001b[0m\u001b[0mpredict_proba\u001b[0m\u001b[0;34m(\u001b[0m\u001b[0mX_test\u001b[0m\u001b[0;34m)\u001b[0m\u001b[0;34m[\u001b[0m\u001b[0;34m:\u001b[0m\u001b[0;34m,\u001b[0m \u001b[0;36m1\u001b[0m\u001b[0;34m]\u001b[0m\u001b[0;34m\u001b[0m\u001b[0;34m\u001b[0m\u001b[0m\n",
            "\u001b[0;31mNameError\u001b[0m: name 'RandomForestClassifier' is not defined"
          ]
        }
      ]
    },
    {
      "cell_type": "code",
      "metadata": {
        "id": "oxkqRL5bt9y6",
        "outputId": "6d76946a-8725-425d-e2c0-fa03a3b8a93f",
        "colab": {
          "base_uri": "https://localhost:8080/",
          "height": 34
        }
      },
      "source": [
        "from sklearn.metrics import auc\n",
        "auc_keras = auc(fpr_keras, tpr_keras)\n",
        "print(auc_keras)"
      ],
      "execution_count": null,
      "outputs": [
        {
          "output_type": "stream",
          "text": [
            "0.9667873555215151\n"
          ],
          "name": "stdout"
        }
      ]
    },
    {
      "cell_type": "code",
      "metadata": {
        "id": "j02G_E4Ytx7H"
      },
      "source": [
        ""
      ],
      "execution_count": null,
      "outputs": []
    },
    {
      "cell_type": "markdown",
      "metadata": {
        "id": "DJaCwiCel1yN"
      },
      "source": [
        "### Plot the ROC curve"
      ]
    },
    {
      "cell_type": "code",
      "metadata": {
        "id": "8Dlpq5iDl1yP",
        "outputId": "99644807-7c77-4e9e-b15b-db306ff88439",
        "colab": {
          "base_uri": "https://localhost:8080/",
          "height": 479
        }
      },
      "source": [
        "import matplotlib.pyplot as plt\n",
        "plt.figure(1)\n",
        "plt.plot([0, 1], [0, 1], 'k--')\n",
        "plt.plot(fpr_keras, tpr_keras, label='Keras (area = {:.3f})'.format(auc_keras))\n",
        "plt.plot(fpr_rf, tpr_rf, label='RF (area = {:.3f})'.format(auc_rf))\n",
        "plt.xlabel('False positive rate')\n",
        "plt.ylabel('True positive rate')\n",
        "plt.title('ROC curve')\n",
        "plt.legend(loc='best')\n",
        "plt.show()\n",
        "# Zoom in view of the upper left corner.\n",
        "plt.figure(2)\n",
        "plt.xlim(0, 0.2)\n",
        "plt.ylim(0.8, 1)\n",
        "plt.plot([0, 1], [0, 1], 'k--')\n",
        "plt.plot(fpr_keras, tpr_keras, label='Benign (area = {:.3f})'.format(auc_keras))\n",
        "plt.plot(fpr_rf, tpr_rf, label=' (area = {:.3f})'.format(auc_rf))\n",
        "plt.xlabel('False positive rate')\n",
        "plt.ylabel('True positive rate')\n",
        "plt.title('ROC curve (zoomed in at top left)')\n",
        "plt.legend(loc='best')\n",
        "plt.show()"
      ],
      "execution_count": null,
      "outputs": [
        {
          "output_type": "error",
          "ename": "NameError",
          "evalue": "ignored",
          "traceback": [
            "\u001b[0;31m---------------------------------------------------------------------------\u001b[0m",
            "\u001b[0;31mNameError\u001b[0m                                 Traceback (most recent call last)",
            "\u001b[0;32m<ipython-input-2-31b83e81a368>\u001b[0m in \u001b[0;36m<module>\u001b[0;34m()\u001b[0m\n\u001b[1;32m      3\u001b[0m \u001b[0mplt\u001b[0m\u001b[0;34m.\u001b[0m\u001b[0mplot\u001b[0m\u001b[0;34m(\u001b[0m\u001b[0;34m[\u001b[0m\u001b[0;36m0\u001b[0m\u001b[0;34m,\u001b[0m \u001b[0;36m1\u001b[0m\u001b[0;34m]\u001b[0m\u001b[0;34m,\u001b[0m \u001b[0;34m[\u001b[0m\u001b[0;36m0\u001b[0m\u001b[0;34m,\u001b[0m \u001b[0;36m1\u001b[0m\u001b[0;34m]\u001b[0m\u001b[0;34m,\u001b[0m \u001b[0;34m'k--'\u001b[0m\u001b[0;34m)\u001b[0m\u001b[0;34m\u001b[0m\u001b[0;34m\u001b[0m\u001b[0m\n\u001b[1;32m      4\u001b[0m \u001b[0;31m#plt.plot(fpr_keras, tpr_keras, label='Keras (area = {:.3f})'.format(auc_keras))\u001b[0m\u001b[0;34m\u001b[0m\u001b[0;34m\u001b[0m\u001b[0;34m\u001b[0m\u001b[0m\n\u001b[0;32m----> 5\u001b[0;31m \u001b[0mplt\u001b[0m\u001b[0;34m.\u001b[0m\u001b[0mplot\u001b[0m\u001b[0;34m(\u001b[0m\u001b[0mfpr_rf\u001b[0m\u001b[0;34m,\u001b[0m \u001b[0mtpr_rf\u001b[0m\u001b[0;34m,\u001b[0m \u001b[0mlabel\u001b[0m\u001b[0;34m=\u001b[0m\u001b[0;34m'RF (area = {:.3f})'\u001b[0m\u001b[0;34m.\u001b[0m\u001b[0mformat\u001b[0m\u001b[0;34m(\u001b[0m\u001b[0mauc_rf\u001b[0m\u001b[0;34m)\u001b[0m\u001b[0;34m)\u001b[0m\u001b[0;34m\u001b[0m\u001b[0;34m\u001b[0m\u001b[0m\n\u001b[0m\u001b[1;32m      6\u001b[0m \u001b[0mplt\u001b[0m\u001b[0;34m.\u001b[0m\u001b[0mxlabel\u001b[0m\u001b[0;34m(\u001b[0m\u001b[0;34m'False positive rate'\u001b[0m\u001b[0;34m)\u001b[0m\u001b[0;34m\u001b[0m\u001b[0;34m\u001b[0m\u001b[0m\n\u001b[1;32m      7\u001b[0m \u001b[0mplt\u001b[0m\u001b[0;34m.\u001b[0m\u001b[0mylabel\u001b[0m\u001b[0;34m(\u001b[0m\u001b[0;34m'True positive rate'\u001b[0m\u001b[0;34m)\u001b[0m\u001b[0;34m\u001b[0m\u001b[0;34m\u001b[0m\u001b[0m\n",
            "\u001b[0;31mNameError\u001b[0m: name 'fpr_rf' is not defined"
          ]
        },
        {
          "output_type": "display_data",
          "data": {
            "image/png": "[encoded data removed]",
            "text/plain": [
              "<Figure size 432x288 with 1 Axes>"
            ]
          },
          "metadata": {
            "tags": [],
            "needs_background": "light"
          }
        }
      ]
    },
    {
      "cell_type": "code",
      "metadata": {
        "id": "ywz4wzUBtszv"
      },
      "source": [
        ""
      ],
      "execution_count": null,
      "outputs": []
    },
    {
      "cell_type": "code",
      "metadata": {
        "id": "nruiBQqztJ7S"
      },
      "source": [
        "from sklearn.metrics import confusion_matrix \n",
        "#cm= confusion_matrix(name_as_indexes_test,y_pred)\n",
        "#print(cm)"
      ],
      "execution_count": null,
      "outputs": []
    },
    {
      "cell_type": "code",
      "metadata": {
        "id": "a2DuXkG5w3ew"
      },
      "source": [
        ""
      ],
      "execution_count": null,
      "outputs": []
    },
    {
      "cell_type": "markdown",
      "metadata": {
        "id": "-71tce7Hl1yY"
      },
      "source": [
        "## (Optional) Prediction probability density function(PDF)"
      ]
    },
    {
      "cell_type": "code",
      "metadata": {
        "id": "IsrJXiWWl1ya"
      },
      "source": [
        "import numpy as np\n",
        "from scipy.interpolate import UnivariateSpline\n",
        "from matplotlib import pyplot as plt\n",
        "\n",
        "def plot_pdf(y_pred, y_test, name=None, smooth=500):\n",
        "    positives = y_pred[y_test == 1]\n",
        "    negatives = y_pred[y_test == 0]\n",
        "    N = positives.shape[0]\n",
        "    n = N//smooth\n",
        "    s = positives\n",
        "    p, x = np.histogram(s, bins=n) # bin it into n = N//10 bins\n",
        "    x = x[:-1] + (x[1] - x[0])/2   # convert bin edges to centers\n",
        "    f = UnivariateSpline(x, p, s=n)\n",
        "    plt.plot(x, f(x))\n",
        "\n",
        "    N = negatives.shape[0]\n",
        "    n = N//smooth\n",
        "    s = negatives\n",
        "    p, x = np.histogram(s, bins=n) # bin it into n = N//10 bins\n",
        "    x = x[:-1] + (x[1] - x[0])/2   # convert bin edges to centers\n",
        "    f = UnivariateSpline(x, p, s=n)\n",
        "    plt.plot(x, f(x))\n",
        "    plt.xlim([0.0, 1.0])\n",
        "    plt.xlabel('density')\n",
        "    plt.ylabel('density')\n",
        "    plt.title('PDF-{}'.format(name))\n",
        "    plt.show()"
      ],
      "execution_count": null,
      "outputs": []
    },
    {
      "cell_type": "code",
      "metadata": {
        "scrolled": true,
        "id": "p1SGaoCfl1yg",
        "outputId": "078e591a-3f78-495f-874b-881f1fc43821"
      },
      "source": [
        "plot_pdf(y_pred_rf, y_test, 'rf')\n",
        "plot_pdf(y_pred_keras, y_test, 'Keras')"
      ],
      "execution_count": null,
      "outputs": [
        {
          "output_type": "display_data",
          "data": {
            "image/png": "[encoded data removed]",
            "text/plain": [
              "<matplotlib.figure.Figure at 0x14a52426c88>"
            ]
          },
          "metadata": {
            "tags": []
          }
        },
        {
          "output_type": "display_data",
          "data": {
            "image/png": "[encoded data removed]",
            "text/plain": [
              "<matplotlib.figure.Figure at 0x14a52429048>"
            ]
          },
          "metadata": {
            "tags": []
          }
        }
      ]
    },
    {
      "cell_type": "markdown",
      "metadata": {
        "id": "9LCT84DAl1yn"
      },
      "source": [
        "# Multi-class classification"
      ]
    },
    {
      "cell_type": "markdown",
      "metadata": {
        "id": "xqi6aDAcl1yo"
      },
      "source": [
        "### Generate some train/test data\n",
        "3 classes to classify"
      ]
    },
    {
      "cell_type": "code",
      "metadata": {
        "id": "adBQidMbl1yp",
        "outputId": "ed68ea1e-5e08-4468-870f-c324fd065322",
        "colab": {
          "base_uri": "https://localhost:8080/",
          "height": 51
        }
      },
      "source": [
        "from sklearn.datasets import make_classification\n",
        "from sklearn.preprocessing import label_binarize\n",
        "\n",
        "# 3 classes to classify\n",
        "n_classes = 3\n",
        "\n",
        "X, y = make_classification(n_samples=80000, n_features=20, n_informative=3, n_redundant=0, n_classes=n_classes,\n",
        "    n_clusters_per_class=2)\n",
        "\n",
        "# Binarize the output\n",
        "y = label_binarize(y, classes=[0, 1, 2])\n",
        "n_classes = y.shape[1]\n",
        "X_train, X_test, y_train, y_test = train_test_split(X, y, test_size=0.5)\n",
        "print(y[:2])"
      ],
      "execution_count": null,
      "outputs": [
        {
          "output_type": "stream",
          "text": [
            "[[0 0 1]\n",
            " [1 0 0]]\n"
          ],
          "name": "stdout"
        }
      ]
    },
    {
      "cell_type": "markdown",
      "metadata": {
        "id": "AkzTHzL_l1yw"
      },
      "source": [
        "### Build and train Keras model"
      ]
    },
    {
      "cell_type": "code",
      "metadata": {
        "id": "oj5XWrz4l1yy",
        "outputId": "79233d56-9c96-4887-ffe0-688c6499a4ae",
        "colab": {
          "base_uri": "https://localhost:8080/",
          "height": 374
        }
      },
      "source": [
        "from keras.models import Sequential\n",
        "from keras.layers import Dense\n",
        "\n",
        "def build_model():\n",
        "    model = Sequential()\n",
        "    model.add(Dense(20, input_dim=20, activation='relu'))\n",
        "    model.add(Dense(40, activation='relu'))\n",
        "    model.add(Dense(3, activation='softmax'))\n",
        "    # Compile model\n",
        "    model.compile(loss='categorical_crossentropy', optimizer='adam', metrics=['accuracy'])\n",
        "    return model\n",
        "\n",
        "keras_model2 = build_model()\n",
        "keras_model2.fit(X_train, y_train, epochs=10, batch_size=100, verbose=1)"
      ],
      "execution_count": null,
      "outputs": [
        {
          "output_type": "stream",
          "text": [
            "Epoch 1/10\n",
            "400/400 [==============================] - 1s 3ms/step - loss: 0.6938 - accuracy: 0.7085\n",
            "Epoch 2/10\n",
            "400/400 [==============================] - 1s 3ms/step - loss: 0.3889 - accuracy: 0.8567\n",
            "Epoch 3/10\n",
            "400/400 [==============================] - 1s 2ms/step - loss: 0.3360 - accuracy: 0.8756\n",
            "Epoch 4/10\n",
            "400/400 [==============================] - 1s 3ms/step - loss: 0.3125 - accuracy: 0.8831\n",
            "Epoch 5/10\n",
            "400/400 [==============================] - 1s 2ms/step - loss: 0.2955 - accuracy: 0.8899\n",
            "Epoch 6/10\n",
            "400/400 [==============================] - 0s 1ms/step - loss: 0.2819 - accuracy: 0.8961\n",
            "Epoch 7/10\n",
            "400/400 [==============================] - 0s 1ms/step - loss: 0.2702 - accuracy: 0.9003\n",
            "Epoch 8/10\n",
            "400/400 [==============================] - 0s 1ms/step - loss: 0.2593 - accuracy: 0.9040\n",
            "Epoch 9/10\n",
            "400/400 [==============================] - 0s 1ms/step - loss: 0.2483 - accuracy: 0.9103\n",
            "Epoch 10/10\n",
            "400/400 [==============================] - 0s 1ms/step - loss: 0.2402 - accuracy: 0.9148\n"
          ],
          "name": "stdout"
        },
        {
          "output_type": "execute_result",
          "data": {
            "text/plain": [
              "<tensorflow.python.keras.callbacks.History at 0x7f369a4a0630>"
            ]
          },
          "metadata": {
            "tags": []
          },
          "execution_count": 24
        }
      ]
    },
    {
      "cell_type": "markdown",
      "metadata": {
        "id": "pPpsKkGql1y6"
      },
      "source": [
        "### Make prediction for test inputs"
      ]
    },
    {
      "cell_type": "code",
      "metadata": {
        "id": "y1m7AfURl1y7",
        "outputId": "a875db0b-5c54-43a0-f1ea-fc329e318a0c",
        "colab": {
          "base_uri": "https://localhost:8080/",
          "height": 136
        }
      },
      "source": [
        "y_score = keras_model2.predict(X_test)\n",
        "print(y_test)"
      ],
      "execution_count": null,
      "outputs": [
        {
          "output_type": "stream",
          "text": [
            "[[0 0 1]\n",
            " [0 1 0]\n",
            " [0 0 1]\n",
            " ...\n",
            " [0 0 1]\n",
            " [0 0 1]\n",
            " [0 0 1]]\n"
          ],
          "name": "stdout"
        }
      ]
    },
    {
      "cell_type": "code",
      "metadata": {
        "id": "4z0V6bSrzGoX"
      },
      "source": [
        "from sklearn.metrics import confusion_matrix\n",
        "\n",
        "predictions_one_hot = keras_model2.predict(X_test)\n",
        "cm = confusion_matrix(labels_one_hot.argmax(axis=1), predictions_one_hot.argmax(axis=1))\n",
        "print(cm)"
      ],
      "execution_count": null,
      "outputs": []
    },
    {
      "cell_type": "code",
      "metadata": {
        "id": "fAp591jIz5Js"
      },
      "source": [
        "#print(confusion_matrix(test_labels.argmax(axis=1), predictions.argmax(axis=1)))\n",
        "confusion_matrix(y_test.values.argmax(axis=1), predictions.argmax(axis=1))"
      ],
      "execution_count": null,
      "outputs": []
    },
    {
      "cell_type": "code",
      "metadata": {
        "id": "Oh-v7VD5pvV7",
        "outputId": "dd87df1b-6072-4f8f-d612-da50f136b375",
        "colab": {
          "base_uri": "https://localhost:8080/",
          "height": 367
        }
      },
      "source": [
        "#Confusion_matrix kode\n",
        "from sklearn.metrics import confusion_matrix\n",
        "import itertools\n",
        "cm = confusion_matrix(y_test, y_score.round()) \n",
        "#\n",
        "plot_Confusion_matrix(cm, \n",
        "                      normalize    = True,\n",
        "                      target_names = ['Low', 'Medium', 'Low'],\n",
        "                      color_bar = True,\n",
        "                      title        = \"Confusion Matrix\")"
      ],
      "execution_count": null,
      "outputs": [
        {
          "output_type": "error",
          "ename": "ValueError",
          "evalue": "ignored",
          "traceback": [
            "\u001b[0;31m---------------------------------------------------------------------------\u001b[0m",
            "\u001b[0;31mValueError\u001b[0m                                Traceback (most recent call last)",
            "\u001b[0;32m<ipython-input-30-e11ccf167e2e>\u001b[0m in \u001b[0;36m<module>\u001b[0;34m()\u001b[0m\n\u001b[1;32m      2\u001b[0m \u001b[0;32mfrom\u001b[0m \u001b[0msklearn\u001b[0m\u001b[0;34m.\u001b[0m\u001b[0mmetrics\u001b[0m \u001b[0;32mimport\u001b[0m \u001b[0mconfusion_matrix\u001b[0m\u001b[0;34m\u001b[0m\u001b[0;34m\u001b[0m\u001b[0m\n\u001b[1;32m      3\u001b[0m \u001b[0;32mimport\u001b[0m \u001b[0mitertools\u001b[0m\u001b[0;34m\u001b[0m\u001b[0;34m\u001b[0m\u001b[0m\n\u001b[0;32m----> 4\u001b[0;31m \u001b[0mcm\u001b[0m \u001b[0;34m=\u001b[0m \u001b[0mconfusion_matrix\u001b[0m\u001b[0;34m(\u001b[0m\u001b[0my_test\u001b[0m\u001b[0;34m,\u001b[0m \u001b[0my_score\u001b[0m\u001b[0;34m.\u001b[0m\u001b[0mround\u001b[0m\u001b[0;34m(\u001b[0m\u001b[0;34m)\u001b[0m\u001b[0;34m)\u001b[0m\u001b[0;34m\u001b[0m\u001b[0;34m\u001b[0m\u001b[0m\n\u001b[0m\u001b[1;32m      5\u001b[0m \u001b[0;31m#\u001b[0m\u001b[0;34m\u001b[0m\u001b[0;34m\u001b[0m\u001b[0;34m\u001b[0m\u001b[0m\n\u001b[1;32m      6\u001b[0m plot_Confusion_matrix(cm, \n",
            "\u001b[0;32m/usr/local/lib/python3.6/dist-packages/sklearn/metrics/_classification.py\u001b[0m in \u001b[0;36mconfusion_matrix\u001b[0;34m(y_true, y_pred, labels, sample_weight, normalize)\u001b[0m\n\u001b[1;32m    268\u001b[0m     \u001b[0my_type\u001b[0m\u001b[0;34m,\u001b[0m \u001b[0my_true\u001b[0m\u001b[0;34m,\u001b[0m \u001b[0my_pred\u001b[0m \u001b[0;34m=\u001b[0m \u001b[0m_check_targets\u001b[0m\u001b[0;34m(\u001b[0m\u001b[0my_true\u001b[0m\u001b[0;34m,\u001b[0m \u001b[0my_pred\u001b[0m\u001b[0;34m)\u001b[0m\u001b[0;34m\u001b[0m\u001b[0;34m\u001b[0m\u001b[0m\n\u001b[1;32m    269\u001b[0m     \u001b[0;32mif\u001b[0m \u001b[0my_type\u001b[0m \u001b[0;32mnot\u001b[0m \u001b[0;32min\u001b[0m \u001b[0;34m(\u001b[0m\u001b[0;34m\"binary\"\u001b[0m\u001b[0;34m,\u001b[0m \u001b[0;34m\"multiclass\"\u001b[0m\u001b[0;34m)\u001b[0m\u001b[0;34m:\u001b[0m\u001b[0;34m\u001b[0m\u001b[0;34m\u001b[0m\u001b[0m\n\u001b[0;32m--> 270\u001b[0;31m         \u001b[0;32mraise\u001b[0m \u001b[0mValueError\u001b[0m\u001b[0;34m(\u001b[0m\u001b[0;34m\"%s is not supported\"\u001b[0m \u001b[0;34m%\u001b[0m \u001b[0my_type\u001b[0m\u001b[0;34m)\u001b[0m\u001b[0;34m\u001b[0m\u001b[0;34m\u001b[0m\u001b[0m\n\u001b[0m\u001b[1;32m    271\u001b[0m \u001b[0;34m\u001b[0m\u001b[0m\n\u001b[1;32m    272\u001b[0m     \u001b[0;32mif\u001b[0m \u001b[0mlabels\u001b[0m \u001b[0;32mis\u001b[0m \u001b[0;32mNone\u001b[0m\u001b[0;34m:\u001b[0m\u001b[0;34m\u001b[0m\u001b[0;34m\u001b[0m\u001b[0m\n",
            "\u001b[0;31mValueError\u001b[0m: multilabel-indicator is not supported"
          ]
        }
      ]
    },
    {
      "cell_type": "markdown",
      "metadata": {
        "id": "A3Y1ydnxl1zB"
      },
      "source": [
        "### Plot ROC for each of the 3 classes\n",
        "\n",
        "Use micro and marco averaging to evaluate the overall performance across all classes.\n",
        "$$\n",
        "precision=PRE=\\frac{TP}\n",
        "{TP+FP}\\\\\n",
        "$$\n",
        " In “micro averaging”, we’d calculate the performance, e.g., precision, from the individual true positives, true negatives, false positives, and false negatives of the the k-class model:\n",
        "$$\n",
        "PRE_{micro}=\\frac{TP_{1}+\\dots+TP_{k}}\n",
        "{TP_{1}+\\dots+TP_{k}+FP_{1}+\\dots+FP_{k}}\\\\\n",
        "$$\n",
        "And in macro-averaging, we average the performances of each individual class:\n",
        "$$\n",
        "PRE_{marco}=\\frac{PRE_{1}+\\dots+PRE_{k}}\n",
        "{k}\\\\\n",
        "$$"
      ]
    },
    {
      "cell_type": "code",
      "metadata": {
        "id": "g19qzkufl1zD",
        "outputId": "c9c105d9-8bfd-4147-eb12-1f38aa3637c6",
        "colab": {
          "base_uri": "https://localhost:8080/",
          "height": 231
        }
      },
      "source": [
        "import numpy as np\n",
        "from scipy import interp\n",
        "import matplotlib.pyplot as plt\n",
        "from itertools import cycle\n",
        "from sklearn.metrics import roc_curve, auc\n",
        "\n",
        "# Plot linewidth.\n",
        "lw = 2\n",
        "\n",
        "# Compute ROC curve and ROC area for each class\n",
        "fpr = dict()\n",
        "tpr = dict()\n",
        "roc_auc = dict()\n",
        "for i in range(n_classes):\n",
        "    fpr[i], tpr[i], _ = roc_curve(y_test[:, i], y_score[:, i])\n",
        "    roc_auc[i] = auc(fpr[i], tpr[i])\n",
        "\n",
        "# Compute micro-average ROC curve and ROC area\n",
        "fpr[\"micro\"], tpr[\"micro\"], _ = roc_curve(y_test.ravel(), y_score.ravel())\n",
        "roc_auc[\"micro\"] = auc(fpr[\"micro\"], tpr[\"micro\"])\n",
        "\n",
        "# Compute macro-average ROC curve and ROC area\n",
        "\n",
        "# First aggregate all false positive rates\n",
        "all_fpr = np.unique(np.concatenate([fpr[i] for i in range(n_classes)]))\n",
        "\n",
        "# Then interpolate all ROC curves at this points\n",
        "mean_tpr = np.zeros_like(all_fpr)\n",
        "for i in range(n_classes):\n",
        "    mean_tpr += interp(all_fpr, fpr[i], tpr[i])\n",
        "\n",
        "# Finally average it and compute AUC\n",
        "mean_tpr /= n_classes\n",
        "\n",
        "fpr[\"macro\"] = all_fpr\n",
        "tpr[\"macro\"] = mean_tpr\n",
        "roc_auc[\"macro\"] = auc(fpr[\"macro\"], tpr[\"macro\"])\n",
        "\n",
        "# Plot all ROC curves\n",
        "plt.figure(1)\n",
        "plt.plot(fpr[\"micro\"], tpr[\"micro\"],\n",
        "         label='micro-average ROC curve (area = {0:0.2f})'\n",
        "               ''.format(roc_auc[\"micro\"]),\n",
        "         color='deeppink', linestyle=':', linewidth=4)\n",
        "\n",
        "plt.plot(fpr[\"macro\"], tpr[\"macro\"],\n",
        "         label='macro-average ROC curve (area = {0:0.2f})'\n",
        "               ''.format(roc_auc[\"macro\"]),\n",
        "         color='navy', linestyle=':', linewidth=4)\n",
        "\n",
        "colors = cycle(['aqua', 'darkorange', 'cornflowerblue'])\n",
        "for i, color in zip(range(n_classes), colors):\n",
        "    plt.plot(fpr[i], tpr[i], color=color, lw=lw,\n",
        "             label='ROC curve of class {0} (area = {1:0.2f})'\n",
        "             ''.format(i, roc_auc[i]))\n",
        "\n",
        "plt.plot([0, 1], [0, 1], 'k--', lw=lw)\n",
        "plt.xlim([0.0, 1.0])\n",
        "plt.ylim([0.0, 1.05])\n",
        "plt.xlabel('False Positive Rate')\n",
        "plt.ylabel('True Positive Rate')\n",
        "plt.title('Some extension of Receiver operating characteristic to multi-class')\n",
        "plt.legend(loc=\"lower right\")\n",
        "plt.show()\n",
        "\n",
        "\n",
        "# Zoom in view of the upper left corner.\n",
        "plt.figure(2)\n",
        "plt.xlim(0, 0.2)\n",
        "plt.ylim(0.8, 1)\n",
        "plt.plot(fpr[\"micro\"], tpr[\"micro\"],\n",
        "         label='micro-average ROC curve (area = {0:0.2f})'\n",
        "               ''.format(roc_auc[\"micro\"]),\n",
        "         color='deeppink', linestyle=':', linewidth=4)\n",
        "\n",
        "plt.plot(fpr[\"macro\"], tpr[\"macro\"],\n",
        "         label='macro-average ROC curve (area = {0:0.2f})'\n",
        "               ''.format(roc_auc[\"macro\"]),\n",
        "         color='navy', linestyle=':', linewidth=4)\n",
        "\n",
        "colors = cycle(['aqua', 'darkorange', 'cornflowerblue'])\n",
        "for i, color in zip(range(n_classes), colors):\n",
        "    plt.plot(fpr[i], tpr[i], color=color, lw=lw,\n",
        "             label='ROC curve of class {0} (area = {1:0.2f})'\n",
        "             ''.format(i, roc_auc[i]))\n",
        "\n",
        "plt.plot([0, 1], [0, 1], 'k--', lw=lw)\n",
        "plt.xlabel('False Positive Rate')\n",
        "plt.ylabel('True Positive Rate')\n",
        "plt.title('Some extension of Receiver operating characteristic to multi-class')\n",
        "plt.legend(loc=\"lower right\")\n",
        "plt.show()"
      ],
      "execution_count": null,
      "outputs": [
        {
          "output_type": "error",
          "ename": "IndexError",
          "evalue": "ignored",
          "traceback": [
            "\u001b[0;31m---------------------------------------------------------------------------\u001b[0m",
            "\u001b[0;31mIndexError\u001b[0m                                Traceback (most recent call last)",
            "\u001b[0;32m<ipython-input-54-f0135bf387fa>\u001b[0m in \u001b[0;36m<module>\u001b[0;34m()\u001b[0m\n\u001b[1;32m     13\u001b[0m \u001b[0mroc_auc\u001b[0m \u001b[0;34m=\u001b[0m \u001b[0mdict\u001b[0m\u001b[0;34m(\u001b[0m\u001b[0;34m)\u001b[0m\u001b[0;34m\u001b[0m\u001b[0;34m\u001b[0m\u001b[0m\n\u001b[1;32m     14\u001b[0m \u001b[0;32mfor\u001b[0m \u001b[0mi\u001b[0m \u001b[0;32min\u001b[0m \u001b[0mrange\u001b[0m\u001b[0;34m(\u001b[0m\u001b[0mn_classes\u001b[0m\u001b[0;34m)\u001b[0m\u001b[0;34m:\u001b[0m\u001b[0;34m\u001b[0m\u001b[0;34m\u001b[0m\u001b[0m\n\u001b[0;32m---> 15\u001b[0;31m     \u001b[0mfpr\u001b[0m\u001b[0;34m[\u001b[0m\u001b[0mi\u001b[0m\u001b[0;34m]\u001b[0m\u001b[0;34m,\u001b[0m \u001b[0mtpr\u001b[0m\u001b[0;34m[\u001b[0m\u001b[0mi\u001b[0m\u001b[0;34m]\u001b[0m\u001b[0;34m,\u001b[0m \u001b[0m_\u001b[0m \u001b[0;34m=\u001b[0m \u001b[0mroc_curve\u001b[0m\u001b[0;34m(\u001b[0m\u001b[0my_test\u001b[0m\u001b[0;34m[\u001b[0m\u001b[0;34m:\u001b[0m\u001b[0;34m,\u001b[0m \u001b[0mi\u001b[0m\u001b[0;34m]\u001b[0m\u001b[0;34m,\u001b[0m \u001b[0my_score\u001b[0m\u001b[0;34m[\u001b[0m\u001b[0;34m:\u001b[0m\u001b[0;34m,\u001b[0m \u001b[0mi\u001b[0m\u001b[0;34m]\u001b[0m\u001b[0;34m)\u001b[0m\u001b[0;34m\u001b[0m\u001b[0;34m\u001b[0m\u001b[0m\n\u001b[0m\u001b[1;32m     16\u001b[0m     \u001b[0mroc_auc\u001b[0m\u001b[0;34m[\u001b[0m\u001b[0mi\u001b[0m\u001b[0;34m]\u001b[0m \u001b[0;34m=\u001b[0m \u001b[0mauc\u001b[0m\u001b[0;34m(\u001b[0m\u001b[0mfpr\u001b[0m\u001b[0;34m[\u001b[0m\u001b[0mi\u001b[0m\u001b[0;34m]\u001b[0m\u001b[0;34m,\u001b[0m \u001b[0mtpr\u001b[0m\u001b[0;34m[\u001b[0m\u001b[0mi\u001b[0m\u001b[0;34m]\u001b[0m\u001b[0;34m)\u001b[0m\u001b[0;34m\u001b[0m\u001b[0;34m\u001b[0m\u001b[0m\n\u001b[1;32m     17\u001b[0m \u001b[0;34m\u001b[0m\u001b[0m\n",
            "\u001b[0;31mIndexError\u001b[0m: too many indices for array"
          ]
        }
      ]
    },
    {
      "cell_type": "markdown",
      "metadata": {
        "id": "hPrDoQaTtnN5"
      },
      "source": [
        "multiclass"
      ]
    },
    {
      "cell_type": "code",
      "metadata": {
        "id": "zetbSfAxpmNo",
        "outputId": "253c52be-9f8e-4807-9d40-40d68547f82b",
        "colab": {
          "base_uri": "https://localhost:8080/",
          "height": 34
        }
      },
      "source": [
        "from sklearn import datasets\n",
        "from collections import Counter\n",
        "\n",
        "X, y = datasets.make_classification(\n",
        "            n_samples     = 100000,  # number of data points\n",
        "            n_classes     = 3,      # number of classes\n",
        "            n_clusters_per_class=2, # The number of clusters per class \n",
        "            weights       = [0.7, 0.27, 0.03], # The proportions assigned to each class\n",
        "            n_features    = 12,     # number of total features \n",
        "            n_informative = 5,      # number of informative features \n",
        "            n_redundant   = 7,      # number of redundant features\n",
        "            class_sep=0.9,\n",
        "            random_state  = 0                       )\n",
        "print('Original dataset shape {}'.format(Counter(y)))"
      ],
      "execution_count": null,
      "outputs": [
        {
          "output_type": "stream",
          "text": [
            "Original dataset shape Counter({0: 69637, 1: 27056, 2: 3307})\n"
          ],
          "name": "stdout"
        }
      ]
    },
    {
      "cell_type": "code",
      "metadata": {
        "id": "dyemwa0uxXkQ"
      },
      "source": [
        "from sklearn.datasets import make_classification\n",
        "from sklearn.preprocessing import label_binarize\n",
        "# 3 classes to classify\n",
        "n_classes = 3\n",
        "\n",
        "X, y = make_classification(n_samples=80000, n_features=20, n_informative=3, n_redundant=0, n_classes=n_classes,\n",
        "    n_clusters_per_class=2)\n",
        "# Binarize the output\n",
        "y = label_binarize(y, classes=[0, 1, 2])\n",
        "n_classes = y.shape[1]\n",
        "X_train, X_test, y_train, y_test = train_test_split(X, y, test_size=0.5)"
      ],
      "execution_count": null,
      "outputs": []
    },
    {
      "cell_type": "code",
      "metadata": {
        "id": "Cb2kttX_xdbE",
        "outputId": "7aae04f7-17d8-40cb-9093-a621fa4dea5b",
        "colab": {
          "base_uri": "https://localhost:8080/",
          "height": 374
        }
      },
      "source": [
        "from keras.models import Sequential\n",
        "from keras.layers import Dense\n",
        "\n",
        "def build_model():\n",
        "    model = Sequential()\n",
        "    model.add(Dense(20, input_dim=20, activation='relu'))\n",
        "    model.add(Dense(40, activation='relu'))\n",
        "    model.add(Dense(3, activation='softmax'))\n",
        "    # Compile model\n",
        "    model.compile(loss='categorical_crossentropy', optimizer='adam', metrics=['accuracy'])\n",
        "    return model\n",
        "\n",
        "keras_model2 = build_model()\n",
        "keras_model2.fit(X_train, y_train, epochs=10, batch_size=100, verbose=1)"
      ],
      "execution_count": null,
      "outputs": [
        {
          "output_type": "stream",
          "text": [
            "Epoch 1/10\n",
            "400/400 [==============================] - 0s 1ms/step - loss: 0.8173 - accuracy: 0.6172\n",
            "Epoch 2/10\n",
            "400/400 [==============================] - 0s 1ms/step - loss: 0.6003 - accuracy: 0.7630\n",
            "Epoch 3/10\n",
            "400/400 [==============================] - 1s 1ms/step - loss: 0.5536 - accuracy: 0.7843\n",
            "Epoch 4/10\n",
            "400/400 [==============================] - 0s 1ms/step - loss: 0.5260 - accuracy: 0.7946\n",
            "Epoch 5/10\n",
            "400/400 [==============================] - 0s 1ms/step - loss: 0.5053 - accuracy: 0.8026\n",
            "Epoch 6/10\n",
            "400/400 [==============================] - 1s 1ms/step - loss: 0.4895 - accuracy: 0.8071\n",
            "Epoch 7/10\n",
            "400/400 [==============================] - 0s 1ms/step - loss: 0.4750 - accuracy: 0.8124\n",
            "Epoch 8/10\n",
            "400/400 [==============================] - 0s 1ms/step - loss: 0.4651 - accuracy: 0.8149\n",
            "Epoch 9/10\n",
            "400/400 [==============================] - 1s 1ms/step - loss: 0.4555 - accuracy: 0.8191\n",
            "Epoch 10/10\n",
            "400/400 [==============================] - 0s 1ms/step - loss: 0.4484 - accuracy: 0.8205\n"
          ],
          "name": "stdout"
        },
        {
          "output_type": "execute_result",
          "data": {
            "text/plain": [
              "<tensorflow.python.keras.callbacks.History at 0x7f3695358c88>"
            ]
          },
          "metadata": {
            "tags": []
          },
          "execution_count": 56
        }
      ]
    },
    {
      "cell_type": "markdown",
      "metadata": {
        "id": "t-1SOo5axyDn"
      },
      "source": [
        ""
      ]
    },
    {
      "cell_type": "code",
      "metadata": {
        "id": "JqJWH3E9xmIl"
      },
      "source": [
        "y_score_ked = keras_model2.predict(X_train)"
      ],
      "execution_count": null,
      "outputs": []
    },
    {
      "cell_type": "code",
      "metadata": {
        "id": "bPjNVDKasMoX",
        "outputId": "8db3f028-b2f7-4dfe-d5b3-8ba03936bdc4",
        "colab": {
          "base_uri": "https://localhost:8080/",
          "height": 332
        }
      },
      "source": [
        "import numpy as np\n",
        "from scipy import interp\n",
        "import matplotlib.pyplot as plt\n",
        "from itertools import cycle\n",
        "from sklearn.metrics import roc_curve, auc\n",
        "\n",
        "# Plot linewidth.\n",
        "lw = 2\n",
        "\n",
        "# Compute ROC curve and ROC area for each class\n",
        "fpr = dict()\n",
        "tpr = dict()\n",
        "roc_auc = dict()\n",
        "for i in range(n_classes):\n",
        "    fpr[i], tpr[i], _ = roc_curve(y_test[:, i], y_score[:, i])\n",
        "    roc_auc[i] = auc(fpr[i], tpr[i])\n",
        "\n",
        "# Compute micro-average ROC curve and ROC area\n",
        "fpr[\"micro\"], tpr[\"micro\"], _ = roc_curve(y_test.ravel(), y_score.ravel())\n",
        "roc_auc[\"micro\"] = auc(fpr[\"micro\"], tpr[\"micro\"])\n",
        "\n",
        "# Compute macro-average ROC curve and ROC area\n",
        "\n",
        "# First aggregate all false positive rates\n",
        "all_fpr = np.unique(np.concatenate([fpr[i] for i in range(n_classes)]))\n",
        "\n",
        "# Then interpolate all ROC curves at this points\n",
        "mean_tpr = np.zeros_like(all_fpr)\n",
        "for i in range(n_classes):\n",
        "    mean_tpr += interp(all_fpr, fpr[i], tpr[i])\n",
        "\n",
        "# Finally average it and compute AUC\n",
        "mean_tpr /= n_classes\n",
        "\n",
        "fpr[\"macro\"] = all_fpr\n",
        "tpr[\"macro\"] = mean_tpr\n",
        "roc_auc[\"macro\"] = auc(fpr[\"macro\"], tpr[\"macro\"])\n",
        "\n",
        "# Plot all ROC curves\n",
        "plt.figure(1)\n",
        "plt.plot(fpr[\"micro\"], tpr[\"micro\"],\n",
        "         label='micro-average ROC curve (area = {0:0.2f})'\n",
        "               ''.format(roc_auc[\"micro\"]),\n",
        "         color='deeppink', linestyle=':', linewidth=4)\n",
        "\n",
        "plt.plot(fpr[\"macro\"], tpr[\"macro\"],\n",
        "         label='macro-average ROC curve (area = {0:0.2f})'\n",
        "               ''.format(roc_auc[\"macro\"]),\n",
        "         color='navy', linestyle=':', linewidth=4)\n",
        "\n",
        "colors = cycle(['aqua', 'darkorange', 'cornflowerblue'])\n",
        "for i, color in zip(range(n_classes), colors):\n",
        "    plt.plot(fpr[i], tpr[i], color=color, lw=lw,\n",
        "             label='ROC curve of class {0} (area = {1:0.2f})'\n",
        "             ''.format(i, roc_auc[i]))\n",
        "\n",
        "plt.plot([0, 1], [0, 1], 'k--', lw=lw)\n",
        "plt.xlim([0.0, 1.0])\n",
        "plt.ylim([0.0, 1.05])\n",
        "plt.xlabel('False Positive Rate')\n",
        "plt.ylabel('True Positive Rate')\n",
        "plt.title('Some extension of Receiver operating characteristic to multi-class')\n",
        "plt.legend(loc=\"lower right\")\n",
        "plt.show()"
      ],
      "execution_count": null,
      "outputs": [
        {
          "output_type": "stream",
          "text": [
            "/usr/local/lib/python3.6/dist-packages/ipykernel_launcher.py:30: DeprecationWarning: scipy.interp is deprecated and will be removed in SciPy 2.0.0, use numpy.interp instead\n"
          ],
          "name": "stderr"
        },
        {
          "output_type": "display_data",
          "data": {
            "image/png": "[encoded data removed]",
            "text/plain": [
              "<Figure size 432x288 with 1 Axes>"
            ]
          },
          "metadata": {
            "tags": [],
            "needs_background": "light"
          }
        }
      ]
    },
    {
      "cell_type": "code",
      "metadata": {
        "id": "g1jDJPL-yF6t",
        "outputId": "c842b910-eef8-4824-e648-baed38cfd5a5",
        "colab": {
          "base_uri": "https://localhost:8080/",
          "height": 295
        }
      },
      "source": [
        "# Zoom in view of the upper left corner.\n",
        "plt.figure(2)\n",
        "plt.xlim(0, 0.2)\n",
        "plt.ylim(0.8, 1)\n",
        "plt.plot(fpr[\"micro\"], tpr[\"micro\"],\n",
        "         label='micro-average ROC curve (area = {0:0.2f})'\n",
        "               ''.format(roc_auc[\"micro\"]),\n",
        "         color='deeppink', linestyle=':', linewidth=4)\n",
        "\n",
        "plt.plot(fpr[\"macro\"], tpr[\"macro\"],\n",
        "         label='macro-average ROC curve (area = {0:0.2f})'\n",
        "               ''.format(roc_auc[\"macro\"]),\n",
        "         color='navy', linestyle=':', linewidth=4)\n",
        "\n",
        "colors = cycle(['aqua', 'darkorange', 'cornflowerblue'])\n",
        "for i, color in zip(range(n_classes), colors):\n",
        "    plt.plot(fpr[i], tpr[i], color=color, lw=lw,\n",
        "             label='ROC curve of class {0} (area = {1:0.2f})'\n",
        "             ''.format(i, roc_auc[i]))\n",
        "\n",
        "plt.plot([0, 1], [0, 1], 'k--', lw=lw)\n",
        "plt.xlabel('False Positive Rate')\n",
        "plt.ylabel('True Positive Rate')\n",
        "plt.title('Some extension of Receiver operating characteristic to multi-class')\n",
        "plt.legend(loc=\"lower right\")\n",
        "plt.show()"
      ],
      "execution_count": null,
      "outputs": [
        {
          "output_type": "display_data",
          "data": {
            "image/png": "[encoded data removed]",
            "text/plain": [
              "<Figure size 432x288 with 1 Axes>"
            ]
          },
          "metadata": {
            "tags": [],
            "needs_background": "light"
          }
        }
      ]
    },
    {
      "cell_type": "code",
      "metadata": {
        "id": "CihsdE8LyS4c"
      },
      "source": [
        ""
      ],
      "execution_count": null,
      "outputs": []
    }
  ]
}