{
  "nbformat": 4,
  "nbformat_minor": 0,
  "metadata": {
    "colab": {
      "name": "SCIPY_OPTIM._EXTREMEipynb",
      "provenance": [],
      "collapsed_sections": [],
      "authorship_tag": "ABX9TyOGDt2y0jH/OI5s0wTRHUTE",
      "include_colab_link": true
    },
    "kernelspec": {
      "name": "python3",
      "display_name": "Python 3"
    }
  },
  "cells": [
    {
      "cell_type": "markdown",
      "metadata": {
        "id": "view-in-github",
        "colab_type": "text"
      },
      "source": [
        "<a href=\"https://colab.research.google.com/github/riviera2015/MOLFARES/blob/master/SCIPY_OPTIM__EXTREMEipynb.ipynb\" target=\"_parent\"><img src=\"https://colab.research.google.com/assets/colab-badge.svg\" alt=\"Open In Colab\"/></a>"
      ]
    },
    {
      "cell_type": "code",
      "metadata": {
        "id": "X-pGJPExQe3M"
      },
      "source": [
        "def f(x):\n",
        "    return x**2 + 10*np.sin(x)"
      ],
      "execution_count": 1,
      "outputs": []
    },
    {
      "cell_type": "code",
      "metadata": {
        "id": "Z3RTV6H-Q6Tk",
        "outputId": "1291f98c-3d0d-4e06-94a6-efbabb03780f",
        "colab": {
          "base_uri": "https://localhost:8080/",
          "height": 265
        }
      },
      "source": [
        "import pandas as pd\n",
        "import numpy as np\n",
        "import matplotlib.pyplot as plt\n",
        "x = np.arange(-10, 10, 0.1)\n",
        "plt.plot(x, f(x)) \n",
        "plt.show() "
      ],
      "execution_count": 2,
      "outputs": [
        {
          "output_type": "display_data",
          "data": {
            "image/png": "[encoded data removed]",
            "text/plain": [
              "<Figure size 432x288 with 1 Axes>"
            ]
          },
          "metadata": {
            "tags": [],
            "needs_background": "light"
          }
        }
      ]
    },
    {
      "cell_type": "code",
      "metadata": {
        "id": "blR4KBMrRDVT",
        "outputId": "d476e4bd-760c-4fc2-d2bc-a461fa6da3e8",
        "colab": {
          "base_uri": "https://localhost:8080/",
          "height": 187
        }
      },
      "source": [
        "from scipy import optimize\n",
        "result = optimize.minimize(f, x0=0)\n",
        "result "
      ],
      "execution_count": 3,
      "outputs": [
        {
          "output_type": "execute_result",
          "data": {
            "text/plain": [
              "      fun: -7.945823375615215\n",
              " hess_inv: array([[0.08589237]])\n",
              "      jac: array([-1.1920929e-06])\n",
              "  message: 'Optimization terminated successfully.'\n",
              "     nfev: 18\n",
              "      nit: 5\n",
              "     njev: 6\n",
              "   status: 0\n",
              "  success: True\n",
              "        x: array([-1.30644012])"
            ]
          },
          "metadata": {
            "tags": []
          },
          "execution_count": 3
        }
      ]
    },
    {
      "cell_type": "code",
      "metadata": {
        "id": "iZPGdPVyRNBs",
        "outputId": "1bc9f5fb-7b2c-4dd4-cca5-879bb6ed2371",
        "colab": {
          "base_uri": "https://localhost:8080/",
          "height": 163
        }
      },
      "source": [
        "root.x"
      ],
      "execution_count": 4,
      "outputs": [
        {
          "output_type": "error",
          "ename": "NameError",
          "evalue": "ignored",
          "traceback": [
            "\u001b[0;31m---------------------------------------------------------------------------\u001b[0m",
            "\u001b[0;31mNameError\u001b[0m                                 Traceback (most recent call last)",
            "\u001b[0;32m<ipython-input-4-54c121a24936>\u001b[0m in \u001b[0;36m<module>\u001b[0;34m()\u001b[0m\n\u001b[0;32m----> 1\u001b[0;31m \u001b[0mroot\u001b[0m\u001b[0;34m.\u001b[0m\u001b[0mx\u001b[0m\u001b[0;34m\u001b[0m\u001b[0;34m\u001b[0m\u001b[0m\n\u001b[0m",
            "\u001b[0;31mNameError\u001b[0m: name 'root' is not defined"
          ]
        }
      ]
    },
    {
      "cell_type": "code",
      "metadata": {
        "id": "JQGXAB4ORWpb",
        "outputId": "1b3689d4-4cfb-482e-a3dd-21d89db8e74d",
        "colab": {
          "base_uri": "https://localhost:8080/",
          "height": 170
        }
      },
      "source": [
        "root2 = optimize.root(f, x0=-2.5)\n",
        "root2"
      ],
      "execution_count": 5,
      "outputs": [
        {
          "output_type": "execute_result",
          "data": {
            "text/plain": [
              "    fjac: array([[-1.]])\n",
              "     fun: array([-1.77635684e-15])\n",
              " message: 'The solution converged.'\n",
              "    nfev: 6\n",
              "     qtf: array([-4.42498482e-10])\n",
              "       r: array([12.84593])\n",
              "  status: 1\n",
              " success: True\n",
              "       x: array([-2.47948183])"
            ]
          },
          "metadata": {
            "tags": []
          },
          "execution_count": 5
        }
      ]
    },
    {
      "cell_type": "markdown",
      "metadata": {
        "id": "1_cYQUHLQtBR"
      },
      "source": [
        "https://scipy-lectures.org/intro/scipy.html#optimization-and-fit-scipy-optimize"
      ]
    },
    {
      "cell_type": "code",
      "metadata": {
        "id": "OCbDQpviQvsO"
      },
      "source": [
        "root = optimize.root(f, x0=1)  # our initial guess is 1"
      ],
      "execution_count": 6,
      "outputs": []
    },
    {
      "cell_type": "markdown",
      "metadata": {
        "id": "3B4Y3Be5dvtt"
      },
      "source": [
        "Constraints: We can constrain the variable to the interval (0, 10) using the “bounds” argument:"
      ]
    },
    {
      "cell_type": "code",
      "metadata": {
        "id": "S5dPl8RldxOY"
      },
      "source": [
        "res = optimize.minimize(f, x0=1,\n",
        "                        bounds=((-10, 0), ))"
      ],
      "execution_count": 9,
      "outputs": []
    },
    {
      "cell_type": "code",
      "metadata": {
        "id": "biMzT33kd8q5",
        "outputId": "2714abb3-76f5-43d2-da9f-72f550d1537e",
        "colab": {
          "base_uri": "https://localhost:8080/",
          "height": 34
        }
      },
      "source": [
        "res.x "
      ],
      "execution_count": 10,
      "outputs": [
        {
          "output_type": "execute_result",
          "data": {
            "text/plain": [
              "array([-1.30644004])"
            ]
          },
          "metadata": {
            "tags": []
          },
          "execution_count": 10
        }
      ]
    },
    {
      "cell_type": "markdown",
      "metadata": {
        "id": "FLpydJwYeSyX"
      },
      "source": [
        "1.6.5.3. Finding the roots of a scalar function\n"
      ]
    },
    {
      "cell_type": "code",
      "metadata": {
        "id": "Zesj0Z75eVio",
        "outputId": "0f845924-ef03-4c61-83d2-9efc49b184df",
        "colab": {
          "base_uri": "https://localhost:8080/",
          "height": 34
        }
      },
      "source": [
        "from scipy import optimize\n",
        "def f(x):\n",
        "    return -np.exp(-(x - 0.7)**2)\n",
        "result = optimize.minimize_scalar(f)\n",
        "result.success # check if solver was successful\n",
        "\n",
        "x_min = result.x\n",
        "x_min \n",
        "\n",
        "#x_min - 0.7 "
      ],
      "execution_count": 12,
      "outputs": [
        {
          "output_type": "execute_result",
          "data": {
            "text/plain": [
              "0.6999999997839409"
            ]
          },
          "metadata": {
            "tags": []
          },
          "execution_count": 12
        }
      ]
    },
    {
      "cell_type": "code",
      "metadata": {
        "id": "sNkQleyBjtPd",
        "outputId": "411bfd4a-05eb-40dd-9313-027219428c09",
        "colab": {
          "base_uri": "https://localhost:8080/",
          "height": 211
        }
      },
      "source": [
        "import numpy as np\n",
        "import matplotlib.pyplot as plt\n",
        "from scipy import optimize\n",
        "\n",
        "x, y = np.mgrid[-2.03:4.2:.04, -1.6:3.2:.04]\n",
        "x = x.T\n",
        "y = y.T\n",
        "\n",
        "plt.figure(1, figsize=(3, 2.5))\n",
        "plt.clf()\n",
        "plt.axes([0, 0, 1, 1])\n",
        "\n",
        "contours = plt.contour(np.sqrt((x - 3)**2 + (y - 2)**2),\n",
        "                    extent=[-2.03, 4.2, -1.6, 3.2],\n",
        "                    cmap=plt.cm.gnuplot)\n",
        "plt.clabel(contours,\n",
        "        inline=1,\n",
        "        fmt='%1.1f',\n",
        "        fontsize=14)\n",
        "plt.plot([-1.5,    0,  1.5,    0, -1.5],\n",
        "        [   0,  1.5,    0, -1.5,    0], 'k', linewidth=2)\n",
        "plt.fill_between([ -1.5,    0,  1.5],\n",
        "                [    0, -1.5,    0],\n",
        "                [    0,  1.5,    0],\n",
        "                color='.8')\n",
        "plt.axvline(0, color='k')\n",
        "plt.axhline(0, color='k')\n",
        "\n",
        "plt.text(-.9, 2.8, '$x_2$', size=20)\n",
        "plt.text(3.6, -.6, '$x_1$', size=20)\n",
        "plt.axis('tight')\n",
        "plt.axis('off')\n",
        "\n",
        "# And now plot the optimization path\n",
        "accumulator = list()\n",
        "\n",
        "def f(x):\n",
        "    # Store the list of function calls\n",
        "    accumulator.append(x)\n",
        "    return np.sqrt((x[0] - 3)**2 + (x[1] - 2)**2)\n",
        "\n",
        "\n",
        "def constraint(x):\n",
        "    return np.atleast_1d(1.5 - np.sum(np.abs(x)))\n",
        "\n",
        "optimize.minimize(f, np.array([0, 0]), method=\"SLSQP\",\n",
        "                     constraints={\"fun\": constraint, \"type\": \"ineq\"})\n",
        "\n",
        "accumulated = np.array(accumulator)\n",
        "plt.plot(accumulated[:, 0], accumulated[:, 1])\n",
        "\n",
        "plt.show()"
      ],
      "execution_count": 13,
      "outputs": [
        {
          "output_type": "display_data",
          "data": {
            "image/png": "[encoded data removed]",
            "text/plain": [
              "<Figure size 216x180 with 1 Axes>"
            ]
          },
          "metadata": {
            "tags": [],
            "needs_background": "light"
          }
        }
      ]
    }
  ]
}